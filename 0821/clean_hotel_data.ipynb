{
 "cells": [
  {
   "cell_type": "code",
   "execution_count": 39,
   "metadata": {},
   "outputs": [],
   "source": [
    "import pandas as pd\n",
    "file_name = 'Taitung_tripadvisor_top500'\n",
    "df = pd.read_csv('../0815/'+file_name+'.csv')"
   ]
  },
  {
   "cell_type": "code",
   "execution_count": 16,
   "metadata": {},
   "outputs": [
    {
     "name": "stdout",
     "output_type": "stream",
     "text": [
      "66\n"
     ]
    }
   ],
   "source": [
    "count = 0\n",
    "for i, value in df['uri'].value_counts().iteritems():\n",
    "    if value > 1:\n",
    "        count +=1\n",
    "print(count)"
   ]
  },
  {
   "cell_type": "markdown",
   "metadata": {},
   "source": [
    "### 顯示重複"
   ]
  },
  {
   "cell_type": "code",
   "execution_count": 17,
   "metadata": {},
   "outputs": [
    {
     "data": {
      "text/html": [
       "<div>\n",
       "<style scoped>\n",
       "    .dataframe tbody tr th:only-of-type {\n",
       "        vertical-align: middle;\n",
       "    }\n",
       "\n",
       "    .dataframe tbody tr th {\n",
       "        vertical-align: top;\n",
       "    }\n",
       "\n",
       "    .dataframe thead th {\n",
       "        text-align: right;\n",
       "    }\n",
       "</style>\n",
       "<table border=\"1\" class=\"dataframe\">\n",
       "  <thead>\n",
       "    <tr style=\"text-align: right;\">\n",
       "      <th></th>\n",
       "      <th>title</th>\n",
       "      <th>paiming</th>\n",
       "      <th>recommend_price</th>\n",
       "      <th>uri</th>\n",
       "      <th>hotel_address</th>\n",
       "      <th>avg_rating</th>\n",
       "      <th>comment_count</th>\n",
       "      <th>offical_img_uri</th>\n",
       "      <th>facility</th>\n",
       "      <th>room</th>\n",
       "      <th>agoda_price</th>\n",
       "    </tr>\n",
       "  </thead>\n",
       "  <tbody>\n",
       "    <tr>\n",
       "      <th>83</th>\n",
       "      <td>台東月娘坡民宿</td>\n",
       "      <td>台東排名第 84 的超值住宿地點，共 1,442 家</td>\n",
       "      <td>NT$1,545</td>\n",
       "      <td>https://www.tripadvisor.com.tw/Hotel_Review-g1...</td>\n",
       "      <td>下龍泉2-6號</td>\n",
       "      <td>5.0</td>\n",
       "      <td>6.0</td>\n",
       "      <td>https://media-cdn.tripadvisor.com/media/photo-...</td>\n",
       "      <td>NaN</td>\n",
       "      <td>NaN</td>\n",
       "      <td>NT$1,545</td>\n",
       "    </tr>\n",
       "    <tr>\n",
       "      <th>103</th>\n",
       "      <td>台東月娘坡民宿</td>\n",
       "      <td>台東排名第 104 的超值住宿地點，共 1,442 家</td>\n",
       "      <td>NT$1,545</td>\n",
       "      <td>https://www.tripadvisor.com.tw/Hotel_Review-g1...</td>\n",
       "      <td>下龍泉2-6號</td>\n",
       "      <td>5.0</td>\n",
       "      <td>6.0</td>\n",
       "      <td>https://media-cdn.tripadvisor.com/media/photo-...</td>\n",
       "      <td>NaN</td>\n",
       "      <td>NaN</td>\n",
       "      <td>NT$1,545</td>\n",
       "    </tr>\n",
       "    <tr>\n",
       "      <th>125</th>\n",
       "      <td>台東月娘坡民宿</td>\n",
       "      <td>台東排名第 126 的超值住宿地點，共 1,442 家</td>\n",
       "      <td>NT$1,545</td>\n",
       "      <td>https://www.tripadvisor.com.tw/Hotel_Review-g1...</td>\n",
       "      <td>下龍泉2-6號</td>\n",
       "      <td>5.0</td>\n",
       "      <td>6.0</td>\n",
       "      <td>https://media-cdn.tripadvisor.com/media/photo-...</td>\n",
       "      <td>NaN</td>\n",
       "      <td>NaN</td>\n",
       "      <td>NT$1,545</td>\n",
       "    </tr>\n",
       "    <tr>\n",
       "      <th>390</th>\n",
       "      <td>台東月娘坡民宿</td>\n",
       "      <td>台東排名第 391 的超值住宿地點，共 1,442 家</td>\n",
       "      <td>NaN</td>\n",
       "      <td>https://www.tripadvisor.com.tw/Hotel_Review-g1...</td>\n",
       "      <td>下龍泉2-6號</td>\n",
       "      <td>5.0</td>\n",
       "      <td>6.0</td>\n",
       "      <td>https://media-cdn.tripadvisor.com/media/photo-...</td>\n",
       "      <td>NaN</td>\n",
       "      <td>NaN</td>\n",
       "      <td>NaN</td>\n",
       "    </tr>\n",
       "  </tbody>\n",
       "</table>\n",
       "</div>"
      ],
      "text/plain": [
       "       title                      paiming recommend_price  \\\n",
       "83   台東月娘坡民宿   台東排名第 84 的超值住宿地點，共 1,442 家        NT$1,545   \n",
       "103  台東月娘坡民宿  台東排名第 104 的超值住宿地點，共 1,442 家        NT$1,545   \n",
       "125  台東月娘坡民宿  台東排名第 126 的超值住宿地點，共 1,442 家        NT$1,545   \n",
       "390  台東月娘坡民宿  台東排名第 391 的超值住宿地點，共 1,442 家             NaN   \n",
       "\n",
       "                                                   uri hotel_address  \\\n",
       "83   https://www.tripadvisor.com.tw/Hotel_Review-g1...       下龍泉2-6號   \n",
       "103  https://www.tripadvisor.com.tw/Hotel_Review-g1...       下龍泉2-6號   \n",
       "125  https://www.tripadvisor.com.tw/Hotel_Review-g1...       下龍泉2-6號   \n",
       "390  https://www.tripadvisor.com.tw/Hotel_Review-g1...       下龍泉2-6號   \n",
       "\n",
       "     avg_rating  comment_count  \\\n",
       "83          5.0            6.0   \n",
       "103         5.0            6.0   \n",
       "125         5.0            6.0   \n",
       "390         5.0            6.0   \n",
       "\n",
       "                                       offical_img_uri facility room  \\\n",
       "83   https://media-cdn.tripadvisor.com/media/photo-...      NaN  NaN   \n",
       "103  https://media-cdn.tripadvisor.com/media/photo-...      NaN  NaN   \n",
       "125  https://media-cdn.tripadvisor.com/media/photo-...      NaN  NaN   \n",
       "390  https://media-cdn.tripadvisor.com/media/photo-...      NaN  NaN   \n",
       "\n",
       "    agoda_price  \n",
       "83     NT$1,545  \n",
       "103    NT$1,545  \n",
       "125    NT$1,545  \n",
       "390         NaN  "
      ]
     },
     "execution_count": 17,
     "metadata": {},
     "output_type": "execute_result"
    }
   ],
   "source": [
    "df.loc[df['uri'] == df['uri'].value_counts().index[0]]"
   ]
  },
  {
   "cell_type": "markdown",
   "metadata": {},
   "source": [
    "### 只保留相同飯店名稱/ uri的第一筆"
   ]
  },
  {
   "cell_type": "code",
   "execution_count": 34,
   "metadata": {},
   "outputs": [
    {
     "data": {
      "text/html": [
       "<div>\n",
       "<style scoped>\n",
       "    .dataframe tbody tr th:only-of-type {\n",
       "        vertical-align: middle;\n",
       "    }\n",
       "\n",
       "    .dataframe tbody tr th {\n",
       "        vertical-align: top;\n",
       "    }\n",
       "\n",
       "    .dataframe thead th {\n",
       "        text-align: right;\n",
       "    }\n",
       "</style>\n",
       "<table border=\"1\" class=\"dataframe\">\n",
       "  <thead>\n",
       "    <tr style=\"text-align: right;\">\n",
       "      <th></th>\n",
       "      <th>title</th>\n",
       "      <th>paiming</th>\n",
       "      <th>recommend_price</th>\n",
       "      <th>uri</th>\n",
       "      <th>hotel_address</th>\n",
       "      <th>price_range</th>\n",
       "      <th>avg_rating</th>\n",
       "      <th>comment_count</th>\n",
       "      <th>offical_img_uri</th>\n",
       "      <th>facility</th>\n",
       "      <th>room</th>\n",
       "      <th>agoda_price</th>\n",
       "    </tr>\n",
       "  </thead>\n",
       "  <tbody>\n",
       "    <tr>\n",
       "      <th>0</th>\n",
       "      <td>芙勞拉民宿</td>\n",
       "      <td>台東排名第 160 的超值住宿地點，共 1,442 家</td>\n",
       "      <td>NT$1,212</td>\n",
       "      <td>https://www.tripadvisor.com.tw/Hotel_Review-g1...</td>\n",
       "      <td>台東市新興路101巷96號</td>\n",
       "      <td>NT$1,379 - NT$3,197</td>\n",
       "      <td>4.5</td>\n",
       "      <td>3.0</td>\n",
       "      <td>https://media-cdn.tripadvisor.com/media/partne...</td>\n",
       "      <td>NaN</td>\n",
       "      <td>NaN</td>\n",
       "      <td>NT$1,212</td>\n",
       "    </tr>\n",
       "    <tr>\n",
       "      <th>1</th>\n",
       "      <td>芒果星青年客棧</td>\n",
       "      <td>台東排名第 128 的超值住宿地點，共 1,442 家</td>\n",
       "      <td>NT$1,299</td>\n",
       "      <td>https://www.tripadvisor.com.tw/Hotel_Review-g1...</td>\n",
       "      <td>台東市信義路186號</td>\n",
       "      <td>NT$596 - NT$2,414</td>\n",
       "      <td>4.0</td>\n",
       "      <td>2.0</td>\n",
       "      <td>https://media-cdn.tripadvisor.com/media/partne...</td>\n",
       "      <td>NaN</td>\n",
       "      <td>NaN</td>\n",
       "      <td>NaN</td>\n",
       "    </tr>\n",
       "    <tr>\n",
       "      <th>2</th>\n",
       "      <td>又見威尼斯民宿</td>\n",
       "      <td>台東排名第 166 的超值住宿地點，共 1,442 家</td>\n",
       "      <td>NT$1,299</td>\n",
       "      <td>https://www.tripadvisor.com.tw/Hotel_Review-g1...</td>\n",
       "      <td>台東市國泰街117號</td>\n",
       "      <td>NT$1,191 - NT$2,633</td>\n",
       "      <td>4.5</td>\n",
       "      <td>2.0</td>\n",
       "      <td>https://media-cdn.tripadvisor.com/media/partne...</td>\n",
       "      <td>NaN</td>\n",
       "      <td>NaN</td>\n",
       "      <td>NaN</td>\n",
       "    </tr>\n",
       "    <tr>\n",
       "      <th>3</th>\n",
       "      <td>蝸居民宿</td>\n",
       "      <td>台東排名第 146 的超值住宿地點，共 1,442 家</td>\n",
       "      <td>NaN</td>\n",
       "      <td>https://www.tripadvisor.com.tw/Hotel_Review-g1...</td>\n",
       "      <td>興安路一段586號</td>\n",
       "      <td>NT$1,160 - NT$2,445</td>\n",
       "      <td>4.0</td>\n",
       "      <td>4.0</td>\n",
       "      <td>https://media-cdn.tripadvisor.com/media/photo-...</td>\n",
       "      <td>禁菸客房, 套房, 家庭房, 空調設施, 微波爐, 冰箱</td>\n",
       "      <td>免費停車, 免費高速上網 (WiFi), 免費網際網路, 餐廳, 提供早餐, 禮賓服務, 禁...</td>\n",
       "      <td>NT$1,005</td>\n",
       "    </tr>\n",
       "    <tr>\n",
       "      <th>4</th>\n",
       "      <td>幸運草莓屋民宿</td>\n",
       "      <td>台東排名第 157 的超值住宿地點，共 1,442 家</td>\n",
       "      <td>NT$844</td>\n",
       "      <td>https://www.tripadvisor.com.tw/Hotel_Review-g1...</td>\n",
       "      <td>台東市樂利路28巷10號</td>\n",
       "      <td>NT$972 - NT$5,047</td>\n",
       "      <td>5.0</td>\n",
       "      <td>1.0</td>\n",
       "      <td>https://media-cdn.tripadvisor.com/media/partne...</td>\n",
       "      <td>NaN</td>\n",
       "      <td>NaN</td>\n",
       "      <td>NaN</td>\n",
       "    </tr>\n",
       "  </tbody>\n",
       "</table>\n",
       "</div>"
      ],
      "text/plain": [
       "     title                      paiming recommend_price  \\\n",
       "0    芙勞拉民宿  台東排名第 160 的超值住宿地點，共 1,442 家        NT$1,212   \n",
       "1  芒果星青年客棧  台東排名第 128 的超值住宿地點，共 1,442 家        NT$1,299   \n",
       "2  又見威尼斯民宿  台東排名第 166 的超值住宿地點，共 1,442 家        NT$1,299   \n",
       "3     蝸居民宿  台東排名第 146 的超值住宿地點，共 1,442 家             NaN   \n",
       "4  幸運草莓屋民宿  台東排名第 157 的超值住宿地點，共 1,442 家          NT$844   \n",
       "\n",
       "                                                 uri  hotel_address  \\\n",
       "0  https://www.tripadvisor.com.tw/Hotel_Review-g1...  台東市新興路101巷96號   \n",
       "1  https://www.tripadvisor.com.tw/Hotel_Review-g1...     台東市信義路186號   \n",
       "2  https://www.tripadvisor.com.tw/Hotel_Review-g1...     台東市國泰街117號   \n",
       "3  https://www.tripadvisor.com.tw/Hotel_Review-g1...      興安路一段586號   \n",
       "4  https://www.tripadvisor.com.tw/Hotel_Review-g1...   台東市樂利路28巷10號   \n",
       "\n",
       "           price_range  avg_rating  comment_count  \\\n",
       "0  NT$1,379 - NT$3,197         4.5            3.0   \n",
       "1    NT$596 - NT$2,414         4.0            2.0   \n",
       "2  NT$1,191 - NT$2,633         4.5            2.0   \n",
       "3  NT$1,160 - NT$2,445         4.0            4.0   \n",
       "4    NT$972 - NT$5,047         5.0            1.0   \n",
       "\n",
       "                                     offical_img_uri  \\\n",
       "0  https://media-cdn.tripadvisor.com/media/partne...   \n",
       "1  https://media-cdn.tripadvisor.com/media/partne...   \n",
       "2  https://media-cdn.tripadvisor.com/media/partne...   \n",
       "3  https://media-cdn.tripadvisor.com/media/photo-...   \n",
       "4  https://media-cdn.tripadvisor.com/media/partne...   \n",
       "\n",
       "                       facility  \\\n",
       "0                           NaN   \n",
       "1                           NaN   \n",
       "2                           NaN   \n",
       "3  禁菸客房, 套房, 家庭房, 空調設施, 微波爐, 冰箱   \n",
       "4                           NaN   \n",
       "\n",
       "                                                room agoda_price  \n",
       "0                                                NaN    NT$1,212  \n",
       "1                                                NaN         NaN  \n",
       "2                                                NaN         NaN  \n",
       "3  免費停車, 免費高速上網 (WiFi), 免費網際網路, 餐廳, 提供早餐, 禮賓服務, 禁...    NT$1,005  \n",
       "4                                                NaN         NaN  "
      ]
     },
     "execution_count": 34,
     "metadata": {},
     "output_type": "execute_result"
    }
   ],
   "source": [
    "rows_list = []\n",
    "# 把row存到list, 之後再轉df\n",
    "for i, value in df['uri'].value_counts().iteritems():\n",
    "    # 轉成dict再存到 list\n",
    "    rows_list.append(df.loc[df['uri'] == i].head(1).to_dict('records')[0])\n",
    "    \n",
    "new_df = pd.DataFrame(rows_list)    \n",
    "new_df.head()"
   ]
  },
  {
   "cell_type": "markdown",
   "metadata": {},
   "source": [
    "確定沒有重複的飯店"
   ]
  },
  {
   "cell_type": "code",
   "execution_count": 38,
   "metadata": {},
   "outputs": [
    {
     "data": {
      "text/plain": [
       "Index([], dtype='object')"
      ]
     },
     "execution_count": 38,
     "metadata": {},
     "output_type": "execute_result"
    }
   ],
   "source": [
    "new_df['uri'].value_counts()[new_df['uri'].value_counts() > 1].index"
   ]
  },
  {
   "cell_type": "markdown",
   "metadata": {},
   "source": [
    "---\n",
    "#### 移除用不到的特徵"
   ]
  },
  {
   "cell_type": "code",
   "execution_count": 42,
   "metadata": {},
   "outputs": [],
   "source": [
    "new_df.drop(['paiming', 'offical_img_uri'], axis=1, inplace=True)"
   ]
  },
  {
   "cell_type": "markdown",
   "metadata": {},
   "source": [
    "空的rating跟comment補0, 表示沒有人評價過"
   ]
  },
  {
   "cell_type": "code",
   "execution_count": 47,
   "metadata": {},
   "outputs": [],
   "source": [
    "new_df['avg_rating'].fillna(0, inplace=True)\n",
    "new_df['comment_count'].fillna(0, inplace=True)"
   ]
  },
  {
   "cell_type": "markdown",
   "metadata": {},
   "source": [
    "---\n",
    "#### drop掉空值過多的欄位"
   ]
  },
  {
   "cell_type": "code",
   "execution_count": 48,
   "metadata": {
    "jupyter": {
     "source_hidden": true
    }
   },
   "outputs": [
    {
     "data": {
      "text/plain": [
       "title              0.000000\n",
       "recommend_price    0.590301\n",
       "uri                0.000000\n",
       "hotel_address      0.000000\n",
       "price_range        0.080268\n",
       "avg_rating         0.000000\n",
       "comment_count      0.000000\n",
       "facility           0.548495\n",
       "room               0.680602\n",
       "agoda_price        0.772575\n",
       "dtype: float64"
      ]
     },
     "execution_count": 48,
     "metadata": {},
     "output_type": "execute_result"
    }
   ],
   "source": [
    "new_df.isna().sum()/ len(df)"
   ]
  },
  {
   "cell_type": "markdown",
   "metadata": {},
   "source": [
    "只有10筆是完整沒有空值"
   ]
  },
  {
   "cell_type": "code",
   "execution_count": 49,
   "metadata": {},
   "outputs": [
    {
     "name": "stdout",
     "output_type": "stream",
     "text": [
      "<class 'pandas.core.frame.DataFrame'>\n",
      "Int64Index: 10 entries, 29 to 473\n",
      "Data columns (total 10 columns):\n",
      "title              10 non-null object\n",
      "recommend_price    10 non-null object\n",
      "uri                10 non-null object\n",
      "hotel_address      10 non-null object\n",
      "price_range        10 non-null object\n",
      "avg_rating         10 non-null float64\n",
      "comment_count      10 non-null float64\n",
      "facility           10 non-null object\n",
      "room               10 non-null object\n",
      "agoda_price        10 non-null object\n",
      "dtypes: float64(2), object(8)\n",
      "memory usage: 880.0+ bytes\n"
     ]
    }
   ],
   "source": [
    "new_df.dropna().info()"
   ]
  },
  {
   "cell_type": "code",
   "execution_count": 50,
   "metadata": {},
   "outputs": [
    {
     "name": "stdout",
     "output_type": "stream",
     "text": [
      "<class 'pandas.core.frame.DataFrame'>\n",
      "RangeIndex: 519 entries, 0 to 518\n",
      "Data columns (total 5 columns):\n",
      "title            519 non-null object\n",
      "uri              519 non-null object\n",
      "hotel_address    519 non-null object\n",
      "avg_rating       519 non-null float64\n",
      "comment_count    519 non-null float64\n",
      "dtypes: float64(2), object(3)\n",
      "memory usage: 20.4+ KB\n"
     ]
    }
   ],
   "source": [
    "new_df.dropna(axis=1).info()"
   ]
  },
  {
   "cell_type": "markdown",
   "metadata": {},
   "source": [
    "暫時剔除以下的feature"
   ]
  },
  {
   "cell_type": "code",
   "execution_count": 52,
   "metadata": {},
   "outputs": [],
   "source": [
    "new_df.drop(['recommend_price', 'facility','room', 'agoda_price'], axis=1, inplace=True)"
   ]
  },
  {
   "cell_type": "markdown",
   "metadata": {},
   "source": [
    "再踢出row有空值的"
   ]
  },
  {
   "cell_type": "code",
   "execution_count": 55,
   "metadata": {},
   "outputs": [
    {
     "name": "stdout",
     "output_type": "stream",
     "text": [
      "<class 'pandas.core.frame.DataFrame'>\n",
      "Int64Index: 471 entries, 0 to 518\n",
      "Data columns (total 6 columns):\n",
      "title            471 non-null object\n",
      "uri              471 non-null object\n",
      "hotel_address    471 non-null object\n",
      "price_range      471 non-null object\n",
      "avg_rating       471 non-null float64\n",
      "comment_count    471 non-null float64\n",
      "dtypes: float64(2), object(4)\n",
      "memory usage: 25.8+ KB\n",
      "None\n"
     ]
    }
   ],
   "source": [
    "new_df.dropna(inplace=True)\n",
    "print(new_df.info())"
   ]
  },
  {
   "cell_type": "markdown",
   "metadata": {},
   "source": [
    "### 存成新的表"
   ]
  },
  {
   "cell_type": "code",
   "execution_count": 56,
   "metadata": {},
   "outputs": [],
   "source": [
    "new_df.to_csv('./'+file_name+'_clean.csv', index=False, encoding='utf_8_sig')"
   ]
  },
  {
   "cell_type": "code",
   "execution_count": null,
   "metadata": {},
   "outputs": [],
   "source": []
  }
 ],
 "metadata": {
  "kernelspec": {
   "display_name": "Python 3",
   "language": "python",
   "name": "python3"
  },
  "language_info": {
   "codemirror_mode": {
    "name": "ipython",
    "version": 3
   },
   "file_extension": ".py",
   "mimetype": "text/x-python",
   "name": "python",
   "nbconvert_exporter": "python",
   "pygments_lexer": "ipython3",
   "version": "3.7.3"
  }
 },
 "nbformat": 4,
 "nbformat_minor": 2
}
