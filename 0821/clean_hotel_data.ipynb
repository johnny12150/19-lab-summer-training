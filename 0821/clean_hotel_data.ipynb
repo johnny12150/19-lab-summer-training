{
 "cells": [
  {
   "cell_type": "code",
   "execution_count": 67,
   "metadata": {},
   "outputs": [],
   "source": [
    "import pandas as pd\n",
    "file_name = 'Chiayi_tripadvisor_top500'\n",
    "df = pd.read_csv('../0815/'+file_name+'.csv')"
   ]
  },
  {
   "cell_type": "code",
   "execution_count": 22,
   "metadata": {
    "collapsed": true,
    "jupyter": {
     "outputs_hidden": true,
     "source_hidden": true
    }
   },
   "outputs": [
    {
     "name": "stdout",
     "output_type": "stream",
     "text": [
      "84\n"
     ]
    }
   ],
   "source": [
    "# 計算重複數量\n",
    "count = 0\n",
    "for i, value in df['uri'].value_counts().iteritems():\n",
    "    if value > 1:\n",
    "        count +=1\n",
    "print(count)"
   ]
  },
  {
   "cell_type": "markdown",
   "metadata": {},
   "source": [
    "### 顯示重複"
   ]
  },
  {
   "cell_type": "code",
   "execution_count": 3,
   "metadata": {
    "collapsed": true,
    "jupyter": {
     "outputs_hidden": true,
     "source_hidden": true
    }
   },
   "outputs": [
    {
     "data": {
      "text/html": [
       "<div>\n",
       "<style scoped>\n",
       "    .dataframe tbody tr th:only-of-type {\n",
       "        vertical-align: middle;\n",
       "    }\n",
       "\n",
       "    .dataframe tbody tr th {\n",
       "        vertical-align: top;\n",
       "    }\n",
       "\n",
       "    .dataframe thead th {\n",
       "        text-align: right;\n",
       "    }\n",
       "</style>\n",
       "<table border=\"1\" class=\"dataframe\">\n",
       "  <thead>\n",
       "    <tr style=\"text-align: right;\">\n",
       "      <th></th>\n",
       "      <th>title</th>\n",
       "      <th>paiming</th>\n",
       "      <th>uri</th>\n",
       "      <th>lat</th>\n",
       "      <th>lng</th>\n",
       "      <th>recommend_price</th>\n",
       "      <th>hotel_address</th>\n",
       "      <th>hotel_star</th>\n",
       "      <th>hotel_city</th>\n",
       "      <th>hotel_section</th>\n",
       "      <th>price_range</th>\n",
       "      <th>avg_rating</th>\n",
       "      <th>comment_count</th>\n",
       "      <th>offical_img_uri</th>\n",
       "      <th>facility</th>\n",
       "      <th>room</th>\n",
       "      <th>agoda_price</th>\n",
       "    </tr>\n",
       "  </thead>\n",
       "  <tbody>\n",
       "    <tr>\n",
       "      <td>284</td>\n",
       "      <td>砝傣岸民宿</td>\n",
       "      <td>花蓮排名第 285 的超值住宿地點，共 2,231 家</td>\n",
       "      <td>https://www.tripadvisor.com.tw/Hotel_Review-g1...</td>\n",
       "      <td>23.659290</td>\n",
       "      <td>121.419960</td>\n",
       "      <td>NT$1,212</td>\n",
       "      <td>光復鄉大進村中興路176巷1弄2號</td>\n",
       "      <td>3.5</td>\n",
       "      <td>花蓮</td>\n",
       "      <td>光復鄉</td>\n",
       "      <td>-NT$1</td>\n",
       "      <td>4.0</td>\n",
       "      <td>1.0</td>\n",
       "      <td>https://media-cdn.tripadvisor.com/media/partne...</td>\n",
       "      <td>NaN</td>\n",
       "      <td>NaN</td>\n",
       "      <td>NT$2,174</td>\n",
       "    </tr>\n",
       "    <tr>\n",
       "      <td>305</td>\n",
       "      <td>砝傣岸民宿</td>\n",
       "      <td>花蓮排名第 306 的超值住宿地點，共 2,231 家</td>\n",
       "      <td>https://www.tripadvisor.com.tw/Hotel_Review-g1...</td>\n",
       "      <td>23.328011</td>\n",
       "      <td>121.321114</td>\n",
       "      <td>NT$1,212</td>\n",
       "      <td>光復鄉大進村中興路176巷1弄2號</td>\n",
       "      <td>3.5</td>\n",
       "      <td>花蓮</td>\n",
       "      <td>光復鄉</td>\n",
       "      <td>-NT$1</td>\n",
       "      <td>4.0</td>\n",
       "      <td>1.0</td>\n",
       "      <td>https://static.tacdn.com/img2/branding/rebrand...</td>\n",
       "      <td>NaN</td>\n",
       "      <td>NaN</td>\n",
       "      <td>NaN</td>\n",
       "    </tr>\n",
       "    <tr>\n",
       "      <td>346</td>\n",
       "      <td>砝傣岸民宿</td>\n",
       "      <td>花蓮排名第 347 的超值住宿地點，共 2,231 家</td>\n",
       "      <td>https://www.tripadvisor.com.tw/Hotel_Review-g1...</td>\n",
       "      <td>23.972549</td>\n",
       "      <td>121.614670</td>\n",
       "      <td>NT$1,212</td>\n",
       "      <td>光復鄉大進村中興路176巷1弄2號</td>\n",
       "      <td>3.5</td>\n",
       "      <td>花蓮</td>\n",
       "      <td>光復鄉</td>\n",
       "      <td>-NT$1</td>\n",
       "      <td>4.0</td>\n",
       "      <td>1.0</td>\n",
       "      <td>https://media-cdn.tripadvisor.com/media/partne...</td>\n",
       "      <td>NaN</td>\n",
       "      <td>NaN</td>\n",
       "      <td>NaN</td>\n",
       "    </tr>\n",
       "    <tr>\n",
       "      <td>366</td>\n",
       "      <td>砝傣岸民宿</td>\n",
       "      <td>花蓮排名第 367 的超值住宿地點，共 2,231 家</td>\n",
       "      <td>https://www.tripadvisor.com.tw/Hotel_Review-g1...</td>\n",
       "      <td>24.181171</td>\n",
       "      <td>121.494217</td>\n",
       "      <td>NT$1,212</td>\n",
       "      <td>光復鄉大進村中興路176巷1弄2號</td>\n",
       "      <td>5.0</td>\n",
       "      <td>花蓮</td>\n",
       "      <td>光復鄉</td>\n",
       "      <td>-NT$1</td>\n",
       "      <td>4.0</td>\n",
       "      <td>1.0</td>\n",
       "      <td>https://media-cdn.tripadvisor.com/media/partne...</td>\n",
       "      <td>NaN</td>\n",
       "      <td>NaN</td>\n",
       "      <td>NT$9,046</td>\n",
       "    </tr>\n",
       "  </tbody>\n",
       "</table>\n",
       "</div>"
      ],
      "text/plain": [
       "      title                      paiming  \\\n",
       "284  砝傣岸民宿   花蓮排名第 285 的超值住宿地點，共 2,231 家   \n",
       "305  砝傣岸民宿   花蓮排名第 306 的超值住宿地點，共 2,231 家   \n",
       "346  砝傣岸民宿   花蓮排名第 347 的超值住宿地點，共 2,231 家   \n",
       "366  砝傣岸民宿   花蓮排名第 367 的超值住宿地點，共 2,231 家   \n",
       "\n",
       "                                                   uri        lat         lng  \\\n",
       "284  https://www.tripadvisor.com.tw/Hotel_Review-g1...  23.659290  121.419960   \n",
       "305  https://www.tripadvisor.com.tw/Hotel_Review-g1...  23.328011  121.321114   \n",
       "346  https://www.tripadvisor.com.tw/Hotel_Review-g1...  23.972549  121.614670   \n",
       "366  https://www.tripadvisor.com.tw/Hotel_Review-g1...  24.181171  121.494217   \n",
       "\n",
       "    recommend_price       hotel_address  hotel_star hotel_city hotel_section  \\\n",
       "284        NT$1,212  光復鄉大進村中興路176巷1弄2號          3.5         花蓮           光復鄉   \n",
       "305        NT$1,212  光復鄉大進村中興路176巷1弄2號          3.5         花蓮           光復鄉   \n",
       "346        NT$1,212  光復鄉大進村中興路176巷1弄2號          3.5         花蓮           光復鄉   \n",
       "366        NT$1,212  光復鄉大進村中興路176巷1弄2號          5.0         花蓮           光復鄉   \n",
       "\n",
       "    price_range  avg_rating  comment_count  \\\n",
       "284       -NT$1         4.0            1.0   \n",
       "305       -NT$1         4.0            1.0   \n",
       "346       -NT$1         4.0            1.0   \n",
       "366       -NT$1         4.0            1.0   \n",
       "\n",
       "                                       offical_img_uri facility room  \\\n",
       "284  https://media-cdn.tripadvisor.com/media/partne...      NaN  NaN   \n",
       "305  https://static.tacdn.com/img2/branding/rebrand...      NaN  NaN   \n",
       "346  https://media-cdn.tripadvisor.com/media/partne...      NaN  NaN   \n",
       "366  https://media-cdn.tripadvisor.com/media/partne...      NaN  NaN   \n",
       "\n",
       "    agoda_price  \n",
       "284    NT$2,174  \n",
       "305         NaN  \n",
       "346         NaN  \n",
       "366    NT$9,046  "
      ]
     },
     "execution_count": 3,
     "metadata": {},
     "output_type": "execute_result"
    }
   ],
   "source": [
    "df.loc[df['uri'] == df['uri'].value_counts().index[0]]"
   ]
  },
  {
   "cell_type": "markdown",
   "metadata": {},
   "source": [
    "### 只保留相同飯店名稱/ uri的第一筆"
   ]
  },
  {
   "cell_type": "code",
   "execution_count": 68,
   "metadata": {},
   "outputs": [],
   "source": [
    "rows_list = []\n",
    "# 把row存到list, 之後再轉df\n",
    "for i, value in df['uri'].value_counts().iteritems():\n",
    "    # 轉成dict再存到 list\n",
    "    rows_list.append(df.loc[df['uri'] == i].head(1).to_dict('records')[0])\n",
    "    \n",
    "new_df = pd.DataFrame(rows_list)"
   ]
  },
  {
   "cell_type": "markdown",
   "metadata": {},
   "source": [
    "確定沒有重複的飯店"
   ]
  },
  {
   "cell_type": "code",
   "execution_count": 60,
   "metadata": {
    "collapsed": true,
    "jupyter": {
     "outputs_hidden": true,
     "source_hidden": true
    }
   },
   "outputs": [
    {
     "data": {
      "text/plain": [
       "Index([], dtype='object')"
      ]
     },
     "execution_count": 60,
     "metadata": {},
     "output_type": "execute_result"
    }
   ],
   "source": [
    "new_df['uri'].value_counts()[new_df['uri'].value_counts() > 1].index"
   ]
  },
  {
   "cell_type": "markdown",
   "metadata": {},
   "source": [
    "---\n",
    "#### 移除用不到的特徵"
   ]
  },
  {
   "cell_type": "code",
   "execution_count": 69,
   "metadata": {},
   "outputs": [],
   "source": [
    "new_df.drop(['paiming', 'offical_img_uri'], axis=1, inplace=True)"
   ]
  },
  {
   "cell_type": "markdown",
   "metadata": {},
   "source": [
    "空的rating跟comment補0, 表示沒有人評價過"
   ]
  },
  {
   "cell_type": "code",
   "execution_count": 70,
   "metadata": {},
   "outputs": [],
   "source": [
    "new_df['avg_rating'].fillna(0, inplace=True)\n",
    "new_df['comment_count'].fillna(0, inplace=True)"
   ]
  },
  {
   "cell_type": "markdown",
   "metadata": {},
   "source": [
    "---\n",
    "#### drop掉空值過多的欄位"
   ]
  },
  {
   "cell_type": "code",
   "execution_count": 71,
   "metadata": {},
   "outputs": [
    {
     "data": {
      "text/plain": [
       "title              0.000000\n",
       "uri                0.000000\n",
       "lat                0.191919\n",
       "lng                0.191919\n",
       "recommend_price    0.181818\n",
       "hotel_address      0.000000\n",
       "hotel_star         0.090909\n",
       "hotel_city         0.000000\n",
       "hotel_section      0.000000\n",
       "price_range        0.131313\n",
       "avg_rating         0.000000\n",
       "comment_count      0.000000\n",
       "facility           0.383838\n",
       "room               0.363636\n",
       "agoda_price        0.848485\n",
       "dtype: float64"
      ]
     },
     "execution_count": 71,
     "metadata": {},
     "output_type": "execute_result"
    }
   ],
   "source": [
    "new_df.isna().sum()/ len(df)"
   ]
  },
  {
   "cell_type": "markdown",
   "metadata": {},
   "source": [
    "只有10筆是完整沒有空值"
   ]
  },
  {
   "cell_type": "code",
   "execution_count": 9,
   "metadata": {},
   "outputs": [
    {
     "name": "stdout",
     "output_type": "stream",
     "text": [
      "<class 'pandas.core.frame.DataFrame'>\n",
      "Int64Index: 41 entries, 5 to 468\n",
      "Data columns (total 15 columns):\n",
      "title              41 non-null object\n",
      "uri                41 non-null object\n",
      "lat                41 non-null float64\n",
      "lng                41 non-null float64\n",
      "recommend_price    41 non-null object\n",
      "hotel_address      41 non-null object\n",
      "hotel_star         41 non-null float64\n",
      "hotel_city         41 non-null object\n",
      "hotel_section      41 non-null object\n",
      "price_range        41 non-null object\n",
      "avg_rating         41 non-null float64\n",
      "comment_count      41 non-null float64\n",
      "facility           41 non-null object\n",
      "room               41 non-null object\n",
      "agoda_price        41 non-null object\n",
      "dtypes: float64(5), object(10)\n",
      "memory usage: 5.1+ KB\n"
     ]
    }
   ],
   "source": [
    "new_df.dropna().info()"
   ]
  },
  {
   "cell_type": "code",
   "execution_count": 10,
   "metadata": {
    "collapsed": true,
    "jupyter": {
     "outputs_hidden": true,
     "source_hidden": true
    }
   },
   "outputs": [
    {
     "name": "stdout",
     "output_type": "stream",
     "text": [
      "<class 'pandas.core.frame.DataFrame'>\n",
      "RangeIndex: 477 entries, 0 to 476\n",
      "Data columns (total 7 columns):\n",
      "title            477 non-null object\n",
      "uri              477 non-null object\n",
      "hotel_address    477 non-null object\n",
      "hotel_city       477 non-null object\n",
      "hotel_section    477 non-null object\n",
      "avg_rating       477 non-null float64\n",
      "comment_count    477 non-null float64\n",
      "dtypes: float64(2), object(5)\n",
      "memory usage: 26.2+ KB\n"
     ]
    }
   ],
   "source": [
    "new_df.dropna(axis=1).info()"
   ]
  },
  {
   "cell_type": "markdown",
   "metadata": {},
   "source": [
    "暫時剔除以下的feature"
   ]
  },
  {
   "cell_type": "code",
   "execution_count": 63,
   "metadata": {},
   "outputs": [],
   "source": [
    "new_df.drop(['recommend_price', 'facility','room', 'agoda_price'], axis=1, inplace=True)"
   ]
  },
  {
   "cell_type": "markdown",
   "metadata": {},
   "source": [
    "再踢出row有空值的"
   ]
  },
  {
   "cell_type": "code",
   "execution_count": 64,
   "metadata": {},
   "outputs": [
    {
     "name": "stdout",
     "output_type": "stream",
     "text": [
      "<class 'pandas.core.frame.DataFrame'>\n",
      "Int64Index: 71 entries, 1 to 97\n",
      "Data columns (total 11 columns):\n",
      "title            71 non-null object\n",
      "uri              71 non-null object\n",
      "lat              71 non-null float64\n",
      "lng              71 non-null float64\n",
      "hotel_address    71 non-null object\n",
      "hotel_star       71 non-null float64\n",
      "hotel_city       71 non-null object\n",
      "hotel_section    71 non-null object\n",
      "price_range      71 non-null object\n",
      "avg_rating       71 non-null float64\n",
      "comment_count    71 non-null float64\n",
      "dtypes: float64(5), object(6)\n",
      "memory usage: 6.7+ KB\n",
      "None\n"
     ]
    }
   ],
   "source": [
    "new_df.dropna(inplace=True)\n",
    "print(new_df.info())"
   ]
  },
  {
   "cell_type": "markdown",
   "metadata": {},
   "source": [
    "### 存成新的表"
   ]
  },
  {
   "cell_type": "code",
   "execution_count": 65,
   "metadata": {},
   "outputs": [],
   "source": [
    "new_df.to_csv('./'+file_name+'_clean.csv', index=False, encoding='utf_8_sig')"
   ]
  },
  {
   "cell_type": "code",
   "execution_count": null,
   "metadata": {},
   "outputs": [],
   "source": []
  }
 ],
 "metadata": {
  "kernelspec": {
   "display_name": "Python 3",
   "language": "python",
   "name": "python3"
  },
  "language_info": {
   "codemirror_mode": {
    "name": "ipython",
    "version": 3
   },
   "file_extension": ".py",
   "mimetype": "text/x-python",
   "name": "python",
   "nbconvert_exporter": "python",
   "pygments_lexer": "ipython3",
   "version": "3.7.3"
  }
 },
 "nbformat": 4,
 "nbformat_minor": 2
}
