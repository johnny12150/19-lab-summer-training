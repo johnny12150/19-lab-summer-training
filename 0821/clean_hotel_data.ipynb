{
 "cells": [
  {
   "cell_type": "code",
   "execution_count": 2,
   "metadata": {},
   "outputs": [],
   "source": [
    "import pandas as pd\n",
    "file_name = 'Hualien_tripadvisor_top1500'\n",
    "df = pd.read_csv('../0815/'+file_name+'.csv')"
   ]
  },
  {
   "cell_type": "code",
   "execution_count": 3,
   "metadata": {},
   "outputs": [
    {
     "name": "stdout",
     "output_type": "stream",
     "text": [
      "190\n"
     ]
    }
   ],
   "source": [
    "count = 0\n",
    "for i, value in df['uri'].value_counts().iteritems():\n",
    "    if value > 1:\n",
    "        count +=1\n",
    "print(count)"
   ]
  },
  {
   "cell_type": "markdown",
   "metadata": {},
   "source": [
    "### 顯示重複"
   ]
  },
  {
   "cell_type": "code",
   "execution_count": 4,
   "metadata": {},
   "outputs": [
    {
     "data": {
      "text/html": [
       "<div>\n",
       "<style scoped>\n",
       "    .dataframe tbody tr th:only-of-type {\n",
       "        vertical-align: middle;\n",
       "    }\n",
       "\n",
       "    .dataframe tbody tr th {\n",
       "        vertical-align: top;\n",
       "    }\n",
       "\n",
       "    .dataframe thead th {\n",
       "        text-align: right;\n",
       "    }\n",
       "</style>\n",
       "<table border=\"1\" class=\"dataframe\">\n",
       "  <thead>\n",
       "    <tr style=\"text-align: right;\">\n",
       "      <th></th>\n",
       "      <th>title</th>\n",
       "      <th>paiming</th>\n",
       "      <th>recommend_price</th>\n",
       "      <th>uri</th>\n",
       "      <th>hotel_address</th>\n",
       "      <th>price_range</th>\n",
       "      <th>avg_rating</th>\n",
       "      <th>comment_count</th>\n",
       "      <th>offical_img_uri</th>\n",
       "      <th>facility</th>\n",
       "      <th>room</th>\n",
       "      <th>agoda_price</th>\n",
       "    </tr>\n",
       "  </thead>\n",
       "  <tbody>\n",
       "    <tr>\n",
       "      <th>267</th>\n",
       "      <td>Small Travel Stay</td>\n",
       "      <td>花蓮排名第 268 的超值住宿地點，共 2,231 家</td>\n",
       "      <td>NT$1,247</td>\n",
       "      <td>https://www.tripadvisor.com.tw/Hotel_Review-g1...</td>\n",
       "      <td>No.13-1, Xuanyuan Rd.</td>\n",
       "      <td>NT$1,285 - NT$1,818</td>\n",
       "      <td>5.0</td>\n",
       "      <td>1.0</td>\n",
       "      <td>https://media-cdn.tripadvisor.com/media/photo-...</td>\n",
       "      <td>NaN</td>\n",
       "      <td>NaN</td>\n",
       "      <td>NaN</td>\n",
       "    </tr>\n",
       "    <tr>\n",
       "      <th>418</th>\n",
       "      <td>Small Travel Stay</td>\n",
       "      <td>花蓮排名第 419 的超值住宿地點，共 2,231 家</td>\n",
       "      <td>NaN</td>\n",
       "      <td>https://www.tripadvisor.com.tw/Hotel_Review-g1...</td>\n",
       "      <td>No.13-1, Xuanyuan Rd.</td>\n",
       "      <td>NT$1,285 - NT$1,818</td>\n",
       "      <td>5.0</td>\n",
       "      <td>1.0</td>\n",
       "      <td>https://media-cdn.tripadvisor.com/media/photo-...</td>\n",
       "      <td>NaN</td>\n",
       "      <td>NaN</td>\n",
       "      <td>NaN</td>\n",
       "    </tr>\n",
       "    <tr>\n",
       "      <th>486</th>\n",
       "      <td>Small Travel Stay</td>\n",
       "      <td>花蓮排名第 487 的超值住宿地點，共 2,231 家</td>\n",
       "      <td>NT$952</td>\n",
       "      <td>https://www.tripadvisor.com.tw/Hotel_Review-g1...</td>\n",
       "      <td>No.13-1, Xuanyuan Rd.</td>\n",
       "      <td>NT$1,285 - NT$1,818</td>\n",
       "      <td>5.0</td>\n",
       "      <td>1.0</td>\n",
       "      <td>https://media-cdn.tripadvisor.com/media/photo-...</td>\n",
       "      <td>NaN</td>\n",
       "      <td>NaN</td>\n",
       "      <td>NT$952</td>\n",
       "    </tr>\n",
       "    <tr>\n",
       "      <th>1129</th>\n",
       "      <td>Small Travel Stay</td>\n",
       "      <td>花蓮排名第 1,130 的超值住宿地點，共 2,231 家</td>\n",
       "      <td>NaN</td>\n",
       "      <td>https://www.tripadvisor.com.tw/Hotel_Review-g1...</td>\n",
       "      <td>No.13-1, Xuanyuan Rd.</td>\n",
       "      <td>NT$1,285 - NT$1,818</td>\n",
       "      <td>5.0</td>\n",
       "      <td>1.0</td>\n",
       "      <td>https://media-cdn.tripadvisor.com/media/photo-...</td>\n",
       "      <td>NaN</td>\n",
       "      <td>NaN</td>\n",
       "      <td>NaN</td>\n",
       "    </tr>\n",
       "  </tbody>\n",
       "</table>\n",
       "</div>"
      ],
      "text/plain": [
       "                  title                        paiming recommend_price  \\\n",
       "267   Small Travel Stay    花蓮排名第 268 的超值住宿地點，共 2,231 家        NT$1,247   \n",
       "418   Small Travel Stay    花蓮排名第 419 的超值住宿地點，共 2,231 家             NaN   \n",
       "486   Small Travel Stay    花蓮排名第 487 的超值住宿地點，共 2,231 家          NT$952   \n",
       "1129  Small Travel Stay  花蓮排名第 1,130 的超值住宿地點，共 2,231 家             NaN   \n",
       "\n",
       "                                                    uri  \\\n",
       "267   https://www.tripadvisor.com.tw/Hotel_Review-g1...   \n",
       "418   https://www.tripadvisor.com.tw/Hotel_Review-g1...   \n",
       "486   https://www.tripadvisor.com.tw/Hotel_Review-g1...   \n",
       "1129  https://www.tripadvisor.com.tw/Hotel_Review-g1...   \n",
       "\n",
       "              hotel_address          price_range  avg_rating  comment_count  \\\n",
       "267   No.13-1, Xuanyuan Rd.  NT$1,285 - NT$1,818         5.0            1.0   \n",
       "418   No.13-1, Xuanyuan Rd.  NT$1,285 - NT$1,818         5.0            1.0   \n",
       "486   No.13-1, Xuanyuan Rd.  NT$1,285 - NT$1,818         5.0            1.0   \n",
       "1129  No.13-1, Xuanyuan Rd.  NT$1,285 - NT$1,818         5.0            1.0   \n",
       "\n",
       "                                        offical_img_uri facility room  \\\n",
       "267   https://media-cdn.tripadvisor.com/media/photo-...      NaN  NaN   \n",
       "418   https://media-cdn.tripadvisor.com/media/photo-...      NaN  NaN   \n",
       "486   https://media-cdn.tripadvisor.com/media/photo-...      NaN  NaN   \n",
       "1129  https://media-cdn.tripadvisor.com/media/photo-...      NaN  NaN   \n",
       "\n",
       "     agoda_price  \n",
       "267          NaN  \n",
       "418          NaN  \n",
       "486       NT$952  \n",
       "1129         NaN  "
      ]
     },
     "execution_count": 4,
     "metadata": {},
     "output_type": "execute_result"
    }
   ],
   "source": [
    "df.loc[df['uri'] == df['uri'].value_counts().index[0]]"
   ]
  },
  {
   "cell_type": "markdown",
   "metadata": {},
   "source": [
    "### 只保留相同飯店名稱/ uri的第一筆"
   ]
  },
  {
   "cell_type": "code",
   "execution_count": 5,
   "metadata": {},
   "outputs": [],
   "source": [
    "rows_list = []\n",
    "# 把row存到list, 之後再轉df\n",
    "for i, value in df['uri'].value_counts().iteritems():\n",
    "    # 轉成dict再存到 list\n",
    "    rows_list.append(df.loc[df['uri'] == i].head(1).to_dict('records')[0])\n",
    "    \n",
    "new_df = pd.DataFrame(rows_list)"
   ]
  },
  {
   "cell_type": "markdown",
   "metadata": {},
   "source": [
    "確定沒有重複的飯店"
   ]
  },
  {
   "cell_type": "code",
   "execution_count": 6,
   "metadata": {},
   "outputs": [
    {
     "data": {
      "text/plain": [
       "Index([], dtype='object')"
      ]
     },
     "execution_count": 6,
     "metadata": {},
     "output_type": "execute_result"
    }
   ],
   "source": [
    "new_df['uri'].value_counts()[new_df['uri'].value_counts() > 1].index"
   ]
  },
  {
   "cell_type": "markdown",
   "metadata": {},
   "source": [
    "---\n",
    "#### 移除用不到的特徵"
   ]
  },
  {
   "cell_type": "code",
   "execution_count": 7,
   "metadata": {},
   "outputs": [],
   "source": [
    "new_df.drop(['paiming', 'offical_img_uri'], axis=1, inplace=True)"
   ]
  },
  {
   "cell_type": "markdown",
   "metadata": {},
   "source": [
    "空的rating跟comment補0, 表示沒有人評價過"
   ]
  },
  {
   "cell_type": "code",
   "execution_count": 8,
   "metadata": {},
   "outputs": [],
   "source": [
    "new_df['avg_rating'].fillna(0, inplace=True)\n",
    "new_df['comment_count'].fillna(0, inplace=True)"
   ]
  },
  {
   "cell_type": "markdown",
   "metadata": {},
   "source": [
    "---\n",
    "#### drop掉空值過多的欄位"
   ]
  },
  {
   "cell_type": "code",
   "execution_count": 9,
   "metadata": {
    "jupyter": {
     "source_hidden": true
    }
   },
   "outputs": [
    {
     "data": {
      "text/plain": [
       "title              0.000000\n",
       "recommend_price    0.441880\n",
       "uri                0.000000\n",
       "hotel_address      0.000000\n",
       "price_range        0.099145\n",
       "avg_rating         0.000000\n",
       "comment_count      0.000000\n",
       "facility           0.445299\n",
       "room               0.583761\n",
       "agoda_price        0.652991\n",
       "dtype: float64"
      ]
     },
     "execution_count": 9,
     "metadata": {},
     "output_type": "execute_result"
    }
   ],
   "source": [
    "new_df.isna().sum()/ len(df)"
   ]
  },
  {
   "cell_type": "markdown",
   "metadata": {},
   "source": [
    "只有10筆是完整沒有空值"
   ]
  },
  {
   "cell_type": "code",
   "execution_count": 10,
   "metadata": {},
   "outputs": [
    {
     "name": "stdout",
     "output_type": "stream",
     "text": [
      "<class 'pandas.core.frame.DataFrame'>\n",
      "Int64Index: 48 entries, 28 to 945\n",
      "Data columns (total 10 columns):\n",
      "title              48 non-null object\n",
      "recommend_price    48 non-null object\n",
      "uri                48 non-null object\n",
      "hotel_address      48 non-null object\n",
      "price_range        48 non-null object\n",
      "avg_rating         48 non-null float64\n",
      "comment_count      48 non-null float64\n",
      "facility           48 non-null object\n",
      "room               48 non-null object\n",
      "agoda_price        48 non-null object\n",
      "dtypes: float64(2), object(8)\n",
      "memory usage: 4.1+ KB\n"
     ]
    }
   ],
   "source": [
    "new_df.dropna().info()"
   ]
  },
  {
   "cell_type": "code",
   "execution_count": 11,
   "metadata": {},
   "outputs": [
    {
     "name": "stdout",
     "output_type": "stream",
     "text": [
      "<class 'pandas.core.frame.DataFrame'>\n",
      "RangeIndex: 948 entries, 0 to 947\n",
      "Data columns (total 5 columns):\n",
      "title            948 non-null object\n",
      "uri              948 non-null object\n",
      "hotel_address    948 non-null object\n",
      "avg_rating       948 non-null float64\n",
      "comment_count    948 non-null float64\n",
      "dtypes: float64(2), object(3)\n",
      "memory usage: 37.2+ KB\n"
     ]
    }
   ],
   "source": [
    "new_df.dropna(axis=1).info()"
   ]
  },
  {
   "cell_type": "markdown",
   "metadata": {},
   "source": [
    "暫時剔除以下的feature"
   ]
  },
  {
   "cell_type": "code",
   "execution_count": 12,
   "metadata": {},
   "outputs": [],
   "source": [
    "new_df.drop(['recommend_price', 'facility','room', 'agoda_price'], axis=1, inplace=True)"
   ]
  },
  {
   "cell_type": "markdown",
   "metadata": {},
   "source": [
    "再踢出row有空值的"
   ]
  },
  {
   "cell_type": "code",
   "execution_count": 13,
   "metadata": {},
   "outputs": [
    {
     "name": "stdout",
     "output_type": "stream",
     "text": [
      "<class 'pandas.core.frame.DataFrame'>\n",
      "Int64Index: 832 entries, 0 to 947\n",
      "Data columns (total 6 columns):\n",
      "title            832 non-null object\n",
      "uri              832 non-null object\n",
      "hotel_address    832 non-null object\n",
      "price_range      832 non-null object\n",
      "avg_rating       832 non-null float64\n",
      "comment_count    832 non-null float64\n",
      "dtypes: float64(2), object(4)\n",
      "memory usage: 45.5+ KB\n",
      "None\n"
     ]
    }
   ],
   "source": [
    "new_df.dropna(inplace=True)\n",
    "print(new_df.info())"
   ]
  },
  {
   "cell_type": "markdown",
   "metadata": {},
   "source": [
    "### 存成新的表"
   ]
  },
  {
   "cell_type": "code",
   "execution_count": 14,
   "metadata": {},
   "outputs": [],
   "source": [
    "new_df.to_csv('./'+file_name+'_clean.csv', index=False, encoding='utf_8_sig')"
   ]
  },
  {
   "cell_type": "code",
   "execution_count": null,
   "metadata": {},
   "outputs": [],
   "source": []
  }
 ],
 "metadata": {
  "kernelspec": {
   "display_name": "Python 3",
   "language": "python",
   "name": "python3"
  },
  "language_info": {
   "codemirror_mode": {
    "name": "ipython",
    "version": 3
   },
   "file_extension": ".py",
   "mimetype": "text/x-python",
   "name": "python",
   "nbconvert_exporter": "python",
   "pygments_lexer": "ipython3",
   "version": "3.7.3"
  }
 },
 "nbformat": 4,
 "nbformat_minor": 2
}
