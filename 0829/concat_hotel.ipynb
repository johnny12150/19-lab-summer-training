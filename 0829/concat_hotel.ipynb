{
 "cells": [
  {
   "cell_type": "markdown",
   "metadata": {},
   "source": [
    "外部資料"
   ]
  },
  {
   "cell_type": "code",
   "execution_count": 57,
   "metadata": {},
   "outputs": [],
   "source": [
    "import pandas as pd\n",
    "import numpy as np\n",
    "from glob import glob, iglob\n",
    "\n",
    "df = pd.DataFrame()\n",
    "\n",
    "# iglob使用較少memory\n",
    "for csv in iglob('../0821/*_top500_clean.csv'):\n",
    "    tmp_df = pd.read_csv(csv)\n",
    "    df = df.append(tmp_df, ignore_index=True)"
   ]
  },
  {
   "cell_type": "markdown",
   "metadata": {},
   "source": [
    "內部資料"
   ]
  },
  {
   "cell_type": "code",
   "execution_count": 2,
   "metadata": {},
   "outputs": [],
   "source": [
    "df_gps = pd.read_csv(\"F:\\\\NCTU\\\\lab\\\\奧丁丁\\\\奧丁丁資料前處理\\\\OwlTing_整合資料\\\\csv\\\\data_gps.csv\")"
   ]
  },
  {
   "cell_type": "markdown",
   "metadata": {},
   "source": [
    "總共1500多家飯店"
   ]
  },
  {
   "cell_type": "code",
   "execution_count": 3,
   "metadata": {},
   "outputs": [
    {
     "data": {
      "text/plain": [
       "73"
      ]
     },
     "execution_count": 3,
     "metadata": {},
     "output_type": "execute_result"
    }
   ],
   "source": [
    "df_gps.latitude.isna().sum()"
   ]
  },
  {
   "cell_type": "markdown",
   "metadata": {},
   "source": [
    "緯度為null"
   ]
  },
  {
   "cell_type": "code",
   "execution_count": 7,
   "metadata": {},
   "outputs": [
    {
     "data": {
      "text/plain": [
       "232"
      ]
     },
     "execution_count": 7,
     "metadata": {},
     "output_type": "execute_result"
    }
   ],
   "source": [
    "df_gps.longitude.isna().sum()"
   ]
  },
  {
   "cell_type": "markdown",
   "metadata": {},
   "source": [
    "經度為0"
   ]
  },
  {
   "cell_type": "code",
   "execution_count": 9,
   "metadata": {},
   "outputs": [
    {
     "data": {
      "text/plain": [
       "364"
      ]
     },
     "execution_count": 9,
     "metadata": {},
     "output_type": "execute_result"
    }
   ],
   "source": [
    "len(df_gps.loc[df_gps.latitude == 0])"
   ]
  },
  {
   "cell_type": "code",
   "execution_count": 11,
   "metadata": {},
   "outputs": [
    {
     "data": {
      "text/plain": [
       "200"
      ]
     },
     "execution_count": 11,
     "metadata": {},
     "output_type": "execute_result"
    }
   ],
   "source": [
    "len(df_gps.loc[df_gps.longitude == 0])"
   ]
  },
  {
   "cell_type": "markdown",
   "metadata": {},
   "source": [
    "移除經緯度為0或是null的飯店"
   ]
  },
  {
   "cell_type": "code",
   "execution_count": 15,
   "metadata": {},
   "outputs": [],
   "source": [
    "df_gps_clean = df_gps.dropna(subset=['latitude', 'longitude']) # 僅刪除經緯度有0的"
   ]
  },
  {
   "cell_type": "code",
   "execution_count": 17,
   "metadata": {},
   "outputs": [],
   "source": [
    "df_gps_clean = df_gps_clean[df_gps_clean.latitude!=0]\n",
    "df_gps_clean = df_gps_clean[df_gps_clean.longitude!=0]"
   ]
  },
  {
   "cell_type": "code",
   "execution_count": 18,
   "metadata": {},
   "outputs": [
    {
     "data": {
      "text/plain": [
       "hotel_id       0\n",
       "country      196\n",
       "city         339\n",
       "latitude       0\n",
       "longitude      0\n",
       "dtype: int64"
      ]
     },
     "execution_count": 18,
     "metadata": {},
     "output_type": "execute_result"
    }
   ],
   "source": [
    "df_gps_clean.isna().sum()"
   ]
  },
  {
   "cell_type": "code",
   "execution_count": 58,
   "metadata": {},
   "outputs": [],
   "source": [
    "def get_first(x, length):\n",
    "    return x[:length]\n",
    "\n",
    "# 把經緯度成字串保留想要的位數\n",
    "df['lat'] = df['lat'].astype('str').apply(get_first, args=(8,)).astype('float')\n",
    "df['lng'] = df['lng'].astype('str').apply(get_first, args=(10,)).astype('float')"
   ]
  },
  {
   "cell_type": "markdown",
   "metadata": {},
   "source": [
    "內外部資料都只用小數點4位看能不能和"
   ]
  },
  {
   "cell_type": "code",
   "execution_count": 63,
   "metadata": {},
   "outputs": [],
   "source": [
    "def get_first(x, length):\n",
    "    return x[:length]\n",
    "\n",
    "# 把經緯度成字串保留想要的位數\n",
    "df['lat'] = df['lat'].astype('str').apply(get_first, args=(7,)).astype('float')\n",
    "df['lng'] = df['lng'].astype('str').apply(get_first, args=(8,)).astype('float')\n",
    "df_gps_clean['latitude'] = df_gps_clean['latitude'].astype('str').apply(get_first, args=(7,)).astype('float')\n",
    "df_gps_clean['longitude'] = df_gps_clean['longitude'].astype('str').apply(get_first, args=(8,)).astype('float')"
   ]
  },
  {
   "cell_type": "markdown",
   "metadata": {},
   "source": [
    "找有沒有經緯度完全重複的"
   ]
  },
  {
   "cell_type": "code",
   "execution_count": 59,
   "metadata": {},
   "outputs": [
    {
     "data": {
      "text/plain": [
       "637"
      ]
     },
     "execution_count": 59,
     "metadata": {},
     "output_type": "execute_result"
    }
   ],
   "source": [
    "df.duplicated(subset=['lat', 'lng'], keep=False).sum()"
   ]
  },
  {
   "cell_type": "code",
   "execution_count": 47,
   "metadata": {},
   "outputs": [
    {
     "data": {
      "text/plain": [
       "39"
      ]
     },
     "execution_count": 47,
     "metadata": {},
     "output_type": "execute_result"
    }
   ],
   "source": [
    "df_gps_clean.duplicated(subset=['latitude', 'longitude'], keep=False).sum()"
   ]
  },
  {
   "cell_type": "markdown",
   "metadata": {},
   "source": [
    "經緯度同時重疊"
   ]
  },
  {
   "cell_type": "code",
   "execution_count": 60,
   "metadata": {},
   "outputs": [
    {
     "data": {
      "text/html": [
       "<div>\n",
       "<style scoped>\n",
       "    .dataframe tbody tr th:only-of-type {\n",
       "        vertical-align: middle;\n",
       "    }\n",
       "\n",
       "    .dataframe tbody tr th {\n",
       "        vertical-align: top;\n",
       "    }\n",
       "\n",
       "    .dataframe thead th {\n",
       "        text-align: right;\n",
       "    }\n",
       "</style>\n",
       "<table border=\"1\" class=\"dataframe\">\n",
       "  <thead>\n",
       "    <tr style=\"text-align: right;\">\n",
       "      <th></th>\n",
       "      <th>title</th>\n",
       "      <th>uri</th>\n",
       "      <th>lat</th>\n",
       "      <th>lng</th>\n",
       "      <th>hotel_address</th>\n",
       "      <th>hotel_star</th>\n",
       "      <th>hotel_city</th>\n",
       "      <th>hotel_section</th>\n",
       "      <th>price_range</th>\n",
       "      <th>avg_rating</th>\n",
       "      <th>comment_count</th>\n",
       "    </tr>\n",
       "  </thead>\n",
       "  <tbody>\n",
       "    <tr>\n",
       "      <td>45</td>\n",
       "      <td>香緹汽車旅館</td>\n",
       "      <td>https://www.tripadvisor.com.tw/Hotel_Review-g1...</td>\n",
       "      <td>23.48041</td>\n",
       "      <td>120.463180</td>\n",
       "      <td>西區八德路2號</td>\n",
       "      <td>3.0</td>\n",
       "      <td>嘉義</td>\n",
       "      <td>西區</td>\n",
       "      <td>NT$1,980 - NT$2,922</td>\n",
       "      <td>3.5</td>\n",
       "      <td>4.0</td>\n",
       "    </tr>\n",
       "    <tr>\n",
       "      <td>70</td>\n",
       "      <td>波士頓大飯店</td>\n",
       "      <td>https://www.tripadvisor.com.tw/Hotel_Review-g1...</td>\n",
       "      <td>23.48041</td>\n",
       "      <td>120.463180</td>\n",
       "      <td>東區中正路673號</td>\n",
       "      <td>3.0</td>\n",
       "      <td>嘉義</td>\n",
       "      <td>西區</td>\n",
       "      <td>NT$691 - NT$1,508</td>\n",
       "      <td>3.0</td>\n",
       "      <td>11.0</td>\n",
       "    </tr>\n",
       "    <tr>\n",
       "      <td>72</td>\n",
       "      <td>雙鳳大旅社</td>\n",
       "      <td>https://www.tripadvisor.com.tw/Hotel_Review-g1...</td>\n",
       "      <td>23.99303</td>\n",
       "      <td>121.593353</td>\n",
       "      <td>復興街5號</td>\n",
       "      <td>2.0</td>\n",
       "      <td>花蓮</td>\n",
       "      <td>花蓮市</td>\n",
       "      <td>NT$597 - NT$2,766</td>\n",
       "      <td>3.5</td>\n",
       "      <td>11.0</td>\n",
       "    </tr>\n",
       "    <tr>\n",
       "      <td>73</td>\n",
       "      <td>小莫里民宿</td>\n",
       "      <td>https://www.tripadvisor.com.tw/Hotel_Review-g1...</td>\n",
       "      <td>24.03164</td>\n",
       "      <td>121.604553</td>\n",
       "      <td>新城鄉北埔路159號</td>\n",
       "      <td>3.5</td>\n",
       "      <td>花蓮</td>\n",
       "      <td>新城</td>\n",
       "      <td>NT$1,540 - NT$3,238</td>\n",
       "      <td>5.0</td>\n",
       "      <td>3.0</td>\n",
       "    </tr>\n",
       "    <tr>\n",
       "      <td>77</td>\n",
       "      <td>旅路渡假商務旅館</td>\n",
       "      <td>https://www.tripadvisor.com.tw/Hotel_Review-g1...</td>\n",
       "      <td>23.97014</td>\n",
       "      <td>121.605148</td>\n",
       "      <td>重慶路255號</td>\n",
       "      <td>3.0</td>\n",
       "      <td>花蓮</td>\n",
       "      <td>花蓮市</td>\n",
       "      <td>NT$1,697 - NT$2,703</td>\n",
       "      <td>3.0</td>\n",
       "      <td>11.0</td>\n",
       "    </tr>\n",
       "    <tr>\n",
       "      <td>...</td>\n",
       "      <td>...</td>\n",
       "      <td>...</td>\n",
       "      <td>...</td>\n",
       "      <td>...</td>\n",
       "      <td>...</td>\n",
       "      <td>...</td>\n",
       "      <td>...</td>\n",
       "      <td>...</td>\n",
       "      <td>...</td>\n",
       "      <td>...</td>\n",
       "      <td>...</td>\n",
       "    </tr>\n",
       "    <tr>\n",
       "      <td>4008</td>\n",
       "      <td>宜蘭民宿-幸福蝸牛</td>\n",
       "      <td>https://www.tripadvisor.com.tw/Hotel_Review-g1...</td>\n",
       "      <td>24.85802</td>\n",
       "      <td>121.828201</td>\n",
       "      <td>五結鄉利澤西路6號</td>\n",
       "      <td>3.0</td>\n",
       "      <td>宜蘭</td>\n",
       "      <td>五結</td>\n",
       "      <td>NT$1,918 - NT$4,621</td>\n",
       "      <td>3.5</td>\n",
       "      <td>3.0</td>\n",
       "    </tr>\n",
       "    <tr>\n",
       "      <td>4026</td>\n",
       "      <td>奥聖思民宿</td>\n",
       "      <td>https://www.tripadvisor.com.tw/Hotel_Review-g1...</td>\n",
       "      <td>24.70161</td>\n",
       "      <td>121.797393</td>\n",
       "      <td>礁溪鄉奇立丹路76巷2－5號 遵循ONSENSE標誌。</td>\n",
       "      <td>4.0</td>\n",
       "      <td>宜蘭</td>\n",
       "      <td>礁溪</td>\n",
       "      <td>NT$3,206 - NT$8,487</td>\n",
       "      <td>4.0</td>\n",
       "      <td>12.0</td>\n",
       "    </tr>\n",
       "    <tr>\n",
       "      <td>4028</td>\n",
       "      <td>田野小徑</td>\n",
       "      <td>https://www.tripadvisor.com.tw/Hotel_Review-g1...</td>\n",
       "      <td>24.80044</td>\n",
       "      <td>121.756149</td>\n",
       "      <td>礁溪鄉份尾一路3號</td>\n",
       "      <td>3.5</td>\n",
       "      <td>宜蘭</td>\n",
       "      <td>礁溪</td>\n",
       "      <td>NT$2,075 - NT$3,395</td>\n",
       "      <td>4.0</td>\n",
       "      <td>1.0</td>\n",
       "    </tr>\n",
       "    <tr>\n",
       "      <td>4033</td>\n",
       "      <td>賓成精品商旅</td>\n",
       "      <td>https://www.tripadvisor.com.tw/Hotel_Review-g1...</td>\n",
       "      <td>24.67275</td>\n",
       "      <td>121.809745</td>\n",
       "      <td>西後街26-1號</td>\n",
       "      <td>3.0</td>\n",
       "      <td>宜蘭</td>\n",
       "      <td>宜蘭市</td>\n",
       "      <td>NT$1,163 - NT$2,389</td>\n",
       "      <td>3.0</td>\n",
       "      <td>9.0</td>\n",
       "    </tr>\n",
       "    <tr>\n",
       "      <td>4042</td>\n",
       "      <td>井上春樹民宿</td>\n",
       "      <td>https://www.tripadvisor.com.tw/Hotel_Review-g1...</td>\n",
       "      <td>24.67469</td>\n",
       "      <td>121.764480</td>\n",
       "      <td>水井一路7號</td>\n",
       "      <td>3.5</td>\n",
       "      <td>宜蘭</td>\n",
       "      <td>冬山</td>\n",
       "      <td>NT$1,729 - NT$2,986</td>\n",
       "      <td>0.0</td>\n",
       "      <td>0.0</td>\n",
       "    </tr>\n",
       "  </tbody>\n",
       "</table>\n",
       "<p>637 rows × 11 columns</p>\n",
       "</div>"
      ],
      "text/plain": [
       "          title                                                uri       lat  \\\n",
       "45       香緹汽車旅館  https://www.tripadvisor.com.tw/Hotel_Review-g1...  23.48041   \n",
       "70       波士頓大飯店  https://www.tripadvisor.com.tw/Hotel_Review-g1...  23.48041   \n",
       "72        雙鳳大旅社  https://www.tripadvisor.com.tw/Hotel_Review-g1...  23.99303   \n",
       "73        小莫里民宿  https://www.tripadvisor.com.tw/Hotel_Review-g1...  24.03164   \n",
       "77     旅路渡假商務旅館  https://www.tripadvisor.com.tw/Hotel_Review-g1...  23.97014   \n",
       "...         ...                                                ...       ...   \n",
       "4008  宜蘭民宿-幸福蝸牛  https://www.tripadvisor.com.tw/Hotel_Review-g1...  24.85802   \n",
       "4026      奥聖思民宿  https://www.tripadvisor.com.tw/Hotel_Review-g1...  24.70161   \n",
       "4028       田野小徑  https://www.tripadvisor.com.tw/Hotel_Review-g1...  24.80044   \n",
       "4033     賓成精品商旅  https://www.tripadvisor.com.tw/Hotel_Review-g1...  24.67275   \n",
       "4042     井上春樹民宿  https://www.tripadvisor.com.tw/Hotel_Review-g1...  24.67469   \n",
       "\n",
       "             lng                hotel_address  hotel_star hotel_city  \\\n",
       "45    120.463180                      西區八德路2號         3.0         嘉義   \n",
       "70    120.463180                    東區中正路673號         3.0         嘉義   \n",
       "72    121.593353                        復興街5號         2.0         花蓮   \n",
       "73    121.604553                   新城鄉北埔路159號         3.5         花蓮   \n",
       "77    121.605148                      重慶路255號         3.0         花蓮   \n",
       "...          ...                          ...         ...        ...   \n",
       "4008  121.828201                    五結鄉利澤西路6號         3.0         宜蘭   \n",
       "4026  121.797393  礁溪鄉奇立丹路76巷2－5號 遵循ONSENSE標誌。         4.0         宜蘭   \n",
       "4028  121.756149                    礁溪鄉份尾一路3號         3.5         宜蘭   \n",
       "4033  121.809745                     西後街26-1號         3.0         宜蘭   \n",
       "4042  121.764480                       水井一路7號         3.5         宜蘭   \n",
       "\n",
       "     hotel_section          price_range  avg_rating  comment_count  \n",
       "45              西區  NT$1,980 - NT$2,922         3.5            4.0  \n",
       "70              西區    NT$691 - NT$1,508         3.0           11.0  \n",
       "72             花蓮市    NT$597 - NT$2,766         3.5           11.0  \n",
       "73              新城  NT$1,540 - NT$3,238         5.0            3.0  \n",
       "77             花蓮市  NT$1,697 - NT$2,703         3.0           11.0  \n",
       "...            ...                  ...         ...            ...  \n",
       "4008            五結  NT$1,918 - NT$4,621         3.5            3.0  \n",
       "4026            礁溪  NT$3,206 - NT$8,487         4.0           12.0  \n",
       "4028            礁溪  NT$2,075 - NT$3,395         4.0            1.0  \n",
       "4033           宜蘭市  NT$1,163 - NT$2,389         3.0            9.0  \n",
       "4042            冬山  NT$1,729 - NT$2,986         0.0            0.0  \n",
       "\n",
       "[637 rows x 11 columns]"
      ]
     },
     "execution_count": 60,
     "metadata": {},
     "output_type": "execute_result"
    }
   ],
   "source": [
    "df[df.duplicated(subset=['lat', 'lng'], keep=False)]"
   ]
  },
  {
   "cell_type": "markdown",
   "metadata": {},
   "source": [
    "經度重疊"
   ]
  },
  {
   "cell_type": "code",
   "execution_count": 32,
   "metadata": {},
   "outputs": [
    {
     "data": {
      "text/html": [
       "<div>\n",
       "<style scoped>\n",
       "    .dataframe tbody tr th:only-of-type {\n",
       "        vertical-align: middle;\n",
       "    }\n",
       "\n",
       "    .dataframe tbody tr th {\n",
       "        vertical-align: top;\n",
       "    }\n",
       "\n",
       "    .dataframe thead th {\n",
       "        text-align: right;\n",
       "    }\n",
       "</style>\n",
       "<table border=\"1\" class=\"dataframe\">\n",
       "  <thead>\n",
       "    <tr style=\"text-align: right;\">\n",
       "      <th></th>\n",
       "      <th>title</th>\n",
       "      <th>uri</th>\n",
       "      <th>lat</th>\n",
       "      <th>lng</th>\n",
       "      <th>hotel_address</th>\n",
       "      <th>hotel_star</th>\n",
       "      <th>hotel_city</th>\n",
       "      <th>hotel_section</th>\n",
       "      <th>price_range</th>\n",
       "      <th>avg_rating</th>\n",
       "      <th>comment_count</th>\n",
       "    </tr>\n",
       "  </thead>\n",
       "  <tbody>\n",
       "    <tr>\n",
       "      <td>3</td>\n",
       "      <td>嘉義優遊商旅</td>\n",
       "      <td>https://www.tripadvisor.com.tw/Hotel_Review-g1...</td>\n",
       "      <td>23.48274</td>\n",
       "      <td>120.463</td>\n",
       "      <td>西區中山路617號11樓</td>\n",
       "      <td>3.0</td>\n",
       "      <td>嘉義</td>\n",
       "      <td>東區</td>\n",
       "      <td>NT$1,163 - NT$2,734</td>\n",
       "      <td>3.5</td>\n",
       "      <td>41.0</td>\n",
       "    </tr>\n",
       "    <tr>\n",
       "      <td>39</td>\n",
       "      <td>楓雅SPA 汽車旅館 (大雅館)</td>\n",
       "      <td>https://www.tripadvisor.com.tw/Hotel_Review-g1...</td>\n",
       "      <td>23.48274</td>\n",
       "      <td>120.431</td>\n",
       "      <td>大雅路二段256號</td>\n",
       "      <td>3.5</td>\n",
       "      <td>嘉義</td>\n",
       "      <td>東區</td>\n",
       "      <td>NT$1,194 - NT$1,697</td>\n",
       "      <td>4.0</td>\n",
       "      <td>1.0</td>\n",
       "    </tr>\n",
       "    <tr>\n",
       "      <td>45</td>\n",
       "      <td>香緹汽車旅館</td>\n",
       "      <td>https://www.tripadvisor.com.tw/Hotel_Review-g1...</td>\n",
       "      <td>23.48041</td>\n",
       "      <td>120.463</td>\n",
       "      <td>西區八德路2號</td>\n",
       "      <td>3.0</td>\n",
       "      <td>嘉義</td>\n",
       "      <td>西區</td>\n",
       "      <td>NT$1,980 - NT$2,922</td>\n",
       "      <td>3.5</td>\n",
       "      <td>4.0</td>\n",
       "    </tr>\n",
       "    <tr>\n",
       "      <td>70</td>\n",
       "      <td>波士頓大飯店</td>\n",
       "      <td>https://www.tripadvisor.com.tw/Hotel_Review-g1...</td>\n",
       "      <td>23.48041</td>\n",
       "      <td>120.463</td>\n",
       "      <td>東區中正路673號</td>\n",
       "      <td>3.0</td>\n",
       "      <td>嘉義</td>\n",
       "      <td>西區</td>\n",
       "      <td>NT$691 - NT$1,508</td>\n",
       "      <td>3.0</td>\n",
       "      <td>11.0</td>\n",
       "    </tr>\n",
       "    <tr>\n",
       "      <td>72</td>\n",
       "      <td>雙鳳大旅社</td>\n",
       "      <td>https://www.tripadvisor.com.tw/Hotel_Review-g1...</td>\n",
       "      <td>23.99303</td>\n",
       "      <td>121.593</td>\n",
       "      <td>復興街5號</td>\n",
       "      <td>2.0</td>\n",
       "      <td>花蓮</td>\n",
       "      <td>花蓮市</td>\n",
       "      <td>NT$597 - NT$2,766</td>\n",
       "      <td>3.5</td>\n",
       "      <td>11.0</td>\n",
       "    </tr>\n",
       "    <tr>\n",
       "      <td>...</td>\n",
       "      <td>...</td>\n",
       "      <td>...</td>\n",
       "      <td>...</td>\n",
       "      <td>...</td>\n",
       "      <td>...</td>\n",
       "      <td>...</td>\n",
       "      <td>...</td>\n",
       "      <td>...</td>\n",
       "      <td>...</td>\n",
       "      <td>...</td>\n",
       "      <td>...</td>\n",
       "    </tr>\n",
       "    <tr>\n",
       "      <td>4028</td>\n",
       "      <td>田野小徑</td>\n",
       "      <td>https://www.tripadvisor.com.tw/Hotel_Review-g1...</td>\n",
       "      <td>24.80044</td>\n",
       "      <td>121.756</td>\n",
       "      <td>礁溪鄉份尾一路3號</td>\n",
       "      <td>3.5</td>\n",
       "      <td>宜蘭</td>\n",
       "      <td>礁溪</td>\n",
       "      <td>NT$2,075 - NT$3,395</td>\n",
       "      <td>4.0</td>\n",
       "      <td>1.0</td>\n",
       "    </tr>\n",
       "    <tr>\n",
       "      <td>4029</td>\n",
       "      <td>玫瑰莊園民宿</td>\n",
       "      <td>https://www.tripadvisor.com.tw/Hotel_Review-g1...</td>\n",
       "      <td>24.67588</td>\n",
       "      <td>121.751</td>\n",
       "      <td>冬山鄉梅花路742號</td>\n",
       "      <td>3.5</td>\n",
       "      <td>宜蘭</td>\n",
       "      <td>冬山</td>\n",
       "      <td>NT$1,980 - NT$4,527</td>\n",
       "      <td>0.0</td>\n",
       "      <td>0.0</td>\n",
       "    </tr>\n",
       "    <tr>\n",
       "      <td>4030</td>\n",
       "      <td>夜市橙堡渡假旅館</td>\n",
       "      <td>https://www.tripadvisor.com.tw/Hotel_Review-g1...</td>\n",
       "      <td>24.82802</td>\n",
       "      <td>121.774</td>\n",
       "      <td>新民路19號</td>\n",
       "      <td>3.5</td>\n",
       "      <td>宜蘭</td>\n",
       "      <td>宜蘭市</td>\n",
       "      <td>NT$1,320 - NT$2,515</td>\n",
       "      <td>4.0</td>\n",
       "      <td>12.0</td>\n",
       "    </tr>\n",
       "    <tr>\n",
       "      <td>4033</td>\n",
       "      <td>賓成精品商旅</td>\n",
       "      <td>https://www.tripadvisor.com.tw/Hotel_Review-g1...</td>\n",
       "      <td>24.67275</td>\n",
       "      <td>121.809</td>\n",
       "      <td>西後街26-1號</td>\n",
       "      <td>3.0</td>\n",
       "      <td>宜蘭</td>\n",
       "      <td>宜蘭市</td>\n",
       "      <td>NT$1,163 - NT$2,389</td>\n",
       "      <td>3.0</td>\n",
       "      <td>9.0</td>\n",
       "    </tr>\n",
       "    <tr>\n",
       "      <td>4042</td>\n",
       "      <td>井上春樹民宿</td>\n",
       "      <td>https://www.tripadvisor.com.tw/Hotel_Review-g1...</td>\n",
       "      <td>24.67469</td>\n",
       "      <td>121.764</td>\n",
       "      <td>水井一路7號</td>\n",
       "      <td>3.5</td>\n",
       "      <td>宜蘭</td>\n",
       "      <td>冬山</td>\n",
       "      <td>NT$1,729 - NT$2,986</td>\n",
       "      <td>0.0</td>\n",
       "      <td>0.0</td>\n",
       "    </tr>\n",
       "  </tbody>\n",
       "</table>\n",
       "<p>919 rows × 11 columns</p>\n",
       "</div>"
      ],
      "text/plain": [
       "                 title                                                uri  \\\n",
       "3               嘉義優遊商旅  https://www.tripadvisor.com.tw/Hotel_Review-g1...   \n",
       "39    楓雅SPA 汽車旅館 (大雅館)  https://www.tripadvisor.com.tw/Hotel_Review-g1...   \n",
       "45              香緹汽車旅館  https://www.tripadvisor.com.tw/Hotel_Review-g1...   \n",
       "70              波士頓大飯店  https://www.tripadvisor.com.tw/Hotel_Review-g1...   \n",
       "72               雙鳳大旅社  https://www.tripadvisor.com.tw/Hotel_Review-g1...   \n",
       "...                ...                                                ...   \n",
       "4028              田野小徑  https://www.tripadvisor.com.tw/Hotel_Review-g1...   \n",
       "4029            玫瑰莊園民宿  https://www.tripadvisor.com.tw/Hotel_Review-g1...   \n",
       "4030          夜市橙堡渡假旅館  https://www.tripadvisor.com.tw/Hotel_Review-g1...   \n",
       "4033            賓成精品商旅  https://www.tripadvisor.com.tw/Hotel_Review-g1...   \n",
       "4042            井上春樹民宿  https://www.tripadvisor.com.tw/Hotel_Review-g1...   \n",
       "\n",
       "           lat      lng hotel_address  hotel_star hotel_city hotel_section  \\\n",
       "3     23.48274  120.463  西區中山路617號11樓         3.0         嘉義            東區   \n",
       "39    23.48274  120.431     大雅路二段256號         3.5         嘉義            東區   \n",
       "45    23.48041  120.463       西區八德路2號         3.0         嘉義            西區   \n",
       "70    23.48041  120.463     東區中正路673號         3.0         嘉義            西區   \n",
       "72    23.99303  121.593         復興街5號         2.0         花蓮           花蓮市   \n",
       "...        ...      ...           ...         ...        ...           ...   \n",
       "4028  24.80044  121.756     礁溪鄉份尾一路3號         3.5         宜蘭            礁溪   \n",
       "4029  24.67588  121.751    冬山鄉梅花路742號         3.5         宜蘭            冬山   \n",
       "4030  24.82802  121.774        新民路19號         3.5         宜蘭           宜蘭市   \n",
       "4033  24.67275  121.809      西後街26-1號         3.0         宜蘭           宜蘭市   \n",
       "4042  24.67469  121.764        水井一路7號         3.5         宜蘭            冬山   \n",
       "\n",
       "              price_range  avg_rating  comment_count  \n",
       "3     NT$1,163 - NT$2,734         3.5           41.0  \n",
       "39    NT$1,194 - NT$1,697         4.0            1.0  \n",
       "45    NT$1,980 - NT$2,922         3.5            4.0  \n",
       "70      NT$691 - NT$1,508         3.0           11.0  \n",
       "72      NT$597 - NT$2,766         3.5           11.0  \n",
       "...                   ...         ...            ...  \n",
       "4028  NT$2,075 - NT$3,395         4.0            1.0  \n",
       "4029  NT$1,980 - NT$4,527         0.0            0.0  \n",
       "4030  NT$1,320 - NT$2,515         4.0           12.0  \n",
       "4033  NT$1,163 - NT$2,389         3.0            9.0  \n",
       "4042  NT$1,729 - NT$2,986         0.0            0.0  \n",
       "\n",
       "[919 rows x 11 columns]"
      ]
     },
     "execution_count": 32,
     "metadata": {},
     "output_type": "execute_result"
    }
   ],
   "source": [
    "df[df['lat'].isin(df['lat'][df['lat'].duplicated()])]"
   ]
  },
  {
   "cell_type": "markdown",
   "metadata": {},
   "source": [
    "嘗試能不能concat"
   ]
  },
  {
   "cell_type": "code",
   "execution_count": 65,
   "metadata": {},
   "outputs": [
    {
     "data": {
      "text/html": [
       "<div>\n",
       "<style scoped>\n",
       "    .dataframe tbody tr th:only-of-type {\n",
       "        vertical-align: middle;\n",
       "    }\n",
       "\n",
       "    .dataframe tbody tr th {\n",
       "        vertical-align: top;\n",
       "    }\n",
       "\n",
       "    .dataframe thead th {\n",
       "        text-align: right;\n",
       "    }\n",
       "</style>\n",
       "<table border=\"1\" class=\"dataframe\">\n",
       "  <thead>\n",
       "    <tr style=\"text-align: right;\">\n",
       "      <th></th>\n",
       "      <th>title</th>\n",
       "      <th>uri</th>\n",
       "      <th>lat</th>\n",
       "      <th>lng</th>\n",
       "      <th>hotel_address</th>\n",
       "      <th>hotel_star</th>\n",
       "      <th>hotel_city</th>\n",
       "      <th>hotel_section</th>\n",
       "      <th>price_range</th>\n",
       "      <th>avg_rating</th>\n",
       "      <th>comment_count</th>\n",
       "      <th>hotel_id</th>\n",
       "      <th>country</th>\n",
       "      <th>city</th>\n",
       "      <th>latitude</th>\n",
       "      <th>longitude</th>\n",
       "    </tr>\n",
       "  </thead>\n",
       "  <tbody>\n",
       "    <tr>\n",
       "      <td>0</td>\n",
       "      <td>船長不在家旅舍</td>\n",
       "      <td>https://www.tripadvisor.com.tw/Hotel_Review-g1...</td>\n",
       "      <td>23.9903</td>\n",
       "      <td>121.6051</td>\n",
       "      <td>國聯3路85號</td>\n",
       "      <td>2.0</td>\n",
       "      <td>花蓮</td>\n",
       "      <td>花蓮市</td>\n",
       "      <td>NT$786 - NT$2,578</td>\n",
       "      <td>4.5</td>\n",
       "      <td>3.0</td>\n",
       "      <td>795</td>\n",
       "      <td>TW</td>\n",
       "      <td>NaN</td>\n",
       "      <td>23.9903</td>\n",
       "      <td>121.6051</td>\n",
       "    </tr>\n",
       "    <tr>\n",
       "      <td>1</td>\n",
       "      <td>享海民宿</td>\n",
       "      <td>https://www.tripadvisor.com.tw/Hotel_Review-g1...</td>\n",
       "      <td>23.9717</td>\n",
       "      <td>121.5976</td>\n",
       "      <td>中正路169巷1-7號</td>\n",
       "      <td>3.5</td>\n",
       "      <td>花蓮</td>\n",
       "      <td>花蓮市</td>\n",
       "      <td>-NT$1</td>\n",
       "      <td>5.0</td>\n",
       "      <td>14.0</td>\n",
       "      <td>962</td>\n",
       "      <td>台灣</td>\n",
       "      <td>花蓮</td>\n",
       "      <td>23.9717</td>\n",
       "      <td>121.5976</td>\n",
       "    </tr>\n",
       "    <tr>\n",
       "      <td>2</td>\n",
       "      <td>漫漫日出</td>\n",
       "      <td>https://www.tripadvisor.com.tw/Hotel_Review-g1...</td>\n",
       "      <td>23.9806</td>\n",
       "      <td>121.6091</td>\n",
       "      <td>花蓮市海濱街75號</td>\n",
       "      <td>3.0</td>\n",
       "      <td>花蓮</td>\n",
       "      <td>花蓮市</td>\n",
       "      <td>NT$2,641 - NT$5,784</td>\n",
       "      <td>5.0</td>\n",
       "      <td>22.0</td>\n",
       "      <td>238</td>\n",
       "      <td>台灣</td>\n",
       "      <td>花蓮</td>\n",
       "      <td>23.9806</td>\n",
       "      <td>121.6091</td>\n",
       "    </tr>\n",
       "    <tr>\n",
       "      <td>3</td>\n",
       "      <td>輕停文旅</td>\n",
       "      <td>https://www.tripadvisor.com.tw/Hotel_Review-g1...</td>\n",
       "      <td>24.0053</td>\n",
       "      <td>121.6223</td>\n",
       "      <td>花蓮市國興二街92號</td>\n",
       "      <td>3.0</td>\n",
       "      <td>花蓮</td>\n",
       "      <td>花蓮市</td>\n",
       "      <td>NT$503 - NT$2,483</td>\n",
       "      <td>3.0</td>\n",
       "      <td>1.0</td>\n",
       "      <td>233</td>\n",
       "      <td>台灣</td>\n",
       "      <td>花蓮</td>\n",
       "      <td>24.0053</td>\n",
       "      <td>121.6223</td>\n",
       "    </tr>\n",
       "    <tr>\n",
       "      <td>4</td>\n",
       "      <td>幸福加油站民宿</td>\n",
       "      <td>https://www.tripadvisor.com.tw/Hotel_Review-g1...</td>\n",
       "      <td>23.9762</td>\n",
       "      <td>121.6026</td>\n",
       "      <td>信義街93號</td>\n",
       "      <td>3.0</td>\n",
       "      <td>花蓮</td>\n",
       "      <td>花蓮市</td>\n",
       "      <td>NT$1,320 - NT$3,301</td>\n",
       "      <td>5.0</td>\n",
       "      <td>4.0</td>\n",
       "      <td>256</td>\n",
       "      <td>TW</td>\n",
       "      <td>花蓮市</td>\n",
       "      <td>23.9762</td>\n",
       "      <td>121.6026</td>\n",
       "    </tr>\n",
       "  </tbody>\n",
       "</table>\n",
       "</div>"
      ],
      "text/plain": [
       "     title                                                uri      lat  \\\n",
       "0  船長不在家旅舍  https://www.tripadvisor.com.tw/Hotel_Review-g1...  23.9903   \n",
       "1     享海民宿  https://www.tripadvisor.com.tw/Hotel_Review-g1...  23.9717   \n",
       "2     漫漫日出  https://www.tripadvisor.com.tw/Hotel_Review-g1...  23.9806   \n",
       "3     輕停文旅  https://www.tripadvisor.com.tw/Hotel_Review-g1...  24.0053   \n",
       "4  幸福加油站民宿  https://www.tripadvisor.com.tw/Hotel_Review-g1...  23.9762   \n",
       "\n",
       "        lng hotel_address  hotel_star hotel_city hotel_section  \\\n",
       "0  121.6051       國聯3路85號         2.0         花蓮           花蓮市   \n",
       "1  121.5976   中正路169巷1-7號         3.5         花蓮           花蓮市   \n",
       "2  121.6091     花蓮市海濱街75號         3.0         花蓮           花蓮市   \n",
       "3  121.6223    花蓮市國興二街92號         3.0         花蓮           花蓮市   \n",
       "4  121.6026        信義街93號         3.0         花蓮           花蓮市   \n",
       "\n",
       "           price_range  avg_rating  comment_count  hotel_id country city  \\\n",
       "0    NT$786 - NT$2,578         4.5            3.0       795      TW  NaN   \n",
       "1                -NT$1         5.0           14.0       962      台灣   花蓮   \n",
       "2  NT$2,641 - NT$5,784         5.0           22.0       238      台灣   花蓮   \n",
       "3    NT$503 - NT$2,483         3.0            1.0       233      台灣   花蓮   \n",
       "4  NT$1,320 - NT$3,301         5.0            4.0       256      TW  花蓮市   \n",
       "\n",
       "   latitude  longitude  \n",
       "0   23.9903   121.6051  \n",
       "1   23.9717   121.5976  \n",
       "2   23.9806   121.6091  \n",
       "3   24.0053   121.6223  \n",
       "4   23.9762   121.6026  "
      ]
     },
     "execution_count": 65,
     "metadata": {},
     "output_type": "execute_result"
    }
   ],
   "source": [
    "pd.merge(df, df_gps_clean, left_on=['lat', 'lng'], right_on=['latitude', 'longitude']).head()"
   ]
  },
  {
   "cell_type": "markdown",
   "metadata": {},
   "source": [
    "能和的飯店數目"
   ]
  },
  {
   "cell_type": "code",
   "execution_count": 66,
   "metadata": {},
   "outputs": [
    {
     "data": {
      "text/plain": [
       "68"
      ]
     },
     "execution_count": 66,
     "metadata": {},
     "output_type": "execute_result"
    }
   ],
   "source": [
    "len(pd.merge(df, df_gps_clean, left_on=['lat', 'lng'], right_on=['latitude', 'longitude']))"
   ]
  },
  {
   "cell_type": "code",
   "execution_count": null,
   "metadata": {},
   "outputs": [],
   "source": []
  }
 ],
 "metadata": {
  "kernelspec": {
   "display_name": "Python 3",
   "language": "python",
   "name": "python3"
  },
  "language_info": {
   "codemirror_mode": {
    "name": "ipython",
    "version": 3
   },
   "file_extension": ".py",
   "mimetype": "text/x-python",
   "name": "python",
   "nbconvert_exporter": "python",
   "pygments_lexer": "ipython3",
   "version": "3.7.3"
  }
 },
 "nbformat": 4,
 "nbformat_minor": 2
}
