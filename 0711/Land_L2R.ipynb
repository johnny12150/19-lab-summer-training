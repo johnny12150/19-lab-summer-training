{
 "cells": [
  {
   "cell_type": "code",
   "execution_count": 1,
   "metadata": {},
   "outputs": [
    {
     "data": {
      "text/html": [
       "<div>\n",
       "<style scoped>\n",
       "    .dataframe tbody tr th:only-of-type {\n",
       "        vertical-align: middle;\n",
       "    }\n",
       "\n",
       "    .dataframe tbody tr th {\n",
       "        vertical-align: top;\n",
       "    }\n",
       "\n",
       "    .dataframe thead th {\n",
       "        text-align: right;\n",
       "    }\n",
       "</style>\n",
       "<table border=\"1\" class=\"dataframe\">\n",
       "  <thead>\n",
       "    <tr style=\"text-align: right;\">\n",
       "      <th></th>\n",
       "      <th>Unnamed: 0</th>\n",
       "      <th>Rank</th>\n",
       "      <th>都市土地使用分區_空值</th>\n",
       "      <th>一般農業區</th>\n",
       "      <th>住</th>\n",
       "      <th>其他</th>\n",
       "      <th>商</th>\n",
       "      <th>山坡地保育區</th>\n",
       "      <th>工</th>\n",
       "      <th>工業區</th>\n",
       "      <th>...</th>\n",
       "      <th>露台</th>\n",
       "      <th>通道</th>\n",
       "      <th>車庫</th>\n",
       "      <th>陽台</th>\n",
       "      <th>屋頂突出物</th>\n",
       "      <th>儲藏室</th>\n",
       "      <th>車位總價</th>\n",
       "      <th>lat</th>\n",
       "      <th>lng</th>\n",
       "      <th>總價元</th>\n",
       "    </tr>\n",
       "  </thead>\n",
       "  <tbody>\n",
       "    <tr>\n",
       "      <th>8506</th>\n",
       "      <td>8506</td>\n",
       "      <td>1</td>\n",
       "      <td>0</td>\n",
       "      <td>0</td>\n",
       "      <td>0</td>\n",
       "      <td>0</td>\n",
       "      <td>0</td>\n",
       "      <td>0</td>\n",
       "      <td>1</td>\n",
       "      <td>0</td>\n",
       "      <td>...</td>\n",
       "      <td>0.0</td>\n",
       "      <td>0.0</td>\n",
       "      <td>0.0</td>\n",
       "      <td>0.0</td>\n",
       "      <td>0.0</td>\n",
       "      <td>0.0</td>\n",
       "      <td>-0.52118</td>\n",
       "      <td>1.061855</td>\n",
       "      <td>0.634850</td>\n",
       "      <td>1805275500</td>\n",
       "    </tr>\n",
       "    <tr>\n",
       "      <th>33654</th>\n",
       "      <td>33654</td>\n",
       "      <td>2</td>\n",
       "      <td>0</td>\n",
       "      <td>0</td>\n",
       "      <td>0</td>\n",
       "      <td>0</td>\n",
       "      <td>0</td>\n",
       "      <td>0</td>\n",
       "      <td>1</td>\n",
       "      <td>0</td>\n",
       "      <td>...</td>\n",
       "      <td>0.0</td>\n",
       "      <td>0.0</td>\n",
       "      <td>0.0</td>\n",
       "      <td>0.0</td>\n",
       "      <td>0.0</td>\n",
       "      <td>0.0</td>\n",
       "      <td>-0.52118</td>\n",
       "      <td>1.008934</td>\n",
       "      <td>0.485005</td>\n",
       "      <td>1450000000</td>\n",
       "    </tr>\n",
       "    <tr>\n",
       "      <th>54521</th>\n",
       "      <td>54521</td>\n",
       "      <td>3</td>\n",
       "      <td>0</td>\n",
       "      <td>0</td>\n",
       "      <td>0</td>\n",
       "      <td>0</td>\n",
       "      <td>0</td>\n",
       "      <td>0</td>\n",
       "      <td>1</td>\n",
       "      <td>0</td>\n",
       "      <td>...</td>\n",
       "      <td>0.0</td>\n",
       "      <td>0.0</td>\n",
       "      <td>0.0</td>\n",
       "      <td>0.0</td>\n",
       "      <td>0.0</td>\n",
       "      <td>0.0</td>\n",
       "      <td>-0.52118</td>\n",
       "      <td>1.088486</td>\n",
       "      <td>0.441842</td>\n",
       "      <td>1380000000</td>\n",
       "    </tr>\n",
       "    <tr>\n",
       "      <th>10655</th>\n",
       "      <td>10655</td>\n",
       "      <td>4</td>\n",
       "      <td>0</td>\n",
       "      <td>0</td>\n",
       "      <td>0</td>\n",
       "      <td>0</td>\n",
       "      <td>0</td>\n",
       "      <td>0</td>\n",
       "      <td>1</td>\n",
       "      <td>0</td>\n",
       "      <td>...</td>\n",
       "      <td>0.0</td>\n",
       "      <td>0.0</td>\n",
       "      <td>0.0</td>\n",
       "      <td>0.0</td>\n",
       "      <td>0.0</td>\n",
       "      <td>0.0</td>\n",
       "      <td>-0.52118</td>\n",
       "      <td>0.000000</td>\n",
       "      <td>0.000000</td>\n",
       "      <td>1112000000</td>\n",
       "    </tr>\n",
       "    <tr>\n",
       "      <th>47147</th>\n",
       "      <td>47147</td>\n",
       "      <td>5</td>\n",
       "      <td>0</td>\n",
       "      <td>0</td>\n",
       "      <td>0</td>\n",
       "      <td>0</td>\n",
       "      <td>0</td>\n",
       "      <td>0</td>\n",
       "      <td>1</td>\n",
       "      <td>0</td>\n",
       "      <td>...</td>\n",
       "      <td>0.0</td>\n",
       "      <td>0.0</td>\n",
       "      <td>0.0</td>\n",
       "      <td>0.0</td>\n",
       "      <td>0.0</td>\n",
       "      <td>0.0</td>\n",
       "      <td>-0.52118</td>\n",
       "      <td>1.058463</td>\n",
       "      <td>0.465010</td>\n",
       "      <td>1050000000</td>\n",
       "    </tr>\n",
       "  </tbody>\n",
       "</table>\n",
       "<p>5 rows × 122 columns</p>\n",
       "</div>"
      ],
      "text/plain": [
       "       Unnamed: 0  Rank  都市土地使用分區_空值  一般農業區  住  其他  商  山坡地保育區  工  工業區  ...  \\\n",
       "8506         8506     1            0      0  0   0  0       0  1    0  ...   \n",
       "33654       33654     2            0      0  0   0  0       0  1    0  ...   \n",
       "54521       54521     3            0      0  0   0  0       0  1    0  ...   \n",
       "10655       10655     4            0      0  0   0  0       0  1    0  ...   \n",
       "47147       47147     5            0      0  0   0  0       0  1    0  ...   \n",
       "\n",
       "        露台   通道   車庫   陽台  屋頂突出物  儲藏室     車位總價       lat       lng         總價元  \n",
       "8506   0.0  0.0  0.0  0.0    0.0  0.0 -0.52118  1.061855  0.634850  1805275500  \n",
       "33654  0.0  0.0  0.0  0.0    0.0  0.0 -0.52118  1.008934  0.485005  1450000000  \n",
       "54521  0.0  0.0  0.0  0.0    0.0  0.0 -0.52118  1.088486  0.441842  1380000000  \n",
       "10655  0.0  0.0  0.0  0.0    0.0  0.0 -0.52118  0.000000  0.000000  1112000000  \n",
       "47147  0.0  0.0  0.0  0.0    0.0  0.0 -0.52118  1.058463  0.465010  1050000000  \n",
       "\n",
       "[5 rows x 122 columns]"
      ]
     },
     "execution_count": 1,
     "metadata": {},
     "output_type": "execute_result"
    }
   ],
   "source": [
    "import pandas as pd\n",
    "import numpy as np\n",
    "\n",
    "data = pd.read_csv('0711_Landata.csv')\n",
    "\n",
    "data = data.sort_values(by=['Rank'])\n",
    "\n",
    "data.head()"
   ]
  },
  {
   "cell_type": "markdown",
   "metadata": {},
   "source": [
    "rank前1000做traing, 500做validation"
   ]
  },
  {
   "cell_type": "code",
   "execution_count": 2,
   "metadata": {},
   "outputs": [],
   "source": [
    "data_1000 = data[:1000]\n",
    "val_500 = data[1000:1500]"
   ]
  },
  {
   "cell_type": "code",
   "execution_count": 3,
   "metadata": {},
   "outputs": [],
   "source": [
    "train_x = data_1000.drop(['Unnamed: 0', 'Rank', '總價元'], axis=1).reset_index(drop=True)\n",
    "train_y = data_1000['Rank'].copy().reset_index(drop=True)\n",
    "test_x = val_500.drop(['Unnamed: 0', 'Rank', '總價元'], axis=1).reset_index(drop=True)\n",
    "test_y = val_500['Rank'].copy().reset_index(drop=True)"
   ]
  },
  {
   "cell_type": "code",
   "execution_count": 4,
   "metadata": {},
   "outputs": [],
   "source": [
    "import itertools\n",
    "index = np.array(list(itertools.permutations(np.arange(1000), 2)))\n",
    "index_test = np.array(list(itertools.permutations(np.arange(500), 2)))\n",
    "np.random.shuffle(index)\n",
    "np.random.shuffle(index_test)"
   ]
  },
  {
   "cell_type": "code",
   "execution_count": 5,
   "metadata": {},
   "outputs": [],
   "source": [
    "sample_size = 10000\n",
    "selected = np.random.choice(index.shape[0], sample_size)\n",
    "select_test = np.random.choice(index_test.shape[0], sample_size)\n",
    "index = index[selected]\n",
    "index_test = index_test[select_test]"
   ]
  },
  {
   "cell_type": "code",
   "execution_count": 6,
   "metadata": {},
   "outputs": [],
   "source": [
    "def target(I, J):\n",
    "    target = np.subtract(I, J) \n",
    "    # sign => 大於 0為1, clip => 限制在0, 1\n",
    "    target = np.clip(np.sign(target), 0, 1)\n",
    "    return target\n",
    "\n",
    "target_train = target(train_y.iloc[index[:,0]], train_y.iloc[index[:,1]])\n",
    "target_test = target(test_y.iloc[index_test[:,0]], test_y.iloc[index_test[:,1]])"
   ]
  },
  {
   "cell_type": "code",
   "execution_count": 7,
   "metadata": {},
   "outputs": [
    {
     "name": "stderr",
     "output_type": "stream",
     "text": [
      "WARNING: Logging before flag parsing goes to stderr.\n",
      "W0711 22:58:57.424049 13400 deprecation_wrapper.py:119] From c:\\users\\wade\\.virtualenvs\\19'_summer_vacation-ib8vnh7u\\lib\\site-packages\\keras\\backend\\tensorflow_backend.py:74: The name tf.get_default_graph is deprecated. Please use tf.compat.v1.get_default_graph instead.\n",
      "\n",
      "W0711 22:58:57.434547 13400 deprecation_wrapper.py:119] From c:\\users\\wade\\.virtualenvs\\19'_summer_vacation-ib8vnh7u\\lib\\site-packages\\keras\\backend\\tensorflow_backend.py:517: The name tf.placeholder is deprecated. Please use tf.compat.v1.placeholder instead.\n",
      "\n",
      "W0711 22:58:57.436047 13400 deprecation_wrapper.py:119] From c:\\users\\wade\\.virtualenvs\\19'_summer_vacation-ib8vnh7u\\lib\\site-packages\\keras\\backend\\tensorflow_backend.py:4138: The name tf.random_uniform is deprecated. Please use tf.random.uniform instead.\n",
      "\n",
      "W0711 22:58:57.480579 13400 deprecation_wrapper.py:119] From c:\\users\\wade\\.virtualenvs\\19'_summer_vacation-ib8vnh7u\\lib\\site-packages\\keras\\optimizers.py:790: The name tf.train.Optimizer is deprecated. Please use tf.compat.v1.train.Optimizer instead.\n",
      "\n",
      "W0711 22:58:57.484549 13400 deprecation_wrapper.py:119] From c:\\users\\wade\\.virtualenvs\\19'_summer_vacation-ib8vnh7u\\lib\\site-packages\\keras\\backend\\tensorflow_backend.py:3376: The name tf.log is deprecated. Please use tf.math.log instead.\n",
      "\n",
      "W0711 22:58:57.487074 13400 deprecation.py:323] From c:\\users\\wade\\.virtualenvs\\19'_summer_vacation-ib8vnh7u\\lib\\site-packages\\tensorflow\\python\\ops\\nn_impl.py:180: add_dispatch_support.<locals>.wrapper (from tensorflow.python.ops.array_ops) is deprecated and will be removed in a future version.\n",
      "Instructions for updating:\n",
      "Use tf.where in 2.0, which has the same broadcast rule as np.where\n"
     ]
    },
    {
     "name": "stdout",
     "output_type": "stream",
     "text": [
      "__________________________________________________________________________________________________\n",
      "Layer (type)                    Output Shape         Param #     Connected to                     \n",
      "==================================================================================================\n",
      "input_1 (InputLayer)            (None, 119)          0                                            \n",
      "__________________________________________________________________________________________________\n",
      "input_2 (InputLayer)            (None, 119)          0                                            \n",
      "__________________________________________________________________________________________________\n",
      "sequential_1 (Sequential)       (None, 1)            71937       input_1[0][0]                    \n",
      "                                                                 input_2[0][0]                    \n",
      "__________________________________________________________________________________________________\n",
      "subtract_1 (Subtract)           (None, 1)            0           sequential_1[1][0]               \n",
      "                                                                 sequential_1[2][0]               \n",
      "__________________________________________________________________________________________________\n",
      "activation_1 (Activation)       (None, 1)            0           subtract_1[0][0]                 \n",
      "==================================================================================================\n",
      "Total params: 71,937\n",
      "Trainable params: 71,937\n",
      "Non-trainable params: 0\n",
      "__________________________________________________________________________________________________\n"
     ]
    }
   ],
   "source": [
    "from keras.models import Sequential, Model\n",
    "from keras.layers import Dense, Subtract, Activation, Input\n",
    "import keras.optimizers\n",
    "\n",
    "feature_num = train_x.shape[1]\n",
    "marker = Sequential()\n",
    "marker.add(Dense(256, activation='relu', input_shape=(feature_num,)))\n",
    "marker.add(Dense(128, activation='relu'))\n",
    "marker.add(Dense(64, activation='relu'))\n",
    "marker.add(Dense(1, activation='linear'))\n",
    "\n",
    "i_input = Input(shape=(feature_num,))\n",
    "j_input = Input(shape=(feature_num,))\n",
    "i_score = marker(i_input)\n",
    "j_score = marker(j_input)\n",
    "\n",
    "diff = Subtract()([i_score, j_score])\n",
    "output = Activation('sigmoid')(diff)\n",
    "\n",
    "ranknet = Model([i_input, j_input], output)\n",
    "optimizer = keras.optimizers.Adam(lr=1e-3, decay=0.0)\n",
    "ranknet.summary()\n",
    "ranknet.compile(optimizer = optimizer, loss = \"binary_crossentropy\",metrics=[\"accuracy\"])"
   ]
  },
  {
   "cell_type": "code",
   "execution_count": 8,
   "metadata": {},
   "outputs": [
    {
     "name": "stderr",
     "output_type": "stream",
     "text": [
      "W0711 22:58:58.378669 13400 deprecation_wrapper.py:119] From c:\\users\\wade\\.virtualenvs\\19'_summer_vacation-ib8vnh7u\\lib\\site-packages\\keras\\backend\\tensorflow_backend.py:986: The name tf.assign_add is deprecated. Please use tf.compat.v1.assign_add instead.\n",
      "\n"
     ]
    },
    {
     "name": "stdout",
     "output_type": "stream",
     "text": [
      "Train on 10000 samples, validate on 10000 samples\n",
      "Epoch 1/10\n",
      " - 2s - loss: 0.5175 - acc: 0.7374 - val_loss: 0.7591 - val_acc: 0.5230\n",
      "Epoch 2/10\n",
      " - 0s - loss: 0.4024 - acc: 0.8169 - val_loss: 0.8288 - val_acc: 0.5412\n",
      "Epoch 3/10\n",
      " - 0s - loss: 0.3446 - acc: 0.8461 - val_loss: 0.9127 - val_acc: 0.5488\n",
      "Epoch 4/10\n",
      " - 0s - loss: 0.3085 - acc: 0.8610 - val_loss: 0.9728 - val_acc: 0.5477\n",
      "Epoch 5/10\n",
      " - 0s - loss: 0.2799 - acc: 0.8789 - val_loss: 1.0994 - val_acc: 0.5354\n",
      "Epoch 6/10\n",
      " - 0s - loss: 0.2604 - acc: 0.8854 - val_loss: 1.0955 - val_acc: 0.5480\n",
      "Epoch 7/10\n",
      " - 0s - loss: 0.2474 - acc: 0.8946 - val_loss: 1.1237 - val_acc: 0.5589\n",
      "Epoch 8/10\n",
      " - 0s - loss: 0.2397 - acc: 0.8969 - val_loss: 1.1877 - val_acc: 0.5575\n",
      "Epoch 9/10\n",
      " - 0s - loss: 0.2237 - acc: 0.9047 - val_loss: 1.2441 - val_acc: 0.5496\n",
      "Epoch 10/10\n",
      " - 0s - loss: 0.2088 - acc: 0.9106 - val_loss: 1.2879 - val_acc: 0.5527\n"
     ]
    },
    {
     "data": {
      "image/png": "[encoded data removed]",
      "text/plain": [
       "<Figure size 432x288 with 1 Axes>"
      ]
     },
     "metadata": {
      "needs_background": "light"
     },
     "output_type": "display_data"
    },
    {
     "data": {
      "image/png": "[encoded data removed]",
      "text/plain": [
       "<Figure size 432x288 with 1 Axes>"
      ]
     },
     "metadata": {
      "needs_background": "light"
     },
     "output_type": "display_data"
    }
   ],
   "source": [
    "%matplotlib inline\n",
    "import matplotlib.pyplot as plt\n",
    "EPOCHS = 10\n",
    "BATCH_SIZE = 300\n",
    "model_history = ranknet.fit([train_x.iloc[index[:,0]], train_x.iloc[index[:,1]]], target_train, epochs=EPOCHS, batch_size=BATCH_SIZE,validation_data=([test_x.iloc[index_test[:,0]], test_x.iloc[index_test[:,1]]], target_test), verbose=2)\n",
    "\n",
    "plt.plot(model_history.history['loss'], label='train')\n",
    "plt.plot(model_history.history['val_loss'], label='test')\n",
    "plt.title('Loss')\n",
    "plt.legend()\n",
    "plt.show()\n",
    "\n",
    "plt.plot(model_history.history['acc'], label='train')\n",
    "plt.plot(model_history.history['val_acc'], label='test')\n",
    "plt.title('Accuracy')\n",
    "plt.legend()\n",
    "plt.show()"
   ]
  },
  {
   "cell_type": "code",
   "execution_count": 25,
   "metadata": {},
   "outputs": [
    {
     "data": {
      "text/plain": [
       "array([ 48, 406, 405, 322, 382, 407, 157, 136, 380, 240], dtype=int64)"
      ]
     },
     "execution_count": 25,
     "metadata": {},
     "output_type": "execute_result"
    }
   ],
   "source": [
    "np.argsort(score, axis=0)[::-1][:10, 0]"
   ]
  },
  {
   "cell_type": "markdown",
   "metadata": {},
   "source": [
    "> https://stackoverflow.com/questions/41430791/python-list-error-1-step-on-1-slice"
   ]
  },
  {
   "cell_type": "code",
   "execution_count": 23,
   "metadata": {},
   "outputs": [
    {
     "name": "stdout",
     "output_type": "stream",
     "text": [
      "Rec：0\n"
     ]
    }
   ],
   "source": [
    "score = marker.predict([test_x])\n",
    "\n",
    "# ::-1表示由大排到小\n",
    "Top_10 = test_y.iloc[np.argsort(score, axis=0)[::-1][:10, 0]]\n",
    "\n",
    "Rec = len(set(Top_10) & set(test_y[:10]))\n",
    "print('Rec：%d' % (Rec))"
   ]
  },
  {
   "cell_type": "code",
   "execution_count": null,
   "metadata": {},
   "outputs": [],
   "source": []
  }
 ],
 "metadata": {
  "kernelspec": {
   "display_name": "Python 3",
   "language": "python",
   "name": "python3"
  },
  "language_info": {
   "codemirror_mode": {
    "name": "ipython",
    "version": 3
   },
   "file_extension": ".py",
   "mimetype": "text/x-python",
   "name": "python",
   "nbconvert_exporter": "python",
   "pygments_lexer": "ipython3",
   "version": "3.7.3"
  }
 },
 "nbformat": 4,
 "nbformat_minor": 2
}
