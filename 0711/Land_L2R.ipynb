{
 "cells": [
  {
   "cell_type": "code",
   "execution_count": 1,
   "metadata": {},
   "outputs": [
    {
     "data": {
      "text/html": [
       "<div>\n",
       "<style scoped>\n",
       "    .dataframe tbody tr th:only-of-type {\n",
       "        vertical-align: middle;\n",
       "    }\n",
       "\n",
       "    .dataframe tbody tr th {\n",
       "        vertical-align: top;\n",
       "    }\n",
       "\n",
       "    .dataframe thead th {\n",
       "        text-align: right;\n",
       "    }\n",
       "</style>\n",
       "<table border=\"1\" class=\"dataframe\">\n",
       "  <thead>\n",
       "    <tr style=\"text-align: right;\">\n",
       "      <th></th>\n",
       "      <th>Unnamed: 0</th>\n",
       "      <th>Rank</th>\n",
       "      <th>都市土地使用分區_空值</th>\n",
       "      <th>一般農業區</th>\n",
       "      <th>住</th>\n",
       "      <th>其他</th>\n",
       "      <th>商</th>\n",
       "      <th>山坡地保育區</th>\n",
       "      <th>工</th>\n",
       "      <th>工業區</th>\n",
       "      <th>...</th>\n",
       "      <th>露台</th>\n",
       "      <th>通道</th>\n",
       "      <th>車庫</th>\n",
       "      <th>陽台</th>\n",
       "      <th>屋頂突出物</th>\n",
       "      <th>儲藏室</th>\n",
       "      <th>車位總價</th>\n",
       "      <th>lat</th>\n",
       "      <th>lng</th>\n",
       "      <th>總價元</th>\n",
       "    </tr>\n",
       "  </thead>\n",
       "  <tbody>\n",
       "    <tr>\n",
       "      <th>8506</th>\n",
       "      <td>8506</td>\n",
       "      <td>1</td>\n",
       "      <td>0</td>\n",
       "      <td>0</td>\n",
       "      <td>0</td>\n",
       "      <td>0</td>\n",
       "      <td>0</td>\n",
       "      <td>0</td>\n",
       "      <td>1</td>\n",
       "      <td>0</td>\n",
       "      <td>...</td>\n",
       "      <td>0.0</td>\n",
       "      <td>0.0</td>\n",
       "      <td>0.0</td>\n",
       "      <td>0.0</td>\n",
       "      <td>0.0</td>\n",
       "      <td>0.0</td>\n",
       "      <td>-0.52118</td>\n",
       "      <td>1.061855</td>\n",
       "      <td>0.634850</td>\n",
       "      <td>1805275500</td>\n",
       "    </tr>\n",
       "    <tr>\n",
       "      <th>33654</th>\n",
       "      <td>33654</td>\n",
       "      <td>2</td>\n",
       "      <td>0</td>\n",
       "      <td>0</td>\n",
       "      <td>0</td>\n",
       "      <td>0</td>\n",
       "      <td>0</td>\n",
       "      <td>0</td>\n",
       "      <td>1</td>\n",
       "      <td>0</td>\n",
       "      <td>...</td>\n",
       "      <td>0.0</td>\n",
       "      <td>0.0</td>\n",
       "      <td>0.0</td>\n",
       "      <td>0.0</td>\n",
       "      <td>0.0</td>\n",
       "      <td>0.0</td>\n",
       "      <td>-0.52118</td>\n",
       "      <td>1.008934</td>\n",
       "      <td>0.485005</td>\n",
       "      <td>1450000000</td>\n",
       "    </tr>\n",
       "    <tr>\n",
       "      <th>54521</th>\n",
       "      <td>54521</td>\n",
       "      <td>3</td>\n",
       "      <td>0</td>\n",
       "      <td>0</td>\n",
       "      <td>0</td>\n",
       "      <td>0</td>\n",
       "      <td>0</td>\n",
       "      <td>0</td>\n",
       "      <td>1</td>\n",
       "      <td>0</td>\n",
       "      <td>...</td>\n",
       "      <td>0.0</td>\n",
       "      <td>0.0</td>\n",
       "      <td>0.0</td>\n",
       "      <td>0.0</td>\n",
       "      <td>0.0</td>\n",
       "      <td>0.0</td>\n",
       "      <td>-0.52118</td>\n",
       "      <td>1.088486</td>\n",
       "      <td>0.441842</td>\n",
       "      <td>1380000000</td>\n",
       "    </tr>\n",
       "    <tr>\n",
       "      <th>10655</th>\n",
       "      <td>10655</td>\n",
       "      <td>4</td>\n",
       "      <td>0</td>\n",
       "      <td>0</td>\n",
       "      <td>0</td>\n",
       "      <td>0</td>\n",
       "      <td>0</td>\n",
       "      <td>0</td>\n",
       "      <td>1</td>\n",
       "      <td>0</td>\n",
       "      <td>...</td>\n",
       "      <td>0.0</td>\n",
       "      <td>0.0</td>\n",
       "      <td>0.0</td>\n",
       "      <td>0.0</td>\n",
       "      <td>0.0</td>\n",
       "      <td>0.0</td>\n",
       "      <td>-0.52118</td>\n",
       "      <td>0.000000</td>\n",
       "      <td>0.000000</td>\n",
       "      <td>1112000000</td>\n",
       "    </tr>\n",
       "    <tr>\n",
       "      <th>47147</th>\n",
       "      <td>47147</td>\n",
       "      <td>5</td>\n",
       "      <td>0</td>\n",
       "      <td>0</td>\n",
       "      <td>0</td>\n",
       "      <td>0</td>\n",
       "      <td>0</td>\n",
       "      <td>0</td>\n",
       "      <td>1</td>\n",
       "      <td>0</td>\n",
       "      <td>...</td>\n",
       "      <td>0.0</td>\n",
       "      <td>0.0</td>\n",
       "      <td>0.0</td>\n",
       "      <td>0.0</td>\n",
       "      <td>0.0</td>\n",
       "      <td>0.0</td>\n",
       "      <td>-0.52118</td>\n",
       "      <td>1.058463</td>\n",
       "      <td>0.465010</td>\n",
       "      <td>1050000000</td>\n",
       "    </tr>\n",
       "  </tbody>\n",
       "</table>\n",
       "<p>5 rows × 122 columns</p>\n",
       "</div>"
      ],
      "text/plain": [
       "       Unnamed: 0  Rank  都市土地使用分區_空值  一般農業區  住  其他  商  山坡地保育區  工  工業區  ...  \\\n",
       "8506         8506     1            0      0  0   0  0       0  1    0  ...   \n",
       "33654       33654     2            0      0  0   0  0       0  1    0  ...   \n",
       "54521       54521     3            0      0  0   0  0       0  1    0  ...   \n",
       "10655       10655     4            0      0  0   0  0       0  1    0  ...   \n",
       "47147       47147     5            0      0  0   0  0       0  1    0  ...   \n",
       "\n",
       "        露台   通道   車庫   陽台  屋頂突出物  儲藏室     車位總價       lat       lng         總價元  \n",
       "8506   0.0  0.0  0.0  0.0    0.0  0.0 -0.52118  1.061855  0.634850  1805275500  \n",
       "33654  0.0  0.0  0.0  0.0    0.0  0.0 -0.52118  1.008934  0.485005  1450000000  \n",
       "54521  0.0  0.0  0.0  0.0    0.0  0.0 -0.52118  1.088486  0.441842  1380000000  \n",
       "10655  0.0  0.0  0.0  0.0    0.0  0.0 -0.52118  0.000000  0.000000  1112000000  \n",
       "47147  0.0  0.0  0.0  0.0    0.0  0.0 -0.52118  1.058463  0.465010  1050000000  \n",
       "\n",
       "[5 rows x 122 columns]"
      ]
     },
     "execution_count": 1,
     "metadata": {},
     "output_type": "execute_result"
    }
   ],
   "source": [
    "import pandas as pd\n",
    "import numpy as np\n",
    "\n",
    "data = pd.read_csv('0711_Landata.csv')\n",
    "\n",
    "data = data.sort_values(by=['Rank'])\n",
    "\n",
    "data.head()"
   ]
  },
  {
   "cell_type": "markdown",
   "metadata": {},
   "source": [
    "rank前1000做traing, 500做validation"
   ]
  },
  {
   "cell_type": "code",
   "execution_count": 2,
   "metadata": {},
   "outputs": [],
   "source": [
    "data_1000 = data[:1000]\n",
    "val_500 = data[1000:1500]"
   ]
  },
  {
   "cell_type": "code",
   "execution_count": 3,
   "metadata": {},
   "outputs": [],
   "source": [
    "train_x = data_1000.drop(['Unnamed: 0', 'Rank', '總價元'], axis=1).reset_index(drop=True)\n",
    "train_y = data_1000['Rank'].copy().reset_index(drop=True)\n",
    "test_x = val_500.drop(['Unnamed: 0', 'Rank', '總價元'], axis=1).reset_index(drop=True)\n",
    "test_y = val_500['Rank'].copy().reset_index(drop=True)"
   ]
  },
  {
   "cell_type": "code",
   "execution_count": 4,
   "metadata": {},
   "outputs": [],
   "source": [
    "import itertools\n",
    "index = np.array(list(itertools.permutations(np.arange(1000), 2)))\n",
    "index_test = np.array(list(itertools.permutations(np.arange(500), 2)))\n",
    "np.random.shuffle(index)\n",
    "np.random.shuffle(index_test)"
   ]
  },
  {
   "cell_type": "code",
   "execution_count": 14,
   "metadata": {},
   "outputs": [],
   "source": [
    "sample_size = 100000\n",
    "selected = np.random.choice(index.shape[0], sample_size)\n",
    "select_test = np.random.choice(index_test.shape[0], sample_size)\n",
    "index = index[selected]\n",
    "index_test = index_test[select_test]"
   ]
  },
  {
   "cell_type": "code",
   "execution_count": 15,
   "metadata": {},
   "outputs": [],
   "source": [
    "def target(I, J):\n",
    "    target = np.subtract(I, J) \n",
    "    # sign => 大於 0為1, clip => 限制在0, 1\n",
    "    target = np.clip(np.sign(target), 0, 1)\n",
    "    return target\n",
    "\n",
    "target_train = target(train_y.iloc[index[:,0]], train_y.iloc[index[:,1]])\n",
    "target_test = target(test_y.iloc[index_test[:,0]], test_y.iloc[index_test[:,1]])"
   ]
  },
  {
   "cell_type": "code",
   "execution_count": 16,
   "metadata": {},
   "outputs": [
    {
     "name": "stdout",
     "output_type": "stream",
     "text": [
      "__________________________________________________________________________________________________\n",
      "Layer (type)                    Output Shape         Param #     Connected to                     \n",
      "==================================================================================================\n",
      "input_3 (InputLayer)            (None, 119)          0                                            \n",
      "__________________________________________________________________________________________________\n",
      "input_4 (InputLayer)            (None, 119)          0                                            \n",
      "__________________________________________________________________________________________________\n",
      "sequential_2 (Sequential)       (None, 1)            71937       input_3[0][0]                    \n",
      "                                                                 input_4[0][0]                    \n",
      "__________________________________________________________________________________________________\n",
      "subtract_2 (Subtract)           (None, 1)            0           sequential_2[1][0]               \n",
      "                                                                 sequential_2[2][0]               \n",
      "__________________________________________________________________________________________________\n",
      "activation_2 (Activation)       (None, 1)            0           subtract_2[0][0]                 \n",
      "==================================================================================================\n",
      "Total params: 71,937\n",
      "Trainable params: 71,937\n",
      "Non-trainable params: 0\n",
      "__________________________________________________________________________________________________\n"
     ]
    }
   ],
   "source": [
    "from keras.models import Sequential, Model\n",
    "from keras.layers import Dense, Subtract, Activation, Input\n",
    "import keras.optimizers\n",
    "\n",
    "feature_num = train_x.shape[1]\n",
    "marker = Sequential()\n",
    "marker.add(Dense(256, activation='relu', input_shape=(feature_num,)))\n",
    "marker.add(Dense(128, activation='relu'))\n",
    "marker.add(Dense(64, activation='relu'))\n",
    "marker.add(Dense(1, activation='linear'))\n",
    "\n",
    "i_input = Input(shape=(feature_num,))\n",
    "j_input = Input(shape=(feature_num,))\n",
    "i_score = marker(i_input)\n",
    "j_score = marker(j_input)\n",
    "\n",
    "diff = Subtract()([i_score, j_score])\n",
    "output = Activation('sigmoid')(diff)\n",
    "\n",
    "ranknet = Model([i_input, j_input], output)\n",
    "optimizer = keras.optimizers.Adam(lr=1e-3, decay=0.0)\n",
    "ranknet.summary()\n",
    "ranknet.compile(optimizer = optimizer, loss = \"binary_crossentropy\",metrics=[\"accuracy\"])"
   ]
  },
  {
   "cell_type": "code",
   "execution_count": 17,
   "metadata": {},
   "outputs": [
    {
     "name": "stdout",
     "output_type": "stream",
     "text": [
      "Train on 100000 samples, validate on 100000 samples\n",
      "Epoch 1/10\n",
      " - 2s - loss: 0.3268 - acc: 0.8495 - val_loss: 1.2296 - val_acc: 0.5449\n",
      "Epoch 2/10\n",
      " - 2s - loss: 0.1783 - acc: 0.9258 - val_loss: 1.6389 - val_acc: 0.5376\n",
      "Epoch 3/10\n",
      " - 2s - loss: 0.1399 - acc: 0.9422 - val_loss: 1.8423 - val_acc: 0.5632\n",
      "Epoch 4/10\n",
      " - 2s - loss: 0.1236 - acc: 0.9499 - val_loss: 2.0843 - val_acc: 0.5470\n",
      "Epoch 5/10\n",
      " - 2s - loss: 0.1096 - acc: 0.9555 - val_loss: 2.2362 - val_acc: 0.5603\n",
      "Epoch 6/10\n",
      " - 2s - loss: 0.0996 - acc: 0.9602 - val_loss: 2.3974 - val_acc: 0.5497\n",
      "Epoch 7/10\n",
      " - 2s - loss: 0.0908 - acc: 0.9640 - val_loss: 2.5430 - val_acc: 0.5472\n",
      "Epoch 8/10\n",
      " - 2s - loss: 0.0885 - acc: 0.9654 - val_loss: 2.5899 - val_acc: 0.5385\n",
      "Epoch 9/10\n",
      " - 2s - loss: 0.0812 - acc: 0.9687 - val_loss: 2.8542 - val_acc: 0.5497\n",
      "Epoch 10/10\n",
      " - 2s - loss: 0.0800 - acc: 0.9690 - val_loss: 2.8172 - val_acc: 0.5509\n"
     ]
    },
    {
     "data": {
      "image/png": "[encoded data removed]",
      "text/plain": [
       "<Figure size 432x288 with 1 Axes>"
      ]
     },
     "metadata": {
      "needs_background": "light"
     },
     "output_type": "display_data"
    },
    {
     "data": {
      "image/png": "[encoded data removed]",
      "text/plain": [
       "<Figure size 432x288 with 1 Axes>"
      ]
     },
     "metadata": {
      "needs_background": "light"
     },
     "output_type": "display_data"
    }
   ],
   "source": [
    "%matplotlib inline\n",
    "import matplotlib.pyplot as plt\n",
    "EPOCHS = 10\n",
    "BATCH_SIZE = 300\n",
    "model_history = ranknet.fit([train_x.iloc[index[:,0]], train_x.iloc[index[:,1]]], target_train, epochs=EPOCHS, batch_size=BATCH_SIZE,validation_data=([test_x.iloc[index_test[:,0]], test_x.iloc[index_test[:,1]]], target_test), verbose=2)\n",
    "\n",
    "plt.plot(model_history.history['loss'], label='train')\n",
    "plt.plot(model_history.history['val_loss'], label='test')\n",
    "plt.title('Loss')\n",
    "plt.legend()\n",
    "plt.show()\n",
    "\n",
    "plt.plot(model_history.history['acc'], label='train')\n",
    "plt.plot(model_history.history['val_acc'], label='test')\n",
    "plt.title('Accuracy')\n",
    "plt.legend()\n",
    "plt.show()"
   ]
  },
  {
   "cell_type": "markdown",
   "metadata": {},
   "source": [
    "> https://stackoverflow.com/questions/41430791/python-list-error-1-step-on-1-slice"
   ]
  },
  {
   "cell_type": "code",
   "execution_count": 18,
   "metadata": {},
   "outputs": [
    {
     "name": "stdout",
     "output_type": "stream",
     "text": [
      "Rec：19\n"
     ]
    }
   ],
   "source": [
    "score = marker.predict([test_x])\n",
    "\n",
    "# ::-1表示由大排到小\n",
    "Top_10 = test_y.iloc[np.argsort(score, axis=0)[::-1][:10, 0]]\n",
    "\n",
    "Rec = len(Top_10 & test_y[:10])\n",
    "print('Rec：%d' % (Rec))"
   ]
  },
  {
   "cell_type": "code",
   "execution_count": 19,
   "metadata": {},
   "outputs": [
    {
     "data": {
      "text/plain": [
       "266    1267\n",
       "322    1323\n",
       "455    1456\n",
       "148    1149\n",
       "468    1469\n",
       "212    1213\n",
       "338    1339\n",
       "52     1053\n",
       "8      1009\n",
       "209    1210\n",
       "Name: Rank, dtype: int64"
      ]
     },
     "execution_count": 19,
     "metadata": {},
     "output_type": "execute_result"
    }
   ],
   "source": [
    "Top_10"
   ]
  },
  {
   "cell_type": "code",
   "execution_count": 20,
   "metadata": {},
   "outputs": [
    {
     "data": {
      "text/plain": [
       "0    1001\n",
       "1    1002\n",
       "2    1003\n",
       "3    1004\n",
       "4    1005\n",
       "5    1006\n",
       "6    1007\n",
       "7    1008\n",
       "8    1009\n",
       "9    1010\n",
       "Name: Rank, dtype: int64"
      ]
     },
     "execution_count": 20,
     "metadata": {},
     "output_type": "execute_result"
    }
   ],
   "source": [
    "# 正解\n",
    "test_y[:10]"
   ]
  },
  {
   "cell_type": "code",
   "execution_count": null,
   "metadata": {},
   "outputs": [],
   "source": []
  }
 ],
 "metadata": {
  "kernelspec": {
   "display_name": "Python 3",
   "language": "python",
   "name": "python3"
  },
  "language_info": {
   "codemirror_mode": {
    "name": "ipython",
    "version": 3
   },
   "file_extension": ".py",
   "mimetype": "text/x-python",
   "name": "python",
   "nbconvert_exporter": "python",
   "pygments_lexer": "ipython3",
   "version": "3.7.3"
  }
 },
 "nbformat": 4,
 "nbformat_minor": 2
}
