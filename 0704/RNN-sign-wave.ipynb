{
 "cells": [
  {
   "cell_type": "markdown",
   "metadata": {},
   "source": [
    "## 產生sign wave"
   ]
  },
  {
   "cell_type": "code",
   "execution_count": null,
   "metadata": {},
   "outputs": [],
   "source": [
    "import math\n",
    "import random\n",
    "import numpy as np\n",
    "import pandas as pd\n",
    "import matplotlib.pyplot as plt\n",
    "\n",
    "random.seed(0)\n",
    "random_factor = 0.1\n",
    "steps_per_cycle = 80 \n",
    "number_of_cycles = 200\n",
    "\n",
    "df = pd.DataFrame(np.arange(steps_per_cycle * number_of_cycles), columns = [\"t\"])\n",
    "df[\"sin_t\"] = df.t.apply(lambda x: math.sin(x * (2 * math.pi / steps_per_cycle) + random.uniform(-1.0, +1.0) * random_factor))\n",
    "\n",
    "def _load_data(data, n_prev = 100):  \n",
    "    docX, docY = [], []\n",
    "    for i in range(len(data)-n_prev):\n",
    "        docX.append(data.iloc[i:i+n_prev].values)\n",
    "        docY.append(data.iloc[i+n_prev].values)\n",
    "    \n",
    "    return np.array(docX), np.array(docY)\n",
    "\n",
    "def train_test_split(df, test_size = 0.1, n_prev = 100):  \n",
    "    split_point = round(len(df) * (1 - test_size)) \n",
    "    X_train, y_train = _load_data(df.iloc[0:split_point], n_prev)\n",
    "    X_test, y_test = _load_data(df.iloc[split_point:], n_prev)\n",
    "    \n",
    "    return (X_train, y_train), (X_test, y_test)\n",
    "\n",
    "length_of_sequences = 100\n",
    "(X_train, y_train), (X_test, y_test) = train_test_split(df[[\"sin_t\"]], n_prev = length_of_sequences)  "
   ]
  }
 ],
 "metadata": {
  "kernelspec": {
   "display_name": "Python 3",
   "language": "python",
   "name": "python3"
  },
  "language_info": {
   "codemirror_mode": {
    "name": "ipython",
    "version": 3
   },
   "file_extension": ".py",
   "mimetype": "text/x-python",
   "name": "python",
   "nbconvert_exporter": "python",
   "pygments_lexer": "ipython3",
   "version": "3.7.3"
  }
 },
 "nbformat": 4,
 "nbformat_minor": 2
}
