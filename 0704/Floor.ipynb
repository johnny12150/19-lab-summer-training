{
 "cells": [
  {
   "cell_type": "code",
   "execution_count": 1,
   "metadata": {},
   "outputs": [
    {
     "name": "stderr",
     "output_type": "stream",
     "text": [
      "c:\\users\\wade\\.virtualenvs\\19'_summer_vacation-ib8vnh7u\\lib\\site-packages\\IPython\\core\\interactiveshell.py:3049: DtypeWarning: Columns (14) have mixed types. Specify dtype option on import or set low_memory=False.\n",
      "  interactivity=interactivity, compiler=compiler, result=result)\n"
     ]
    },
    {
     "name": "stdout",
     "output_type": "stream",
     "text": [
      "8286\n",
      "14050\n",
      "14051\n"
     ]
    },
    {
     "name": "stderr",
     "output_type": "stream",
     "text": [
      "c:\\users\\wade\\.virtualenvs\\19'_summer_vacation-ib8vnh7u\\lib\\site-packages\\ipykernel_launcher.py:136: SettingWithCopyWarning: \n",
      "A value is trying to be set on a copy of a slice from a DataFrame\n",
      "\n",
      "See the caveats in the documentation: http://pandas.pydata.org/pandas-docs/stable/indexing.html#indexing-view-versus-copy\n"
     ]
    },
    {
     "name": "stdout",
     "output_type": "stream",
     "text": [
      "24603\n",
      "28524\n",
      "36706\n",
      "38180\n",
      "44349\n",
      "44640\n",
      "50522\n",
      "58432\n",
      "59018\n"
     ]
    },
    {
     "name": "stderr",
     "output_type": "stream",
     "text": [
      "c:\\users\\wade\\.virtualenvs\\19'_summer_vacation-ib8vnh7u\\lib\\site-packages\\ipykernel_launcher.py:159: SettingWithCopyWarning: \n",
      "A value is trying to be set on a copy of a slice from a DataFrame\n",
      "\n",
      "See the caveats in the documentation: http://pandas.pydata.org/pandas-docs/stable/indexing.html#indexing-view-versus-copy\n",
      "c:\\users\\wade\\.virtualenvs\\19'_summer_vacation-ib8vnh7u\\lib\\site-packages\\ipykernel_launcher.py:152: SettingWithCopyWarning: \n",
      "A value is trying to be set on a copy of a slice from a DataFrame\n",
      "\n",
      "See the caveats in the documentation: http://pandas.pydata.org/pandas-docs/stable/indexing.html#indexing-view-versus-copy\n"
     ]
    }
   ],
   "source": [
    "import numpy as np\n",
    "import pandas as pd\n",
    "import re\n",
    "import matplotlib.pyplot as plt\n",
    "\n",
    "DataFrame = pd.read_csv(\"../0703/all_lat.csv\")\n",
    "common_used_numerals_tmp = {'零': 0, '一': 1, '二': 2, '两': 2, '三': 3, '四': 4, '五': 5, '六': 6, '七': 7, '八': 8, '九': 9,\n",
    "                            '十': 10, '百': 100, '千': 1000, '万': 10000, '亿': 100000000}\n",
    "common_used_numerals = {}\n",
    "for key in common_used_numerals_tmp:\n",
    "    common_used_numerals[key] = common_used_numerals_tmp[key]\n",
    "\n",
    "\n",
    "def chinese2digits(uchars_chinese):\n",
    "    total = 0\n",
    "    r = 1  # For digits\n",
    "    for i in range(len(uchars_chinese) - 1, -1, -1):\n",
    "        val = common_used_numerals.get(uchars_chinese[i])\n",
    "        if val >= 10 and i == 0:  #for 十三、十八...\n",
    "            if val > r:\n",
    "                r = val\n",
    "                total = total + val\n",
    "            else:\n",
    "                r = r * val\n",
    "        elif val >= 10:\n",
    "            if val > r:\n",
    "                r = val\n",
    "            else:\n",
    "                r = r * val\n",
    "        else:\n",
    "            total = total + r * val\n",
    "    return total\n",
    " \n",
    " \n",
    "num_str_start_symbol = ['一', '二', '两', '三', '四', '五', '六', '七', '八', '九','十']\n",
    "more_num_str_symbol = ['零', '一', '二', '两', '三', '四', '五', '六', '七', '八', '九', '十', '百', '千', '萬', '億']\n",
    "#中轉數\n",
    "def changeChineseNumToArab(oriStr):\n",
    "    lenStr = len(oriStr);\n",
    "    aProStr = ''\n",
    "    if lenStr == 0:\n",
    "        return aProStr;\n",
    "\n",
    "    hasNumStart = False;\n",
    "    numberStr = ''\n",
    "    for idx in range(lenStr):\n",
    "        if oriStr[idx] in num_str_start_symbol:\n",
    "            if not hasNumStart:\n",
    "                hasNumStart = True;\n",
    " \n",
    "            numberStr += oriStr[idx]\n",
    "        else:\n",
    "            if hasNumStart:\n",
    "                if oriStr[idx] in more_num_str_symbol:\n",
    "                    numberStr += oriStr[idx]\n",
    "                    continue\n",
    "                else:\n",
    "                    numResult = str(chinese2digits(numberStr))\n",
    "                    numberStr = ''\n",
    "                    hasNumStart = False;\n",
    "                    aProStr += numResult\n",
    " \n",
    "            aProStr += oriStr[idx]\n",
    "            pass\n",
    " \n",
    "    if len(numberStr) > 0:\n",
    "        resultNum = chinese2digits(numberStr)\n",
    "        aProStr += str(resultNum)\n",
    "\n",
    "    return aProStr\n",
    "\n",
    "num=['零','一','二','三','四','五','六','七','八','九']\n",
    " \n",
    "k=['零','十','百','千','萬','十','百']\n",
    " \n",
    "def rankid():\n",
    "    rank=[]\n",
    "    for i in range(99):\n",
    "        a=tstr(i)\n",
    "        rank.append(a)\n",
    "    return rank\n",
    " \n",
    "def turn(x,y):\n",
    "    if y>= 1:\n",
    "        a=x//pow(10,y)\n",
    "        b=x%pow(10,y)\n",
    "        c=num[a]+k[y]\n",
    "        if y>4 and b<pow(10,4):\n",
    "            c+=k[4]\n",
    "        if (len(str(x))-len(str(b))) >= 2 and b != 0:\n",
    "            c+=k[0]\n",
    "    else:\n",
    "        a=x\n",
    "        b=0\n",
    "        c=num[a]\n",
    " \n",
    "    return (c,b,)\n",
    "\n",
    "#數轉中\n",
    "def tstr(x):\n",
    "    c=turn(x,(len(str(x))-1))\n",
    "    a=c[0]\n",
    "    b=c[1]\n",
    "    while b != 0:\n",
    "        a+=turn(b,(len(str(b))-1))[0]\n",
    "        b=turn(b,(len(str(b))-1))[1]\n",
    "    if x >= 10 and x < 20:\n",
    "        a = a.replace(\"一\",\"\")\n",
    "    if x == 11:\n",
    "        a = \"十一\"\n",
    "    return a\n",
    "#%%\n",
    "#for land data convert\n",
    "def floor_Conv(s):\n",
    "    DataFrame[s] = DataFrame[s].str.replace(\"地下層\",\"0\")\n",
    "    DataFrame[s] = DataFrame[s].str.replace(\"層\",\"\")\n",
    "    DataFrame[s] = DataFrame[s].str.replace(\"夾\",\"夾層\")\n",
    "    DataFrame[s] = DataFrame[s].str.replace(\"地下\",\"-\")\n",
    "    for i in range(100,0,-1):\n",
    "        DataFrame[s] = DataFrame[s].str.replace(tstr(i),changeChineseNumToArab(tstr(i)))\n",
    "    DataFrame[s] = DataFrame[s].str.replace(\"101\",\"11\")\n",
    "#print(tstr(16)) OUTPUT : 十六\n",
    "#print(changeChineseNumToArab(\"二十一\")) OUTPUT : 21\n",
    "floor_Conv(\"移轉層次\")\n",
    "floor_Conv(\"總樓層數\")\n",
    "DataFrame['移轉層次'].fillna(\"NA\",inplace = True)\n",
    "DataFrame['總樓層數'].fillna(\"NA\",inplace = True)\n",
    "\n",
    "#%%\n",
    "#Store special\n",
    "allforNone = []\n",
    "for i in range(DataFrame.shape[0]):\n",
    "    if DataFrame['移轉層次'][i] != \"NA\" and DataFrame['移轉層次'][i] != \"全\" and DataFrame['總樓層數'][i] == \"NA\":\n",
    "#         print(i)\n",
    "        a = re.findall(r'\\d+',DataFrame['建物型態'][i])\n",
    "        DataFrame['總樓層數'][i] = a[0]\n",
    "        \n",
    "DataFrame_House = DataFrame.loc[DataFrame['建物型態'].str.contains('透天厝')]\n",
    "DataFrame_House = DataFrame_House.reset_index(drop=True)\n",
    "DataFrame_House['移轉層次'].fillna(\"NA\",inplace = True)\n",
    "DataFrame_House['總樓層數'].fillna(\"NA\",inplace = True)\n",
    "DataFrame_House['總樓層數'] = DataFrame_House['總樓層數'].str.replace(\"NA\",'0')\n",
    "DataFrame_House = DataFrame_House.astype({\"總樓層數\": int})\n",
    "\n",
    "#get mode\n",
    "counts = np.bincount(DataFrame_House['總樓層數'])\n",
    "a = np.argmax(counts)\n",
    "#%%\n",
    "for i in range(0, DataFrame.shape[0]):\n",
    "    string = \"\"\n",
    "    if DataFrame['移轉層次'][i] == \"全\" and DataFrame['總樓層數'][i] == \"NA\":\n",
    "        DataFrame['總樓層數'][i] = str(a)\n",
    "    if DataFrame['移轉層次'][i] == \"全\" and DataFrame['總樓層數'][i] != \"NA\":\n",
    "        times = int(DataFrame['總樓層數'][i])\n",
    "        for j in range(times):\n",
    "            string += str(j+1)\n",
    "            if j != times - 1:\n",
    "                string += '，'\n",
    "        DataFrame['移轉層次'][i] = string\n",
    "    #地下分開\n",
    "    #float ()\n",
    "#%%\n",
    "#For memorize DataFrame original data\n",
    "Original_Data = DataFrame\n",
    "#%%\n",
    "#Reset DataFrame\n",
    "DataFrame = Original_Data\n",
    "#%%\n",
    "DataFrame['總樓層數'] = DataFrame['總樓層數'].str.replace(\"NA\",'0')\n",
    "Data_Test = DataFrame\n",
    "Data_Test= Data_Test.astype({\"總樓層數\": float})\n",
    "num = []\n",
    "char = []\n",
    "negative_num = []\n",
    "for i in range(DataFrame.shape[0]):\n",
    "    num_string = \"\"\n",
    "    char_string = \"\"\n",
    "    Negative_string = \"\"\n",
    "    num_sum = 0\n",
    "    Negative_sum = 0\n",
    "    x = str(DataFrame['移轉層次'][i]).split('，')\n",
    "    for j in range(len(x)):\n",
    "        if x[j].isdigit():\n",
    "            num_sum += int(x[j])\n",
    "        else:\n",
    "            if '-' in x[j]:\n",
    "                Negative_sum += int(x[j])\n",
    "            else:\n",
    "                char_string += x[j]\n",
    "                if j != len(x)-1:\n",
    "                    char_string += \"，\"\n",
    "    if (DataFrame['總樓層數'][i] == '0'):\n",
    "        Total_num = 0.0\n",
    "    else:\n",
    "        Total_num = num_sum/float(DataFrame['總樓層數'][i])\n",
    "        if Negative_sum == 0:\n",
    "            Total_negative_num = Negative_sum / float(DataFrame['總樓層數'][i])\n",
    "        else:\n",
    "            Total_negative_num = -(Negative_sum / float(DataFrame['總樓層數'][i]))\n",
    "    num.append(Total_num)\n",
    "    char.append(char_string)\n",
    "    negative_num.append(Total_negative_num)\n",
    "DataFrame['移轉層次(正數)'] = num\n",
    "DataFrame['移轉層次(非正數)'] = negative_num\n",
    "DataFrame['移轉層次(非純數)'] = char"
   ]
  },
  {
   "cell_type": "code",
   "execution_count": 6,
   "metadata": {},
   "outputs": [
    {
     "data": {
      "text/plain": [
       "Index(['鄉鎮市區', '交易標的', '土地區段位置/建物區段門牌', '土地移轉總面積平方公尺', '都市土地使用分區', '非都市土地使用分區',\n",
       "       '非都市土地使用編定', '交易年月日', '交易筆棟數', '移轉層次', '總樓層數', '建物型態', '主要用途', '主要建材',\n",
       "       '建築完成年月', '建物移轉總面積平方公尺', '建物現況格局-房', '建物現況格局-廳', '建物現況格局-衛',\n",
       "       '建物現況格局-隔間', '有無管理組織', '總價元', '單價元/平方公尺', '車位類別', '車位移轉總面積平方公尺',\n",
       "       '車位總價元', '備註', '編號', 'lat', 'lng', '移轉層次(正數)', '移轉層次(非正數)',\n",
       "       '移轉層次(非純數)'],\n",
       "      dtype='object')"
      ]
     },
     "execution_count": 6,
     "metadata": {},
     "output_type": "execute_result"
    }
   ],
   "source": [
    "DataFrame.columns"
   ]
  },
  {
   "cell_type": "code",
   "execution_count": 7,
   "metadata": {},
   "outputs": [
    {
     "data": {
      "text/plain": [
       "0    24\n",
       "1    24\n",
       "2    14\n",
       "3    13\n",
       "4     5\n",
       "Name: 總樓層數, dtype: object"
      ]
     },
     "execution_count": 7,
     "metadata": {},
     "output_type": "execute_result"
    }
   ],
   "source": [
    "DataFrame['總樓層數'].head()"
   ]
  },
  {
   "cell_type": "code",
   "execution_count": 9,
   "metadata": {},
   "outputs": [
    {
     "data": {
      "text/plain": [
       "0    24\n",
       "1    24\n",
       "2    14\n",
       "3    13\n",
       "4     5\n",
       "Name: 總樓層數, dtype: int32"
      ]
     },
     "execution_count": 9,
     "metadata": {},
     "output_type": "execute_result"
    }
   ],
   "source": [
    "DataFrame['總樓層數'].astype(int).head()"
   ]
  },
  {
   "cell_type": "markdown",
   "metadata": {},
   "source": [
    "### 輸出成樓層特徵csv"
   ]
  },
  {
   "cell_type": "code",
   "execution_count": 4,
   "metadata": {},
   "outputs": [],
   "source": [
    "DataFrame.to_csv('floor_feature_all.csv', index=False, encoding='utf_8_sig')"
   ]
  },
  {
   "cell_type": "code",
   "execution_count": 12,
   "metadata": {},
   "outputs": [],
   "source": [
    "DataFrame[['移轉層次(正數)', '移轉層次(非正數)', '移轉層次(非純數)','總樓層數']] .to_csv('floor_feature.csv', index=False, encoding='utf_8_sig')"
   ]
  },
  {
   "cell_type": "code",
   "execution_count": null,
   "metadata": {},
   "outputs": [],
   "source": []
  }
 ],
 "metadata": {
  "kernelspec": {
   "display_name": "Python 3",
   "language": "python",
   "name": "python3"
  },
  "language_info": {
   "codemirror_mode": {
    "name": "ipython",
    "version": 3
   },
   "file_extension": ".py",
   "mimetype": "text/x-python",
   "name": "python",
   "nbconvert_exporter": "python",
   "pygments_lexer": "ipython3",
   "version": "3.7.3"
  }
 },
 "nbformat": 4,
 "nbformat_minor": 2
}
