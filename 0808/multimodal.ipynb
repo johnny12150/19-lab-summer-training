{
 "cells": [
  {
   "cell_type": "code",
   "execution_count": 91,
   "metadata": {},
   "outputs": [],
   "source": [
    "from glob import glob\n",
    "from PIL import Image\n",
    "import pandas as pd\n",
    "import numpy as np\n",
    "import re\n",
    "import math\n",
    "from keras.layers import Input, Concatenate, Conv2D, Flatten, Dense\n",
    "from keras.models import Model"
   ]
  },
  {
   "cell_type": "code",
   "execution_count": 66,
   "metadata": {},
   "outputs": [],
   "source": [
    "# 參數\n",
    "# 決定要把讀進來的照片resize的程度\n",
    "img_rows = 600\n",
    "img_cols = 300\n",
    "channels = 3\n",
    "img_size = (img_rows, img_cols, channels)\n",
    "img_path_list = glob('../0806/land_streetView/*degree/新北市板橋區華東街*.jpg')"
   ]
  },
  {
   "cell_type": "code",
   "execution_count": 34,
   "metadata": {},
   "outputs": [
    {
     "data": {
      "text/plain": [
       "True"
      ]
     },
     "execution_count": 34,
     "metadata": {},
     "output_type": "execute_result"
    }
   ],
   "source": [
    "import os \n",
    "os.path.isfile(img_path_list[0])"
   ]
  },
  {
   "cell_type": "markdown",
   "metadata": {},
   "source": [
    "### Load label and picture"
   ]
  },
  {
   "cell_type": "code",
   "execution_count": 2,
   "metadata": {},
   "outputs": [
    {
     "name": "stderr",
     "output_type": "stream",
     "text": [
      "c:\\users\\wade\\.virtualenvs\\19'_summer_vacation-ib8vnh7u\\lib\\site-packages\\IPython\\core\\interactiveshell.py:3049: DtypeWarning: Columns (14) have mixed types. Specify dtype option on import or set low_memory=False.\n",
      "  interactivity=interactivity, compiler=compiler, result=result)\n"
     ]
    }
   ],
   "source": [
    "street_df = pd.read_csv('../0703/all_geo.csv')\n",
    "land_df = pd.read_csv('../0703/all_lat.csv')"
   ]
  },
  {
   "cell_type": "code",
   "execution_count": 7,
   "metadata": {},
   "outputs": [
    {
     "data": {
      "text/plain": [
       "['新北', '板橋']"
      ]
     },
     "execution_count": 7,
     "metadata": {},
     "output_type": "execute_result"
    }
   ],
   "source": [
    "# 切割市 & 區\n",
    "re.split('市', re.split('區', street_df['address'][0])[0])"
   ]
  },
  {
   "cell_type": "code",
   "execution_count": 6,
   "metadata": {},
   "outputs": [
    {
     "data": {
      "text/html": [
       "<div>\n",
       "<style scoped>\n",
       "    .dataframe tbody tr th:only-of-type {\n",
       "        vertical-align: middle;\n",
       "    }\n",
       "\n",
       "    .dataframe tbody tr th {\n",
       "        vertical-align: top;\n",
       "    }\n",
       "\n",
       "    .dataframe thead th {\n",
       "        text-align: right;\n",
       "    }\n",
       "</style>\n",
       "<table border=\"1\" class=\"dataframe\">\n",
       "  <thead>\n",
       "    <tr style=\"text-align: right;\">\n",
       "      <th></th>\n",
       "      <th>address</th>\n",
       "      <th>lat</th>\n",
       "      <th>lng</th>\n",
       "    </tr>\n",
       "  </thead>\n",
       "  <tbody>\n",
       "    <tr>\n",
       "      <th>0</th>\n",
       "      <td>新北市板橋區華東街271~300號</td>\n",
       "      <td>25.001936</td>\n",
       "      <td>121.452653</td>\n",
       "    </tr>\n",
       "    <tr>\n",
       "      <th>1</th>\n",
       "      <td>新北市土城區永豐路121~150號</td>\n",
       "      <td>24.984078</td>\n",
       "      <td>121.466060</td>\n",
       "    </tr>\n",
       "    <tr>\n",
       "      <th>2</th>\n",
       "      <td>新北市板橋區新崑路91~120號</td>\n",
       "      <td>24.999177</td>\n",
       "      <td>121.432317</td>\n",
       "    </tr>\n",
       "    <tr>\n",
       "      <th>3</th>\n",
       "      <td>新北市土城區延和路76巷1~30號</td>\n",
       "      <td>24.989084</td>\n",
       "      <td>121.466463</td>\n",
       "    </tr>\n",
       "    <tr>\n",
       "      <th>4</th>\n",
       "      <td>新北市板橋區中山路一段181~210號</td>\n",
       "      <td>25.013187</td>\n",
       "      <td>121.467601</td>\n",
       "    </tr>\n",
       "  </tbody>\n",
       "</table>\n",
       "</div>"
      ],
      "text/plain": [
       "               address        lat         lng\n",
       "0    新北市板橋區華東街271~300號  25.001936  121.452653\n",
       "1    新北市土城區永豐路121~150號  24.984078  121.466060\n",
       "2     新北市板橋區新崑路91~120號  24.999177  121.432317\n",
       "3    新北市土城區延和路76巷1~30號  24.989084  121.466463\n",
       "4  新北市板橋區中山路一段181~210號  25.013187  121.467601"
      ]
     },
     "execution_count": 6,
     "metadata": {},
     "output_type": "execute_result"
    }
   ],
   "source": [
    "street_df[:5000].head()"
   ]
  },
  {
   "cell_type": "code",
   "execution_count": 14,
   "metadata": {},
   "outputs": [],
   "source": [
    "# 找哪個區目前有的照片最多 (street_df 前5000筆)\n",
    "for index, row in street_df[:5000].iterrows():\n",
    "    pattern = re.split('市', re.split('區', row['address'])[0])[1]\n",
    "    street_df.loc[index, 'section'] = pattern"
   ]
  },
  {
   "cell_type": "code",
   "execution_count": 35,
   "metadata": {},
   "outputs": [
    {
     "data": {
      "text/plain": [
       "板橋    550\n",
       "中和    536\n",
       "新莊    519\n",
       "三重    422\n",
       "新店    391\n",
       "淡水    356\n",
       "汐止    320\n",
       "土城    282\n",
       "永和    266\n",
       "蘆洲    228\n",
       "林口    222\n",
       "樹林    205\n",
       "三峽    144\n",
       "鶯歌    115\n",
       "五股    114\n",
       "泰山    104\n",
       "瑞芳     50\n",
       "八里     45\n",
       "三芝     43\n",
       "深坑     36\n",
       "萬里     20\n",
       "金山     19\n",
       "貢寮      5\n",
       "石門      3\n",
       "雙溪      3\n",
       "烏來      1\n",
       "石碇      1\n",
       "Name: section, dtype: int64"
      ]
     },
     "execution_count": 35,
     "metadata": {},
     "output_type": "execute_result"
    }
   ],
   "source": [
    "# 查看哪區最多\n",
    "street_df['section'].value_counts()"
   ]
  },
  {
   "cell_type": "code",
   "execution_count": 37,
   "metadata": {},
   "outputs": [
    {
     "data": {
      "text/plain": [
       "0      新北市板橋區華東街271~300號\n",
       "2       新北市板橋區新崑路91~120號\n",
       "4    新北市板橋區中山路一段181~210號\n",
       "5    新北市板橋區三民路一段151~180號\n",
       "7        新北市板橋區廣和街61~90號\n",
       "Name: address, dtype: object"
      ]
     },
     "execution_count": 37,
     "metadata": {},
     "output_type": "execute_result"
    }
   ],
   "source": [
    "# 印出為板橋區的地址\n",
    "street_df.loc[street_df['section'] == '板橋', 'address'].head()"
   ]
  },
  {
   "cell_type": "code",
   "execution_count": 39,
   "metadata": {},
   "outputs": [
    {
     "name": "stdout",
     "output_type": "stream",
     "text": [
      "0\n",
      "2\n",
      "4\n",
      "5\n",
      "7\n"
     ]
    }
   ],
   "source": [
    "for i, j in street_df.loc[street_df['section'] == '板橋', 'address'].head().iteritems():\n",
    "    print(i)"
   ]
  },
  {
   "cell_type": "markdown",
   "metadata": {},
   "source": [
    "`新北市板橋區華東街271~300號` 兩年交易110次\n",
    "> https://www.leju.com.tw/page_search_result?oid=Lb7d85292713c4"
   ]
  },
  {
   "cell_type": "code",
   "execution_count": 79,
   "metadata": {},
   "outputs": [],
   "source": [
    "test = pd.DataFrame()"
   ]
  },
  {
   "cell_type": "code",
   "execution_count": 80,
   "metadata": {},
   "outputs": [],
   "source": [
    "# 找出地址符合street前5000的，並幫street標上售價\n",
    "for i, item in street_df[:5000].loc[street_df[:5000]['section'] == '板橋'].iterrows():\n",
    "#     print(item['address'])\n",
    "#     print(len(land_df.loc[land_df['土地區段位置/建物區段門牌'] == item['address']]['總價元']))\n",
    "    for j, price in land_df.loc[land_df['土地區段位置/建物區段門牌'] == item['address']].iterrows():\n",
    "        test.loc[len(test), 'address'] = item['address']\n",
    "        test.loc[len(test)-1, 'price'] = price['總價元']"
   ]
  },
  {
   "cell_type": "code",
   "execution_count": 81,
   "metadata": {},
   "outputs": [
    {
     "data": {
      "text/html": [
       "<div>\n",
       "<style scoped>\n",
       "    .dataframe tbody tr th:only-of-type {\n",
       "        vertical-align: middle;\n",
       "    }\n",
       "\n",
       "    .dataframe tbody tr th {\n",
       "        vertical-align: top;\n",
       "    }\n",
       "\n",
       "    .dataframe thead th {\n",
       "        text-align: right;\n",
       "    }\n",
       "</style>\n",
       "<table border=\"1\" class=\"dataframe\">\n",
       "  <thead>\n",
       "    <tr style=\"text-align: right;\">\n",
       "      <th></th>\n",
       "      <th>address</th>\n",
       "      <th>price</th>\n",
       "    </tr>\n",
       "  </thead>\n",
       "  <tbody>\n",
       "    <tr>\n",
       "      <th>0</th>\n",
       "      <td>新北市板橋區華東街271~300號</td>\n",
       "      <td>15000000.0</td>\n",
       "    </tr>\n",
       "    <tr>\n",
       "      <th>1</th>\n",
       "      <td>新北市板橋區華東街271~300號</td>\n",
       "      <td>32680000.0</td>\n",
       "    </tr>\n",
       "    <tr>\n",
       "      <th>2</th>\n",
       "      <td>新北市板橋區華東街271~300號</td>\n",
       "      <td>22770000.0</td>\n",
       "    </tr>\n",
       "    <tr>\n",
       "      <th>3</th>\n",
       "      <td>新北市板橋區華東街271~300號</td>\n",
       "      <td>17100000.0</td>\n",
       "    </tr>\n",
       "    <tr>\n",
       "      <th>4</th>\n",
       "      <td>新北市板橋區華東街271~300號</td>\n",
       "      <td>15420000.0</td>\n",
       "    </tr>\n",
       "  </tbody>\n",
       "</table>\n",
       "</div>"
      ],
      "text/plain": [
       "             address       price\n",
       "0  新北市板橋區華東街271~300號  15000000.0\n",
       "1  新北市板橋區華東街271~300號  32680000.0\n",
       "2  新北市板橋區華東街271~300號  22770000.0\n",
       "3  新北市板橋區華東街271~300號  17100000.0\n",
       "4  新北市板橋區華東街271~300號  15420000.0"
      ]
     },
     "execution_count": 81,
     "metadata": {},
     "output_type": "execute_result"
    }
   ],
   "source": [
    "test.head()"
   ]
  },
  {
   "cell_type": "code",
   "execution_count": null,
   "metadata": {},
   "outputs": [],
   "source": [
    "# load image\n",
    "def load_data(img_res, path_list):\n",
    "    def imread(path, img_res):\n",
    "        # 用 PIL讀圖片\n",
    "        return np.array(Image.open(path).convert('RGB').resize(img_res, Image.ANTIALIAS)) / 255\n",
    "        \n",
    "    img_set = np.zeros((len(path_list), ) + img_res)\n",
    "    # 根據檔案名稱分次讀圖近來\n",
    "    for idx, rand_img_path in enumerate(path_list):\n",
    "        img_set[idx] = imread(rand_img_path, img_res[:2])[:,:,:3]\n",
    "            \n",
    "    return img_set"
   ]
  },
  {
   "cell_type": "code",
   "execution_count": null,
   "metadata": {},
   "outputs": [],
   "source": [
    "# 根據test DF處理圖片的形狀(完整的path_list, 第一維的size要跟label一致)"
   ]
  },
  {
   "cell_type": "code",
   "execution_count": 118,
   "metadata": {},
   "outputs": [],
   "source": [
    "train_pic = []\n",
    "label = []"
   ]
  },
  {
   "cell_type": "code",
   "execution_count": 119,
   "metadata": {},
   "outputs": [
    {
     "name": "stdout",
     "output_type": "stream",
     "text": [
      "list index out of range\n",
      "list index out of range\n"
     ]
    }
   ],
   "source": [
    "# 判斷每個地址有幾張圖\n",
    "for m, data in street_df[:5000].loc[street_df[:5000]['section'] == '板橋'].iterrows():\n",
    "    backup_num = []\n",
    "    try:\n",
    "        address_num = re.findall('\\d+', data['address'])\n",
    "        if(len(re.findall('\\d+', data['address'])) > 2):\n",
    "            # 存大於2個的數值(有巷/弄)\n",
    "            backup_num = address_num\n",
    "            # 取倒數兩個\n",
    "            address_num = address_num[-2:]\n",
    "\n",
    "        size = math.ceil((int(address_num[1]) - int(address_num[0]))/10)\n",
    "        address_split = re.split('\\d+', data['address'])\n",
    "        address_split.remove('~')\n",
    "        address_split.remove('號')\n",
    "        address_template = ''.join(address_split)\n",
    "        if(len(backup_num) == 3):\n",
    "            #有巷\n",
    "            address_split[0] = address_split[0] + backup_num[0]\n",
    "            address_template = ''.join(address_split)\n",
    "        if(len(backup_num) == 4):\n",
    "            # 有巷也有弄\n",
    "            address_split[0] = address_split[0] + backup_num[0]\n",
    "            address_split[1] = address_split[1] + backup_num[1]\n",
    "            address_template = ''.join(address_split)\n",
    "\n",
    "        img_path_list = glob('../0806/land_streetView/*degree/' + address_template + '*.jpg')\n",
    "        match_list = [] # 記錄有幾張照片符合規則\n",
    "        price_list = [] # 此地址有多少種售價\n",
    "        for img in img_path_list:\n",
    "            pattern = re.compile(address_template + '\\d+號')\n",
    "            if pattern.search(img):\n",
    "                match_list.append(img)\n",
    "                # 紀錄單一地址對應到哪些照片路徑\n",
    "\n",
    "        for w, data in test.iterrows():\n",
    "            pattern = re.compile(address_template + '\\d+\\~\\d+號')\n",
    "            if pattern.search(data['address']):\n",
    "                price_list.append(data['price'])\n",
    "\n",
    "        # 處理label, 根據有幾張圖，決定要給幾次一樣的label\n",
    "        # 一個地址有多少種prcie\n",
    "        for k in range(0, len(price_list)):\n",
    "            # 每種售價根據照片數目填上label\n",
    "            for index in range(0, len(match_list)):\n",
    "                label.append(price_list[k])\n",
    "        \n",
    "    except Exception as e:\n",
    "        print(e)\n",
    "        continue\n",
    "\n",
    "# list to numpy array\n",
    "label = np.array(label)"
   ]
  },
  {
   "cell_type": "code",
   "execution_count": 120,
   "metadata": {},
   "outputs": [
    {
     "data": {
      "text/plain": [
       "(608281,)"
      ]
     },
     "execution_count": 120,
     "metadata": {},
     "output_type": "execute_result"
    }
   ],
   "source": [
    "label.shape"
   ]
  },
  {
   "cell_type": "code",
   "execution_count": 121,
   "metadata": {},
   "outputs": [],
   "source": [
    "np.save('label_index5000_all_section', label)"
   ]
  },
  {
   "cell_type": "code",
   "execution_count": 122,
   "metadata": {},
   "outputs": [
    {
     "data": {
      "text/plain": [
       "(608281,)"
      ]
     },
     "execution_count": 122,
     "metadata": {},
     "output_type": "execute_result"
    }
   ],
   "source": [
    "np.load('label_index5000_all_section.npy').shape"
   ]
  },
  {
   "cell_type": "markdown",
   "metadata": {},
   "source": [
    "### CNN model"
   ]
  },
  {
   "cell_type": "code",
   "execution_count": null,
   "metadata": {},
   "outputs": [],
   "source": [
    "model_CNN = Sequential()\n",
    "model_CNN.add(Conv2D(32, kernel_size=(3, 3), activation='relu', input_shape=input_shape))\n",
    "model_CNN.add(Conv2D(64, (3, 3), activation='relu'))\n",
    "model_CNN.add(MaxPooling2D(pool_size=(2, 2)))\n",
    "model_CNN.add(Dropout(0.25))\n",
    "model_CNN.add(Flatten())\n",
    "\n",
    "model_CNN.add(Dense(128, activation='relu'))\n",
    "model_CNN.add(Dropout(0.5))\n",
    "# 預測價格\n",
    "model_CNN.add(Dense(1, activation='relu'))\n",
    "\n",
    "model_CNN.summary()"
   ]
  },
  {
   "cell_type": "code",
   "execution_count": null,
   "metadata": {},
   "outputs": [],
   "source": [
    "model_CNN.compile(loss='mean_absolute_percentage_error', optimizer='adam')\n",
    "train_history = model_CNN.fit(x=x_Train_norm, y=label, validation_split=0.3, epochs=10, batch_size=100, verbose=1)"
   ]
  },
  {
   "cell_type": "markdown",
   "metadata": {},
   "source": [
    "### Multimodal\n",
    "> https://keras.io/visualization/"
   ]
  },
  {
   "cell_type": "code",
   "execution_count": null,
   "metadata": {},
   "outputs": [],
   "source": [
    "# Define two input layers\n",
    "image_input = Input((32, 32, 3))\n",
    "vector_input = Input((6,))\n",
    "\n",
    "# Convolution + Flatten for the image\n",
    "conv_layer = Conv2D(32, (3,3))(image_input)\n",
    "flat_layer = Flatten()(conv_layer)\n",
    "\n",
    "# Concatenate the convolutional features and the vector input\n",
    "concat_layer= Concatenate()([vector_input, flat_layer])\n",
    "output = Dense(3)(concat_layer)\n",
    "\n",
    "# define a model with a list of two inputs\n",
    "model = Model(inputs=[image_input, vector_input], outputs=output)"
   ]
  }
 ],
 "metadata": {
  "kernelspec": {
   "display_name": "Python 3",
   "language": "python",
   "name": "python3"
  },
  "language_info": {
   "codemirror_mode": {
    "name": "ipython",
    "version": 3
   },
   "file_extension": ".py",
   "mimetype": "text/x-python",
   "name": "python",
   "nbconvert_exporter": "python",
   "pygments_lexer": "ipython3",
   "version": "3.7.3"
  }
 },
 "nbformat": 4,
 "nbformat_minor": 2
}
