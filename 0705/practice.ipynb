{
 "cells": [
  {
   "cell_type": "markdown",
   "metadata": {},
   "source": [
    "### Bag of word\n",
    "> https://docs.google.com/presentation/d/1iLjWK9AQszJUSHxqDetBn5PXJ8SsmETcvCTNU2EGblE/edit#slide=id.p\n",
    "\n",
    "目的: 處理不同長度的句子，但能表示字出現的頻率\n",
    "\n",
    "#### Bag of word到TF-IDF\n",
    "> https://taweihuang.hpd.io/2017/03/01/tfidf/"
   ]
  },
  {
   "cell_type": "code",
   "execution_count": 1,
   "metadata": {},
   "outputs": [
    {
     "data": {
      "text/html": [
       "<div>\n",
       "<style scoped>\n",
       "    .dataframe tbody tr th:only-of-type {\n",
       "        vertical-align: middle;\n",
       "    }\n",
       "\n",
       "    .dataframe tbody tr th {\n",
       "        vertical-align: top;\n",
       "    }\n",
       "\n",
       "    .dataframe thead th {\n",
       "        text-align: right;\n",
       "    }\n",
       "</style>\n",
       "<table border=\"1\" class=\"dataframe\">\n",
       "  <thead>\n",
       "    <tr style=\"text-align: right;\">\n",
       "      <th></th>\n",
       "      <th>Unnamed: 0</th>\n",
       "      <th>0</th>\n",
       "    </tr>\n",
       "  </thead>\n",
       "  <tbody>\n",
       "    <tr>\n",
       "      <th>0</th>\n",
       "      <td>0</td>\n",
       "      <td>Minimal-Entropy Correlation Alignment for Unsu...</td>\n",
       "    </tr>\n",
       "    <tr>\n",
       "      <th>1</th>\n",
       "      <td>1</td>\n",
       "      <td>Large Scale Optimal Transport and Mapping Esti...</td>\n",
       "    </tr>\n",
       "    <tr>\n",
       "      <th>2</th>\n",
       "      <td>2</td>\n",
       "      <td>TRUNCATED HORIZON POLICY SEARCH: COMBINING REI...</td>\n",
       "    </tr>\n",
       "    <tr>\n",
       "      <th>3</th>\n",
       "      <td>3</td>\n",
       "      <td>Model-Ensemble Trust-Region Policy Optimization</td>\n",
       "    </tr>\n",
       "    <tr>\n",
       "      <th>4</th>\n",
       "      <td>4</td>\n",
       "      <td>A Neural Representation of Sketch Drawings</td>\n",
       "    </tr>\n",
       "  </tbody>\n",
       "</table>\n",
       "</div>"
      ],
      "text/plain": [
       "   Unnamed: 0                                                  0\n",
       "0           0  Minimal-Entropy Correlation Alignment for Unsu...\n",
       "1           1  Large Scale Optimal Transport and Mapping Esti...\n",
       "2           2  TRUNCATED HORIZON POLICY SEARCH: COMBINING REI...\n",
       "3           3    Model-Ensemble Trust-Region Policy Optimization\n",
       "4           4         A Neural Representation of Sketch Drawings"
      ]
     },
     "execution_count": 1,
     "metadata": {},
     "output_type": "execute_result"
    }
   ],
   "source": [
    "import pandas as pd\n",
    "import numpy as np\n",
    "\n",
    "Accept = pd.read_excel('ICLR_accepted.xlsx')\n",
    "Reject = pd.read_excel('ICLR_rejected.xlsx')\n",
    "Accept.head()"
   ]
  },
  {
   "cell_type": "code",
   "execution_count": 22,
   "metadata": {},
   "outputs": [
    {
     "data": {
      "text/plain": [
       "50    Unsupervised Representation Learning by Predic...\n",
       "51    Emergent Communication in a Multi-Modal, Multi...\n",
       "52    FastGCN: Fast Learning with Graph Convolutiona...\n",
       "53    Emergent Translation in Multi-Agent Communication\n",
       "54    An efficient framework for learning sentence r...\n",
       "Name: 0, dtype: object"
      ]
     },
     "execution_count": 22,
     "metadata": {},
     "output_type": "execute_result"
    }
   ],
   "source": [
    "Accept.iloc[50:][0].head()"
   ]
  },
  {
   "cell_type": "markdown",
   "metadata": {},
   "source": [
    "0是reject"
   ]
  },
  {
   "cell_type": "code",
   "execution_count": 85,
   "metadata": {},
   "outputs": [],
   "source": [
    "X_train = pd.concat([Accept.iloc[50:][0], Reject.iloc[50:][0]]).reset_index(drop=True)\n",
    "df1 = pd.DataFrame(np.ones(532))\n",
    "df2 = pd.DataFrame(np.zeros(703))\n",
    "y_train = pd.concat([df1, df2]).reset_index(drop=True)\n",
    "\n",
    "X_test = pd.concat([Accept.iloc[:50][0], Reject.iloc[:50][0]]).reset_index(drop=True)\n",
    "df3 = pd.DataFrame(np.ones(50))\n",
    "df4 = pd.DataFrame(np.zeros(50))\n",
    "y_test = pd.concat([df3, df4]).reset_index(drop=True)"
   ]
  },
  {
   "cell_type": "code",
   "execution_count": 14,
   "metadata": {},
   "outputs": [],
   "source": [
    "# 參數設定\n",
    "max_len = 30"
   ]
  },
  {
   "cell_type": "markdown",
   "metadata": {},
   "source": [
    "建立字典/ 手刻字典"
   ]
  },
  {
   "cell_type": "code",
   "execution_count": 86,
   "metadata": {},
   "outputs": [],
   "source": [
    "# 大寫轉小寫\n",
    "X_train = X_train.str.lower()\n",
    "X_test = X_test.str.lower()\n",
    "# 建立字典\n",
    "set = [] # 紀錄有哪些不同的單字\n",
    "sentence_dict = {}\n",
    "\n",
    "for index, row in X_train.iteritems():\n",
    "    # 從句子切割單字出來\n",
    "    for word in row.split(' '):\n",
    "        if word not in set:\n",
    "            set.append(word)\n",
    "            if sorted(sentence_dict.keys()):\n",
    "                sentence_dict[sorted(sentence_dict.keys())[-1]+1] = word\n",
    "            else:\n",
    "                sentence_dict[1] = word\n",
    "\n",
    "# 手動轉換句子\n",
    "for index, row in X_train.iteritems():\n",
    "    num_sentence = []\n",
    "    for word in row.split(' '):\n",
    "        # 找到該單字在字典裡的 id\n",
    "        num_sentence.append(list(sentence_dict.keys())[list(sentence_dict.values()).index(word)])\n",
    "    X_train[index] = num_sentence\n",
    "    \n",
    "for index, row in X_test.iteritems():\n",
    "    num_sentence = []\n",
    "    for word in row.split(' '):\n",
    "        try:\n",
    "            num_sentence.append(list(sentence_dict.keys())[list(sentence_dict.values()).index(word)])\n",
    "        except:\n",
    "            # 字不存在就忽略\n",
    "            continue\n",
    "    X_test[index] = num_sentence"
   ]
  },
  {
   "cell_type": "code",
   "execution_count": 87,
   "metadata": {},
   "outputs": [],
   "source": [
    "# 自動補齊長度\n",
    "x_train_seq = sequence.pad_sequences(X_train, maxlen=max_len)\n",
    "x_test_seq  = sequence.pad_sequences(X_test,  maxlen=max_len)"
   ]
  },
  {
   "cell_type": "code",
   "execution_count": 75,
   "metadata": {},
   "outputs": [
    {
     "data": {
      "text/plain": [
       "0                      [0, 1, 2, 3, 4, 5, 6]\n",
       "1              [7, 8, 9, 10, 11, 12, 13, 14]\n",
       "2    [15, 16, 2, 17, 18, 19, 20, 21, 22, 23]\n",
       "3                          [7, 24, 9, 25, 8]\n",
       "4                [26, 27, 28, 29, 2, 30, 31]\n",
       "Name: 0, dtype: object"
      ]
     },
     "execution_count": 75,
     "metadata": {},
     "output_type": "execute_result"
    }
   ],
   "source": [
    " X_train.head()"
   ]
  },
  {
   "cell_type": "code",
   "execution_count": 71,
   "metadata": {},
   "outputs": [
    {
     "data": {
      "text/plain": [
       "82"
      ]
     },
     "execution_count": 71,
     "metadata": {},
     "output_type": "execute_result"
    }
   ],
   "source": [
    "# 取得某個單字的dictnary id\n",
    "list(sentence_dict.keys())[list(sentence_dict.values()).index('scale')]"
   ]
  },
  {
   "cell_type": "code",
   "execution_count": 60,
   "metadata": {},
   "outputs": [
    {
     "data": {
      "text/plain": [
       "1"
      ]
     },
     "execution_count": 60,
     "metadata": {},
     "output_type": "execute_result"
    }
   ],
   "source": [
    "sentence_dict = {1: 'haha', 0: 'XD'}\n",
    "# 排列後找最後一個\n",
    "sorted(sentence_dict.keys())[-1]"
   ]
  },
  {
   "cell_type": "code",
   "execution_count": 52,
   "metadata": {},
   "outputs": [
    {
     "data": {
      "text/plain": [
       "0    [unsupervised, representation, learning, by, p...\n",
       "1    [emergent, communication, in, a, multi-modal,,...\n",
       "2    [fastgcn:, fast, learning, with, graph, convol...\n",
       "3    [emergent, translation, in, multi-agent, commu...\n",
       "4    [an, efficient, framework, for, learning, sent...\n",
       "Name: 0, dtype: object"
      ]
     },
     "execution_count": 52,
     "metadata": {},
     "output_type": "execute_result"
    }
   ],
   "source": [
    "X_train.head().str.split(' ')"
   ]
  },
  {
   "cell_type": "markdown",
   "metadata": {},
   "source": [
    "底下這個cell是自動建立字典"
   ]
  },
  {
   "cell_type": "code",
   "execution_count": 26,
   "metadata": {},
   "outputs": [],
   "source": [
    "from keras.preprocessing.text import Tokenizer\n",
    "# 自動轉小寫\n",
    "token = Tokenizer(lower=True)\n",
    "token.fit_on_texts(X_train)\n",
    "# 根據字典將句子轉換成數字\n",
    "X_train_seq = token.texts_to_sequences(X_train)\n",
    "X_test_seq = token.texts_to_sequences(X_test)"
   ]
  },
  {
   "cell_type": "markdown",
   "metadata": {},
   "source": [
    "統一長度"
   ]
  },
  {
   "cell_type": "code",
   "execution_count": 38,
   "metadata": {},
   "outputs": [],
   "source": [
    "from keras.preprocessing import sequence\n",
    "x_train_seq = sequence.pad_sequences(X_train_seq, maxlen=max_len)\n",
    "x_test_seq  = sequence.pad_sequences(X_test_seq,  maxlen=max_len)"
   ]
  },
  {
   "cell_type": "code",
   "execution_count": 34,
   "metadata": {},
   "outputs": [
    {
     "data": {
      "text/plain": [
       "2137"
      ]
     },
     "execution_count": 34,
     "metadata": {},
     "output_type": "execute_result"
    }
   ],
   "source": [
    "len(token.word_index)"
   ]
  },
  {
   "cell_type": "markdown",
   "metadata": {},
   "source": [
    "### model"
   ]
  },
  {
   "cell_type": "code",
   "execution_count": 93,
   "metadata": {},
   "outputs": [
    {
     "name": "stdout",
     "output_type": "stream",
     "text": [
      "_________________________________________________________________\n",
      "Layer (type)                 Output Shape              Param #   \n",
      "=================================================================\n",
      "embedding_4 (Embedding)      (None, 30, 64)            154944    \n",
      "_________________________________________________________________\n",
      "cu_dnnlstm_19 (CuDNNLSTM)    (None, 30, 64)            33280     \n",
      "_________________________________________________________________\n",
      "cu_dnnlstm_20 (CuDNNLSTM)    (None, 40)                16960     \n",
      "_________________________________________________________________\n",
      "dropout_4 (Dropout)          (None, 40)                0         \n",
      "_________________________________________________________________\n",
      "dense_10 (Dense)             (None, 40)                1640      \n",
      "_________________________________________________________________\n",
      "dense_11 (Dense)             (None, 20)                820       \n",
      "_________________________________________________________________\n",
      "dense_12 (Dense)             (None, 2)                 42        \n",
      "=================================================================\n",
      "Total params: 207,686\n",
      "Trainable params: 207,686\n",
      "Non-trainable params: 0\n",
      "_________________________________________________________________\n"
     ]
    }
   ],
   "source": [
    "from keras.models import Sequential\n",
    "from keras.layers.core import Dense, Dropout, Activation\n",
    "from keras.layers import CuDNNLSTM\n",
    "from keras.layers.embeddings import Embedding\n",
    "\n",
    "model_LSTM = Sequential()\n",
    "\n",
    "# Embedding\n",
    "# model_LSTM.add(Embedding(output_dim=64, input_dim=len(token.word_index), input_length=max_len))\n",
    "model_LSTM.add(Embedding(output_dim=64, input_dim=len(sentence_dict), input_length=max_len))\n",
    "model_LSTM.add(CuDNNLSTM(64, input_shape=(max_len, 1), return_sequences=True))\n",
    "# model_LSTM.add(CuDNNLSTM(50, return_sequences=True))\n",
    "# model_LSTM.add(CuDNNLSTM(40, return_sequences=True))\n",
    "# model_LSTM.add(CuDNNLSTM(30, return_sequences=True))\n",
    "# model_LSTM.add(CuDNNLSTM(20, return_sequences=True))\n",
    "model_LSTM.add(CuDNNLSTM(40, return_sequences=False))\n",
    "\n",
    "model_LSTM.add(Dropout(0.25))\n",
    "\n",
    "model_LSTM.add(Dense(40, activation='relu'))\n",
    "model_LSTM.add(Dense(20, activation='relu'))\n",
    "model_LSTM.add(Dense(2, activation='softmax'))\n",
    "\n",
    "model_LSTM.summary()\n",
    "\n",
    "model_LSTM.compile(loss='sparse_categorical_crossentropy', optimizer='adam', metrics=['accuracy'])"
   ]
  },
  {
   "cell_type": "code",
   "execution_count": 94,
   "metadata": {},
   "outputs": [
    {
     "name": "stdout",
     "output_type": "stream",
     "text": [
      "Train on 988 samples, validate on 247 samples\n",
      "Epoch 1/30\n",
      " - 1s - loss: 0.6918 - acc: 0.5162 - val_loss: 0.8290 - val_acc: 0.0000e+00\n",
      "Epoch 2/30\n",
      " - 0s - loss: 0.6895 - acc: 0.5374 - val_loss: 0.7434 - val_acc: 0.0000e+00\n",
      "Epoch 3/30\n",
      " - 0s - loss: 0.6277 - acc: 0.6528 - val_loss: 0.6884 - val_acc: 0.5911\n",
      "Epoch 4/30\n",
      " - 0s - loss: 0.3193 - acc: 0.8725 - val_loss: 1.3558 - val_acc: 0.3603\n",
      "Epoch 5/30\n",
      " - 0s - loss: 0.1496 - acc: 0.9504 - val_loss: 1.2833 - val_acc: 0.5020\n",
      "Epoch 6/30\n",
      " - 0s - loss: 0.0928 - acc: 0.9686 - val_loss: 1.5695 - val_acc: 0.5101\n",
      "Epoch 7/30\n",
      " - 0s - loss: 0.0745 - acc: 0.9777 - val_loss: 2.1263 - val_acc: 0.4291\n",
      "Epoch 8/30\n",
      " - 0s - loss: 0.0526 - acc: 0.9808 - val_loss: 1.5801 - val_acc: 0.5911\n",
      "Epoch 9/30\n",
      " - 0s - loss: 0.0350 - acc: 0.9899 - val_loss: 2.0657 - val_acc: 0.5506\n",
      "Epoch 10/30\n",
      " - 0s - loss: 0.0262 - acc: 0.9929 - val_loss: 3.0906 - val_acc: 0.4291\n",
      "Epoch 11/30\n",
      " - 0s - loss: 0.0125 - acc: 0.9970 - val_loss: 3.7829 - val_acc: 0.4130\n",
      "Epoch 12/30\n",
      " - 0s - loss: 0.0102 - acc: 0.9960 - val_loss: 4.2348 - val_acc: 0.3360\n",
      "Epoch 13/30\n",
      " - 0s - loss: 0.0165 - acc: 0.9970 - val_loss: 4.1057 - val_acc: 0.3563\n",
      "Epoch 14/30\n",
      " - 0s - loss: 0.0083 - acc: 0.9990 - val_loss: 4.2569 - val_acc: 0.4211\n",
      "Epoch 15/30\n",
      " - 0s - loss: 0.0064 - acc: 0.9990 - val_loss: 4.2691 - val_acc: 0.4251\n",
      "Epoch 16/30\n",
      " - 0s - loss: 0.0064 - acc: 0.9990 - val_loss: 4.2228 - val_acc: 0.4372\n",
      "Epoch 17/30\n",
      " - 0s - loss: 0.0068 - acc: 0.9990 - val_loss: 4.4511 - val_acc: 0.4413\n",
      "Epoch 18/30\n",
      " - 0s - loss: 0.0048 - acc: 0.9990 - val_loss: 4.5654 - val_acc: 0.4534\n",
      "Epoch 19/30\n",
      " - 0s - loss: 0.0054 - acc: 0.9990 - val_loss: 4.3411 - val_acc: 0.4818\n",
      "Epoch 20/30\n",
      " - 0s - loss: 0.0061 - acc: 0.9990 - val_loss: 4.5075 - val_acc: 0.4696\n",
      "Epoch 21/30\n",
      " - 0s - loss: 0.0054 - acc: 0.9990 - val_loss: 4.6762 - val_acc: 0.4696\n",
      "Epoch 22/30\n",
      " - 0s - loss: 0.0064 - acc: 0.9990 - val_loss: 4.5080 - val_acc: 0.4696\n",
      "Epoch 23/30\n",
      " - 0s - loss: 0.0058 - acc: 0.9990 - val_loss: 4.8260 - val_acc: 0.4696\n",
      "Epoch 24/30\n",
      " - 0s - loss: 0.0055 - acc: 0.9990 - val_loss: 4.7079 - val_acc: 0.4939\n",
      "Epoch 25/30\n",
      " - 0s - loss: 0.0062 - acc: 0.9990 - val_loss: 4.6013 - val_acc: 0.5061\n",
      "Epoch 26/30\n",
      " - 0s - loss: 0.0039 - acc: 0.9990 - val_loss: 5.0273 - val_acc: 0.4899\n",
      "Epoch 27/30\n",
      " - 0s - loss: 0.0046 - acc: 0.9990 - val_loss: 5.1813 - val_acc: 0.4777\n",
      "Epoch 28/30\n",
      " - 0s - loss: 0.0059 - acc: 0.9990 - val_loss: 5.7568 - val_acc: 0.4332\n",
      "Epoch 29/30\n",
      " - 0s - loss: 0.0060 - acc: 0.9990 - val_loss: 5.4454 - val_acc: 0.4413\n",
      "Epoch 30/30\n",
      " - 0s - loss: 0.0060 - acc: 0.9990 - val_loss: 5.0391 - val_acc: 0.5101\n"
     ]
    },
    {
     "data": {
      "text/plain": [
       "<keras.callbacks.History at 0x21da38aa438>"
      ]
     },
     "execution_count": 94,
     "metadata": {},
     "output_type": "execute_result"
    }
   ],
   "source": [
    "model_LSTM.fit(x_train_seq, y_train,batch_size=20, epochs=10,verbose=2, validation_split=0.2)"
   ]
  },
  {
   "cell_type": "markdown",
   "metadata": {},
   "source": [
    "### test model"
   ]
  },
  {
   "cell_type": "code",
   "execution_count": 92,
   "metadata": {},
   "outputs": [
    {
     "name": "stdout",
     "output_type": "stream",
     "text": [
      "100/100 [==============================] - 0s 463us/step\n"
     ]
    },
    {
     "data": {
      "text/plain": [
       "[2.6161777496337892, 0.65]"
      ]
     },
     "execution_count": 92,
     "metadata": {},
     "output_type": "execute_result"
    }
   ],
   "source": [
    "model_LSTM.evaluate(x_test_seq, y_test)"
   ]
  },
  {
   "cell_type": "markdown",
   "metadata": {},
   "source": [
    "#### train的validation達到60趴, test上反而比較低"
   ]
  },
  {
   "cell_type": "code",
   "execution_count": 95,
   "metadata": {},
   "outputs": [
    {
     "name": "stdout",
     "output_type": "stream",
     "text": [
      "100/100 [==============================] - 0s 165us/step\n"
     ]
    },
    {
     "data": {
      "text/plain": [
       "[3.4139516735076905, 0.57]"
      ]
     },
     "execution_count": 95,
     "metadata": {},
     "output_type": "execute_result"
    }
   ],
   "source": [
    "model_LSTM.evaluate(x_test_seq, y_test)"
   ]
  },
  {
   "cell_type": "code",
   "execution_count": null,
   "metadata": {},
   "outputs": [],
   "source": []
  }
 ],
 "metadata": {
  "kernelspec": {
   "display_name": "Python 3",
   "language": "python",
   "name": "python3"
  },
  "language_info": {
   "codemirror_mode": {
    "name": "ipython",
    "version": 3
   },
   "file_extension": ".py",
   "mimetype": "text/x-python",
   "name": "python",
   "nbconvert_exporter": "python",
   "pygments_lexer": "ipython3",
   "version": "3.7.3"
  }
 },
 "nbformat": 4,
 "nbformat_minor": 2
}
