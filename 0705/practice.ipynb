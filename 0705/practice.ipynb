{
 "cells": [
  {
   "cell_type": "markdown",
   "metadata": {},
   "source": [
    "### Bag of word\n",
    "> https://docs.google.com/presentation/d/1iLjWK9AQszJUSHxqDetBn5PXJ8SsmETcvCTNU2EGblE/edit#slide=id.p\n",
    "\n",
    "目的: 處理不同長度的句子，但能表示字出現的頻率\n",
    "\n",
    "#### Bag of word到TF-IDF\n",
    "> https://taweihuang.hpd.io/2017/03/01/tfidf/"
   ]
  },
  {
   "cell_type": "code",
   "execution_count": 1,
   "metadata": {},
   "outputs": [
    {
     "data": {
      "text/html": [
       "<div>\n",
       "<style scoped>\n",
       "    .dataframe tbody tr th:only-of-type {\n",
       "        vertical-align: middle;\n",
       "    }\n",
       "\n",
       "    .dataframe tbody tr th {\n",
       "        vertical-align: top;\n",
       "    }\n",
       "\n",
       "    .dataframe thead th {\n",
       "        text-align: right;\n",
       "    }\n",
       "</style>\n",
       "<table border=\"1\" class=\"dataframe\">\n",
       "  <thead>\n",
       "    <tr style=\"text-align: right;\">\n",
       "      <th></th>\n",
       "      <th>Unnamed: 0</th>\n",
       "      <th>0</th>\n",
       "    </tr>\n",
       "  </thead>\n",
       "  <tbody>\n",
       "    <tr>\n",
       "      <th>0</th>\n",
       "      <td>0</td>\n",
       "      <td>Minimal-Entropy Correlation Alignment for Unsu...</td>\n",
       "    </tr>\n",
       "    <tr>\n",
       "      <th>1</th>\n",
       "      <td>1</td>\n",
       "      <td>Large Scale Optimal Transport and Mapping Esti...</td>\n",
       "    </tr>\n",
       "    <tr>\n",
       "      <th>2</th>\n",
       "      <td>2</td>\n",
       "      <td>TRUNCATED HORIZON POLICY SEARCH: COMBINING REI...</td>\n",
       "    </tr>\n",
       "    <tr>\n",
       "      <th>3</th>\n",
       "      <td>3</td>\n",
       "      <td>Model-Ensemble Trust-Region Policy Optimization</td>\n",
       "    </tr>\n",
       "    <tr>\n",
       "      <th>4</th>\n",
       "      <td>4</td>\n",
       "      <td>A Neural Representation of Sketch Drawings</td>\n",
       "    </tr>\n",
       "  </tbody>\n",
       "</table>\n",
       "</div>"
      ],
      "text/plain": [
       "   Unnamed: 0                                                  0\n",
       "0           0  Minimal-Entropy Correlation Alignment for Unsu...\n",
       "1           1  Large Scale Optimal Transport and Mapping Esti...\n",
       "2           2  TRUNCATED HORIZON POLICY SEARCH: COMBINING REI...\n",
       "3           3    Model-Ensemble Trust-Region Policy Optimization\n",
       "4           4         A Neural Representation of Sketch Drawings"
      ]
     },
     "execution_count": 1,
     "metadata": {},
     "output_type": "execute_result"
    }
   ],
   "source": [
    "import pandas as pd\n",
    "import numpy as np\n",
    "\n",
    "Accept = pd.read_excel('ICLR_accepted.xlsx')\n",
    "Reject = pd.read_excel('ICLR_rejected.xlsx')\n",
    "Accept.head()"
   ]
  },
  {
   "cell_type": "code",
   "execution_count": 22,
   "metadata": {},
   "outputs": [
    {
     "data": {
      "text/plain": [
       "50    Unsupervised Representation Learning by Predic...\n",
       "51    Emergent Communication in a Multi-Modal, Multi...\n",
       "52    FastGCN: Fast Learning with Graph Convolutiona...\n",
       "53    Emergent Translation in Multi-Agent Communication\n",
       "54    An efficient framework for learning sentence r...\n",
       "Name: 0, dtype: object"
      ]
     },
     "execution_count": 22,
     "metadata": {},
     "output_type": "execute_result"
    }
   ],
   "source": [
    "Accept.iloc[50:][0].head()"
   ]
  },
  {
   "cell_type": "markdown",
   "metadata": {},
   "source": [
    "0是reject"
   ]
  },
  {
   "cell_type": "code",
   "execution_count": 2,
   "metadata": {},
   "outputs": [],
   "source": [
    "X_train = pd.concat([Accept.iloc[50:][0], Reject.iloc[50:][0]]).reset_index(drop=True)\n",
    "df1 = pd.DataFrame(np.ones(532))\n",
    "df2 = pd.DataFrame(np.zeros(703))\n",
    "y_train = pd.concat([df1, df2]).reset_index(drop=True)\n",
    "\n",
    "X_test = pd.concat([Accept.iloc[:50][0], Reject.iloc[:50][0]]).reset_index(drop=True)\n",
    "df3 = pd.DataFrame(np.ones(50))\n",
    "df4 = pd.DataFrame(np.zeros(50))\n",
    "y_test = pd.concat([df3, df4]).reset_index(drop=True)"
   ]
  },
  {
   "cell_type": "code",
   "execution_count": 5,
   "metadata": {},
   "outputs": [],
   "source": [
    "# 參數設定\n",
    "max_len = 30"
   ]
  },
  {
   "cell_type": "code",
   "execution_count": null,
   "metadata": {},
   "outputs": [],
   "source": [
    "def shuffle(X,Y):\n",
    "  np.random.seed(10)\n",
    "  randomList = np.arange(X.shape[0])\n",
    "  np.random.shuffle(randomList)\n",
    "  return X[randomList], Y[randomList]"
   ]
  },
  {
   "cell_type": "markdown",
   "metadata": {},
   "source": [
    "建立字典/ 手刻字典"
   ]
  },
  {
   "cell_type": "code",
   "execution_count": 86,
   "metadata": {},
   "outputs": [],
   "source": [
    "# 大寫轉小寫\n",
    "X_train = X_train.str.lower()\n",
    "X_test = X_test.str.lower()\n",
    "# 建立字典\n",
    "set = [] # 紀錄有哪些不同的單字\n",
    "sentence_dict = {}\n",
    "\n",
    "for index, row in X_train.iteritems():\n",
    "    # 從句子切割單字出來\n",
    "    for word in row.split(' '):\n",
    "        if word not in set:\n",
    "            set.append(word)\n",
    "            if sorted(sentence_dict.keys()):\n",
    "                sentence_dict[sorted(sentence_dict.keys())[-1]+1] = word\n",
    "            else:\n",
    "                sentence_dict[1] = word\n",
    "\n",
    "# 手動轉換句子\n",
    "for index, row in X_train.iteritems():\n",
    "    num_sentence = []\n",
    "    for word in row.split(' '):\n",
    "        # 找到該單字在字典裡的 id\n",
    "        num_sentence.append(list(sentence_dict.keys())[list(sentence_dict.values()).index(word)])\n",
    "    X_train[index] = num_sentence\n",
    "    \n",
    "for index, row in X_test.iteritems():\n",
    "    num_sentence = []\n",
    "    for word in row.split(' '):\n",
    "        try:\n",
    "            num_sentence.append(list(sentence_dict.keys())[list(sentence_dict.values()).index(word)])\n",
    "        except:\n",
    "            # 字不存在就忽略\n",
    "            continue\n",
    "    X_test[index] = num_sentence"
   ]
  },
  {
   "cell_type": "code",
   "execution_count": 87,
   "metadata": {},
   "outputs": [],
   "source": [
    "# 自動補齊長度\n",
    "x_train_seq = sequence.pad_sequences(X_train, maxlen=max_len)\n",
    "x_test_seq  = sequence.pad_sequences(X_test,  maxlen=max_len)"
   ]
  },
  {
   "cell_type": "code",
   "execution_count": 75,
   "metadata": {},
   "outputs": [
    {
     "data": {
      "text/plain": [
       "0                      [0, 1, 2, 3, 4, 5, 6]\n",
       "1              [7, 8, 9, 10, 11, 12, 13, 14]\n",
       "2    [15, 16, 2, 17, 18, 19, 20, 21, 22, 23]\n",
       "3                          [7, 24, 9, 25, 8]\n",
       "4                [26, 27, 28, 29, 2, 30, 31]\n",
       "Name: 0, dtype: object"
      ]
     },
     "execution_count": 75,
     "metadata": {},
     "output_type": "execute_result"
    }
   ],
   "source": [
    " X_train.head()"
   ]
  },
  {
   "cell_type": "code",
   "execution_count": 71,
   "metadata": {},
   "outputs": [
    {
     "data": {
      "text/plain": [
       "82"
      ]
     },
     "execution_count": 71,
     "metadata": {},
     "output_type": "execute_result"
    }
   ],
   "source": [
    "# 取得某個單字的dictnary id\n",
    "list(sentence_dict.keys())[list(sentence_dict.values()).index('scale')]"
   ]
  },
  {
   "cell_type": "code",
   "execution_count": 60,
   "metadata": {},
   "outputs": [
    {
     "data": {
      "text/plain": [
       "1"
      ]
     },
     "execution_count": 60,
     "metadata": {},
     "output_type": "execute_result"
    }
   ],
   "source": [
    "sentence_dict = {1: 'haha', 0: 'XD'}\n",
    "# 排列後找最後一個\n",
    "sorted(sentence_dict.keys())[-1]"
   ]
  },
  {
   "cell_type": "code",
   "execution_count": 52,
   "metadata": {},
   "outputs": [
    {
     "data": {
      "text/plain": [
       "0    [unsupervised, representation, learning, by, p...\n",
       "1    [emergent, communication, in, a, multi-modal,,...\n",
       "2    [fastgcn:, fast, learning, with, graph, convol...\n",
       "3    [emergent, translation, in, multi-agent, commu...\n",
       "4    [an, efficient, framework, for, learning, sent...\n",
       "Name: 0, dtype: object"
      ]
     },
     "execution_count": 52,
     "metadata": {},
     "output_type": "execute_result"
    }
   ],
   "source": [
    "X_train.head().str.split(' ')"
   ]
  },
  {
   "cell_type": "markdown",
   "metadata": {},
   "source": [
    "**底下這個cell是自動建立字典**"
   ]
  },
  {
   "cell_type": "code",
   "execution_count": 3,
   "metadata": {},
   "outputs": [],
   "source": [
    "from keras.preprocessing.text import Tokenizer\n",
    "# 自動轉小寫\n",
    "token = Tokenizer(lower=True)\n",
    "token.fit_on_texts(X_train)\n",
    "# 根據字典將句子轉換成數字\n",
    "X_train_seq = token.texts_to_sequences(X_train)\n",
    "X_test_seq = token.texts_to_sequences(X_test)"
   ]
  },
  {
   "cell_type": "markdown",
   "metadata": {},
   "source": [
    "統一長度"
   ]
  },
  {
   "cell_type": "code",
   "execution_count": 6,
   "metadata": {},
   "outputs": [],
   "source": [
    "from keras.preprocessing import sequence\n",
    "x_train_seq = sequence.pad_sequences(X_train_seq, maxlen=max_len)\n",
    "x_test_seq  = sequence.pad_sequences(X_test_seq,  maxlen=max_len)"
   ]
  },
  {
   "cell_type": "code",
   "execution_count": 34,
   "metadata": {},
   "outputs": [
    {
     "data": {
      "text/plain": [
       "2137"
      ]
     },
     "execution_count": 34,
     "metadata": {},
     "output_type": "execute_result"
    }
   ],
   "source": [
    "len(token.word_index)"
   ]
  },
  {
   "cell_type": "markdown",
   "metadata": {},
   "source": [
    "### model"
   ]
  },
  {
   "cell_type": "code",
   "execution_count": 7,
   "metadata": {},
   "outputs": [
    {
     "name": "stderr",
     "output_type": "stream",
     "text": [
      "WARNING: Logging before flag parsing goes to stderr.\n",
      "W0705 23:14:54.317387 13484 deprecation_wrapper.py:119] From c:\\users\\wade\\.virtualenvs\\19'_summer_vacation-ib8vnh7u\\lib\\site-packages\\keras\\backend\\tensorflow_backend.py:74: The name tf.get_default_graph is deprecated. Please use tf.compat.v1.get_default_graph instead.\n",
      "\n",
      "W0705 23:14:54.329567 13484 deprecation_wrapper.py:119] From c:\\users\\wade\\.virtualenvs\\19'_summer_vacation-ib8vnh7u\\lib\\site-packages\\keras\\backend\\tensorflow_backend.py:517: The name tf.placeholder is deprecated. Please use tf.compat.v1.placeholder instead.\n",
      "\n",
      "W0705 23:14:54.330569 13484 deprecation_wrapper.py:119] From c:\\users\\wade\\.virtualenvs\\19'_summer_vacation-ib8vnh7u\\lib\\site-packages\\keras\\backend\\tensorflow_backend.py:4138: The name tf.random_uniform is deprecated. Please use tf.random.uniform instead.\n",
      "\n",
      "W0705 23:14:55.150772 13484 deprecation_wrapper.py:119] From c:\\users\\wade\\.virtualenvs\\19'_summer_vacation-ib8vnh7u\\lib\\site-packages\\keras\\backend\\tensorflow_backend.py:133: The name tf.placeholder_with_default is deprecated. Please use tf.compat.v1.placeholder_with_default instead.\n",
      "\n",
      "W0705 23:14:55.154847 13484 deprecation.py:506] From c:\\users\\wade\\.virtualenvs\\19'_summer_vacation-ib8vnh7u\\lib\\site-packages\\keras\\backend\\tensorflow_backend.py:3445: calling dropout (from tensorflow.python.ops.nn_ops) with keep_prob is deprecated and will be removed in a future version.\n",
      "Instructions for updating:\n",
      "Please use `rate` instead of `keep_prob`. Rate should be set to `rate = 1 - keep_prob`.\n",
      "W0705 23:14:55.175773 13484 deprecation_wrapper.py:119] From c:\\users\\wade\\.virtualenvs\\19'_summer_vacation-ib8vnh7u\\lib\\site-packages\\keras\\optimizers.py:790: The name tf.train.Optimizer is deprecated. Please use tf.compat.v1.train.Optimizer instead.\n",
      "\n",
      "W0705 23:14:55.187801 13484 deprecation_wrapper.py:119] From c:\\users\\wade\\.virtualenvs\\19'_summer_vacation-ib8vnh7u\\lib\\site-packages\\keras\\backend\\tensorflow_backend.py:3341: The name tf.log is deprecated. Please use tf.math.log instead.\n",
      "\n"
     ]
    },
    {
     "name": "stdout",
     "output_type": "stream",
     "text": [
      "_________________________________________________________________\n",
      "Layer (type)                 Output Shape              Param #   \n",
      "=================================================================\n",
      "embedding_1 (Embedding)      (None, None, 5)           10685     \n",
      "_________________________________________________________________\n",
      "cu_dnnlstm_1 (CuDNNLSTM)     (None, None, 30)          4440      \n",
      "_________________________________________________________________\n",
      "cu_dnnlstm_2 (CuDNNLSTM)     (None, 20)                4160      \n",
      "_________________________________________________________________\n",
      "dropout_1 (Dropout)          (None, 20)                0         \n",
      "_________________________________________________________________\n",
      "dense_1 (Dense)              (None, 10)                210       \n",
      "_________________________________________________________________\n",
      "dense_2 (Dense)              (None, 2)                 22        \n",
      "=================================================================\n",
      "Total params: 19,517\n",
      "Trainable params: 19,517\n",
      "Non-trainable params: 0\n",
      "_________________________________________________________________\n"
     ]
    }
   ],
   "source": [
    "from keras.models import Sequential\n",
    "from keras.layers.core import Dense, Dropout, Activation\n",
    "from keras.layers import CuDNNLSTM\n",
    "from keras.layers.embeddings import Embedding\n",
    "\n",
    "model_LSTM = Sequential()\n",
    "\n",
    "# Embedding shape (字典詞的數量/ batch_size, 每個字的長度, 輸出的維度)\n",
    "model_LSTM.add(Embedding(output_dim=5, input_dim=len(token.word_index), input_length=max_len)) # 沒有 input_length也能訓練\n",
    "# model_LSTM.add(Embedding(output_dim=44, input_dim=len(sentence_dict), input_length=max_len))\n",
    "# LSTM輸入(samples，timesteps，input_dim），輸出(samples，timesteps，output_dim）\n",
    "model_LSTM.add(CuDNNLSTM(30, return_sequences=True))\n",
    "# model_LSTM.add(CuDNNLSTM(50, return_sequences=True))\n",
    "# model_LSTM.add(CuDNNLSTM(40, return_sequences=True))\n",
    "# model_LSTM.add(CuDNNLSTM(30, return_sequences=True))\n",
    "# model_LSTM.add(CuDNNLSTM(20, return_sequences=True))\n",
    "model_LSTM.add(CuDNNLSTM(20, return_sequences=False))\n",
    "\n",
    "model_LSTM.add(Dropout(0.25))\n",
    "\n",
    "# model_LSTM.add(Dense(20, activation='relu'))\n",
    "model_LSTM.add(Dense(10, activation='relu'))\n",
    "model_LSTM.add(Dense(2, activation='softmax'))\n",
    "\n",
    "model_LSTM.summary()\n",
    "\n",
    "model_LSTM.compile(loss='sparse_categorical_crossentropy', optimizer='adam', metrics=['accuracy'])"
   ]
  },
  {
   "cell_type": "code",
   "execution_count": 8,
   "metadata": {},
   "outputs": [
    {
     "name": "stderr",
     "output_type": "stream",
     "text": [
      "W0705 23:14:57.098093 13484 deprecation.py:323] From c:\\users\\wade\\.virtualenvs\\19'_summer_vacation-ib8vnh7u\\lib\\site-packages\\tensorflow\\python\\ops\\math_grad.py:1250: add_dispatch_support.<locals>.wrapper (from tensorflow.python.ops.array_ops) is deprecated and will be removed in a future version.\n",
      "Instructions for updating:\n",
      "Use tf.where in 2.0, which has the same broadcast rule as np.where\n"
     ]
    },
    {
     "name": "stdout",
     "output_type": "stream",
     "text": [
      "Train on 988 samples, validate on 247 samples\n",
      "Epoch 1/10\n",
      " - 3s - loss: 0.6933 - acc: 0.5395 - val_loss: 0.7351 - val_acc: 0.0000e+00\n",
      "Epoch 2/10\n",
      " - 0s - loss: 0.6923 - acc: 0.5476 - val_loss: 0.7419 - val_acc: 0.0000e+00\n",
      "Epoch 3/10\n",
      " - 0s - loss: 0.6897 - acc: 0.5385 - val_loss: 0.7671 - val_acc: 0.0000e+00\n",
      "Epoch 4/10\n",
      " - 0s - loss: 0.6861 - acc: 0.5405 - val_loss: 0.9175 - val_acc: 0.0000e+00\n",
      "Epoch 5/10\n",
      " - 0s - loss: 0.6737 - acc: 0.5526 - val_loss: 0.7544 - val_acc: 0.2105\n",
      "Epoch 6/10\n",
      " - 0s - loss: 0.5393 - acc: 0.7561 - val_loss: 1.9330 - val_acc: 0.2510\n",
      "Epoch 7/10\n",
      " - 0s - loss: 0.3414 - acc: 0.8654 - val_loss: 1.4879 - val_acc: 0.3644\n",
      "Epoch 8/10\n",
      " - 0s - loss: 0.2143 - acc: 0.9211 - val_loss: 1.9180 - val_acc: 0.3684\n",
      "Epoch 9/10\n",
      " - 0s - loss: 0.1515 - acc: 0.9575 - val_loss: 2.0282 - val_acc: 0.4696\n",
      "Epoch 10/10\n",
      " - 0s - loss: 0.1077 - acc: 0.9646 - val_loss: 2.6147 - val_acc: 0.4575\n"
     ]
    },
    {
     "data": {
      "text/plain": [
       "<keras.callbacks.History at 0x25ad1af0be0>"
      ]
     },
     "execution_count": 8,
     "metadata": {},
     "output_type": "execute_result"
    }
   ],
   "source": [
    "model_LSTM.fit(x_train_seq, y_train,batch_size=20, epochs=10,verbose=2, validation_split=0.2, shuffle=True)"
   ]
  },
  {
   "cell_type": "markdown",
   "metadata": {},
   "source": [
    "### test model"
   ]
  },
  {
   "cell_type": "code",
   "execution_count": 92,
   "metadata": {},
   "outputs": [
    {
     "name": "stdout",
     "output_type": "stream",
     "text": [
      "100/100 [==============================] - 0s 463us/step\n"
     ]
    },
    {
     "data": {
      "text/plain": [
       "[2.6161777496337892, 0.65]"
      ]
     },
     "execution_count": 92,
     "metadata": {},
     "output_type": "execute_result"
    }
   ],
   "source": [
    "model_LSTM.evaluate(x_test_seq, y_test)"
   ]
  },
  {
   "cell_type": "markdown",
   "metadata": {},
   "source": [
    "#### train的validation達到60趴, test上反而比較低"
   ]
  },
  {
   "cell_type": "code",
   "execution_count": 95,
   "metadata": {},
   "outputs": [
    {
     "name": "stdout",
     "output_type": "stream",
     "text": [
      "100/100 [==============================] - 0s 165us/step\n"
     ]
    },
    {
     "data": {
      "text/plain": [
       "[3.4139516735076905, 0.57]"
      ]
     },
     "execution_count": 95,
     "metadata": {},
     "output_type": "execute_result"
    }
   ],
   "source": [
    "model_LSTM.evaluate(x_test_seq, y_test)"
   ]
  },
  {
   "cell_type": "code",
   "execution_count": null,
   "metadata": {},
   "outputs": [],
   "source": []
  }
 ],
 "metadata": {
  "kernelspec": {
   "display_name": "Python 3",
   "language": "python",
   "name": "python3"
  },
  "language_info": {
   "codemirror_mode": {
    "name": "ipython",
    "version": 3
   },
   "file_extension": ".py",
   "mimetype": "text/x-python",
   "name": "python",
   "nbconvert_exporter": "python",
   "pygments_lexer": "ipython3",
   "version": "3.7.3"
  }
 },
 "nbformat": 4,
 "nbformat_minor": 2
}
