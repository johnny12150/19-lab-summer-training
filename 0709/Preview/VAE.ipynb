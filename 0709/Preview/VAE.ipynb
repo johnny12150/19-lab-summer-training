{
 "cells": [
  {
   "cell_type": "markdown",
   "metadata": {},
   "source": [
    "### 卡通圖片生成\n",
    "檔案高達500MB\n",
    "> https://drive.google.com/open?id=1yPgkbRGs1ihDoUJKEVhrZ9qb6-GHIBF3"
   ]
  },
  {
   "cell_type": "code",
   "execution_count": 1,
   "metadata": {},
   "outputs": [],
   "source": [
    "import tensorflow as tf\n",
    "import os \n",
    "\n",
    "os.environ[\"CUDA_VISIBLE_DEVICES\"] = \"0\" \n",
    "config = tf.ConfigProto() \n",
    "config.gpu_options.per_process_gpu_memory_fraction = 0.2\n",
    "session = tf.Session(config=config)"
   ]
  },
  {
   "cell_type": "code",
   "execution_count": 2,
   "metadata": {},
   "outputs": [],
   "source": [
    "import numpy as np\n",
    "import keras.backend as K\n",
    "import matplotlib.pyplot as plt\n",
    "from PIL import Image\n",
    "from glob import glob\n",
    "import os\n",
    "\n",
    "from keras.losses import binary_crossentropy\n",
    "from keras.models import Model\n",
    "from keras.layers import Conv2D, Conv2DTranspose, Dense, Input, BatchNormalization, Flatten, Lambda, Reshape, LeakyReLU, ReLU"
   ]
  },
  {
   "cell_type": "code",
   "execution_count": 8,
   "metadata": {},
   "outputs": [
    {
     "data": {
      "text/plain": [
       "10000"
      ]
     },
     "execution_count": 8,
     "metadata": {},
     "output_type": "execute_result"
    }
   ],
   "source": [
    "from glob import glob\n",
    "# 查看照片有幾張\n",
    "len(glob('./cartoon/*.png'))"
   ]
  },
  {
   "cell_type": "markdown",
   "metadata": {},
   "source": [
    "範例code\n",
    "> https://drive.google.com/file/d/104C4oZn07HEddGQI9E0-KAo24oSvGJYt/view"
   ]
  },
  {
   "cell_type": "code",
   "execution_count": 7,
   "metadata": {},
   "outputs": [],
   "source": [
    "class VAE:\n",
    "    def __init__(self, latent_dim=100, img_path='./cartoon'):\n",
    "        self.img_rows = 64\n",
    "        self.img_cols = 64\n",
    "        self.channels = 3\n",
    "        self.img_size = (self.img_rows, self.img_cols, self.channels)\n",
    "        self.latent_dim = latent_dim\n",
    "        self.img_path_list = glob(img_path + '/*.png')\n",
    "        self.img_data = self.load_data(self.img_size, self.img_path_list)\n",
    "    \n",
    "    def load_data(self, img_res, path_list):\n",
    "        def imread(path, img_res):           \n",
    "            return np.array(Image.open(path).convert('RGB').resize(img_res, Image.ANTIALIAS)) / 255\n",
    "        \n",
    "        img_set = np.zeros((len(path_list), ) + img_res)\n",
    "        for idx, rand_img_path in enumerate(path_list):\n",
    "            img_set[idx] = imread(rand_img_path, img_res[:2])[:,:,:3]\n",
    "        return img_set\n",
    "    \n",
    "    def build_encoder(self):\n",
    "        def sampling(args):\n",
    "            z_mu, z_logvar = args\n",
    "            batch = K.shape(z_mu)[0]\n",
    "            dim = K.int_shape(z_mu)[1]\n",
    "            epsilon = K.random_normal(shape=(batch, dim))\n",
    "            return z_mu + K.exp(0.5 * z_logvar) * epsilon\n",
    "        \n",
    "        inputs = Input(shape=self.img_size, name='encoder_input')        \n",
    "        h = Conv2D(16, kernel_size=4, strides=2, padding='same', name='conv1')(inputs)\n",
    "        h = LeakyReLU(alpha=0.2)(h)\n",
    "        \n",
    "        h = Conv2D(32, kernel_size=4, strides=2, padding='same', name='conv2')(h)\n",
    "        h = BatchNormalization()(h)\n",
    "        h = LeakyReLU(alpha=0.2)(h)\n",
    "        \n",
    "        h = Conv2D(64, kernel_size=4, strides=2, padding='same', name='conv3')(h)\n",
    "        h = BatchNormalization()(h)\n",
    "        h = LeakyReLU(alpha=0.2)(h)\n",
    "        \n",
    "        h = Conv2D(128, kernel_size=4, strides=2, padding='same', name='conv4')(h)\n",
    "        h = BatchNormalization()(h)\n",
    "        h = ReLU()(h)\n",
    "        \n",
    "        h = Flatten()(h)\n",
    "                \n",
    "        z_mu = Dense(latent_dim, name='z_mu')(h)\n",
    "        z_logvar = Dense(latent_dim, name='z_logvar')(h)\n",
    "        # 封裝成layer\n",
    "        z = Lambda(sampling, output_shape=(latent_dim,), name='z')([z_mu, z_logvar])\n",
    "        \n",
    "        return Model(inputs, [z, z_mu, z_logvar], name='encoder')\n",
    "\n",
    "    def build_decoder(self):\n",
    "        latent_inputs = Input(shape=(self.latent_dim,), name='z_sampling')\n",
    "        h = Reshape((1, 1, self.latent_dim))(latent_inputs)\n",
    "        h = Conv2DTranspose(128, kernel_size=4, strides=1, padding='valid', name='convT1')(h)\n",
    "        h = BatchNormalization()(h)\n",
    "        h = LeakyReLU(alpha=0.2)(h)\n",
    "        \n",
    "        h = Conv2DTranspose(64, kernel_size=4, strides=2, padding='same', name='convT2')(h)\n",
    "        h = BatchNormalization()(h)\n",
    "        h = LeakyReLU(alpha=0.2)(h)\n",
    "\n",
    "        h = Conv2DTranspose(32, kernel_size=4, strides=2, padding='same', name='convT3')(h)\n",
    "        h = BatchNormalization()(h)\n",
    "        h = LeakyReLU(alpha=0.2)(h)\n",
    "        \n",
    "        h = Conv2DTranspose(16, kernel_size=4, strides=2, padding='same', name='convT4')(h)\n",
    "        h = BatchNormalization()(h)\n",
    "        h = LeakyReLU(alpha=0.2)(h)\n",
    "        \n",
    "        outputs = Conv2DTranspose(3, kernel_size=4, strides=2, padding='same', activation='sigmoid', name='convT5')(h)\n",
    "\n",
    "        return Model(latent_inputs, outputs, name='decoder')\n",
    "    \n",
    "    def connect(self):\n",
    "        img_input = Input(shape=self.img_size)\n",
    "        self.encoder = self.build_encoder()\n",
    "        #self.encoder.summary()\n",
    "        self.decoder = self.build_decoder()\n",
    "        #self.decoder.summary()\n",
    "        output = self.decoder(self.encoder(img_input)[0])\n",
    "        \n",
    "        self.combined = Model(img_input, output, name='vae')\n",
    "        \n",
    "        _, z_mu, z_logvar = self.encoder.get_output_at(-1)\n",
    "        reconstruction_loss = binary_crossentropy(K.flatten(img_input), K.flatten(output))\n",
    "        reconstruction_loss *= self.img_size[0] * self.img_size[1] * self.img_size[2]\n",
    "        \n",
    "        kl_loss = 1 + z_logvar - K.square(z_mu) - K.exp(z_logvar)\n",
    "        kl_loss = K.sum(kl_loss, axis=-1) * -.5\n",
    "        vae_loss = K.mean(reconstruction_loss + kl_loss)\n",
    "        self.combined.add_loss(vae_loss)\n",
    "        self.combined.compile(optimizer='adam')\n",
    "        \n",
    "    def sample_image(self, iteration):\n",
    "        r, c = 4, 3\n",
    "        idx = np.random.choice(len(self.img_data), r*c, replace=False)\n",
    "        y = self.combined.predict(self.img_data[idx])\n",
    "\n",
    "        fig, axs = plt.subplots(r, c, figsize=(10,10))\n",
    "        cnt = 0\n",
    "        for j in range(r):\n",
    "            for i in range(c):\n",
    "                show = np.zeros((self.img_size[0], self.img_size[1]*2, self.img_size[2]))\n",
    "                show[:,:self.img_size[1]] = self.img_data[idx[cnt]]\n",
    "                show[:,self.img_size[1]:] = y[cnt]\n",
    "                axs[j, i].imshow(show)\n",
    "                axs[j, i].axis('off')\n",
    "                cnt = cnt+1\n",
    "        fig.savefig(\"images/reconst/%d.png\" % iteration)\n",
    "        plt.close()\n",
    "    \n",
    "    def generate_image(self, iteration):\n",
    "        r, c = 4, 4\n",
    "        z = np.random.standard_normal((r*c, self.latent_dim))\n",
    "        gen_img = self.decoder.predict(z)\n",
    "        \n",
    "        fig, axs = plt.subplots(r, c, figsize=(10,10))\n",
    "        cnt = 0\n",
    "        for j in range(r):\n",
    "            for i in range(c):                \n",
    "                axs[j, i].imshow(gen_img[cnt])\n",
    "                axs[j, i].axis('off')\n",
    "                cnt = cnt+1\n",
    "        fig.savefig(\"images/generate/%d.png\" % iteration)\n",
    "        plt.close()\n",
    "        \n",
    "    def generate_morphing_image(self):\n",
    "        r, c = 7, 7\n",
    "        z = np.zeros((r*c, self.latent_dim))\n",
    "        z[0] = np.random.standard_normal((1, self.latent_dim))\n",
    "        tmp = np.random.standard_normal((1, self.latent_dim)) - z[0]\n",
    "        for i in range(1, len(z)):\n",
    "            z[i] = z[i-1] + tmp / (r*c)      \n",
    "        \n",
    "        gen_img = self.decoder.predict(z)\n",
    "        fig, axs = plt.subplots(r, c, figsize=(10,10))\n",
    "        cnt = 0\n",
    "        for j in range(r):\n",
    "            for i in range(c):                \n",
    "                axs[j, i].imshow(gen_img[cnt])\n",
    "                axs[j, i].axis('off')\n",
    "                cnt = cnt+1\n",
    "        fig.savefig(\"images/morphing.png\")\n",
    "        plt.close()\n",
    "    \n",
    "    def show(self):\n",
    "        plt.plot(list(range(len(self.history))), self.history)\n",
    "        plt.ylabel('Loss')\n",
    "        plt.xlabel('epochs')\n",
    "        plt.title('Learning curve')\n",
    "        plt.savefig('images/learning_curve.png')\n",
    "\n",
    "    def train(self, epochs, batch_size):\n",
    "        self.history = [] \n",
    "        for i in range(epochs):\n",
    "            history = self.combined.fit(self.img_data, epochs=1, batch_size=batch_size, verbose=0)\n",
    "            self.history += history.history['loss']            \n",
    "            if i % 10 == 0:\n",
    "                print(\"[Epoch %d/%d] [VAE loss: %f]\" % (i, epochs, self.history[-1]))\n",
    "                self.sample_image(i)\n",
    "                self.generate_image(i)"
   ]
  },
  {
   "cell_type": "code",
   "execution_count": 8,
   "metadata": {},
   "outputs": [],
   "source": [
    "batch_size = 100\n",
    "latent_dim = 50\n",
    "epochs = 200\n",
    "if not os.path.exists('images/reconst'):\n",
    "    os.makedirs('images/reconst')\n",
    "if not os.path.exists('images/generate'):\n",
    "    os.makedirs('images/generate')"
   ]
  },
  {
   "cell_type": "code",
   "execution_count": 9,
   "metadata": {},
   "outputs": [
    {
     "name": "stdout",
     "output_type": "stream",
     "text": [
      "[Epoch 0/200] [VAE loss: 4388.832800]\n",
      "[Epoch 10/200] [VAE loss: 1808.127864]\n",
      "[Epoch 20/200] [VAE loss: 1773.502456]\n",
      "[Epoch 30/200] [VAE loss: 1760.468622]\n",
      "[Epoch 40/200] [VAE loss: 1751.882668]\n",
      "[Epoch 50/200] [VAE loss: 1746.817916]\n",
      "[Epoch 60/200] [VAE loss: 1741.669037]\n",
      "[Epoch 70/200] [VAE loss: 1740.344943]\n",
      "[Epoch 80/200] [VAE loss: 1736.072860]\n",
      "[Epoch 90/200] [VAE loss: 1734.449540]\n",
      "[Epoch 100/200] [VAE loss: 1732.491997]\n",
      "[Epoch 110/200] [VAE loss: 1731.069037]\n",
      "[Epoch 120/200] [VAE loss: 1728.851628]\n",
      "[Epoch 130/200] [VAE loss: 1727.570599]\n",
      "[Epoch 140/200] [VAE loss: 1727.235914]\n",
      "[Epoch 150/200] [VAE loss: 1726.014387]\n",
      "[Epoch 160/200] [VAE loss: 1725.169625]\n",
      "[Epoch 170/200] [VAE loss: 1724.059745]\n",
      "[Epoch 180/200] [VAE loss: 1723.085514]\n",
      "[Epoch 190/200] [VAE loss: 1722.711204]\n"
     ]
    },
    {
     "data": {
      "image/png": "[encoded data removed]",
      "text/plain": [
       "<Figure size 432x288 with 1 Axes>"
      ]
     },
     "metadata": {
      "needs_background": "light"
     },
     "output_type": "display_data"
    }
   ],
   "source": [
    "%% time\n",
    "\n",
    "vae = VAE(latent_dim=latent_dim)\n",
    "vae.connect()\n",
    "vae.train(epochs, batch_size)\n",
    "vae.show()"
   ]
  },
  {
   "cell_type": "code",
   "execution_count": 10,
   "metadata": {},
   "outputs": [],
   "source": [
    "%%time\n",
    "vae.generate_morphing_image()"
   ]
  },
  {
   "cell_type": "code",
   "execution_count": null,
   "metadata": {},
   "outputs": [],
   "source": []
  }
 ],
 "metadata": {
  "kernelspec": {
   "display_name": "Python 3",
   "language": "python",
   "name": "python3"
  },
  "language_info": {
   "codemirror_mode": {
    "name": "ipython",
    "version": 3
   },
   "file_extension": ".py",
   "mimetype": "text/x-python",
   "name": "python",
   "nbconvert_exporter": "python",
   "pygments_lexer": "ipython3",
   "version": "3.7.3"
  }
 },
 "nbformat": 4,
 "nbformat_minor": 2
}
