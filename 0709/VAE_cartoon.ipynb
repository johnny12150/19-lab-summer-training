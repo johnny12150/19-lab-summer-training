{
 "cells": [
  {
   "cell_type": "markdown",
   "metadata": {},
   "source": [
    "# VAE\n",
    "> https://1drv.ms/p/s!Aigohf1HXs8Uj2CoEgQFiOplWxnZ"
   ]
  },
  {
   "cell_type": "code",
   "execution_count": 1,
   "metadata": {},
   "outputs": [],
   "source": [
    "from glob import glob\n",
    "\n",
    "# 決定要把讀進來的照片resize的程度\n",
    "img_rows = 128\n",
    "img_cols = 128\n",
    "channels = 3\n",
    "img_size = (img_rows, img_cols, channels)\n",
    "latent_dim = 50\n",
    "img_path_list = glob('./Preview/cartoon/*.png')"
   ]
  },
  {
   "cell_type": "code",
   "execution_count": 2,
   "metadata": {},
   "outputs": [],
   "source": [
    "from PIL import Image\n",
    "\n",
    "def load_data(img_res, path_list):\n",
    "    def imread(path, img_res):\n",
    "        # 用 PIL讀圖片\n",
    "        return np.array(Image.open(path).convert('RGB').resize(img_res, Image.ANTIALIAS)) / 255\n",
    "        \n",
    "    img_set = np.zeros((len(path_list), ) + img_res)\n",
    "    # 根據檔案名稱分次讀圖近來\n",
    "    for idx, rand_img_path in enumerate(path_list):\n",
    "        img_set[idx] = imread(rand_img_path, img_res[:2])[:,:,:3]\n",
    "            \n",
    "    return img_set"
   ]
  },
  {
   "cell_type": "code",
   "execution_count": 3,
   "metadata": {},
   "outputs": [
    {
     "name": "stdout",
     "output_type": "stream",
     "text": [
      "Wall time: 42.5 s\n"
     ]
    }
   ],
   "source": [
    "%%time\n",
    "img_data = load_data(img_size, img_path_list)"
   ]
  },
  {
   "cell_type": "markdown",
   "metadata": {},
   "source": [
    "ram大概吃4G"
   ]
  },
  {
   "cell_type": "code",
   "execution_count": 4,
   "metadata": {},
   "outputs": [
    {
     "data": {
      "text/plain": [
       "3932160144"
      ]
     },
     "execution_count": 4,
     "metadata": {},
     "output_type": "execute_result"
    }
   ],
   "source": [
    "from sys import getsizeof\n",
    "getsizeof(img_data)"
   ]
  },
  {
   "cell_type": "code",
   "execution_count": 52,
   "metadata": {},
   "outputs": [
    {
     "data": {
      "text/plain": [
       "(10000, 128, 128, 3)"
      ]
     },
     "execution_count": 52,
     "metadata": {},
     "output_type": "execute_result"
    }
   ],
   "source": [
    "img_data.shape"
   ]
  },
  {
   "cell_type": "markdown",
   "metadata": {},
   "source": [
    "### Encoder"
   ]
  },
  {
   "cell_type": "code",
   "execution_count": 5,
   "metadata": {},
   "outputs": [],
   "source": [
    "import keras.backend as K\n",
    "\n",
    "def build_encoder():\n",
    "    # sample mean and variance\n",
    "    def sampling(args):\n",
    "        z_mu, z_logvar = args\n",
    "        # K.shape為symbolic shape of a tensor or variable\n",
    "        batch = K.shape(z_mu)[0]\n",
    "        dim = K.int_shape(z_mu)[1]\n",
    "        epsilon = K.random_normal(shape=(batch, dim))\n",
    "        return z_mu + K.exp(0.5 * z_logvar) * epsilon\n",
    "            \n",
    "    inputs = Input(shape=img_size, name='encoder_input')        \n",
    "    h = Conv2D(16, kernel_size=4, strides=2, padding='same', name='conv1')(inputs)\n",
    "    h = LeakyReLU(alpha=0.2)(h)\n",
    "\n",
    "    h = Conv2D(32, kernel_size=4, strides=2, padding='same', name='conv2')(h)\n",
    "    h = BatchNormalization()(h)\n",
    "    h = LeakyReLU(alpha=0.2)(h)\n",
    "\n",
    "    h = Conv2D(64, kernel_size=4, strides=2, padding='same', name='conv3')(h)\n",
    "    h = BatchNormalization()(h)\n",
    "    h = LeakyReLU(alpha=0.2)(h)\n",
    "\n",
    "    h = Conv2D(128, kernel_size=4, strides=2, padding='same', name='conv4')(h)\n",
    "    h = BatchNormalization()(h)\n",
    "    h = ReLU()(h)\n",
    "\n",
    "    h = Flatten()(h)\n",
    "\n",
    "     # 最後兩層dense代表 mu跟sigma  \n",
    "    z_mu = Dense(latent_dim, name='z_mu')(h)\n",
    "    z_logvar = Dense(latent_dim, name='z_logvar')(h)\n",
    "    # 封裝成layer\n",
    "    z = Lambda(sampling, output_shape=(latent_dim,), name='z')([z_mu, z_logvar])\n",
    "\n",
    "    return Model(inputs, [z, z_mu, z_logvar], name='encoder')"
   ]
  },
  {
   "cell_type": "markdown",
   "metadata": {},
   "source": [
    "### Decoder"
   ]
  },
  {
   "cell_type": "code",
   "execution_count": 12,
   "metadata": {},
   "outputs": [],
   "source": [
    "def build_decoder():\n",
    "    latent_inputs = Input(shape=(latent_dim,), name='z_sampling')\n",
    "    h = Reshape((1, 1, latent_dim))(latent_inputs)\n",
    "    h = Conv2DTranspose(128, kernel_size=4, strides=1, padding='valid', name='convT1')(h)\n",
    "    h = BatchNormalization()(h)\n",
    "    h = LeakyReLU(alpha=0.2)(h)\n",
    "\n",
    "    h = Conv2DTranspose(64, kernel_size=4, strides=2, padding='same', name='convT2')(h)\n",
    "    h = BatchNormalization()(h)\n",
    "    h = LeakyReLU(alpha=0.2)(h)\n",
    "\n",
    "    h = Conv2DTranspose(32, kernel_size=4, strides=2, padding='same', name='convT3')(h)\n",
    "    h = BatchNormalization()(h)\n",
    "    h = LeakyReLU(alpha=0.2)(h)\n",
    "\n",
    "    h = Conv2DTranspose(16, kernel_size=4, strides=2, padding='same', name='convT4')(h)\n",
    "    h = BatchNormalization()(h)\n",
    "    h = LeakyReLU(alpha=0.2)(h)\n",
    "    \n",
    "    # 圖片是128*128要多一層 upsampling, (跟encoder的層數不一樣還是可以跑)\n",
    "    h = Conv2DTranspose(16, kernel_size=4, strides=2, padding='same', name='convT5')(h)\n",
    "    h = BatchNormalization()(h)\n",
    "    h = LeakyReLU(alpha=0.2)(h)\n",
    "    \n",
    "\n",
    "    outputs = Conv2DTranspose(3, kernel_size=4, strides=2, padding='same', activation='sigmoid', name='convT6')(h)\n",
    "\n",
    "    return Model(latent_inputs, outputs, name='decoder')"
   ]
  },
  {
   "cell_type": "code",
   "execution_count": 7,
   "metadata": {},
   "outputs": [
    {
     "name": "stderr",
     "output_type": "stream",
     "text": [
      "WARNING: Logging before flag parsing goes to stderr.\n",
      "W0709 18:48:09.119310 15700 deprecation_wrapper.py:119] From c:\\users\\wade\\.virtualenvs\\19'_summer_vacation-ib8vnh7u\\lib\\site-packages\\keras\\backend\\tensorflow_backend.py:74: The name tf.get_default_graph is deprecated. Please use tf.compat.v1.get_default_graph instead.\n",
      "\n",
      "W0709 18:48:09.128310 15700 deprecation_wrapper.py:119] From c:\\users\\wade\\.virtualenvs\\19'_summer_vacation-ib8vnh7u\\lib\\site-packages\\keras\\backend\\tensorflow_backend.py:517: The name tf.placeholder is deprecated. Please use tf.compat.v1.placeholder instead.\n",
      "\n",
      "W0709 18:48:09.130312 15700 deprecation_wrapper.py:119] From c:\\users\\wade\\.virtualenvs\\19'_summer_vacation-ib8vnh7u\\lib\\site-packages\\keras\\backend\\tensorflow_backend.py:4138: The name tf.random_uniform is deprecated. Please use tf.random.uniform instead.\n",
      "\n",
      "W0709 18:48:09.153331 15700 deprecation_wrapper.py:119] From c:\\users\\wade\\.virtualenvs\\19'_summer_vacation-ib8vnh7u\\lib\\site-packages\\keras\\backend\\tensorflow_backend.py:174: The name tf.get_default_session is deprecated. Please use tf.compat.v1.get_default_session instead.\n",
      "\n",
      "W0709 18:48:09.153331 15700 deprecation_wrapper.py:119] From c:\\users\\wade\\.virtualenvs\\19'_summer_vacation-ib8vnh7u\\lib\\site-packages\\keras\\backend\\tensorflow_backend.py:181: The name tf.ConfigProto is deprecated. Please use tf.compat.v1.ConfigProto instead.\n",
      "\n",
      "W0709 18:48:10.219947 15700 deprecation_wrapper.py:119] From c:\\users\\wade\\.virtualenvs\\19'_summer_vacation-ib8vnh7u\\lib\\site-packages\\keras\\backend\\tensorflow_backend.py:1834: The name tf.nn.fused_batch_norm is deprecated. Please use tf.compat.v1.nn.fused_batch_norm instead.\n",
      "\n"
     ]
    },
    {
     "name": "stdout",
     "output_type": "stream",
     "text": [
      "__________________________________________________________________________________________________\n",
      "Layer (type)                    Output Shape         Param #     Connected to                     \n",
      "==================================================================================================\n",
      "encoder_input (InputLayer)      (None, 128, 128, 3)  0                                            \n",
      "__________________________________________________________________________________________________\n",
      "conv1 (Conv2D)                  (None, 64, 64, 16)   784         encoder_input[0][0]              \n",
      "__________________________________________________________________________________________________\n",
      "leaky_re_lu_1 (LeakyReLU)       (None, 64, 64, 16)   0           conv1[0][0]                      \n",
      "__________________________________________________________________________________________________\n",
      "conv2 (Conv2D)                  (None, 32, 32, 32)   8224        leaky_re_lu_1[0][0]              \n",
      "__________________________________________________________________________________________________\n",
      "batch_normalization_1 (BatchNor (None, 32, 32, 32)   128         conv2[0][0]                      \n",
      "__________________________________________________________________________________________________\n",
      "leaky_re_lu_2 (LeakyReLU)       (None, 32, 32, 32)   0           batch_normalization_1[0][0]      \n",
      "__________________________________________________________________________________________________\n",
      "conv3 (Conv2D)                  (None, 16, 16, 64)   32832       leaky_re_lu_2[0][0]              \n",
      "__________________________________________________________________________________________________\n",
      "batch_normalization_2 (BatchNor (None, 16, 16, 64)   256         conv3[0][0]                      \n",
      "__________________________________________________________________________________________________\n",
      "leaky_re_lu_3 (LeakyReLU)       (None, 16, 16, 64)   0           batch_normalization_2[0][0]      \n",
      "__________________________________________________________________________________________________\n",
      "conv4 (Conv2D)                  (None, 8, 8, 128)    131200      leaky_re_lu_3[0][0]              \n",
      "__________________________________________________________________________________________________\n",
      "batch_normalization_3 (BatchNor (None, 8, 8, 128)    512         conv4[0][0]                      \n",
      "__________________________________________________________________________________________________\n",
      "re_lu_1 (ReLU)                  (None, 8, 8, 128)    0           batch_normalization_3[0][0]      \n",
      "__________________________________________________________________________________________________\n",
      "flatten_1 (Flatten)             (None, 8192)         0           re_lu_1[0][0]                    \n",
      "__________________________________________________________________________________________________\n",
      "z_mu (Dense)                    (None, 50)           409650      flatten_1[0][0]                  \n",
      "__________________________________________________________________________________________________\n",
      "z_logvar (Dense)                (None, 50)           409650      flatten_1[0][0]                  \n",
      "__________________________________________________________________________________________________\n",
      "z (Lambda)                      (None, 50)           0           z_mu[0][0]                       \n",
      "                                                                 z_logvar[0][0]                   \n",
      "==================================================================================================\n",
      "Total params: 993,236\n",
      "Trainable params: 992,788\n",
      "Non-trainable params: 448\n",
      "__________________________________________________________________________________________________\n"
     ]
    }
   ],
   "source": [
    "from keras.losses import binary_crossentropy\n",
    "from keras.models import Model\n",
    "from keras.layers import Conv2D, Conv2DTranspose, Dense, Input, BatchNormalization, Flatten, Lambda, Reshape, LeakyReLU, ReLU\n",
    "\n",
    "img_input = Input(shape=img_size)\n",
    "encoder = build_encoder()\n",
    "encoder.summary()"
   ]
  },
  {
   "cell_type": "code",
   "execution_count": 13,
   "metadata": {},
   "outputs": [
    {
     "name": "stdout",
     "output_type": "stream",
     "text": [
      "_________________________________________________________________\n",
      "Layer (type)                 Output Shape              Param #   \n",
      "=================================================================\n",
      "z_sampling (InputLayer)      (None, 50)                0         \n",
      "_________________________________________________________________\n",
      "reshape_3 (Reshape)          (None, 1, 1, 50)          0         \n",
      "_________________________________________________________________\n",
      "convT1 (Conv2DTranspose)     (None, 4, 4, 128)         102528    \n",
      "_________________________________________________________________\n",
      "batch_normalization_14 (Batc (None, 4, 4, 128)         512       \n",
      "_________________________________________________________________\n",
      "leaky_re_lu_14 (LeakyReLU)   (None, 4, 4, 128)         0         \n",
      "_________________________________________________________________\n",
      "convT2 (Conv2DTranspose)     (None, 8, 8, 64)          131136    \n",
      "_________________________________________________________________\n",
      "batch_normalization_15 (Batc (None, 8, 8, 64)          256       \n",
      "_________________________________________________________________\n",
      "leaky_re_lu_15 (LeakyReLU)   (None, 8, 8, 64)          0         \n",
      "_________________________________________________________________\n",
      "convT3 (Conv2DTranspose)     (None, 16, 16, 32)        32800     \n",
      "_________________________________________________________________\n",
      "batch_normalization_16 (Batc (None, 16, 16, 32)        128       \n",
      "_________________________________________________________________\n",
      "leaky_re_lu_16 (LeakyReLU)   (None, 16, 16, 32)        0         \n",
      "_________________________________________________________________\n",
      "convT4 (Conv2DTranspose)     (None, 32, 32, 16)        8208      \n",
      "_________________________________________________________________\n",
      "batch_normalization_17 (Batc (None, 32, 32, 16)        64        \n",
      "_________________________________________________________________\n",
      "leaky_re_lu_17 (LeakyReLU)   (None, 32, 32, 16)        0         \n",
      "_________________________________________________________________\n",
      "convT5 (Conv2DTranspose)     (None, 64, 64, 16)        4112      \n",
      "_________________________________________________________________\n",
      "batch_normalization_18 (Batc (None, 64, 64, 16)        64        \n",
      "_________________________________________________________________\n",
      "leaky_re_lu_18 (LeakyReLU)   (None, 64, 64, 16)        0         \n",
      "_________________________________________________________________\n",
      "convT6 (Conv2DTranspose)     (None, 128, 128, 3)       771       \n",
      "=================================================================\n",
      "Total params: 280,579\n",
      "Trainable params: 280,067\n",
      "Non-trainable params: 512\n",
      "_________________________________________________________________\n"
     ]
    }
   ],
   "source": [
    "decoder = build_decoder()\n",
    "decoder.summary()"
   ]
  },
  {
   "cell_type": "markdown",
   "metadata": {},
   "source": [
    "### 連結encoder, decoder"
   ]
  },
  {
   "cell_type": "code",
   "execution_count": 14,
   "metadata": {},
   "outputs": [
    {
     "name": "stderr",
     "output_type": "stream",
     "text": [
      "W0709 18:49:18.032484 15700 deprecation.py:323] From c:\\users\\wade\\.virtualenvs\\19'_summer_vacation-ib8vnh7u\\lib\\site-packages\\tensorflow\\python\\ops\\nn_impl.py:180: add_dispatch_support.<locals>.wrapper (from tensorflow.python.ops.array_ops) is deprecated and will be removed in a future version.\n",
      "Instructions for updating:\n",
      "Use tf.where in 2.0, which has the same broadcast rule as np.where\n",
      "W0709 18:49:18.042484 15700 deprecation_wrapper.py:119] From c:\\users\\wade\\.virtualenvs\\19'_summer_vacation-ib8vnh7u\\lib\\site-packages\\keras\\optimizers.py:790: The name tf.train.Optimizer is deprecated. Please use tf.compat.v1.train.Optimizer instead.\n",
      "\n"
     ]
    }
   ],
   "source": [
    "output = decoder(encoder(img_input)[0])\n",
    "combined = Model(img_input, output, name='vae')\n",
    "_, z_mu, z_logvar = encoder.get_output_at(-1)\n",
    "# 計算construction loss\n",
    "reconstruction_loss = binary_crossentropy(K.flatten(img_input), K.flatten(output))\n",
    "reconstruction_loss *= img_size[0] * img_size[1] * img_size[2]\n",
    "\n",
    "kl_loss = 1 + z_logvar - K.square(z_mu) - K.exp(z_logvar)\n",
    "kl_loss = K.sum(kl_loss, axis=-1) * -.5\n",
    "vae_loss = K.mean(reconstruction_loss + kl_loss)\n",
    "combined.add_loss(vae_loss)\n",
    "combined.compile(optimizer='adam')"
   ]
  },
  {
   "cell_type": "markdown",
   "metadata": {},
   "source": [
    "### 查看VAE還原能力"
   ]
  },
  {
   "cell_type": "code",
   "execution_count": 25,
   "metadata": {},
   "outputs": [],
   "source": [
    "def sample_image(iteration):\n",
    "    r, c = 4, 3\n",
    "    idx = np.random.choice(len(img_data), r*c, replace=False)\n",
    "    y = combined.predict(img_data[idx])\n",
    "\n",
    "    fig, axs = plt.subplots(r, c, figsize=(10,10))\n",
    "    cnt = 0\n",
    "    for j in range(r):\n",
    "        for i in range(c):\n",
    "            show = np.zeros((img_size[0], img_size[1]*2, img_size[2]))\n",
    "            show[:,:img_size[1]] = img_data[idx[cnt]]\n",
    "            show[:,img_size[1]:] = y[cnt]\n",
    "            axs[j, i].imshow(show)\n",
    "            axs[j, i].axis('off')\n",
    "            cnt = cnt+1\n",
    "    fig.savefig(\"images/reconst/%d.png\" % iteration)\n",
    "    plt.close()"
   ]
  },
  {
   "cell_type": "markdown",
   "metadata": {},
   "source": [
    "### Given 常態分佈產生圖"
   ]
  },
  {
   "cell_type": "code",
   "execution_count": 16,
   "metadata": {},
   "outputs": [],
   "source": [
    "def generate_image(iteration):\n",
    "    r, c = 4, 4\n",
    "    z = np.random.standard_normal((r*c, latent_dim))\n",
    "    gen_img = decoder.predict(z)\n",
    "\n",
    "    fig, axs = plt.subplots(r, c, figsize=(10,10))\n",
    "    cnt = 0\n",
    "    for j in range(r):\n",
    "        for i in range(c):                \n",
    "            axs[j, i].imshow(gen_img[cnt])\n",
    "            axs[j, i].axis('off')\n",
    "            cnt = cnt+1\n",
    "    fig.savefig(\"images/generate/%d.png\" % iteration)\n",
    "    plt.close()"
   ]
  },
  {
   "cell_type": "code",
   "execution_count": 23,
   "metadata": {},
   "outputs": [],
   "source": [
    "def train(epochs, batch_size):\n",
    "    history_list = [] \n",
    "    for i in range(epochs):\n",
    "        history_vae = combined.fit(img_data, epochs=1, batch_size=batch_size, verbose=0)\n",
    "        history_list += history_vae.history['loss']            \n",
    "        if i % 10 == 0:\n",
    "            # 印最新一次的loss\n",
    "            print(\"[Epoch %d/%d] [VAE loss: %f]\" % (i, epochs, history_list[-1]))\n",
    "            sample_image(i)\n",
    "            generate_image(i)\n",
    "            \n",
    "    show(history_list)"
   ]
  },
  {
   "cell_type": "code",
   "execution_count": 18,
   "metadata": {},
   "outputs": [],
   "source": [
    "%matplotlib inline\n",
    "import matplotlib.pyplot as plt\n",
    "\n",
    "def show(history):\n",
    "    plt.plot(list(range(len(history))), history)\n",
    "    plt.ylabel('Loss')\n",
    "    plt.xlabel('epochs')\n",
    "    plt.title('Learning curve ' + batch_size + ' * '+ batch_size)\n",
    "    plt.savefig('images/learning_curve.png')"
   ]
  },
  {
   "cell_type": "code",
   "execution_count": 32,
   "metadata": {},
   "outputs": [],
   "source": [
    "import os\n",
    "\n",
    "batch_size = 100\n",
    "epochs = 250\n",
    "\n",
    "if not os.path.exists('images/reconst'):\n",
    "    os.makedirs('images/reconst')\n",
    "if not os.path.exists('images/generate'):\n",
    "    os.makedirs('images/generate')"
   ]
  },
  {
   "cell_type": "code",
   "execution_count": 33,
   "metadata": {},
   "outputs": [
    {
     "name": "stdout",
     "output_type": "stream",
     "text": [
      "[Epoch 0/250] [VAE loss: 6328.366396]\n",
      "[Epoch 10/250] [VAE loss: 6328.505640]\n",
      "[Epoch 20/250] [VAE loss: 6327.532119]\n",
      "[Epoch 30/250] [VAE loss: 6326.282681]\n",
      "[Epoch 40/250] [VAE loss: 6326.459937]\n",
      "[Epoch 50/250] [VAE loss: 6326.107686]\n",
      "[Epoch 60/250] [VAE loss: 6325.538379]\n",
      "[Epoch 70/250] [VAE loss: 6324.977578]\n",
      "[Epoch 80/250] [VAE loss: 6324.727383]\n",
      "[Epoch 90/250] [VAE loss: 6324.734790]\n",
      "[Epoch 100/250] [VAE loss: 6325.459116]\n",
      "[Epoch 110/250] [VAE loss: 6323.715347]\n",
      "[Epoch 120/250] [VAE loss: 6324.981279]\n",
      "[Epoch 130/250] [VAE loss: 6323.388521]\n",
      "[Epoch 140/250] [VAE loss: 6322.873467]\n",
      "[Epoch 150/250] [VAE loss: 6322.342773]\n",
      "[Epoch 160/250] [VAE loss: 6323.370039]\n",
      "[Epoch 170/250] [VAE loss: 6322.188232]\n",
      "[Epoch 180/250] [VAE loss: 6322.011709]\n",
      "[Epoch 190/250] [VAE loss: 6322.568594]\n",
      "[Epoch 200/250] [VAE loss: 6320.932642]\n",
      "[Epoch 210/250] [VAE loss: 6320.876064]\n",
      "[Epoch 220/250] [VAE loss: 6320.761870]\n",
      "[Epoch 230/250] [VAE loss: 6320.825059]\n",
      "[Epoch 240/250] [VAE loss: 6319.824951]\n",
      "Wall time: 20min 46s\n"
     ]
    },
    {
     "data": {
      "image/png": "[encoded data removed]",
      "text/plain": [
       "<Figure size 432x288 with 1 Axes>"
      ]
     },
     "metadata": {
      "needs_background": "light"
     },
     "output_type": "display_data"
    }
   ],
   "source": [
    "%%time\n",
    "train(epochs, batch_size)"
   ]
  },
  {
   "cell_type": "code",
   "execution_count": 34,
   "metadata": {},
   "outputs": [],
   "source": [
    "def generate_morphing_image():\n",
    "    r, c = 7, 7\n",
    "    z = np.zeros((r*c, latent_dim))\n",
    "    z[0] = np.random.standard_normal((1, latent_dim))\n",
    "    tmp = np.random.standard_normal((1, latent_dim)) - z[0]\n",
    "    for i in range(1, len(z)):\n",
    "        z[i] = z[i-1] + tmp / (r*c)      \n",
    "\n",
    "    gen_img = decoder.predict(z)\n",
    "    fig, axs = plt.subplots(r, c, figsize=(10,10))\n",
    "    cnt = 0\n",
    "    for j in range(r):\n",
    "        for i in range(c):                \n",
    "            axs[j, i].imshow(gen_img[cnt])\n",
    "            axs[j, i].axis('off')\n",
    "            cnt = cnt+1\n",
    "    fig.savefig(\"images/morphing_128_250.png\")\n",
    "    plt.close()\n",
    "    \n",
    "generate_morphing_image()"
   ]
  },
  {
   "cell_type": "code",
   "execution_count": null,
   "metadata": {},
   "outputs": [],
   "source": []
  }
 ],
 "metadata": {
  "kernelspec": {
   "display_name": "Python 3",
   "language": "python",
   "name": "python3"
  },
  "language_info": {
   "codemirror_mode": {
    "name": "ipython",
    "version": 3
   },
   "file_extension": ".py",
   "mimetype": "text/x-python",
   "name": "python",
   "nbconvert_exporter": "python",
   "pygments_lexer": "ipython3",
   "version": "3.7.3"
  }
 },
 "nbformat": 4,
 "nbformat_minor": 2
}
