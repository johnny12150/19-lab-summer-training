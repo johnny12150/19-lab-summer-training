{
 "cells": [
  {
   "cell_type": "code",
   "execution_count": 7,
   "metadata": {},
   "outputs": [],
   "source": [
    "from keras.datasets import mnist\n",
    "import numpy as np\n",
    "\n",
    "(x_train, _), (x_test, _) = mnist.load_data()\n",
    "x_train = x_train.astype('float32')/ 255.\n",
    "x_test = x_test.astype('float32')/ 255.\n",
    "x_train = x_train.reshape(60000, 784)\n",
    "x_test = x_test.reshape(10000, 784)"
   ]
  },
  {
   "cell_type": "markdown",
   "metadata": {},
   "source": [
    "---\n",
    "### 2種reshape方式\n",
    "原始的shape"
   ]
  },
  {
   "cell_type": "code",
   "execution_count": 5,
   "metadata": {},
   "outputs": [
    {
     "data": {
      "text/plain": [
       "(60000, 28, 28)"
      ]
     },
     "execution_count": 5,
     "metadata": {},
     "output_type": "execute_result"
    }
   ],
   "source": [
    "x_train.shape"
   ]
  },
  {
   "cell_type": "code",
   "execution_count": 2,
   "metadata": {},
   "outputs": [
    {
     "data": {
      "text/plain": [
       "array([[0., 0., 0., ..., 0., 0., 0.],\n",
       "       [0., 0., 0., ..., 0., 0., 0.],\n",
       "       [0., 0., 0., ..., 0., 0., 0.],\n",
       "       ...,\n",
       "       [0., 0., 0., ..., 0., 0., 0.],\n",
       "       [0., 0., 0., ..., 0., 0., 0.],\n",
       "       [0., 0., 0., ..., 0., 0., 0.]], dtype=float32)"
      ]
     },
     "execution_count": 2,
     "metadata": {},
     "output_type": "execute_result"
    }
   ],
   "source": [
    "np.reshape(x_train, (60000, 784))"
   ]
  },
  {
   "cell_type": "code",
   "execution_count": 3,
   "metadata": {},
   "outputs": [
    {
     "data": {
      "text/plain": [
       "array([[0., 0., 0., ..., 0., 0., 0.],\n",
       "       [0., 0., 0., ..., 0., 0., 0.],\n",
       "       [0., 0., 0., ..., 0., 0., 0.],\n",
       "       ...,\n",
       "       [0., 0., 0., ..., 0., 0., 0.],\n",
       "       [0., 0., 0., ..., 0., 0., 0.],\n",
       "       [0., 0., 0., ..., 0., 0., 0.]], dtype=float32)"
      ]
     },
     "execution_count": 3,
     "metadata": {},
     "output_type": "execute_result"
    }
   ],
   "source": [
    "x_train.reshape(60000, 784)"
   ]
  },
  {
   "cell_type": "code",
   "execution_count": 6,
   "metadata": {},
   "outputs": [
    {
     "data": {
      "text/plain": [
       "(60000, 784)"
      ]
     },
     "execution_count": 6,
     "metadata": {},
     "output_type": "execute_result"
    }
   ],
   "source": [
    "x_train.reshape(60000, 784).shape"
   ]
  },
  {
   "cell_type": "markdown",
   "metadata": {},
   "source": [
    "---\n",
    "### model"
   ]
  },
  {
   "cell_type": "code",
   "execution_count": 9,
   "metadata": {},
   "outputs": [
    {
     "name": "stderr",
     "output_type": "stream",
     "text": [
      "W0707 20:42:00.430141  9784 deprecation_wrapper.py:119] From c:\\users\\wade\\.virtualenvs\\19'_summer_vacation-ib8vnh7u\\lib\\site-packages\\keras\\optimizers.py:790: The name tf.train.Optimizer is deprecated. Please use tf.compat.v1.train.Optimizer instead.\n",
      "\n",
      "W0707 20:42:00.441141  9784 deprecation_wrapper.py:119] From c:\\users\\wade\\.virtualenvs\\19'_summer_vacation-ib8vnh7u\\lib\\site-packages\\keras\\backend\\tensorflow_backend.py:3376: The name tf.log is deprecated. Please use tf.math.log instead.\n",
      "\n",
      "W0707 20:42:00.443114  9784 deprecation.py:323] From c:\\users\\wade\\.virtualenvs\\19'_summer_vacation-ib8vnh7u\\lib\\site-packages\\tensorflow\\python\\ops\\nn_impl.py:180: add_dispatch_support.<locals>.wrapper (from tensorflow.python.ops.array_ops) is deprecated and will be removed in a future version.\n",
      "Instructions for updating:\n",
      "Use tf.where in 2.0, which has the same broadcast rule as np.where\n",
      "W0707 20:42:00.541140  9784 deprecation_wrapper.py:119] From c:\\users\\wade\\.virtualenvs\\19'_summer_vacation-ib8vnh7u\\lib\\site-packages\\keras\\backend\\tensorflow_backend.py:986: The name tf.assign_add is deprecated. Please use tf.compat.v1.assign_add instead.\n",
      "\n"
     ]
    },
    {
     "name": "stdout",
     "output_type": "stream",
     "text": [
      "Train on 54000 samples, validate on 6000 samples\n",
      "Epoch 1/20\n",
      " - 2s - loss: 0.4648 - val_loss: 0.3593\n",
      "Epoch 2/20\n",
      " - 1s - loss: 0.3410 - val_loss: 0.3168\n",
      "Epoch 3/20\n",
      " - 1s - loss: 0.3254 - val_loss: 0.3058\n",
      "Epoch 4/20\n",
      " - 1s - loss: 0.3093 - val_loss: 0.3257\n",
      "Epoch 5/20\n",
      " - 1s - loss: 0.2835 - val_loss: 0.2722\n",
      "Epoch 6/20\n",
      " - 1s - loss: 0.2658 - val_loss: 0.2583\n",
      "Epoch 7/20\n",
      " - 1s - loss: 0.2918 - val_loss: 0.2818\n",
      "Epoch 8/20\n",
      " - 1s - loss: 0.2933 - val_loss: 0.2680\n",
      "Epoch 9/20\n",
      " - 1s - loss: 0.2605 - val_loss: 0.2505\n",
      "Epoch 10/20\n",
      " - 1s - loss: 0.2524 - val_loss: 0.2431\n",
      "Epoch 11/20\n",
      " - 1s - loss: 0.2446 - val_loss: 0.2447\n",
      "Epoch 12/20\n",
      " - 1s - loss: 0.2668 - val_loss: 0.2615\n",
      "Epoch 13/20\n",
      " - 1s - loss: 0.2496 - val_loss: 0.2432\n",
      "Epoch 14/20\n",
      " - 1s - loss: 0.2391 - val_loss: 0.2408\n",
      "Epoch 15/20\n",
      " - 1s - loss: 0.2402 - val_loss: 0.2749\n",
      "Epoch 16/20\n",
      " - 1s - loss: 0.2404 - val_loss: 0.2263\n",
      "Epoch 17/20\n",
      " - 1s - loss: 0.2282 - val_loss: 0.2228\n",
      "Epoch 18/20\n",
      " - 1s - loss: 0.2231 - val_loss: 0.2185\n",
      "Epoch 19/20\n",
      " - 1s - loss: 0.2391 - val_loss: 0.2290\n",
      "Epoch 20/20\n",
      " - 1s - loss: 0.2238 - val_loss: 0.2173\n"
     ]
    },
    {
     "data": {
      "text/plain": [
       "<keras.callbacks.History at 0x2f5387ec4e0>"
      ]
     },
     "execution_count": 9,
     "metadata": {},
     "output_type": "execute_result"
    }
   ],
   "source": [
    "from keras.models import Model, Input\n",
    "from keras.layers.core import Dense\n",
    "\n",
    "input_img = Input(shape=(784,))\n",
    "encoded = Dense(128, activation='relu')(input_img)\n",
    "encoded = Dense(64, activation='relu')(encoded)\n",
    "encoded = Dense(32, activation='relu')(encoded)\n",
    "\n",
    "dencoded = Dense(64, activation='relu')(encoded)\n",
    "dencoded = Dense(128, activation='relu')(dencoded)\n",
    "dencoded = Dense(784, activation='relu')(dencoded)\n",
    "autoencoder= Model(input_img, dencoded)\n",
    "\n",
    "autoencoder.compile(optimizer='adam', loss='binary_crossentropy')\n",
    "autoencoder.fit(x_train, x_train, epochs=20, batch_size=256, shuffle=True, validation_split=0.1, verbose=2)"
   ]
  },
  {
   "cell_type": "markdown",
   "metadata": {},
   "source": [
    "> https://github.com/lbun/VAE_Variational_Autoencoders/blob/master/VAE_Variational_Autoencoders_Part1.ipynb"
   ]
  },
  {
   "cell_type": "code",
   "execution_count": 11,
   "metadata": {},
   "outputs": [
    {
     "data": {
      "image/png": "[encoded data removed]",
      "text/plain": [
       "<Figure size 1440x288 with 20 Axes>"
      ]
     },
     "metadata": {
      "needs_background": "light"
     },
     "output_type": "display_data"
    }
   ],
   "source": [
    "%matplotlib inline\n",
    "import matplotlib.pyplot as plt\n",
    "\n",
    "decoded_img = autoencoder.predict(x_test)\n",
    "\n",
    "n=10\n",
    "plt.figure(figsize=(20, 4))\n",
    "for i in range(n):\n",
    "    ax = plt.subplot(2, n, i+1)\n",
    "    plt.imshow(x_test[i].reshape(28, 28))\n",
    "    plt.gray()\n",
    "    ax.get_xaxis().set_visible(False)\n",
    "    ax.get_yaxis().set_visible(False)\n",
    "    \n",
    "    ax = plt.subplot(2, n, i+1+n)\n",
    "    plt.imshow(decoded_img[i].reshape(28, 28))\n",
    "    plt.gray()\n",
    "    ax.get_xaxis().set_visible(False)\n",
    "    ax.get_yaxis().set_visible(False)"
   ]
  },
  {
   "cell_type": "markdown",
   "metadata": {},
   "source": [
    "### model - CNN\n",
    "> https://ithelp.ithome.com.tw/articles/10207148"
   ]
  },
  {
   "cell_type": "code",
   "execution_count": 13,
   "metadata": {},
   "outputs": [],
   "source": [
    "(x_train, _), (x_test, _) = mnist.load_data()\n",
    "x_train = x_train.astype('float32')/ 255.\n",
    "x_test = x_test.astype('float32')/ 255.\n",
    "x_train = x_train.reshape(len(x_train), 28, 28, 1)\n",
    "x_test = x_test.reshape(len(x_test), 28, 28, 1)"
   ]
  },
  {
   "cell_type": "code",
   "execution_count": 14,
   "metadata": {},
   "outputs": [],
   "source": [
    "# add noise\n",
    "noise_factor = 0.5\n",
    "# numpy.random.normal 函數裡的三個參數分别代表生成的高斯分布的均值、標準差以及輸出的 size\n",
    "x_train_noisy = x_train + noise_factor * np.random.normal(loc=0.0, scale=1.0, size=x_train.shape)\n",
    "x_test_noisy = x_test + noise_factor * np.random.normal(loc=0.0, scale=1.0, size=x_test.shape)\n",
    "\n",
    "# 把 array 限制在一定範圍内\n",
    "x_train_noisy = np.clip(x_train_noisy, 0., 1.)\n",
    "x_test_noisy = np.clip(x_test_noisy, 0., 1.)"
   ]
  },
  {
   "cell_type": "code",
   "execution_count": 16,
   "metadata": {},
   "outputs": [
    {
     "name": "stderr",
     "output_type": "stream",
     "text": [
      "W0707 21:03:30.072317  9784 deprecation_wrapper.py:119] From c:\\users\\wade\\.virtualenvs\\19'_summer_vacation-ib8vnh7u\\lib\\site-packages\\keras\\backend\\tensorflow_backend.py:3976: The name tf.nn.max_pool is deprecated. Please use tf.nn.max_pool2d instead.\n",
      "\n",
      "W0707 21:03:30.098870  9784 deprecation_wrapper.py:119] From c:\\users\\wade\\.virtualenvs\\19'_summer_vacation-ib8vnh7u\\lib\\site-packages\\keras\\backend\\tensorflow_backend.py:2018: The name tf.image.resize_nearest_neighbor is deprecated. Please use tf.compat.v1.image.resize_nearest_neighbor instead.\n",
      "\n"
     ]
    },
    {
     "name": "stdout",
     "output_type": "stream",
     "text": [
      "Train on 60000 samples, validate on 10000 samples\n",
      "Epoch 1/20\n",
      " - 4s - loss: 0.2660 - val_loss: 0.1972\n",
      "Epoch 2/20\n",
      " - 2s - loss: 0.1821 - val_loss: 0.1712\n",
      "Epoch 3/20\n",
      " - 2s - loss: 0.1678 - val_loss: 0.1620\n",
      "Epoch 4/20\n",
      " - 2s - loss: 0.1595 - val_loss: 0.1549\n",
      "Epoch 5/20\n",
      " - 2s - loss: 0.1539 - val_loss: 0.1506\n",
      "Epoch 6/20\n",
      " - 2s - loss: 0.1504 - val_loss: 0.1472\n",
      "Epoch 7/20\n",
      " - 2s - loss: 0.1476 - val_loss: 0.1451\n",
      "Epoch 8/20\n",
      " - 2s - loss: 0.1450 - val_loss: 0.1435\n",
      "Epoch 9/20\n",
      " - 2s - loss: 0.1430 - val_loss: 0.1411\n",
      "Epoch 10/20\n",
      " - 2s - loss: 0.1413 - val_loss: 0.1394\n",
      "Epoch 11/20\n",
      " - 2s - loss: 0.1398 - val_loss: 0.1375\n",
      "Epoch 12/20\n",
      " - 2s - loss: 0.1386 - val_loss: 0.1367\n",
      "Epoch 13/20\n",
      " - 2s - loss: 0.1377 - val_loss: 0.1364\n",
      "Epoch 14/20\n",
      " - 2s - loss: 0.1369 - val_loss: 0.1351\n",
      "Epoch 15/20\n",
      " - 2s - loss: 0.1362 - val_loss: 0.1347\n",
      "Epoch 16/20\n",
      " - 2s - loss: 0.1354 - val_loss: 0.1335\n",
      "Epoch 17/20\n",
      " - 2s - loss: 0.1349 - val_loss: 0.1331\n",
      "Epoch 18/20\n",
      " - 2s - loss: 0.1342 - val_loss: 0.1326\n",
      "Epoch 19/20\n",
      " - 2s - loss: 0.1336 - val_loss: 0.1320\n",
      "Epoch 20/20\n",
      " - 2s - loss: 0.1332 - val_loss: 0.1318\n"
     ]
    },
    {
     "data": {
      "text/plain": [
       "<keras.callbacks.History at 0x2f7beb735f8>"
      ]
     },
     "execution_count": 16,
     "metadata": {},
     "output_type": "execute_result"
    }
   ],
   "source": [
    "from keras.layers import Input, Conv2D, MaxPooling2D, UpSampling2D\n",
    "\n",
    "input_img = Input(shape=(28, 28, 1))\n",
    "\n",
    "x = Conv2D(16, (3, 3), activation='relu', padding='same')(input_img)\n",
    "x = MaxPooling2D((2, 2), padding='same')(x)\n",
    "x = Conv2D(8, (3, 3), activation='relu', padding='same')(x)\n",
    "x = MaxPooling2D((2, 2), padding='same')(x)\n",
    "x = Conv2D(8, (3, 3), activation='relu', padding='same')(x)\n",
    "encoded = MaxPooling2D((2, 2), padding='same', name='encoder')(x) \n",
    "\n",
    "# at this point the representation is (4, 4, 8) i.e. 128-dimensional: 4*4*8=128\n",
    "\n",
    "# Decoder 的過程與 Encoder 正好相反，需要跟 Encoder 的神經網絡層做相對應，相對應的激活函數也是一樣，但這邊在解碼中最後一層使用的激活函數是 sigmoid\n",
    "x = Conv2D(8, (3, 3), activation='relu', padding='same')(encoded)\n",
    "x = UpSampling2D((2, 2))(x)\n",
    "x = Conv2D(8, (3, 3), activation='relu', padding='same')(x)\n",
    "x = UpSampling2D((2, 2))(x)\n",
    "x = Conv2D(16, (3, 3), activation='relu')(x)\n",
    "x = UpSampling2D((2, 2))(x)\n",
    "decoded = Conv2D(1, (3, 3), activation='sigmoid', padding='same')(x)\n",
    "\n",
    "# 用 Model 來搭建模型，輸入為圖片，輸出是解碼的結果\n",
    "autoencoder = Model(input_img, decoded)  \n",
    "\n",
    "autoencoder.compile(optimizer='adam', loss='binary_crossentropy')\n",
    "\n",
    "# 訓練 Denoising AE ，輸入是加入雜訊的圖片，輸出是原始圖片\n",
    "autoencoder.fit(x_train_noisy, x_train, epochs=20,batch_size=128,shuffle=True,validation_data=(x_test_noisy, x_test),verbose=2)"
   ]
  },
  {
   "cell_type": "code",
   "execution_count": 24,
   "metadata": {},
   "outputs": [
    {
     "data": {
      "image/png": "[encoded data removed]",
      "text/plain": [
       "<Figure size 1440x288 with 20 Axes>"
      ]
     },
     "metadata": {
      "needs_background": "light"
     },
     "output_type": "display_data"
    }
   ],
   "source": [
    "decoded_img_noisy = autoencoder.predict(x_test)\n",
    "\n",
    "plt.figure(figsize=(20, 4))\n",
    "for i in range(n):\n",
    "    ax = plt.subplot(2, n, i+1)\n",
    "    plt.imshow(x_test_noisy[i].reshape(28, 28))\n",
    "    plt.gray()\n",
    "    ax.get_xaxis().set_visible(False)\n",
    "    ax.get_yaxis().set_visible(False)\n",
    "    \n",
    "    ax = plt.subplot(2, n, n+i+1)\n",
    "    plt.imshow(decoded_img_noisy[i].reshape(28, 28))\n",
    "    plt.gray()\n",
    "    ax.get_xaxis().set_visible(False)\n",
    "    ax.get_yaxis().set_visible(False)"
   ]
  },
  {
   "cell_type": "code",
   "execution_count": null,
   "metadata": {},
   "outputs": [],
   "source": []
  }
 ],
 "metadata": {
  "kernelspec": {
   "display_name": "Python 3",
   "language": "python",
   "name": "python3"
  },
  "language_info": {
   "codemirror_mode": {
    "name": "ipython",
    "version": 3
   },
   "file_extension": ".py",
   "mimetype": "text/x-python",
   "name": "python",
   "nbconvert_exporter": "python",
   "pygments_lexer": "ipython3",
   "version": "3.7.3"
  }
 },
 "nbformat": 4,
 "nbformat_minor": 2
}
