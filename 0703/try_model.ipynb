{
 "cells": [
  {
   "cell_type": "code",
   "execution_count": 15,
   "metadata": {},
   "outputs": [
    {
     "name": "stderr",
     "output_type": "stream",
     "text": [
      "c:\\users\\wade\\.virtualenvs\\19'_summer_vacation-ib8vnh7u\\lib\\site-packages\\IPython\\core\\interactiveshell.py:3049: DtypeWarning: Columns (14) have mixed types. Specify dtype option on import or set low_memory=False.\n",
      "  interactivity=interactivity, compiler=compiler, result=result)\n"
     ]
    }
   ],
   "source": [
    "import pandas as pd\n",
    "\n",
    "all = pd.read_csv('all_lat.csv', index_col=False)\n",
    "# 移除土地與車位\n",
    "all = all [all ['交易標的'] != '土地']\n",
    "all = all[all['交易標的'] != '車位']\n",
    "all = all[all['交易年月日']>= 1060101]"
   ]
  },
  {
   "cell_type": "code",
   "execution_count": 40,
   "metadata": {},
   "outputs": [
    {
     "data": {
      "text/plain": [
       "都市土地使用分區      2647\n",
       "非都市土地使用分區    47955\n",
       "非都市土地使用編定    47955\n",
       "移轉層次           117\n",
       "總樓層數            87\n",
       "主要用途            78\n",
       "主要建材            69\n",
       "建築完成年月        1814\n",
       "單價元/平方公尺       230\n",
       "車位類別         25475\n",
       "備註           30207\n",
       "lat          13596\n",
       "lng          13596\n",
       "dtype: int64"
      ]
     },
     "execution_count": 40,
     "metadata": {},
     "output_type": "execute_result"
    }
   ],
   "source": [
    "NA_columns = all.columns[all.isna().any()].tolist()\n",
    "all[NA_columns].isnull().sum()"
   ]
  },
  {
   "cell_type": "markdown",
   "metadata": {},
   "source": [
    "> https://drive.google.com/open?id=1raKuQ5sQvNMg-N0riEuDo9IpavoTjXCaSZLSLntE4Eo"
   ]
  },
  {
   "cell_type": "code",
   "execution_count": 3,
   "metadata": {},
   "outputs": [
    {
     "data": {
      "text/plain": [
       "array([11, 11,  6, ..., 11, 11, 11])"
      ]
     },
     "execution_count": 3,
     "metadata": {},
     "output_type": "execute_result"
    }
   ],
   "source": [
    "from sklearn import preprocessing\n",
    "le = preprocessing.LabelEncoder()\n",
    "country = le.fit_transform(all['鄉鎮市區'])\n",
    "country"
   ]
  },
  {
   "cell_type": "code",
   "execution_count": 16,
   "metadata": {},
   "outputs": [],
   "source": [
    "# 補齊沒車位的\n",
    "all['車位類別'] = all['車位類別'].fillna('無')\n",
    "all['都市土地使用分區'] = all['都市土地使用分區'].fillna('非')\n",
    "all['主要建材'] = all['主要建材'].fillna('others')\n",
    "all['主要用途'] = all['主要用途'].fillna('others')"
   ]
  },
  {
   "cell_type": "code",
   "execution_count": 17,
   "metadata": {},
   "outputs": [],
   "source": [
    "all['建築完成年月'] = all['建築完成年月'].replace(regex=[r'\\/'],value=0)\n",
    "all['建築完成年月'] = all['建築完成年月'].fillna(0).astype('int64')\n",
    "all['屋齡'] = (all['交易年月日']//10000-all['建築完成年月']//10000)\n",
    "all['屋齡'] = all['屋齡'].replace(all[all['建築完成年月']==0]['屋齡'],value=0)\n",
    "all['屋齡'] = all['屋齡'].replace(all[all['建築完成年月']<10000]['屋齡'],value=30)"
   ]
  },
  {
   "cell_type": "code",
   "execution_count": 25,
   "metadata": {},
   "outputs": [
    {
     "data": {
      "text/plain": [
       "Index(['鄉鎮市區', '交易標的', '土地區段位置/建物區段門牌', '土地移轉總面積平方公尺', '都市土地使用分區', '非都市土地使用分區',\n",
       "       '非都市土地使用編定', '交易年月日', '交易筆棟數', '移轉層次', '總樓層數', '建物型態', '主要用途', '主要建材',\n",
       "       '建築完成年月', '建物移轉總面積平方公尺', '建物現況格局-房', '建物現況格局-廳', '建物現況格局-衛',\n",
       "       '建物現況格局-隔間', '有無管理組織', '總價元', '單價元/平方公尺', '車位類別', '車位移轉總面積平方公尺',\n",
       "       '車位總價元', '備註', '編號', 'lat', 'lng', '屋齡', '土地', '建物', '車位'],\n",
       "      dtype='object')"
      ]
     },
     "execution_count": 25,
     "metadata": {},
     "output_type": "execute_result"
    }
   ],
   "source": [
    "cols = '土地 建物 車位'.split()\n",
    "all[cols] = all['交易筆棟數'].str.extract(r'\\D+(\\d+)\\D+(\\d+)\\D+(\\d+)', expand=True)\n",
    "all.columns"
   ]
  },
  {
   "cell_type": "code",
   "execution_count": 87,
   "metadata": {},
   "outputs": [
    {
     "data": {
      "text/html": [
       "<div>\n",
       "<style scoped>\n",
       "    .dataframe tbody tr th:only-of-type {\n",
       "        vertical-align: middle;\n",
       "    }\n",
       "\n",
       "    .dataframe tbody tr th {\n",
       "        vertical-align: top;\n",
       "    }\n",
       "\n",
       "    .dataframe thead th {\n",
       "        text-align: right;\n",
       "    }\n",
       "</style>\n",
       "<table border=\"1\" class=\"dataframe\">\n",
       "  <thead>\n",
       "    <tr style=\"text-align: right;\">\n",
       "      <th></th>\n",
       "      <th>0</th>\n",
       "      <th>1</th>\n",
       "      <th>2</th>\n",
       "      <th>3</th>\n",
       "      <th>4</th>\n",
       "      <th>5</th>\n",
       "      <th>6</th>\n",
       "      <th>7</th>\n",
       "      <th>8</th>\n",
       "      <th>9</th>\n",
       "      <th>...</th>\n",
       "      <th>24</th>\n",
       "      <th>25</th>\n",
       "      <th>26</th>\n",
       "      <th>27</th>\n",
       "      <th>28</th>\n",
       "      <th>29</th>\n",
       "      <th>30</th>\n",
       "      <th>31</th>\n",
       "      <th>32</th>\n",
       "      <th>33</th>\n",
       "    </tr>\n",
       "  </thead>\n",
       "  <tbody>\n",
       "    <tr>\n",
       "      <th>0</th>\n",
       "      <td>0.0</td>\n",
       "      <td>0.0</td>\n",
       "      <td>0.0</td>\n",
       "      <td>0.0</td>\n",
       "      <td>0.0</td>\n",
       "      <td>0.0</td>\n",
       "      <td>0.0</td>\n",
       "      <td>0.0</td>\n",
       "      <td>0.0</td>\n",
       "      <td>0.0</td>\n",
       "      <td>...</td>\n",
       "      <td>0.0</td>\n",
       "      <td>0.0</td>\n",
       "      <td>0.0</td>\n",
       "      <td>0.0</td>\n",
       "      <td>1.0</td>\n",
       "      <td>0.0</td>\n",
       "      <td>0.0</td>\n",
       "      <td>0.0</td>\n",
       "      <td>0.0</td>\n",
       "      <td>0.0</td>\n",
       "    </tr>\n",
       "    <tr>\n",
       "      <th>1</th>\n",
       "      <td>0.0</td>\n",
       "      <td>0.0</td>\n",
       "      <td>0.0</td>\n",
       "      <td>0.0</td>\n",
       "      <td>0.0</td>\n",
       "      <td>0.0</td>\n",
       "      <td>0.0</td>\n",
       "      <td>0.0</td>\n",
       "      <td>0.0</td>\n",
       "      <td>0.0</td>\n",
       "      <td>...</td>\n",
       "      <td>0.0</td>\n",
       "      <td>0.0</td>\n",
       "      <td>0.0</td>\n",
       "      <td>0.0</td>\n",
       "      <td>1.0</td>\n",
       "      <td>0.0</td>\n",
       "      <td>0.0</td>\n",
       "      <td>0.0</td>\n",
       "      <td>0.0</td>\n",
       "      <td>0.0</td>\n",
       "    </tr>\n",
       "    <tr>\n",
       "      <th>2</th>\n",
       "      <td>0.0</td>\n",
       "      <td>0.0</td>\n",
       "      <td>0.0</td>\n",
       "      <td>0.0</td>\n",
       "      <td>0.0</td>\n",
       "      <td>0.0</td>\n",
       "      <td>1.0</td>\n",
       "      <td>0.0</td>\n",
       "      <td>0.0</td>\n",
       "      <td>0.0</td>\n",
       "      <td>...</td>\n",
       "      <td>0.0</td>\n",
       "      <td>0.0</td>\n",
       "      <td>0.0</td>\n",
       "      <td>0.0</td>\n",
       "      <td>1.0</td>\n",
       "      <td>0.0</td>\n",
       "      <td>0.0</td>\n",
       "      <td>0.0</td>\n",
       "      <td>0.0</td>\n",
       "      <td>0.0</td>\n",
       "    </tr>\n",
       "    <tr>\n",
       "      <th>3</th>\n",
       "      <td>0.0</td>\n",
       "      <td>0.0</td>\n",
       "      <td>0.0</td>\n",
       "      <td>0.0</td>\n",
       "      <td>0.0</td>\n",
       "      <td>0.0</td>\n",
       "      <td>0.0</td>\n",
       "      <td>0.0</td>\n",
       "      <td>0.0</td>\n",
       "      <td>0.0</td>\n",
       "      <td>...</td>\n",
       "      <td>0.0</td>\n",
       "      <td>0.0</td>\n",
       "      <td>0.0</td>\n",
       "      <td>0.0</td>\n",
       "      <td>1.0</td>\n",
       "      <td>0.0</td>\n",
       "      <td>0.0</td>\n",
       "      <td>0.0</td>\n",
       "      <td>0.0</td>\n",
       "      <td>0.0</td>\n",
       "    </tr>\n",
       "    <tr>\n",
       "      <th>4</th>\n",
       "      <td>0.0</td>\n",
       "      <td>0.0</td>\n",
       "      <td>0.0</td>\n",
       "      <td>0.0</td>\n",
       "      <td>0.0</td>\n",
       "      <td>0.0</td>\n",
       "      <td>1.0</td>\n",
       "      <td>0.0</td>\n",
       "      <td>0.0</td>\n",
       "      <td>0.0</td>\n",
       "      <td>...</td>\n",
       "      <td>0.0</td>\n",
       "      <td>0.0</td>\n",
       "      <td>0.0</td>\n",
       "      <td>0.0</td>\n",
       "      <td>1.0</td>\n",
       "      <td>0.0</td>\n",
       "      <td>0.0</td>\n",
       "      <td>0.0</td>\n",
       "      <td>0.0</td>\n",
       "      <td>0.0</td>\n",
       "    </tr>\n",
       "  </tbody>\n",
       "</table>\n",
       "<p>5 rows × 34 columns</p>\n",
       "</div>"
      ],
      "text/plain": [
       "    0    1    2    3    4    5    6    7    8    9   ...   24   25   26   27  \\\n",
       "0  0.0  0.0  0.0  0.0  0.0  0.0  0.0  0.0  0.0  0.0  ...  0.0  0.0  0.0  0.0   \n",
       "1  0.0  0.0  0.0  0.0  0.0  0.0  0.0  0.0  0.0  0.0  ...  0.0  0.0  0.0  0.0   \n",
       "2  0.0  0.0  0.0  0.0  0.0  0.0  1.0  0.0  0.0  0.0  ...  0.0  0.0  0.0  0.0   \n",
       "3  0.0  0.0  0.0  0.0  0.0  0.0  0.0  0.0  0.0  0.0  ...  0.0  0.0  0.0  0.0   \n",
       "4  0.0  0.0  0.0  0.0  0.0  0.0  1.0  0.0  0.0  0.0  ...  0.0  0.0  0.0  0.0   \n",
       "\n",
       "    28   29   30   31   32   33  \n",
       "0  1.0  0.0  0.0  0.0  0.0  0.0  \n",
       "1  1.0  0.0  0.0  0.0  0.0  0.0  \n",
       "2  1.0  0.0  0.0  0.0  0.0  0.0  \n",
       "3  1.0  0.0  0.0  0.0  0.0  0.0  \n",
       "4  1.0  0.0  0.0  0.0  0.0  0.0  \n",
       "\n",
       "[5 rows x 34 columns]"
      ]
     },
     "execution_count": 87,
     "metadata": {},
     "output_type": "execute_result"
    }
   ],
   "source": [
    "from sklearn.preprocessing import OneHotEncoder\n",
    "ohe = OneHotEncoder()\n",
    "# feature = ohe.fit_transform(all[['鄉鎮市區', '都市土地使用分區', '車位類別', '建物現況格局-隔間', '有無管理組織', '主要建材','主要用途']]).toarray()\n",
    "feature = ohe.fit_transform(all[['鄉鎮市區', '都市土地使用分區']]).toarray()\n",
    "feature = pd.DataFrame(feature)\n",
    "feature.head()"
   ]
  },
  {
   "cell_type": "code",
   "execution_count": 88,
   "metadata": {},
   "outputs": [],
   "source": [
    "target = all['總價元']\n",
    "# num_feature = all[['建物現況格局-房', '建物現況格局-廳', '建物現況格局-衛', '建物移轉總面積平方公尺', 'lat', 'lng', '屋齡', '土地', '建物', '車位']].copy()\n",
    "num_feature = all[['建物移轉總面積平方公尺', '建物', '屋齡', '建物現況格局-房', '建物現況格局-廳', '建物現況格局-衛']].copy()"
   ]
  },
  {
   "cell_type": "code",
   "execution_count": 89,
   "metadata": {},
   "outputs": [],
   "source": [
    "# 標準化\n",
    "from sklearn.preprocessing import StandardScaler\n",
    "scaler = StandardScaler()\n",
    "num_feature['建物移轉總面積平方公尺']  = num_feature['建物移轉總面積平方公尺'] / all['建物'].astype(int)\n",
    "num_feature['建物移轉總面積平方公尺'] = scaler.fit_transform(num_feature[['建物移轉總面積平方公尺']])\n",
    "num_feature = num_feature.reset_index().drop('index', axis=1)"
   ]
  },
  {
   "cell_type": "code",
   "execution_count": 90,
   "metadata": {},
   "outputs": [],
   "source": [
    "# 移轉樓層比例 "
   ]
  },
  {
   "cell_type": "markdown",
   "metadata": {},
   "source": [
    "> https://stackoverflow.com/questions/50368145/pandas-concat-increases-number-of-rows"
   ]
  },
  {
   "cell_type": "code",
   "execution_count": 91,
   "metadata": {},
   "outputs": [
    {
     "name": "stdout",
     "output_type": "stream",
     "text": [
      "(50401, 6)\n",
      "(50401, 34)\n",
      "(50401, 40)\n"
     ]
    }
   ],
   "source": [
    "features = pd.concat([num_feature, feature], axis=1)\n",
    "print(num_feature.shape)\n",
    "print(feature.shape)\n",
    "print(features.shape)"
   ]
  },
  {
   "cell_type": "code",
   "execution_count": 92,
   "metadata": {},
   "outputs": [
    {
     "name": "stdout",
     "output_type": "stream",
     "text": [
      "_________________________________________________________________\n",
      "Layer (type)                 Output Shape              Param #   \n",
      "=================================================================\n",
      "dense1 (Dense)               (None, 1024)              41984     \n",
      "_________________________________________________________________\n",
      "dense2 (Dense)               (None, 512)               524800    \n",
      "_________________________________________________________________\n",
      "dense3 (Dense)               (None, 64)                32832     \n",
      "_________________________________________________________________\n",
      "dense4 (Dense)               (None, 64)                4160      \n",
      "_________________________________________________________________\n",
      "dense5 (Dense)               (None, 32)                2080      \n",
      "_________________________________________________________________\n",
      "output_layer (Dense)         (None, 1)                 33        \n",
      "=================================================================\n",
      "Total params: 605,889\n",
      "Trainable params: 605,889\n",
      "Non-trainable params: 0\n",
      "_________________________________________________________________\n"
     ]
    }
   ],
   "source": [
    "from keras.models import Sequential\n",
    "from keras.layers import Dense, Activation\n",
    "\n",
    "model = Sequential()\n",
    "model.add(Dense(1024, input_dim=features.columns.size, activation='relu', name='dense1'))\n",
    "model.add(Dense(512, name='dense2', activation='relu'))\n",
    "model.add(Dense(64, name='dense3', activation='relu'))\n",
    "model.add(Dense(64, name='dense4', activation='relu'))\n",
    "model.add(Dense(32, name='dense5', activation='relu'))\n",
    "model.add(Dense(1, kernel_initializer='normal', activation='relu', name='output_layer'))\n",
    "model.summary()"
   ]
  },
  {
   "cell_type": "markdown",
   "metadata": {},
   "source": [
    "> https://zhuanlan.zhihu.com/p/34667893"
   ]
  },
  {
   "cell_type": "code",
   "execution_count": 93,
   "metadata": {},
   "outputs": [
    {
     "name": "stdout",
     "output_type": "stream",
     "text": [
      "Train on 40320 samples, validate on 10081 samples\n",
      "Epoch 1/100\n",
      " - 2s - loss: 98.7861 - acc: 0.0000e+00 - val_loss: 85.9385 - val_acc: 0.0000e+00\n",
      "Epoch 2/100\n",
      " - 1s - loss: 83.9099 - acc: 0.0000e+00 - val_loss: 66.6674 - val_acc: 0.0000e+00\n",
      "Epoch 3/100\n",
      " - 1s - loss: 69.8611 - acc: 0.0000e+00 - val_loss: 52.0629 - val_acc: 0.0000e+00\n",
      "Epoch 4/100\n",
      " - 1s - loss: 55.6080 - acc: 0.0000e+00 - val_loss: 41.6421 - val_acc: 0.0000e+00\n",
      "Epoch 5/100\n",
      " - 1s - loss: 48.4525 - acc: 0.0000e+00 - val_loss: 39.3311 - val_acc: 0.0000e+00\n",
      "Epoch 6/100\n",
      " - 1s - loss: 45.0351 - acc: 0.0000e+00 - val_loss: 37.8170 - val_acc: 0.0000e+00\n",
      "Epoch 7/100\n",
      " - 1s - loss: 42.4053 - acc: 0.0000e+00 - val_loss: 36.6177 - val_acc: 0.0000e+00\n",
      "Epoch 8/100\n",
      " - 1s - loss: 40.4564 - acc: 0.0000e+00 - val_loss: 35.5976 - val_acc: 0.0000e+00\n",
      "Epoch 9/100\n",
      " - 1s - loss: 38.9354 - acc: 0.0000e+00 - val_loss: 34.7308 - val_acc: 0.0000e+00\n",
      "Epoch 10/100\n",
      " - 1s - loss: 37.9052 - acc: 0.0000e+00 - val_loss: 33.9354 - val_acc: 0.0000e+00\n",
      "Epoch 11/100\n",
      " - 1s - loss: 36.8677 - acc: 2.4802e-05 - val_loss: 33.3334 - val_acc: 0.0000e+00\n",
      "Epoch 12/100\n",
      " - 1s - loss: 35.5551 - acc: 0.0000e+00 - val_loss: 32.6760 - val_acc: 0.0000e+00\n",
      "Epoch 13/100\n",
      " - 1s - loss: 34.6533 - acc: 0.0000e+00 - val_loss: 31.8715 - val_acc: 0.0000e+00\n",
      "Epoch 14/100\n",
      " - 1s - loss: 33.7985 - acc: 0.0000e+00 - val_loss: 31.1878 - val_acc: 0.0000e+00\n",
      "Epoch 15/100\n",
      " - 1s - loss: 32.6339 - acc: 0.0000e+00 - val_loss: 30.2298 - val_acc: 0.0000e+00\n",
      "Epoch 16/100\n",
      " - 1s - loss: 31.6317 - acc: 0.0000e+00 - val_loss: 29.3295 - val_acc: 0.0000e+00\n",
      "Epoch 17/100\n",
      " - 1s - loss: 30.5599 - acc: 0.0000e+00 - val_loss: 28.2321 - val_acc: 0.0000e+00\n",
      "Epoch 18/100\n",
      " - 1s - loss: 29.3830 - acc: 0.0000e+00 - val_loss: 27.0432 - val_acc: 0.0000e+00\n",
      "Epoch 19/100\n",
      " - 1s - loss: 28.2499 - acc: 0.0000e+00 - val_loss: 25.8830 - val_acc: 0.0000e+00\n",
      "Epoch 20/100\n",
      " - 1s - loss: 27.3004 - acc: 0.0000e+00 - val_loss: 24.8466 - val_acc: 0.0000e+00\n",
      "Epoch 21/100\n",
      " - 1s - loss: 26.3822 - acc: 0.0000e+00 - val_loss: 24.1017 - val_acc: 0.0000e+00\n",
      "Epoch 22/100\n",
      " - 1s - loss: 25.6321 - acc: 0.0000e+00 - val_loss: 23.4837 - val_acc: 0.0000e+00\n",
      "Epoch 23/100\n",
      " - 1s - loss: 25.1335 - acc: 2.4802e-05 - val_loss: 22.9506 - val_acc: 0.0000e+00\n",
      "Epoch 24/100\n",
      " - 1s - loss: 24.7071 - acc: 0.0000e+00 - val_loss: 22.5259 - val_acc: 0.0000e+00\n",
      "Epoch 25/100\n",
      " - 1s - loss: 24.4467 - acc: 0.0000e+00 - val_loss: 22.2901 - val_acc: 0.0000e+00\n",
      "Epoch 26/100\n",
      " - 1s - loss: 24.2024 - acc: 0.0000e+00 - val_loss: 22.1865 - val_acc: 0.0000e+00\n",
      "Epoch 27/100\n",
      " - 1s - loss: 24.0311 - acc: 0.0000e+00 - val_loss: 22.0020 - val_acc: 0.0000e+00\n",
      "Epoch 28/100\n",
      " - 1s - loss: 23.8621 - acc: 0.0000e+00 - val_loss: 21.9102 - val_acc: 0.0000e+00\n",
      "Epoch 29/100\n",
      " - 1s - loss: 23.7368 - acc: 0.0000e+00 - val_loss: 21.9899 - val_acc: 0.0000e+00\n",
      "Epoch 30/100\n",
      " - 1s - loss: 23.5914 - acc: 0.0000e+00 - val_loss: 21.8144 - val_acc: 0.0000e+00\n",
      "Epoch 31/100\n",
      " - 1s - loss: 23.4136 - acc: 0.0000e+00 - val_loss: 21.7681 - val_acc: 0.0000e+00\n",
      "Epoch 32/100\n",
      " - 1s - loss: 23.3262 - acc: 0.0000e+00 - val_loss: 21.5811 - val_acc: 0.0000e+00\n",
      "Epoch 33/100\n",
      " - 1s - loss: 23.2042 - acc: 0.0000e+00 - val_loss: 21.9549 - val_acc: 0.0000e+00\n",
      "Epoch 34/100\n",
      " - 1s - loss: 23.1181 - acc: 0.0000e+00 - val_loss: 21.5031 - val_acc: 0.0000e+00\n",
      "Epoch 35/100\n",
      " - 1s - loss: 22.9693 - acc: 0.0000e+00 - val_loss: 21.4109 - val_acc: 0.0000e+00\n",
      "Epoch 36/100\n",
      " - 1s - loss: 22.8495 - acc: 0.0000e+00 - val_loss: 21.4719 - val_acc: 0.0000e+00\n",
      "Epoch 37/100\n",
      " - 1s - loss: 22.7104 - acc: 0.0000e+00 - val_loss: 21.3207 - val_acc: 0.0000e+00\n",
      "Epoch 38/100\n",
      " - 1s - loss: 22.6939 - acc: 0.0000e+00 - val_loss: 21.2400 - val_acc: 0.0000e+00\n",
      "Epoch 39/100\n",
      " - 1s - loss: 22.4981 - acc: 0.0000e+00 - val_loss: 21.2397 - val_acc: 0.0000e+00\n",
      "Epoch 40/100\n",
      " - 1s - loss: 22.3391 - acc: 0.0000e+00 - val_loss: 21.1727 - val_acc: 0.0000e+00\n",
      "Epoch 41/100\n",
      " - 1s - loss: 22.2584 - acc: 0.0000e+00 - val_loss: 21.1017 - val_acc: 0.0000e+00\n",
      "Epoch 42/100\n",
      " - 1s - loss: 22.1180 - acc: 0.0000e+00 - val_loss: 21.2559 - val_acc: 0.0000e+00\n",
      "Epoch 43/100\n",
      " - 1s - loss: 21.9892 - acc: 0.0000e+00 - val_loss: 21.0470 - val_acc: 0.0000e+00\n",
      "Epoch 44/100\n",
      " - 1s - loss: 21.8190 - acc: 0.0000e+00 - val_loss: 21.2367 - val_acc: 0.0000e+00\n",
      "Epoch 45/100\n",
      " - 1s - loss: 21.6542 - acc: 0.0000e+00 - val_loss: 21.2385 - val_acc: 0.0000e+00\n",
      "Epoch 46/100\n",
      " - 1s - loss: 21.6243 - acc: 0.0000e+00 - val_loss: 21.1104 - val_acc: 0.0000e+00\n",
      "Epoch 47/100\n",
      " - 1s - loss: 21.2802 - acc: 0.0000e+00 - val_loss: 21.0517 - val_acc: 0.0000e+00\n",
      "Epoch 48/100\n",
      " - 1s - loss: 21.0752 - acc: 0.0000e+00 - val_loss: 20.8413 - val_acc: 0.0000e+00\n",
      "Epoch 49/100\n",
      " - 1s - loss: 21.0284 - acc: 0.0000e+00 - val_loss: 20.7406 - val_acc: 0.0000e+00\n",
      "Epoch 50/100\n",
      " - 1s - loss: 20.8811 - acc: 0.0000e+00 - val_loss: 20.5932 - val_acc: 0.0000e+00\n",
      "Epoch 51/100\n",
      " - 1s - loss: 20.7518 - acc: 0.0000e+00 - val_loss: 20.5061 - val_acc: 0.0000e+00\n",
      "Epoch 52/100\n",
      " - 1s - loss: 20.5874 - acc: 0.0000e+00 - val_loss: 20.5090 - val_acc: 0.0000e+00\n",
      "Epoch 53/100\n",
      " - 1s - loss: 20.5206 - acc: 0.0000e+00 - val_loss: 20.3209 - val_acc: 0.0000e+00\n",
      "Epoch 54/100\n",
      " - 1s - loss: 20.3465 - acc: 0.0000e+00 - val_loss: 20.2310 - val_acc: 0.0000e+00\n",
      "Epoch 55/100\n",
      " - 1s - loss: 20.2782 - acc: 0.0000e+00 - val_loss: 20.3102 - val_acc: 0.0000e+00\n",
      "Epoch 56/100\n",
      " - 1s - loss: 20.1348 - acc: 0.0000e+00 - val_loss: 20.1374 - val_acc: 0.0000e+00\n",
      "Epoch 57/100\n",
      " - 1s - loss: 20.0900 - acc: 0.0000e+00 - val_loss: 20.1758 - val_acc: 0.0000e+00\n",
      "Epoch 58/100\n",
      " - 1s - loss: 20.0101 - acc: 0.0000e+00 - val_loss: 20.3893 - val_acc: 0.0000e+00\n",
      "Epoch 59/100\n",
      " - 1s - loss: 19.9347 - acc: 0.0000e+00 - val_loss: 19.8323 - val_acc: 0.0000e+00\n",
      "Epoch 60/100\n",
      " - 1s - loss: 19.8821 - acc: 0.0000e+00 - val_loss: 20.0105 - val_acc: 0.0000e+00\n",
      "Epoch 61/100\n",
      " - 1s - loss: 19.8168 - acc: 0.0000e+00 - val_loss: 19.7324 - val_acc: 0.0000e+00\n",
      "Epoch 62/100\n",
      " - 1s - loss: 19.7557 - acc: 0.0000e+00 - val_loss: 19.8737 - val_acc: 0.0000e+00\n",
      "Epoch 63/100\n",
      " - 1s - loss: 19.7242 - acc: 0.0000e+00 - val_loss: 19.6714 - val_acc: 0.0000e+00\n",
      "Epoch 64/100\n",
      " - 1s - loss: 19.6852 - acc: 0.0000e+00 - val_loss: 19.7292 - val_acc: 9.9197e-05\n",
      "Epoch 65/100\n",
      " - 1s - loss: 19.7423 - acc: 0.0000e+00 - val_loss: 19.6606 - val_acc: 0.0000e+00\n",
      "Epoch 66/100\n",
      " - 1s - loss: 19.5837 - acc: 0.0000e+00 - val_loss: 19.5715 - val_acc: 0.0000e+00\n",
      "Epoch 67/100\n",
      " - 1s - loss: 19.5551 - acc: 0.0000e+00 - val_loss: 19.6392 - val_acc: 0.0000e+00\n",
      "Epoch 68/100\n",
      " - 1s - loss: 19.5333 - acc: 0.0000e+00 - val_loss: 19.5220 - val_acc: 0.0000e+00\n",
      "Epoch 69/100\n",
      " - 1s - loss: 19.4699 - acc: 0.0000e+00 - val_loss: 19.4687 - val_acc: 0.0000e+00\n",
      "Epoch 70/100\n",
      " - 1s - loss: 19.4574 - acc: 0.0000e+00 - val_loss: 19.3833 - val_acc: 0.0000e+00\n",
      "Epoch 71/100\n",
      " - 1s - loss: 19.4030 - acc: 0.0000e+00 - val_loss: 19.5068 - val_acc: 0.0000e+00\n",
      "Epoch 72/100\n",
      " - 1s - loss: 19.4272 - acc: 0.0000e+00 - val_loss: 19.4779 - val_acc: 0.0000e+00\n",
      "Epoch 73/100\n",
      " - 1s - loss: 19.3502 - acc: 0.0000e+00 - val_loss: 19.5279 - val_acc: 0.0000e+00\n",
      "Epoch 74/100\n",
      " - 1s - loss: 19.3560 - acc: 0.0000e+00 - val_loss: 19.4384 - val_acc: 0.0000e+00\n",
      "Epoch 75/100\n",
      " - 1s - loss: 19.3012 - acc: 0.0000e+00 - val_loss: 19.6227 - val_acc: 0.0000e+00\n",
      "Epoch 76/100\n",
      " - 1s - loss: 19.3338 - acc: 0.0000e+00 - val_loss: 19.5286 - val_acc: 0.0000e+00\n",
      "Epoch 77/100\n",
      " - 1s - loss: 19.2486 - acc: 0.0000e+00 - val_loss: 19.7669 - val_acc: 0.0000e+00\n",
      "Epoch 78/100\n",
      " - 1s - loss: 19.2055 - acc: 0.0000e+00 - val_loss: 19.3329 - val_acc: 0.0000e+00\n",
      "Epoch 79/100\n",
      " - 1s - loss: 19.1559 - acc: 0.0000e+00 - val_loss: 19.4059 - val_acc: 0.0000e+00\n",
      "Epoch 80/100\n",
      " - 1s - loss: 19.1153 - acc: 0.0000e+00 - val_loss: 19.3391 - val_acc: 0.0000e+00\n",
      "Epoch 81/100\n",
      " - 1s - loss: 19.1057 - acc: 0.0000e+00 - val_loss: 19.2412 - val_acc: 0.0000e+00\n",
      "Epoch 82/100\n",
      " - 1s - loss: 19.0651 - acc: 0.0000e+00 - val_loss: 19.2669 - val_acc: 0.0000e+00\n",
      "Epoch 83/100\n",
      " - 1s - loss: 19.0662 - acc: 0.0000e+00 - val_loss: 19.5133 - val_acc: 0.0000e+00\n",
      "Epoch 84/100\n",
      " - 1s - loss: 19.0721 - acc: 0.0000e+00 - val_loss: 19.3141 - val_acc: 0.0000e+00\n",
      "Epoch 85/100\n",
      " - 1s - loss: 19.1220 - acc: 0.0000e+00 - val_loss: 19.1611 - val_acc: 0.0000e+00\n",
      "Epoch 86/100\n",
      " - 1s - loss: 19.0608 - acc: 0.0000e+00 - val_loss: 19.1113 - val_acc: 0.0000e+00\n",
      "Epoch 87/100\n",
      " - 1s - loss: 18.9706 - acc: 0.0000e+00 - val_loss: 19.1572 - val_acc: 0.0000e+00\n",
      "Epoch 88/100\n",
      " - 1s - loss: 18.9515 - acc: 0.0000e+00 - val_loss: 19.2188 - val_acc: 0.0000e+00\n",
      "Epoch 89/100\n",
      " - 1s - loss: 18.9940 - acc: 0.0000e+00 - val_loss: 19.1910 - val_acc: 0.0000e+00\n",
      "Epoch 90/100\n",
      " - 1s - loss: 18.9168 - acc: 0.0000e+00 - val_loss: 19.0484 - val_acc: 0.0000e+00\n",
      "Epoch 91/100\n",
      " - 1s - loss: 18.8554 - acc: 0.0000e+00 - val_loss: 19.0564 - val_acc: 0.0000e+00\n",
      "Epoch 92/100\n",
      " - 1s - loss: 18.8563 - acc: 0.0000e+00 - val_loss: 19.4042 - val_acc: 0.0000e+00\n",
      "Epoch 93/100\n",
      " - 1s - loss: 18.8840 - acc: 0.0000e+00 - val_loss: 19.0953 - val_acc: 0.0000e+00\n",
      "Epoch 94/100\n",
      " - 1s - loss: 18.8316 - acc: 0.0000e+00 - val_loss: 19.2164 - val_acc: 0.0000e+00\n",
      "Epoch 95/100\n",
      " - 1s - loss: 18.7726 - acc: 0.0000e+00 - val_loss: 19.0753 - val_acc: 0.0000e+00\n",
      "Epoch 96/100\n",
      " - 1s - loss: 18.8009 - acc: 0.0000e+00 - val_loss: 19.1805 - val_acc: 0.0000e+00\n",
      "Epoch 97/100\n",
      " - 1s - loss: 18.7453 - acc: 0.0000e+00 - val_loss: 19.0189 - val_acc: 0.0000e+00\n",
      "Epoch 98/100\n",
      " - 1s - loss: 18.7528 - acc: 0.0000e+00 - val_loss: 19.1015 - val_acc: 0.0000e+00\n",
      "Epoch 99/100\n",
      " - 1s - loss: 18.7079 - acc: 0.0000e+00 - val_loss: 18.9621 - val_acc: 0.0000e+00\n",
      "Epoch 100/100\n",
      " - 1s - loss: 18.7491 - acc: 0.0000e+00 - val_loss: 18.9846 - val_acc: 0.0000e+00\n"
     ]
    }
   ],
   "source": [
    "from keras import backend as K\n",
    "def mean_absolute_percentage_error(y_true, y_pred):\n",
    "    diff = K.abs((y_true - y_pred) / K.clip(K.abs(y_true),K.epsilon(),None))\n",
    "    return 100. * K.mean(diff, axis=-1)\n",
    "\n",
    "model.compile(loss='mean_absolute_percentage_error', optimizer='adam', metrics=['accuracy'])\n",
    "train_history = model.fit(x=features, y=target, validation_split=0.2, epochs=100, batch_size=300, verbose=2)"
   ]
  },
  {
   "cell_type": "code",
   "execution_count": 11,
   "metadata": {},
   "outputs": [],
   "source": [
    "import matplotlib.pyplot as plt\n",
    "def show_train_history(train_acc,test_acc):\n",
    "    plt.plot(train_history.history[train_acc], color='green')\n",
    "    plt.plot(train_history.history[test_acc], color='cyan')\n",
    "    plt.title('Train History')\n",
    "    plt.ylabel(train_acc)\n",
    "    plt.xlabel('Epoch')\n",
    "    plt.legend(['deep_train', 'deep_test', 'shallow_train', 'shallow_test'], loc='upper left')\n",
    "    plt.show()"
   ]
  },
  {
   "cell_type": "code",
   "execution_count": 73,
   "metadata": {},
   "outputs": [
    {
     "data": {
      "image/png": "[encoded data removed]",
      "text/plain": [
       "<Figure size 432x288 with 1 Axes>"
      ]
     },
     "metadata": {
      "needs_background": "light"
     },
     "output_type": "display_data"
    }
   ],
   "source": [
    "show_train_history('loss', 'val_loss')"
   ]
  },
  {
   "cell_type": "markdown",
   "metadata": {},
   "source": [
    "| Model | 特徵 | MAPE |\n",
    "| --- | --- | --- |\n",
    "| output = ReLU | 建物移轉總面積, 建物, 鄉鎮市區 | 27% |\n",
    "| output = ReLU | 建物移轉總面積, 建物, 鄉鎮市區, 屋齡 | 21% |\n",
    "| output = Linear | 建物移轉總面積, 建物, 鄉鎮市區, 屋齡 | 22% |\n",
    "| output = Linear | 建物移轉總面積, 建物, 鄉鎮市區, 屋齡, 車位 | 20% |\n",
    "| output = ReLU | 建物移轉總面積, 建物, 鄉鎮市區, 屋齡, 車位 | 20% |\n",
    "| output = ReLU | 建物移轉總面積, 建物, 鄉鎮市區, 屋齡,都市土地使用分區 | 19% |"
   ]
  },
  {
   "cell_type": "code",
   "execution_count": null,
   "metadata": {},
   "outputs": [],
   "source": []
  }
 ],
 "metadata": {
  "kernelspec": {
   "display_name": "Python 3",
   "language": "python",
   "name": "python3"
  },
  "language_info": {
   "codemirror_mode": {
    "name": "ipython",
    "version": 3
   },
   "file_extension": ".py",
   "mimetype": "text/x-python",
   "name": "python",
   "nbconvert_exporter": "python",
   "pygments_lexer": "ipython3",
   "version": "3.7.3"
  },
  "toc-autonumbering": false,
  "toc-showcode": true,
  "toc-showmarkdowntxt": true
 },
 "nbformat": 4,
 "nbformat_minor": 4
}
