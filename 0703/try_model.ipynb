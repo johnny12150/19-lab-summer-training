{
 "cells": [
  {
   "cell_type": "code",
   "execution_count": 79,
   "metadata": {},
   "outputs": [
    {
     "name": "stderr",
     "output_type": "stream",
     "text": [
      "c:\\users\\wade\\.virtualenvs\\19'_summer_vacation-ib8vnh7u\\lib\\site-packages\\IPython\\core\\interactiveshell.py:3049: DtypeWarning: Columns (14) have mixed types. Specify dtype option on import or set low_memory=False.\n",
      "  interactivity=interactivity, compiler=compiler, result=result)\n"
     ]
    }
   ],
   "source": [
    "import pandas as pd\n",
    "\n",
    "all = pd.read_csv('all_lat.csv', index_col=False)\n",
    "# 移除土地與車位\n",
    "all = all [all ['交易標的'] != '土地']\n",
    "all = all[all['交易標的'] != '車位']\n",
    "all = all[all['交易年月日']>= 1060101]"
   ]
  },
  {
   "cell_type": "code",
   "execution_count": 42,
   "metadata": {},
   "outputs": [
    {
     "data": {
      "text/plain": [
       "都市土地使用分區      2647\n",
       "非都市土地使用分區    47955\n",
       "非都市土地使用編定    47955\n",
       "移轉層次           117\n",
       "總樓層數            87\n",
       "主要用途            78\n",
       "主要建材            69\n",
       "建築完成年月        1814\n",
       "單價元/平方公尺       230\n",
       "車位類別         25475\n",
       "備註           30207\n",
       "lat             24\n",
       "lng             24\n",
       "dtype: int64"
      ]
     },
     "execution_count": 42,
     "metadata": {},
     "output_type": "execute_result"
    }
   ],
   "source": [
    "NA_columns = all.columns[all.isna().any()].tolist()\n",
    "all[NA_columns].isnull().sum()"
   ]
  },
  {
   "cell_type": "markdown",
   "metadata": {},
   "source": [
    "> https://drive.google.com/open?id=1raKuQ5sQvNMg-N0riEuDo9IpavoTjXCaSZLSLntE4Eo"
   ]
  },
  {
   "cell_type": "code",
   "execution_count": 80,
   "metadata": {},
   "outputs": [],
   "source": [
    "# 補齊沒車位的\n",
    "all['車位類別'] = all['車位類別'].fillna('無')\n",
    "all['都市土地使用分區'] = all['都市土地使用分區'].fillna('非')\n",
    "all['主要建材'] = all['主要建材'].fillna('others')\n",
    "all['主要用途'] = all['主要用途'].fillna('others')"
   ]
  },
  {
   "cell_type": "code",
   "execution_count": 81,
   "metadata": {},
   "outputs": [],
   "source": [
    "all['建築完成年月'] = all['建築完成年月'].replace(regex=[r'\\/'],value=0)\n",
    "all['建築完成年月'] = all['建築完成年月'].fillna(0).astype('int64')\n",
    "all['屋齡'] = (all['交易年月日']//10000-all['建築完成年月']//10000)\n",
    "all['屋齡'] = all['屋齡'].replace(all[all['建築完成年月']==0]['屋齡'],value=0)\n",
    "all['屋齡'] = all['屋齡'].replace(all[all['建築完成年月']<10000]['屋齡'],value=30)"
   ]
  },
  {
   "cell_type": "code",
   "execution_count": 82,
   "metadata": {},
   "outputs": [
    {
     "data": {
      "text/plain": [
       "Index(['鄉鎮市區', '交易標的', '土地區段位置/建物區段門牌', '土地移轉總面積平方公尺', '都市土地使用分區', '非都市土地使用分區',\n",
       "       '非都市土地使用編定', '交易年月日', '交易筆棟數', '移轉層次', '總樓層數', '建物型態', '主要用途', '主要建材',\n",
       "       '建築完成年月', '建物移轉總面積平方公尺', '建物現況格局-房', '建物現況格局-廳', '建物現況格局-衛',\n",
       "       '建物現況格局-隔間', '有無管理組織', '總價元', '單價元/平方公尺', '車位類別', '車位移轉總面積平方公尺',\n",
       "       '車位總價元', '備註', '編號', 'lat', 'lng', '屋齡', '土地', '建物', '車位'],\n",
       "      dtype='object')"
      ]
     },
     "execution_count": 82,
     "metadata": {},
     "output_type": "execute_result"
    }
   ],
   "source": [
    "cols = '土地 建物 車位'.split()\n",
    "all[cols] = all['交易筆棟數'].str.extract(r'\\D+(\\d+)\\D+(\\d+)\\D+(\\d+)', expand=True)\n",
    "all.columns"
   ]
  },
  {
   "cell_type": "code",
   "execution_count": 83,
   "metadata": {},
   "outputs": [
    {
     "data": {
      "text/html": [
       "<div>\n",
       "<style scoped>\n",
       "    .dataframe tbody tr th:only-of-type {\n",
       "        vertical-align: middle;\n",
       "    }\n",
       "\n",
       "    .dataframe tbody tr th {\n",
       "        vertical-align: top;\n",
       "    }\n",
       "\n",
       "    .dataframe thead th {\n",
       "        text-align: right;\n",
       "    }\n",
       "</style>\n",
       "<table border=\"1\" class=\"dataframe\">\n",
       "  <thead>\n",
       "    <tr style=\"text-align: right;\">\n",
       "      <th></th>\n",
       "      <th>0</th>\n",
       "      <th>1</th>\n",
       "      <th>2</th>\n",
       "      <th>3</th>\n",
       "      <th>4</th>\n",
       "      <th>5</th>\n",
       "      <th>6</th>\n",
       "      <th>7</th>\n",
       "      <th>8</th>\n",
       "      <th>9</th>\n",
       "      <th>...</th>\n",
       "      <th>24</th>\n",
       "      <th>25</th>\n",
       "      <th>26</th>\n",
       "      <th>27</th>\n",
       "      <th>28</th>\n",
       "      <th>29</th>\n",
       "      <th>30</th>\n",
       "      <th>31</th>\n",
       "      <th>32</th>\n",
       "      <th>33</th>\n",
       "    </tr>\n",
       "  </thead>\n",
       "  <tbody>\n",
       "    <tr>\n",
       "      <th>0</th>\n",
       "      <td>0.0</td>\n",
       "      <td>0.0</td>\n",
       "      <td>0.0</td>\n",
       "      <td>0.0</td>\n",
       "      <td>0.0</td>\n",
       "      <td>0.0</td>\n",
       "      <td>0.0</td>\n",
       "      <td>0.0</td>\n",
       "      <td>0.0</td>\n",
       "      <td>0.0</td>\n",
       "      <td>...</td>\n",
       "      <td>0.0</td>\n",
       "      <td>0.0</td>\n",
       "      <td>0.0</td>\n",
       "      <td>0.0</td>\n",
       "      <td>1.0</td>\n",
       "      <td>0.0</td>\n",
       "      <td>0.0</td>\n",
       "      <td>0.0</td>\n",
       "      <td>0.0</td>\n",
       "      <td>0.0</td>\n",
       "    </tr>\n",
       "    <tr>\n",
       "      <th>1</th>\n",
       "      <td>0.0</td>\n",
       "      <td>0.0</td>\n",
       "      <td>0.0</td>\n",
       "      <td>0.0</td>\n",
       "      <td>0.0</td>\n",
       "      <td>0.0</td>\n",
       "      <td>0.0</td>\n",
       "      <td>0.0</td>\n",
       "      <td>0.0</td>\n",
       "      <td>0.0</td>\n",
       "      <td>...</td>\n",
       "      <td>0.0</td>\n",
       "      <td>0.0</td>\n",
       "      <td>0.0</td>\n",
       "      <td>0.0</td>\n",
       "      <td>1.0</td>\n",
       "      <td>0.0</td>\n",
       "      <td>0.0</td>\n",
       "      <td>0.0</td>\n",
       "      <td>0.0</td>\n",
       "      <td>0.0</td>\n",
       "    </tr>\n",
       "    <tr>\n",
       "      <th>2</th>\n",
       "      <td>0.0</td>\n",
       "      <td>0.0</td>\n",
       "      <td>0.0</td>\n",
       "      <td>0.0</td>\n",
       "      <td>0.0</td>\n",
       "      <td>0.0</td>\n",
       "      <td>1.0</td>\n",
       "      <td>0.0</td>\n",
       "      <td>0.0</td>\n",
       "      <td>0.0</td>\n",
       "      <td>...</td>\n",
       "      <td>0.0</td>\n",
       "      <td>0.0</td>\n",
       "      <td>0.0</td>\n",
       "      <td>0.0</td>\n",
       "      <td>1.0</td>\n",
       "      <td>0.0</td>\n",
       "      <td>0.0</td>\n",
       "      <td>0.0</td>\n",
       "      <td>0.0</td>\n",
       "      <td>0.0</td>\n",
       "    </tr>\n",
       "    <tr>\n",
       "      <th>3</th>\n",
       "      <td>0.0</td>\n",
       "      <td>0.0</td>\n",
       "      <td>0.0</td>\n",
       "      <td>0.0</td>\n",
       "      <td>0.0</td>\n",
       "      <td>0.0</td>\n",
       "      <td>0.0</td>\n",
       "      <td>0.0</td>\n",
       "      <td>0.0</td>\n",
       "      <td>0.0</td>\n",
       "      <td>...</td>\n",
       "      <td>0.0</td>\n",
       "      <td>0.0</td>\n",
       "      <td>0.0</td>\n",
       "      <td>0.0</td>\n",
       "      <td>1.0</td>\n",
       "      <td>0.0</td>\n",
       "      <td>0.0</td>\n",
       "      <td>0.0</td>\n",
       "      <td>0.0</td>\n",
       "      <td>0.0</td>\n",
       "    </tr>\n",
       "    <tr>\n",
       "      <th>4</th>\n",
       "      <td>0.0</td>\n",
       "      <td>0.0</td>\n",
       "      <td>0.0</td>\n",
       "      <td>0.0</td>\n",
       "      <td>0.0</td>\n",
       "      <td>0.0</td>\n",
       "      <td>1.0</td>\n",
       "      <td>0.0</td>\n",
       "      <td>0.0</td>\n",
       "      <td>0.0</td>\n",
       "      <td>...</td>\n",
       "      <td>0.0</td>\n",
       "      <td>0.0</td>\n",
       "      <td>0.0</td>\n",
       "      <td>0.0</td>\n",
       "      <td>1.0</td>\n",
       "      <td>0.0</td>\n",
       "      <td>0.0</td>\n",
       "      <td>0.0</td>\n",
       "      <td>0.0</td>\n",
       "      <td>0.0</td>\n",
       "    </tr>\n",
       "  </tbody>\n",
       "</table>\n",
       "<p>5 rows × 34 columns</p>\n",
       "</div>"
      ],
      "text/plain": [
       "    0    1    2    3    4    5    6    7    8    9   ...   24   25   26   27  \\\n",
       "0  0.0  0.0  0.0  0.0  0.0  0.0  0.0  0.0  0.0  0.0  ...  0.0  0.0  0.0  0.0   \n",
       "1  0.0  0.0  0.0  0.0  0.0  0.0  0.0  0.0  0.0  0.0  ...  0.0  0.0  0.0  0.0   \n",
       "2  0.0  0.0  0.0  0.0  0.0  0.0  1.0  0.0  0.0  0.0  ...  0.0  0.0  0.0  0.0   \n",
       "3  0.0  0.0  0.0  0.0  0.0  0.0  0.0  0.0  0.0  0.0  ...  0.0  0.0  0.0  0.0   \n",
       "4  0.0  0.0  0.0  0.0  0.0  0.0  1.0  0.0  0.0  0.0  ...  0.0  0.0  0.0  0.0   \n",
       "\n",
       "    28   29   30   31   32   33  \n",
       "0  1.0  0.0  0.0  0.0  0.0  0.0  \n",
       "1  1.0  0.0  0.0  0.0  0.0  0.0  \n",
       "2  1.0  0.0  0.0  0.0  0.0  0.0  \n",
       "3  1.0  0.0  0.0  0.0  0.0  0.0  \n",
       "4  1.0  0.0  0.0  0.0  0.0  0.0  \n",
       "\n",
       "[5 rows x 34 columns]"
      ]
     },
     "execution_count": 83,
     "metadata": {},
     "output_type": "execute_result"
    }
   ],
   "source": [
    "from sklearn.preprocessing import OneHotEncoder\n",
    "ohe = OneHotEncoder()\n",
    "# feature = ohe.fit_transform(all[['鄉鎮市區', '都市土地使用分區', '車位類別', '建物現況格局-隔間', '有無管理組織', '主要建材','主要用途']]).toarray()\n",
    "feature = ohe.fit_transform(all[['鄉鎮市區', '都市土地使用分區']]).toarray()\n",
    "feature = pd.DataFrame(feature)\n",
    "# 108年度(全部資料)多一類\n",
    "# feature[34] = 0\n",
    "feature.head()"
   ]
  },
  {
   "cell_type": "code",
   "execution_count": 128,
   "metadata": {},
   "outputs": [],
   "source": [
    "target = all['總價元']\n",
    "# num_feature = all[['建物現況格局-房', '建物現況格局-廳', '建物現況格局-衛', '建物移轉總面積平方公尺', 'lat', 'lng', '屋齡', '土地', '建物', '車位']].copy()\n",
    "num_feature = all[['建物移轉總面積平方公尺', '建物', '屋齡', '建物現況格局-房', '建物現況格局-廳', '建物現況格局-衛']].copy()"
   ]
  },
  {
   "cell_type": "markdown",
   "metadata": {},
   "source": [
    "### 處理樓層"
   ]
  },
  {
   "cell_type": "code",
   "execution_count": 105,
   "metadata": {},
   "outputs": [
    {
     "data": {
      "text/html": [
       "<div>\n",
       "<style scoped>\n",
       "    .dataframe tbody tr th:only-of-type {\n",
       "        vertical-align: middle;\n",
       "    }\n",
       "\n",
       "    .dataframe tbody tr th {\n",
       "        vertical-align: top;\n",
       "    }\n",
       "\n",
       "    .dataframe thead th {\n",
       "        text-align: right;\n",
       "    }\n",
       "</style>\n",
       "<table border=\"1\" class=\"dataframe\">\n",
       "  <thead>\n",
       "    <tr style=\"text-align: right;\">\n",
       "      <th></th>\n",
       "      <th>鄉鎮市區</th>\n",
       "      <th>交易標的</th>\n",
       "      <th>土地區段位置/建物區段門牌</th>\n",
       "      <th>土地移轉總面積平方公尺</th>\n",
       "      <th>都市土地使用分區</th>\n",
       "      <th>非都市土地使用分區</th>\n",
       "      <th>非都市土地使用編定</th>\n",
       "      <th>交易年月日</th>\n",
       "      <th>交易筆棟數</th>\n",
       "      <th>移轉層次</th>\n",
       "      <th>...</th>\n",
       "      <th>編號</th>\n",
       "      <th>lat</th>\n",
       "      <th>lng</th>\n",
       "      <th>屋齡</th>\n",
       "      <th>土地</th>\n",
       "      <th>建物</th>\n",
       "      <th>車位</th>\n",
       "      <th>移轉層次(正數)</th>\n",
       "      <th>移轉層次(非正數)</th>\n",
       "      <th>移轉層次(非純數)</th>\n",
       "    </tr>\n",
       "  </thead>\n",
       "  <tbody>\n",
       "    <tr>\n",
       "      <th>0</th>\n",
       "      <td>板橋區</td>\n",
       "      <td>房地(土地+建物)</td>\n",
       "      <td>新北市板橋區華東街271~300號</td>\n",
       "      <td>8.80</td>\n",
       "      <td>住</td>\n",
       "      <td>NaN</td>\n",
       "      <td>NaN</td>\n",
       "      <td>1060621.0</td>\n",
       "      <td>土地2建物1車位0</td>\n",
       "      <td>十九層</td>\n",
       "      <td>...</td>\n",
       "      <td>RPUOMLMJQHMFFAF48CA</td>\n",
       "      <td>25.001936</td>\n",
       "      <td>121.452653</td>\n",
       "      <td>1.0</td>\n",
       "      <td>2</td>\n",
       "      <td>1</td>\n",
       "      <td>0</td>\n",
       "      <td>0.791667</td>\n",
       "      <td>0.0</td>\n",
       "      <td>NaN</td>\n",
       "    </tr>\n",
       "    <tr>\n",
       "      <th>1</th>\n",
       "      <td>板橋區</td>\n",
       "      <td>房地(土地+建物)+車位</td>\n",
       "      <td>新北市板橋區華東街271~300號</td>\n",
       "      <td>18.48</td>\n",
       "      <td>住</td>\n",
       "      <td>NaN</td>\n",
       "      <td>NaN</td>\n",
       "      <td>1060725.0</td>\n",
       "      <td>土地2建物1車位1</td>\n",
       "      <td>十八層</td>\n",
       "      <td>...</td>\n",
       "      <td>RPXOMLMJQHMFFAF78CA</td>\n",
       "      <td>25.001936</td>\n",
       "      <td>121.452653</td>\n",
       "      <td>1.0</td>\n",
       "      <td>2</td>\n",
       "      <td>1</td>\n",
       "      <td>1</td>\n",
       "      <td>0.750000</td>\n",
       "      <td>0.0</td>\n",
       "      <td>NaN</td>\n",
       "    </tr>\n",
       "    <tr>\n",
       "      <th>2</th>\n",
       "      <td>土城區</td>\n",
       "      <td>房地(土地+建物)</td>\n",
       "      <td>新北市土城區永豐路121~150號</td>\n",
       "      <td>17.71</td>\n",
       "      <td>住</td>\n",
       "      <td>NaN</td>\n",
       "      <td>NaN</td>\n",
       "      <td>1060617.0</td>\n",
       "      <td>土地6建物1車位0</td>\n",
       "      <td>九層</td>\n",
       "      <td>...</td>\n",
       "      <td>RPORMLMJQHMFFAF18CA</td>\n",
       "      <td>24.984078</td>\n",
       "      <td>121.466060</td>\n",
       "      <td>22.0</td>\n",
       "      <td>6</td>\n",
       "      <td>1</td>\n",
       "      <td>0</td>\n",
       "      <td>0.642857</td>\n",
       "      <td>0.0</td>\n",
       "      <td>NaN</td>\n",
       "    </tr>\n",
       "    <tr>\n",
       "      <th>3</th>\n",
       "      <td>板橋區</td>\n",
       "      <td>房地(土地+建物)+車位</td>\n",
       "      <td>新北市板橋區新崑路91~120號</td>\n",
       "      <td>26.23</td>\n",
       "      <td>住</td>\n",
       "      <td>NaN</td>\n",
       "      <td>NaN</td>\n",
       "      <td>1060630.0</td>\n",
       "      <td>土地1建物1車位1</td>\n",
       "      <td>八層</td>\n",
       "      <td>...</td>\n",
       "      <td>RPQNMLNJQHMFFAF08CA</td>\n",
       "      <td>24.999177</td>\n",
       "      <td>121.432317</td>\n",
       "      <td>1.0</td>\n",
       "      <td>1</td>\n",
       "      <td>1</td>\n",
       "      <td>1</td>\n",
       "      <td>0.615385</td>\n",
       "      <td>0.0</td>\n",
       "      <td>NaN</td>\n",
       "    </tr>\n",
       "    <tr>\n",
       "      <th>4</th>\n",
       "      <td>土城區</td>\n",
       "      <td>房地(土地+建物)</td>\n",
       "      <td>新北市土城區延和路76巷1~30號</td>\n",
       "      <td>22.47</td>\n",
       "      <td>住</td>\n",
       "      <td>NaN</td>\n",
       "      <td>NaN</td>\n",
       "      <td>1060620.0</td>\n",
       "      <td>土地1建物1車位0</td>\n",
       "      <td>一層</td>\n",
       "      <td>...</td>\n",
       "      <td>RPSOMLNJQHMFFAF38CA</td>\n",
       "      <td>24.989084</td>\n",
       "      <td>121.466463</td>\n",
       "      <td>36.0</td>\n",
       "      <td>1</td>\n",
       "      <td>1</td>\n",
       "      <td>0</td>\n",
       "      <td>0.200000</td>\n",
       "      <td>0.0</td>\n",
       "      <td>NaN</td>\n",
       "    </tr>\n",
       "  </tbody>\n",
       "</table>\n",
       "<p>5 rows × 37 columns</p>\n",
       "</div>"
      ],
      "text/plain": [
       "  鄉鎮市區          交易標的      土地區段位置/建物區段門牌  土地移轉總面積平方公尺 都市土地使用分區 非都市土地使用分區  \\\n",
       "0  板橋區     房地(土地+建物)  新北市板橋區華東街271~300號         8.80        住       NaN   \n",
       "1  板橋區  房地(土地+建物)+車位  新北市板橋區華東街271~300號        18.48        住       NaN   \n",
       "2  土城區     房地(土地+建物)  新北市土城區永豐路121~150號        17.71        住       NaN   \n",
       "3  板橋區  房地(土地+建物)+車位   新北市板橋區新崑路91~120號        26.23        住       NaN   \n",
       "4  土城區     房地(土地+建物)  新北市土城區延和路76巷1~30號        22.47        住       NaN   \n",
       "\n",
       "  非都市土地使用編定      交易年月日      交易筆棟數 移轉層次  ...                   編號        lat  \\\n",
       "0       NaN  1060621.0  土地2建物1車位0  十九層  ...  RPUOMLMJQHMFFAF48CA  25.001936   \n",
       "1       NaN  1060725.0  土地2建物1車位1  十八層  ...  RPXOMLMJQHMFFAF78CA  25.001936   \n",
       "2       NaN  1060617.0  土地6建物1車位0   九層  ...  RPORMLMJQHMFFAF18CA  24.984078   \n",
       "3       NaN  1060630.0  土地1建物1車位1   八層  ...  RPQNMLNJQHMFFAF08CA  24.999177   \n",
       "4       NaN  1060620.0  土地1建物1車位0   一層  ...  RPSOMLNJQHMFFAF38CA  24.989084   \n",
       "\n",
       "          lng    屋齡  土地  建物  車位  移轉層次(正數)  移轉層次(非正數) 移轉層次(非純數)  \n",
       "0  121.452653   1.0   2   1   0  0.791667        0.0       NaN  \n",
       "1  121.452653   1.0   2   1   1  0.750000        0.0       NaN  \n",
       "2  121.466060  22.0   6   1   0  0.642857        0.0       NaN  \n",
       "3  121.432317   1.0   1   1   1  0.615385        0.0       NaN  \n",
       "4  121.466463  36.0   1   1   0  0.200000        0.0       NaN  \n",
       "\n",
       "[5 rows x 37 columns]"
      ]
     },
     "execution_count": 105,
     "metadata": {},
     "output_type": "execute_result"
    }
   ],
   "source": [
    "# 移轉樓層比例 \n",
    "floor = pd.read_csv('../0704/floor_feature.csv', index_col=False)\n",
    "add_floor = pd.concat([all, floor], axis=1)\n",
    "add_floor.head()"
   ]
  },
  {
   "cell_type": "markdown",
   "metadata": {},
   "source": [
    "### Normalization"
   ]
  },
  {
   "cell_type": "code",
   "execution_count": 129,
   "metadata": {},
   "outputs": [],
   "source": [
    "# 標準化\n",
    "from sklearn.preprocessing import StandardScaler\n",
    "from sklearn.preprocessing import QuantileTransformer\n",
    "scaler = StandardScaler()\n",
    "num_feature['樓層'] = add_floor['移轉層次(正數)'].copy()\n",
    "num_feature['建物移轉總面積平方公尺']  = num_feature['建物移轉總面積平方公尺'] / all['建物'].astype(int)\n",
    "num_feature[['建物移轉總面積平方公尺', '樓層']] = scaler.fit_transform(num_feature[['建物移轉總面積平方公尺', '樓層']])\n",
    "# scaler = QuantileTransformer()\n",
    "# num_feature[['lat', 'lng']] = scaler.fit_transform(num_feature[['lat', 'lng']])\n",
    "num_feature = num_feature.reset_index().drop('index', axis=1)"
   ]
  },
  {
   "cell_type": "markdown",
   "metadata": {},
   "source": [
    "> https://stackoverflow.com/questions/50368145/pandas-concat-increases-number-of-rows"
   ]
  },
  {
   "cell_type": "code",
   "execution_count": 130,
   "metadata": {},
   "outputs": [
    {
     "name": "stdout",
     "output_type": "stream",
     "text": [
      "(50401, 7)\n",
      "(50401, 34)\n",
      "(50401, 41)\n"
     ]
    }
   ],
   "source": [
    "features = pd.concat([num_feature, feature], axis=1)\n",
    "print(num_feature.shape)\n",
    "print(feature.shape)\n",
    "print(features.shape)"
   ]
  },
  {
   "cell_type": "markdown",
   "metadata": {},
   "source": [
    "### Model"
   ]
  },
  {
   "cell_type": "code",
   "execution_count": 131,
   "metadata": {},
   "outputs": [
    {
     "name": "stdout",
     "output_type": "stream",
     "text": [
      "_________________________________________________________________\n",
      "Layer (type)                 Output Shape              Param #   \n",
      "=================================================================\n",
      "dense1 (Dense)               (None, 1024)              43008     \n",
      "_________________________________________________________________\n",
      "dense2 (Dense)               (None, 512)               524800    \n",
      "_________________________________________________________________\n",
      "dense3 (Dense)               (None, 64)                32832     \n",
      "_________________________________________________________________\n",
      "dense4 (Dense)               (None, 64)                4160      \n",
      "_________________________________________________________________\n",
      "dense5 (Dense)               (None, 32)                2080      \n",
      "_________________________________________________________________\n",
      "output_layer (Dense)         (None, 1)                 33        \n",
      "=================================================================\n",
      "Total params: 606,913\n",
      "Trainable params: 606,913\n",
      "Non-trainable params: 0\n",
      "_________________________________________________________________\n"
     ]
    }
   ],
   "source": [
    "from keras.models import Sequential\n",
    "from keras.layers import Dense, Activation\n",
    "\n",
    "model = Sequential()\n",
    "model.add(Dense(1024, input_dim=features.columns.size, activation='relu', name='dense1'))\n",
    "model.add(Dense(512, name='dense2', activation='relu'))\n",
    "model.add(Dense(64, name='dense3', activation='relu'))\n",
    "model.add(Dense(64, name='dense4', activation='relu'))\n",
    "model.add(Dense(32, name='dense5', activation='relu'))\n",
    "model.add(Dense(1, kernel_initializer='normal', activation='relu', name='output_layer'))\n",
    "model.summary()"
   ]
  },
  {
   "cell_type": "markdown",
   "metadata": {},
   "source": [
    "> https://zhuanlan.zhihu.com/p/34667893"
   ]
  },
  {
   "cell_type": "code",
   "execution_count": 132,
   "metadata": {
    "collapsed": true,
    "jupyter": {
     "outputs_hidden": true
    }
   },
   "outputs": [],
   "source": [
    "from keras import backend as K\n",
    "def mean_absolute_percentage_error(y_true, y_pred):\n",
    "    diff = K.abs((y_true - y_pred) / K.clip(K.abs(y_true),K.epsilon(),None))\n",
    "    return 100. * K.mean(diff, axis=-1)\n",
    "\n",
    "model.compile(loss='mean_absolute_percentage_error', optimizer='adam', metrics=['accuracy'])\n",
    "train_history = model.fit(x=features, y=target, validation_split=0.2, epochs=300, batch_size=500, verbose=0)"
   ]
  },
  {
   "cell_type": "markdown",
   "metadata": {},
   "source": [
    "### Plot"
   ]
  },
  {
   "cell_type": "code",
   "execution_count": 77,
   "metadata": {},
   "outputs": [],
   "source": [
    "import matplotlib.pyplot as plt\n",
    "def show_train_history(train_acc,test_acc):\n",
    "    plt.plot(train_history.history[train_acc], color='green')\n",
    "    plt.plot(train_history.history[test_acc], color='cyan')\n",
    "    plt.title('Train History')\n",
    "    plt.ylabel(train_acc)\n",
    "    plt.xlabel('Epoch')\n",
    "    plt.legend(['train', 'validate'], loc='upper left')\n",
    "    plt.show()"
   ]
  },
  {
   "cell_type": "code",
   "execution_count": 133,
   "metadata": {},
   "outputs": [
    {
     "data": {
      "image/png": "[encoded data removed]",
      "text/plain": [
       "<Figure size 432x288 with 1 Axes>"
      ]
     },
     "metadata": {
      "needs_background": "light"
     },
     "output_type": "display_data"
    }
   ],
   "source": [
    "show_train_history('loss', 'val_loss')"
   ]
  },
  {
   "cell_type": "markdown",
   "metadata": {},
   "source": [
    "| Model | 特徵 | MAPE |\n",
    "| --- | --- | --- |\n",
    "| output = ReLU | 建物移轉總面積, 建物, 鄉鎮市區 | 27% |\n",
    "| output = ReLU | 建物移轉總面積, 建物, 鄉鎮市區, 屋齡 | 21% |\n",
    "| output = Linear | 建物移轉總面積, 建物, 鄉鎮市區, 屋齡 | 22% |\n",
    "| output = Linear | 建物移轉總面積, 建物, 鄉鎮市區, 屋齡, 車位 | 20% |\n",
    "| output = ReLU | 建物移轉總面積, 建物, 鄉鎮市區, 屋齡, 車位 | 20% |\n",
    "| output = ReLU | 建物移轉總面積, 建物, 鄉鎮市區, 屋齡,都市土地使用分區 | 19% |"
   ]
  },
  {
   "cell_type": "code",
   "execution_count": 116,
   "metadata": {},
   "outputs": [
    {
     "name": "stdout",
     "output_type": "stream",
     "text": [
      "(26345, 28)\n",
      "都市土地使用分區      1742\n",
      "非都市土地使用分區    24785\n",
      "非都市土地使用編定    24792\n",
      "移轉層次          3268\n",
      "總樓層數          3271\n",
      "主要用途          3276\n",
      "主要建材          3269\n",
      "建築完成年月        4022\n",
      "單價元平方公尺        907\n",
      "車位類別         13595\n",
      "備註           15948\n",
      "dtype: int64\n"
     ]
    }
   ],
   "source": [
    "testDF = pd.DataFrame()\n",
    "\n",
    "for i in range(1, 4):\n",
    "    try:\n",
    "        temp = pd.read_csv('./test_data/108_S' + str(i) + '_F_lvr_land_A.csv', header=None)\n",
    "        col_list= temp.iloc[0].values\n",
    "        temp = temp.drop(temp.index[[0, 1]])\n",
    "        testDF = pd.concat([testDF, temp], axis=0)\n",
    "    except Exception as e:\n",
    "        print(e)\n",
    "        continue\n",
    "\n",
    "testDF.columns = col_list\n",
    "print(testDF.shape)\n",
    "print(testDF[testDF.columns[testDF.isna().any()].tolist()].isnull().sum())"
   ]
  },
  {
   "cell_type": "code",
   "execution_count": 119,
   "metadata": {},
   "outputs": [],
   "source": [
    "testDF.to_csv('./test_data/all_test.csv', index=False, encoding='utf_8_sig')"
   ]
  },
  {
   "cell_type": "code",
   "execution_count": 120,
   "metadata": {},
   "outputs": [],
   "source": [
    "testDF = pd.read_csv('./test_data/all_test.csv', index_col=False)\n",
    "testDF['都市土地使用分區'] = testDF['都市土地使用分區'].fillna('非')\n",
    "testDF['建築完成年月'] = testDF['建築完成年月'].replace(regex=[r'\\/'],value=0)\n",
    "testDF['建築完成年月'] = testDF['建築完成年月'].fillna(0).astype('int64')\n",
    "testDF['屋齡'] = (testDF['交易年月日']//10000-testDF['建築完成年月']//10000)\n",
    "testDF['屋齡'] = testDF['屋齡'].replace(testDF[testDF['建築完成年月']==0]['屋齡'],value=0)\n",
    "testDF['屋齡'] = testDF['屋齡'].replace(testDF[testDF['建築完成年月']<10000]['屋齡'],value=30)\n",
    "\n",
    "testDF[cols] = testDF['交易筆棟數'].str.extract(r'\\D+(\\d+)\\D+(\\d+)\\D+(\\d+)', expand=True)"
   ]
  },
  {
   "cell_type": "code",
   "execution_count": 123,
   "metadata": {},
   "outputs": [],
   "source": [
    "from sklearn.preprocessing import OneHotEncoder\n",
    "ohe2 = OneHotEncoder()\n",
    "feature_test = ohe2.fit_transform(testDF[['鄉鎮市區', '都市土地使用分區']]).toarray()\n",
    "feature_test = pd.DataFrame(feature_test)\n",
    "num_feature_test = testDF[['建物移轉總面積平方公尺', '建物', '屋齡', '建物現況格局-房', '建物現況格局-廳', '建物現況格局-衛']].copy()\n",
    "scaler2 = StandardScaler()\n",
    "num_feature_test['建物移轉總面積平方公尺']  = num_feature_test['建物移轉總面積平方公尺'] / testDF['建物'].astype(int)\n",
    "num_feature_test['建物移轉總面積平方公尺'] = num_feature_test['建物移轉總面積平方公尺'].replace([np.inf, -np.inf], 0)\n",
    "num_feature_test['建物移轉總面積平方公尺'] = scaler2.fit_transform(num_feature_test[['建物移轉總面積平方公尺']])\n",
    "num_feature_test = num_feature_test.reset_index().drop('index', axis=1)\n",
    "features_test = pd.concat([num_feature_test, feature_test], axis=1)"
   ]
  },
  {
   "cell_type": "code",
   "execution_count": 127,
   "metadata": {},
   "outputs": [
    {
     "data": {
      "text/plain": [
       "(26345, 35)"
      ]
     },
     "execution_count": 127,
     "metadata": {},
     "output_type": "execute_result"
    }
   ],
   "source": [
    "feature_test.shape"
   ]
  },
  {
   "cell_type": "code",
   "execution_count": 124,
   "metadata": {},
   "outputs": [],
   "source": [
    "ans = testDF['總價元'].copy()"
   ]
  },
  {
   "cell_type": "markdown",
   "metadata": {},
   "source": [
    "### testing(所有108資料)"
   ]
  },
  {
   "cell_type": "code",
   "execution_count": 150,
   "metadata": {},
   "outputs": [
    {
     "name": "stdout",
     "output_type": "stream",
     "text": [
      "26345/26345 [==============================] - 1s 37us/step\n"
     ]
    },
    {
     "data": {
      "text/plain": [
       "[52.297197528780465, 0.0]"
      ]
     },
     "execution_count": 150,
     "metadata": {},
     "output_type": "execute_result"
    }
   ],
   "source": [
    "model.evaluate(features_test, ans)"
   ]
  },
  {
   "cell_type": "markdown",
   "metadata": {},
   "source": [
    "### testing(刪除車位與土地)"
   ]
  },
  {
   "cell_type": "code",
   "execution_count": 91,
   "metadata": {},
   "outputs": [
    {
     "name": "stdout",
     "output_type": "stream",
     "text": [
      "非都市土地使用分區    20079\n",
      "非都市土地使用編定    20079\n",
      "移轉層次             1\n",
      "總樓層數             4\n",
      "主要用途             9\n",
      "主要建材             2\n",
      "單價元平方公尺         66\n",
      "車位類別         10569\n",
      "備註           13245\n",
      "lat           4253\n",
      "lng           4253\n",
      "dtype: int64\n"
     ]
    },
    {
     "name": "stderr",
     "output_type": "stream",
     "text": [
      "c:\\users\\wade\\.virtualenvs\\19'_summer_vacation-ib8vnh7u\\lib\\site-packages\\ipykernel_launcher.py:25: SettingWithCopyWarning: \n",
      "A value is trying to be set on a copy of a slice from a DataFrame.\n",
      "Try using .loc[row_indexer,col_indexer] = value instead\n",
      "\n",
      "See the caveats in the documentation: http://pandas.pydata.org/pandas-docs/stable/indexing.html#indexing-view-versus-copy\n",
      "c:\\users\\wade\\.virtualenvs\\19'_summer_vacation-ib8vnh7u\\lib\\site-packages\\ipykernel_launcher.py:26: SettingWithCopyWarning: \n",
      "A value is trying to be set on a copy of a slice from a DataFrame.\n",
      "Try using .loc[row_indexer,col_indexer] = value instead\n",
      "\n",
      "See the caveats in the documentation: http://pandas.pydata.org/pandas-docs/stable/indexing.html#indexing-view-versus-copy\n",
      "c:\\users\\wade\\.virtualenvs\\19'_summer_vacation-ib8vnh7u\\lib\\site-packages\\ipykernel_launcher.py:27: SettingWithCopyWarning: \n",
      "A value is trying to be set on a copy of a slice from a DataFrame.\n",
      "Try using .loc[row_indexer,col_indexer] = value instead\n",
      "\n",
      "See the caveats in the documentation: http://pandas.pydata.org/pandas-docs/stable/indexing.html#indexing-view-versus-copy\n"
     ]
    }
   ],
   "source": [
    "from sklearn.preprocessing import OneHotEncoder\n",
    "\n",
    "testDF = pd.read_csv('./test_data/all_test_lat.csv', index_col=False)\n",
    "\n",
    "# 符合訓練集的規格\n",
    "testDF = testDF [testDF ['交易標的'] != '土地']\n",
    "testDF = testDF[testDF['交易標的'] != '車位']\n",
    "testDF = testDF[testDF['交易年月日']>= 1060101]\n",
    "print(testDF[testDF.columns[testDF.isna().any()].tolist()].isnull().sum())\n",
    "\n",
    "testDF['都市土地使用分區'] = testDF['都市土地使用分區'].fillna('非')\n",
    "testDF['建築完成年月'] = testDF['建築完成年月'].replace(regex=[r'\\/'],value=0)\n",
    "testDF['建築完成年月'] = testDF['建築完成年月'].fillna(0).astype('int64')\n",
    "testDF['屋齡'] = (testDF['交易年月日']//10000-testDF['建築完成年月']//10000)\n",
    "testDF['屋齡'] = testDF['屋齡'].replace(testDF[testDF['建築完成年月']==0]['屋齡'],value=0)\n",
    "testDF['屋齡'] = testDF['屋齡'].replace(testDF[testDF['建築完成年月']<10000]['屋齡'],value=30)\n",
    "testDF[cols] = testDF['交易筆棟數'].str.extract(r'\\D+(\\d+)\\D+(\\d+)\\D+(\\d+)', expand=True)\n",
    "\n",
    "ohe2 = OneHotEncoder()\n",
    "feature_test = ohe2.fit_transform(testDF[['鄉鎮市區', '都市土地使用分區']]).toarray()\n",
    "feature_test = pd.DataFrame(feature_test)\n",
    "# num_feature_test = testDF[['建物移轉總面積平方公尺', '建物', '屋齡', '建物現況格局-房', '建物現況格局-廳', '建物現況格局-衛', 'lat', 'lng']].copy()\n",
    "num_feature_test = testDF[['建物移轉總面積平方公尺', '建物', '屋齡', '建物現況格局-房', '建物現況格局-廳', '建物現況格局-衛']]\n",
    "scaler2 = StandardScaler()\n",
    "num_feature_test['建物移轉總面積平方公尺']  = num_feature_test['建物移轉總面積平方公尺'] / testDF['建物'].astype(int)\n",
    "num_feature_test['建物移轉總面積平方公尺'] = num_feature_test['建物移轉總面積平方公尺'].replace([np.inf, -np.inf], 0)\n",
    "num_feature_test['建物移轉總面積平方公尺']= scaler2.fit_transform(num_feature_test[['建物移轉總面積平方公尺']])\n",
    "scaler2 = QuantileTransformer()\n",
    "num_feature_test[['lat', 'lng']] = scaler2.fit_transform(num_feature_test[['lat', 'lng']])\n",
    "\n",
    "num_feature_test = num_feature_test.reset_index().drop('index', axis=1)\n",
    "features_test = pd.concat([num_feature_test, feature_test], axis=1)\n",
    "\n",
    "ans = testDF['總價元'].copy()"
   ]
  },
  {
   "cell_type": "code",
   "execution_count": 92,
   "metadata": {},
   "outputs": [
    {
     "name": "stdout",
     "output_type": "stream",
     "text": [
      "21131/21131 [==============================] - 1s 35us/step\n"
     ]
    },
    {
     "data": {
      "text/plain": [
       "[27.110820892299323, 0.0]"
      ]
     },
     "execution_count": 92,
     "metadata": {},
     "output_type": "execute_result"
    }
   ],
   "source": [
    "model.evaluate(features_test, ans)"
   ]
  },
  {
   "cell_type": "code",
   "execution_count": null,
   "metadata": {},
   "outputs": [],
   "source": []
  }
 ],
 "metadata": {
  "kernelspec": {
   "display_name": "Python 3",
   "language": "python",
   "name": "python3"
  },
  "language_info": {
   "codemirror_mode": {
    "name": "ipython",
    "version": 3
   },
   "file_extension": ".py",
   "mimetype": "text/x-python",
   "name": "python",
   "nbconvert_exporter": "python",
   "pygments_lexer": "ipython3",
   "version": "3.7.3"
  },
  "toc-autonumbering": false,
  "toc-showcode": true,
  "toc-showmarkdowntxt": true
 },
 "nbformat": 4,
 "nbformat_minor": 4
}
