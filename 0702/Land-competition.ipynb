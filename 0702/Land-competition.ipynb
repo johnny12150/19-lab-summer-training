{
 "cells": [
  {
   "cell_type": "markdown",
   "metadata": {},
   "source": [
    "## 土地資料\n",
    "> https://plvr.land.moi.gov.tw/DownloadOpenData\n"
   ]
  },
  {
   "cell_type": "code",
   "execution_count": 1,
   "metadata": {},
   "outputs": [],
   "source": [
    "import pandas as pd"
   ]
  },
  {
   "cell_type": "code",
   "execution_count": 19,
   "metadata": {},
   "outputs": [
    {
     "data": {
      "text/plain": [
       "鄉鎮市區                 0\n",
       "交易標的                 0\n",
       "土地區段位置/建物區段門牌        0\n",
       "土地移轉總面積平方公尺        903\n",
       "都市土地使用分區         12095\n",
       "非都市土地使用分區        12100\n",
       "非都市土地使用編定            0\n",
       "交易年月日                0\n",
       "交易筆棟數             1715\n",
       "移轉層次              1721\n",
       "總樓層數                 0\n",
       "建物型態              1720\n",
       "主要用途              1717\n",
       "主要建材              2055\n",
       "建築完成年月               0\n",
       "建物移轉總面積平方公尺          0\n",
       "建物現況格局-房             0\n",
       "建物現況格局-廳             0\n",
       "建物現況格局-衛             0\n",
       "建物現況格局-隔間            0\n",
       "有無管理組織               0\n",
       "總價元                430\n",
       "單價元/平方公尺          6430\n",
       "車位類別                 0\n",
       "車位移轉總面積平方公尺          0\n",
       "車位總價元             9141\n",
       "備註                   0\n",
       "編號               12858\n",
       "dtype: int64"
      ]
     },
     "execution_count": 19,
     "metadata": {},
     "output_type": "execute_result"
    }
   ],
   "source": [
    "S1_106 = pd.read_csv('./106to108/106_S1_F_lvr_land_A.csv', error_bad_lines=False)\n",
    "S1_106 = S1_106.drop(S1_106.index[0])\n",
    "S1_106.isnull().sum()"
   ]
  },
  {
   "cell_type": "code",
   "execution_count": 20,
   "metadata": {
    "collapsed": true,
    "jupyter": {
     "outputs_hidden": true
    }
   },
   "outputs": [
    {
     "name": "stdout",
     "output_type": "stream",
     "text": [
      "<class 'pandas.core.frame.DataFrame'>\n",
      "Index: 12858 entries, 土城區 to 淡水區\n",
      "Data columns (total 28 columns):\n",
      "鄉鎮市區             12858 non-null object\n",
      "交易標的             12858 non-null object\n",
      "土地區段位置/建物區段門牌    12858 non-null object\n",
      "土地移轉總面積平方公尺      11955 non-null object\n",
      "都市土地使用分區         763 non-null object\n",
      "非都市土地使用分區        758 non-null object\n",
      "非都市土地使用編定        12858 non-null object\n",
      "交易年月日            12858 non-null object\n",
      "交易筆棟數            11143 non-null object\n",
      "移轉層次             11137 non-null object\n",
      "總樓層數             12858 non-null object\n",
      "建物型態             11138 non-null object\n",
      "主要用途             11141 non-null object\n",
      "主要建材             10803 non-null object\n",
      "建築完成年月           12858 non-null object\n",
      "建物移轉總面積平方公尺      12858 non-null object\n",
      "建物現況格局-房         12858 non-null object\n",
      "建物現況格局-廳         12858 non-null object\n",
      "建物現況格局-衛         12858 non-null object\n",
      "建物現況格局-隔間        12858 non-null object\n",
      "有無管理組織           12858 non-null object\n",
      "總價元              12428 non-null object\n",
      "單價元/平方公尺         6428 non-null object\n",
      "車位類別             12858 non-null object\n",
      "車位移轉總面積平方公尺      12858 non-null object\n",
      "車位總價元            3717 non-null object\n",
      "備註               12858 non-null object\n",
      "編號               0 non-null object\n",
      "dtypes: object(28)\n",
      "memory usage: 2.8+ MB\n"
     ]
    }
   ],
   "source": [
    "S1_106.info()"
   ]
  },
  {
   "cell_type": "code",
   "execution_count": 2,
   "metadata": {},
   "outputs": [
    {
     "data": {
      "text/html": [
       "<div>\n",
       "<style scoped>\n",
       "    .dataframe tbody tr th:only-of-type {\n",
       "        vertical-align: middle;\n",
       "    }\n",
       "\n",
       "    .dataframe tbody tr th {\n",
       "        vertical-align: top;\n",
       "    }\n",
       "\n",
       "    .dataframe thead th {\n",
       "        text-align: right;\n",
       "    }\n",
       "</style>\n",
       "<table border=\"1\" class=\"dataframe\">\n",
       "  <thead>\n",
       "    <tr style=\"text-align: right;\">\n",
       "      <th></th>\n",
       "      <th>district</th>\n",
       "      <th>sign</th>\n",
       "      <th>address</th>\n",
       "      <th>square</th>\n",
       "      <th>zone</th>\n",
       "      <th>n1</th>\n",
       "      <th>n2</th>\n",
       "      <th>date</th>\n",
       "      <th>stuff</th>\n",
       "      <th>level</th>\n",
       "      <th>...</th>\n",
       "      <th>health</th>\n",
       "      <th>compartmented</th>\n",
       "      <th>manage</th>\n",
       "      <th>price</th>\n",
       "      <th>square price</th>\n",
       "      <th>park</th>\n",
       "      <th>park_size</th>\n",
       "      <th>park_price</th>\n",
       "      <th>note</th>\n",
       "      <th>sId</th>\n",
       "    </tr>\n",
       "  </thead>\n",
       "  <tbody>\n",
       "  </tbody>\n",
       "</table>\n",
       "<p>0 rows × 28 columns</p>\n",
       "</div>"
      ],
      "text/plain": [
       "Empty DataFrame\n",
       "Columns: [district, sign, address, square, zone, n1, n2, date, stuff, level, floor, state, use, material, complete, area, room, hall, health, compartmented, manage, price, square price, park, park_size, park_price, note, sId]\n",
       "Index: []\n",
       "\n",
       "[0 rows x 28 columns]"
      ]
     },
     "execution_count": 2,
     "metadata": {},
     "output_type": "execute_result"
    }
   ],
   "source": [
    "col_name = ['district', 'sign', 'address', 'square', 'zone', 'n1', 'n2' , 'date', 'stuff' , 'level', 'floor', 'state', 'use', 'material', 'complete', 'area', 'room', 'hall', 'health', 'compartmented', 'manage', 'price', 'square price', 'park', 'park_size', 'park_price', 'note', 'sId']\n",
    "\n",
    "landDF = pd.DataFrame(columns=col_name)\n",
    "# 自訂顯示幾個feature\n",
    "# pd.set_option('display.max_columns', 30)\n",
    "landDF"
   ]
  },
  {
   "cell_type": "code",
   "execution_count": 7,
   "metadata": {},
   "outputs": [],
   "source": [
    "for j in range(106, 108):\n",
    "    # 取得 a-x檔案內的資料\n",
    "    for i in range(1, 5):\n",
    "        try:\n",
    "            temp = pd.read_csv('./106to108/' + str(j) + '_S' + str(i) + '_F_lvr_land_A.csv', header=None, names=col_name)\n",
    "            temp = temp.drop(temp.index[0])\n",
    "            landDF = landDF.append(temp, ignore_index=True)\n",
    "        except Exception as e:\n",
    "            print(e)\n",
    "            continue"
   ]
  },
  {
   "cell_type": "code",
   "execution_count": 8,
   "metadata": {},
   "outputs": [
    {
     "name": "stdout",
     "output_type": "stream",
     "text": [
      "(104104, 28)\n"
     ]
    }
   ],
   "source": [
    "print(landDF.shape)"
   ]
  },
  {
   "cell_type": "code",
   "execution_count": 9,
   "metadata": {},
   "outputs": [],
   "source": [
    "# 整合結果後輸出成新csv\n",
    "landDF.to_csv('all_F_lvr_land_A.csv', index=False)"
   ]
  },
  {
   "cell_type": "markdown",
   "metadata": {},
   "source": [
    "### EDA"
   ]
  },
  {
   "cell_type": "code",
   "execution_count": 35,
   "metadata": {},
   "outputs": [],
   "source": [
    "S1_106['建物現況格局-房'] = S1_106['建物現況格局-房'].astype(float)\n",
    "S1_106['建物移轉總面積平方公尺'] = S1_106['建物移轉總面積平方公尺'].astype(float)\n",
    "S1_106['建物現況格局-廳'] = S1_106['建物現況格局-廳'].astype(float)\n",
    "S1_106['總價元'] = S1_106['總價元'].astype(float)\n",
    "# S1_106['單價元/平方公尺'] = S1_106['單價元/平方公尺'].astype(float) #內含非數字"
   ]
  },
  {
   "cell_type": "code",
   "execution_count": 41,
   "metadata": {},
   "outputs": [],
   "source": [
    "import matplotlib.pyplot as plt\n",
    "import seaborn as sns\n",
    "# 避免特定的錯誤提示\n",
    "import warnings\n",
    "warnings.filterwarnings(\"ignore\", message=\"numpy.dtype size changed\")\n",
    "warnings.filterwarnings(\"ignore\", message=\"numpy.ufunc size changed\")\n",
    "\n",
    "# plt.plot(S1_106['總價元'])\n",
    "# plt.title('總價元', fontproperties=\"SimSun\", fontsize=20)\n",
    "# plt.show()"
   ]
  },
  {
   "cell_type": "code",
   "execution_count": 32,
   "metadata": {},
   "outputs": [
    {
     "data": {
      "image/png": "[encoded data removed]",
      "text/plain": [
       "<Figure size 1440x720 with 1 Axes>"
      ]
     },
     "metadata": {
      "needs_background": "light"
     },
     "output_type": "display_data"
    }
   ],
   "source": [
    "import matplotlib.pyplot as plt\n",
    "import seaborn as sns\n",
    "\n",
    "S1_106['建物現況格局-房'].hist(figsize=(20,10), bins=20) # bins為長條組數\n",
    "plt.title('建物現況格局-房', fontproperties=\"SimSun\", fontsize=20)\n",
    "plt.show()"
   ]
  },
  {
   "cell_type": "code",
   "execution_count": 8,
   "metadata": {},
   "outputs": [
    {
     "data": {
      "text/html": [
       "<div>\n",
       "<style scoped>\n",
       "    .dataframe tbody tr th:only-of-type {\n",
       "        vertical-align: middle;\n",
       "    }\n",
       "\n",
       "    .dataframe tbody tr th {\n",
       "        vertical-align: top;\n",
       "    }\n",
       "\n",
       "    .dataframe thead th {\n",
       "        text-align: right;\n",
       "    }\n",
       "</style>\n",
       "<table border=\"1\" class=\"dataframe\">\n",
       "  <thead>\n",
       "    <tr style=\"text-align: right;\">\n",
       "      <th></th>\n",
       "    </tr>\n",
       "  </thead>\n",
       "  <tbody>\n",
       "  </tbody>\n",
       "</table>\n",
       "</div>"
      ],
      "text/plain": [
       "Empty DataFrame\n",
       "Columns: []\n",
       "Index: []"
      ]
     },
     "execution_count": 8,
     "metadata": {},
     "output_type": "execute_result"
    }
   ],
   "source": [
    "S1_106.corr()"
   ]
  },
  {
   "cell_type": "markdown",
   "metadata": {},
   "source": [
    "### 合成一個csv"
   ]
  },
  {
   "cell_type": "code",
   "execution_count": null,
   "metadata": {},
   "outputs": [],
   "source": []
  }
 ],
 "metadata": {
  "kernelspec": {
   "display_name": "Python 3",
   "language": "python",
   "name": "python3"
  },
  "language_info": {
   "codemirror_mode": {
    "name": "ipython",
    "version": 3
   },
   "file_extension": ".py",
   "mimetype": "text/x-python",
   "name": "python",
   "nbconvert_exporter": "python",
   "pygments_lexer": "ipython3",
   "version": "3.7.3"
  }
 },
 "nbformat": 4,
 "nbformat_minor": 2
}
