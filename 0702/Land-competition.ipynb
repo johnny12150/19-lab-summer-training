{
 "cells": [
  {
   "cell_type": "markdown",
   "metadata": {},
   "source": [
    "## 土地資料\n",
    "> https://plvr.land.moi.gov.tw/DownloadOpenData\n"
   ]
  },
  {
   "cell_type": "code",
   "execution_count": 4,
   "metadata": {},
   "outputs": [],
   "source": [
    "import pandas as pd\n",
    "\n",
    "S1_106 = pd.read_csv('./106to108/106_S1_F_lvr_land_A.csv', index_col=False, error_bad_lines=False)\n",
    "S1_106 = S1_106.drop(S1_106.index[0])\n",
    "# S1_106.isnull().sum()"
   ]
  },
  {
   "cell_type": "code",
   "execution_count": 6,
   "metadata": {},
   "outputs": [
    {
     "data": {
      "text/html": [
       "<div>\n",
       "<style scoped>\n",
       "    .dataframe tbody tr th:only-of-type {\n",
       "        vertical-align: middle;\n",
       "    }\n",
       "\n",
       "    .dataframe tbody tr th {\n",
       "        vertical-align: top;\n",
       "    }\n",
       "\n",
       "    .dataframe thead th {\n",
       "        text-align: right;\n",
       "    }\n",
       "</style>\n",
       "<table border=\"1\" class=\"dataframe\">\n",
       "  <thead>\n",
       "    <tr style=\"text-align: right;\">\n",
       "      <th></th>\n",
       "    </tr>\n",
       "  </thead>\n",
       "  <tbody>\n",
       "  </tbody>\n",
       "</table>\n",
       "</div>"
      ],
      "text/plain": [
       "Empty DataFrame\n",
       "Columns: []\n",
       "Index: []"
      ]
     },
     "execution_count": 6,
     "metadata": {},
     "output_type": "execute_result"
    }
   ],
   "source": [
    "col_name = ['district', 'sign', 'address', 'square', 'zone', 'n1', 'n2' , 'date', 'stuff' , 'level', 'floor', 'state', 'use', 'material', 'complete', 'area', 'room', 'hall', 'health', 'compartmented', 'manage', 'price', 'square price', 'park', 'park_size', 'park_price', 'note', 'sId']\n",
    "\n",
    "landDF = pd.DataFrame()\n",
    "# 自訂顯示幾個feature\n",
    "# pd.set_option('display.max_columns', 30)\n",
    "landDF"
   ]
  },
  {
   "cell_type": "code",
   "execution_count": 7,
   "metadata": {},
   "outputs": [
    {
     "name": "stdout",
     "output_type": "stream",
     "text": [
      "Error tokenizing data. C error: Expected 28 fields in line 2, saw 29\n",
      "\n",
      "Error tokenizing data. C error: Expected 28 fields in line 2, saw 29\n",
      "\n",
      "Error tokenizing data. C error: Expected 28 fields in line 2, saw 29\n",
      "\n"
     ]
    }
   ],
   "source": [
    "for j in range(106, 108):\n",
    "    # 取得 a-x檔案內的資料\n",
    "    for i in range(1, 5):\n",
    "        try:\n",
    "            temp = pd.read_csv('./106to108/' + str(j) + '_S' + str(i) + '_F_lvr_land_A.csv', header=None)\n",
    "            temp = temp.drop(temp.index[[0, 1]])\n",
    "            # 同concat但中文的column name無法自動 match再append\n",
    "            # landDF = landDF.append(temp, ignore_index=True)\n",
    "            landDF = pd.concat([landDF, temp], axis=0)\n",
    "        except Exception as e:\n",
    "            print(e)\n",
    "            continue"
   ]
  },
  {
   "cell_type": "code",
   "execution_count": 8,
   "metadata": {},
   "outputs": [],
   "source": [
    "# rename column\n",
    "landDF.columns = S1_106.columns"
   ]
  },
  {
   "cell_type": "code",
   "execution_count": 36,
   "metadata": {},
   "outputs": [
    {
     "name": "stdout",
     "output_type": "stream",
     "text": [
      "(67362, 28)\n"
     ]
    }
   ],
   "source": [
    "print(landDF.shape)"
   ]
  },
  {
   "cell_type": "code",
   "execution_count": 38,
   "metadata": {},
   "outputs": [],
   "source": [
    "# 整合結果後輸出成新csv\n",
    "landDF.to_csv('all_F_lvr_land_A.csv', index=False, encoding='utf_8_sig')"
   ]
  },
  {
   "cell_type": "code",
   "execution_count": 48,
   "metadata": {},
   "outputs": [
    {
     "data": {
      "text/plain": [
       "16057"
      ]
     },
     "execution_count": 48,
     "metadata": {},
     "output_type": "execute_result"
    }
   ],
   "source": [
    "# 找unique value\n",
    "landDF['土地區段位置/建物區段門牌'].nunique()"
   ]
  },
  {
   "cell_type": "code",
   "execution_count": 14,
   "metadata": {},
   "outputs": [
    {
     "data": {
      "text/plain": [
       "'新北市板橋區華東街271~300號'"
      ]
     },
     "execution_count": 14,
     "metadata": {},
     "output_type": "execute_result"
    }
   ],
   "source": [
    "landDF['土地區段位置/建物區段門牌'].unique()[0]"
   ]
  },
  {
   "cell_type": "markdown",
   "metadata": {},
   "source": [
    "### Google Map API\n",
    "> https://blog.goodjack.tw/2017/11/python-google-maps-api.html\n",
    "\n",
    "> https://medium.com/jameslearningnote/%E8%B3%87%E6%96%99%E5%88%86%E6%9E%90-%E6%A9%9F%E5%99%A8%E5%AD%B8%E7%BF%92-%E7%AC%AC2-2%E8%AC%9B-%E5%A6%82%E4%BD%95%E7%8D%B2%E5%8F%96%E8%B3%87%E6%96%99-google-map-api-beb7c88dc4e3"
   ]
  },
  {
   "cell_type": "code",
   "execution_count": 20,
   "metadata": {},
   "outputs": [
    {
     "data": {
      "text/plain": [
       "[{'address_components': [{'long_name': '271',\n",
       "    'short_name': '271',\n",
       "    'types': ['street_number']},\n",
       "   {'long_name': 'Huadong Street',\n",
       "    'short_name': 'Huadong Street',\n",
       "    'types': ['route']},\n",
       "   {'long_name': 'Banqiao District',\n",
       "    'short_name': 'Banqiao District',\n",
       "    'types': ['administrative_area_level_3', 'political']},\n",
       "   {'long_name': 'New Taipei City',\n",
       "    'short_name': 'New Taipei City',\n",
       "    'types': ['administrative_area_level_1', 'political']},\n",
       "   {'long_name': 'Taiwan',\n",
       "    'short_name': 'TW',\n",
       "    'types': ['country', 'political']},\n",
       "   {'long_name': '220', 'short_name': '220', 'types': ['postal_code']}],\n",
       "  'formatted_address': 'No. 271, Huadong Street, Banqiao District, New Taipei City, Taiwan 220',\n",
       "  'geometry': {'location': {'lat': 25.0019362, 'lng': 121.4526527},\n",
       "   'location_type': 'RANGE_INTERPOLATED',\n",
       "   'viewport': {'northeast': {'lat': 25.0032851802915,\n",
       "     'lng': 121.4540016802915},\n",
       "    'southwest': {'lat': 25.0005872197085, 'lng': 121.4513037197085}}},\n",
       "  'place_id': 'EkZOby4gMjcxLCBIdWFkb25nIFN0cmVldCwgQmFucWlhbyBEaXN0cmljdCwgTmV3IFRhaXBlaSBDaXR5LCBUYWl3YW4gMjIwIhsSGQoUChIJ3yXIYK4CaDQRL-FXzbZgIZgQjwI',\n",
       "  'types': ['street_address']}]"
      ]
     },
     "execution_count": 20,
     "metadata": {},
     "output_type": "execute_result"
    }
   ],
   "source": [
    "import googlemaps\n",
    "import os\n",
    "from os.path import join, dirname\n",
    "from dotenv import load_dotenv, find_dotenv\n",
    "\n",
    "dotenv_path = join(dirname('__file__'), '.env')\n",
    "load_dotenv(dotenv_path, override=True)  # 設定 override 才會更新變數哦！\n",
    "GOOGLE_PLACES_API_KEY = os.environ.get(\"GOOGLE_PLACES_API_KEY\")\n",
    "\n",
    "# Client\n",
    "gmaps = googlemaps.Client(key=GOOGLE_PLACES_API_KEY)\n",
    "\n",
    "# 取得地理相關資訊\n",
    "geo_result = gmaps.geocode(landDF['土地區段位置/建物區段門牌'].unique()[0])\n",
    "geo_result"
   ]
  },
  {
   "cell_type": "code",
   "execution_count": 22,
   "metadata": {},
   "outputs": [
    {
     "name": "stdout",
     "output_type": "stream",
     "text": [
      "{'lat': 25.0019362, 'lng': 121.4526527} 25.0019362 121.4526527\n"
     ]
    }
   ],
   "source": [
    "loc = geo_result[0]['geometry']['location']\n",
    "lat = loc['lat']\n",
    "lng = loc['lng']\n",
    "\n",
    "print(loc, lat, lng)"
   ]
  },
  {
   "cell_type": "code",
   "execution_count": 38,
   "metadata": {},
   "outputs": [
    {
     "data": {
      "text/html": [
       "<div>\n",
       "<style scoped>\n",
       "    .dataframe tbody tr th:only-of-type {\n",
       "        vertical-align: middle;\n",
       "    }\n",
       "\n",
       "    .dataframe tbody tr th {\n",
       "        vertical-align: top;\n",
       "    }\n",
       "\n",
       "    .dataframe thead th {\n",
       "        text-align: right;\n",
       "    }\n",
       "</style>\n",
       "<table border=\"1\" class=\"dataframe\">\n",
       "  <thead>\n",
       "    <tr style=\"text-align: right;\">\n",
       "      <th></th>\n",
       "      <th>address</th>\n",
       "      <th>lat</th>\n",
       "      <th>lng</th>\n",
       "    </tr>\n",
       "  </thead>\n",
       "  <tbody>\n",
       "    <tr>\n",
       "      <th>0</th>\n",
       "      <td>新北市板橋區華東街271~300號</td>\n",
       "      <td>25.001936</td>\n",
       "      <td>121.452653</td>\n",
       "    </tr>\n",
       "  </tbody>\n",
       "</table>\n",
       "</div>"
      ],
      "text/plain": [
       "             address        lat         lng\n",
       "0  新北市板橋區華東街271~300號  25.001936  121.452653"
      ]
     },
     "execution_count": 38,
     "metadata": {},
     "output_type": "execute_result"
    }
   ],
   "source": [
    "geoSeries = pd.DataFrame({'address': [landDF['土地區段位置/建物區段門牌'].unique()[0]], 'lat': [lat], 'lng': [lng]})\n",
    "geoSeries"
   ]
  },
  {
   "cell_type": "code",
   "execution_count": 40,
   "metadata": {},
   "outputs": [
    {
     "data": {
      "text/html": [
       "<div>\n",
       "<style scoped>\n",
       "    .dataframe tbody tr th:only-of-type {\n",
       "        vertical-align: middle;\n",
       "    }\n",
       "\n",
       "    .dataframe tbody tr th {\n",
       "        vertical-align: top;\n",
       "    }\n",
       "\n",
       "    .dataframe thead th {\n",
       "        text-align: right;\n",
       "    }\n",
       "</style>\n",
       "<table border=\"1\" class=\"dataframe\">\n",
       "  <thead>\n",
       "    <tr style=\"text-align: right;\">\n",
       "      <th></th>\n",
       "      <th>address</th>\n",
       "      <th>lat</th>\n",
       "      <th>lng</th>\n",
       "    </tr>\n",
       "  </thead>\n",
       "  <tbody>\n",
       "    <tr>\n",
       "      <th>0</th>\n",
       "      <td>新北市板橋區華東街271~300號</td>\n",
       "      <td>25.001936</td>\n",
       "      <td>121.452653</td>\n",
       "    </tr>\n",
       "  </tbody>\n",
       "</table>\n",
       "</div>"
      ],
      "text/plain": [
       "             address        lat         lng\n",
       "0  新北市板橋區華東街271~300號  25.001936  121.452653"
      ]
     },
     "execution_count": 40,
     "metadata": {},
     "output_type": "execute_result"
    }
   ],
   "source": [
    "geoDF = pd.DataFrame()\n",
    "geoSeries = pd.DataFrame({'address': [landDF['土地區段位置/建物區段門牌'].unique()[0]], 'lat': [lat], 'lng': [lng]})\n",
    "geoDF = geoDF.append(geoSeries, ignore_index=True)\n",
    "geoDF.head()"
   ]
  },
  {
   "cell_type": "code",
   "execution_count": 47,
   "metadata": {},
   "outputs": [
    {
     "data": {
      "text/plain": [
       "(1, 3)"
      ]
     },
     "execution_count": 47,
     "metadata": {},
     "output_type": "execute_result"
    }
   ],
   "source": [
    "geoDF.shape"
   ]
  },
  {
   "cell_type": "code",
   "execution_count": 49,
   "metadata": {},
   "outputs": [
    {
     "data": {
      "text/plain": [
       "'光明段331~360地號'"
      ]
     },
     "execution_count": 49,
     "metadata": {},
     "output_type": "execute_result"
    }
   ],
   "source": [
    "landDF['土地區段位置/建物區段門牌'].unique()[42]"
   ]
  },
  {
   "cell_type": "code",
   "execution_count": 50,
   "metadata": {},
   "outputs": [
    {
     "data": {
      "text/plain": [
       "[]"
      ]
     },
     "execution_count": 50,
     "metadata": {},
     "output_type": "execute_result"
    }
   ],
   "source": [
    "gmaps.geocode(landDF['土地區段位置/建物區段門牌'].unique()[42])"
   ]
  },
  {
   "cell_type": "code",
   "execution_count": 60,
   "metadata": {},
   "outputs": [
    {
     "data": {
      "text/plain": [
       "True"
      ]
     },
     "execution_count": 60,
     "metadata": {},
     "output_type": "execute_result"
    }
   ],
   "source": [
    "'地號' in landDF['土地區段位置/建物區段門牌'].unique()[42]"
   ]
  },
  {
   "cell_type": "code",
   "execution_count": 75,
   "metadata": {},
   "outputs": [
    {
     "name": "stdout",
     "output_type": "stream",
     "text": [
      "[]\n"
     ]
    }
   ],
   "source": [
    "print(gmaps.geocode('新北市土城區學府路一段179至195181~210號'))"
   ]
  },
  {
   "cell_type": "code",
   "execution_count": 77,
   "metadata": {},
   "outputs": [
    {
     "name": "stdout",
     "output_type": "stream",
     "text": [
      "160\n"
     ]
    }
   ],
   "source": [
    "for i in range(0, landDF['土地區段位置/建物區段門牌'].nunique()):\n",
    "    if '新北市土城區學府路一段179至195181~210號' == landDF['土地區段位置/建物區段門牌'].unique()[i]:\n",
    "        print(str(i))"
   ]
  },
  {
   "cell_type": "code",
   "execution_count": 86,
   "metadata": {},
   "outputs": [],
   "source": [
    "geoDF = pd.DataFrame()"
   ]
  },
  {
   "cell_type": "code",
   "execution_count": 85,
   "metadata": {},
   "outputs": [
    {
     "data": {
      "text/plain": [
       "(6722, 3)"
      ]
     },
     "execution_count": 85,
     "metadata": {},
     "output_type": "execute_result"
    }
   ],
   "source": [
    "geoDF.shape"
   ]
  },
  {
   "cell_type": "code",
   "execution_count": 87,
   "metadata": {},
   "outputs": [
    {
     "name": "stdout",
     "output_type": "stream",
     "text": [
      "Wall time: 24min 12s\n"
     ]
    }
   ],
   "source": [
    "%%time\n",
    "# for i in range(0, landDF['土地區段位置/建物區段門牌'].nunique()):\n",
    "for i in range(12000, 16057):\n",
    "    # 確保不會查到土地的地址 '地號'\n",
    "    land_mark = '地號' in landDF['土地區段位置/建物區段門牌'].unique()[i]\n",
    "    if not land_mark:\n",
    "        geo_result = gmaps.geocode(landDF['土地區段位置/建物區段門牌'].unique()[i])\n",
    "        try:\n",
    "            # print(landDF['土地區段位置/建物區段門牌'].unique()[i], geo_result[0]['geometry']['location']['lat'], geo_result[0]['geometry']['location']['lng'])\n",
    "            geoSeries = pd.DataFrame({'address': [landDF['土地區段位置/建物區段門牌'].unique()[i]], 'lat': [geo_result[0]['geometry']['location']['lat']], 'lng': [geo_result[0]['geometry']['location']['lng']]})\n",
    "            geoDF = geoDF.append(geoSeries, ignore_index=True)\n",
    "        except:\n",
    "            continue\n",
    "\n",
    "geoDF.to_csv('geo_info_12000_to_16057.csv', index=False, encoding='utf_8_sig')"
   ]
  },
  {
   "cell_type": "markdown",
   "metadata": {},
   "source": [
    "### EDA"
   ]
  },
  {
   "cell_type": "code",
   "execution_count": 35,
   "metadata": {},
   "outputs": [],
   "source": [
    "S1_106['建物現況格局-房'] = S1_106['建物現況格局-房'].astype(float)\n",
    "S1_106['建物移轉總面積平方公尺'] = S1_106['建物移轉總面積平方公尺'].astype(float)\n",
    "S1_106['建物現況格局-廳'] = S1_106['建物現況格局-廳'].astype(float)\n",
    "S1_106['總價元'] = S1_106['總價元'].astype(float)\n",
    "# S1_106['單價元/平方公尺'] = S1_106['單價元/平方公尺'].astype(float) #內含非數字"
   ]
  },
  {
   "cell_type": "code",
   "execution_count": 41,
   "metadata": {},
   "outputs": [],
   "source": [
    "import matplotlib.pyplot as plt\n",
    "import seaborn as sns\n",
    "# 避免特定的錯誤提示\n",
    "import warnings\n",
    "warnings.filterwarnings(\"ignore\", message=\"numpy.dtype size changed\")\n",
    "warnings.filterwarnings(\"ignore\", message=\"numpy.ufunc size changed\")\n",
    "\n",
    "# plt.plot(S1_106['總價元'])\n",
    "# plt.title('總價元', fontproperties=\"SimSun\", fontsize=20)\n",
    "# plt.show()"
   ]
  },
  {
   "cell_type": "markdown",
   "metadata": {},
   "source": [
    "> https://codertw.com/%E7%A8%8B%E5%BC%8F%E8%AA%9E%E8%A8%80/359974/"
   ]
  },
  {
   "cell_type": "code",
   "execution_count": 32,
   "metadata": {},
   "outputs": [
    {
     "data": {
      "image/png": "[encoded data removed]",
      "text/plain": [
       "<Figure size 1440x720 with 1 Axes>"
      ]
     },
     "metadata": {
      "needs_background": "light"
     },
     "output_type": "display_data"
    }
   ],
   "source": [
    "import matplotlib.pyplot as plt\n",
    "import seaborn as sns\n",
    "\n",
    "S1_106['建物現況格局-房'].hist(figsize=(20,10), bins=20) # bins為長條組數\n",
    "plt.title('建物現況格局-房', fontproperties=\"SimSun\", fontsize=20)\n",
    "plt.show()"
   ]
  },
  {
   "cell_type": "code",
   "execution_count": 8,
   "metadata": {},
   "outputs": [
    {
     "data": {
      "text/html": [
       "<div>\n",
       "<style scoped>\n",
       "    .dataframe tbody tr th:only-of-type {\n",
       "        vertical-align: middle;\n",
       "    }\n",
       "\n",
       "    .dataframe tbody tr th {\n",
       "        vertical-align: top;\n",
       "    }\n",
       "\n",
       "    .dataframe thead th {\n",
       "        text-align: right;\n",
       "    }\n",
       "</style>\n",
       "<table border=\"1\" class=\"dataframe\">\n",
       "  <thead>\n",
       "    <tr style=\"text-align: right;\">\n",
       "      <th></th>\n",
       "    </tr>\n",
       "  </thead>\n",
       "  <tbody>\n",
       "  </tbody>\n",
       "</table>\n",
       "</div>"
      ],
      "text/plain": [
       "Empty DataFrame\n",
       "Columns: []\n",
       "Index: []"
      ]
     },
     "execution_count": 8,
     "metadata": {},
     "output_type": "execute_result"
    }
   ],
   "source": [
    "S1_106.corr()"
   ]
  },
  {
   "cell_type": "markdown",
   "metadata": {},
   "source": [
    "### 合成一個csv"
   ]
  },
  {
   "cell_type": "code",
   "execution_count": null,
   "metadata": {},
   "outputs": [],
   "source": []
  }
 ],
 "metadata": {
  "kernelspec": {
   "display_name": "Python 3",
   "language": "python",
   "name": "python3"
  },
  "language_info": {
   "codemirror_mode": {
    "name": "ipython",
    "version": 3
   },
   "file_extension": ".py",
   "mimetype": "text/x-python",
   "name": "python",
   "nbconvert_exporter": "python",
   "pygments_lexer": "ipython3",
   "version": "3.7.3"
  },
  "toc-autonumbering": false,
  "toc-showcode": false
 },
 "nbformat": 4,
 "nbformat_minor": 4
}
