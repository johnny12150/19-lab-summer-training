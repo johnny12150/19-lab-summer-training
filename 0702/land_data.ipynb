{
 "cells": [
  {
   "cell_type": "code",
   "execution_count": 1,
   "metadata": {},
   "outputs": [],
   "source": [
    "import pandas as pd\n"
   ]
  },
  {
   "cell_type": "code",
   "execution_count": 2,
   "metadata": {},
   "outputs": [],
   "source": [
    "col_names = []\n",
    "\n",
    "LandDF = pd.DataFrame()\n",
    "PreScale = pd.DataFrame()\n",
    "RentDF = pd.DataFrame()"
   ]
  },
  {
   "cell_type": "code",
   "execution_count": 3,
   "metadata": {},
   "outputs": [
    {
     "name": "stdout",
     "output_type": "stream",
     "text": [
      "['a', 'b', 'c', 'd', 'e', 'f', 'g', 'h', 'i', 'j', 'k', 'l', 'm', 'n', 'o', 'p', 'q', 'r', 's', 't', 'u', 'v', 'w', 'x']\n",
      "['a', 'b', 'c']\n"
     ]
    }
   ],
   "source": [
    "import string\n",
    "file_name =[]\n",
    "file_type =[]\n",
    "\n",
    "for i in range(0, 24):\n",
    "    file_name.append(string.ascii_lowercase[i])\n",
    "    \n",
    "for i in range(0, 3):\n",
    "    file_type.append(string.ascii_lowercase[i])\n",
    "    \n",
    "print(file_name)\n",
    "print(file_type)"
   ]
  },
  {
   "cell_type": "code",
   "execution_count": 14,
   "metadata": {},
   "outputs": [
    {
     "name": "stdout",
     "output_type": "stream",
     "text": [
      "File b'./data/l_lvr_land_a.csv' does not exist\n",
      "File b'./data/r_lvr_land_a.csv' does not exist\n",
      "File b'./data/s_lvr_land_a.csv' does not exist\n",
      "File b'./data/a_lvr_land_b.csv' does not exist\n",
      "File b'./data/c_lvr_land_b.csv' does not exist\n",
      "File b'./data/d_lvr_land_b.csv' does not exist\n",
      "File b'./data/e_lvr_land_b.csv' does not exist\n",
      "File b'./data/g_lvr_land_b.csv' does not exist\n",
      "File b'./data/i_lvr_land_b.csv' does not exist\n",
      "File b'./data/j_lvr_land_b.csv' does not exist\n",
      "File b'./data/k_lvr_land_b.csv' does not exist\n",
      "File b'./data/l_lvr_land_b.csv' does not exist\n",
      "File b'./data/m_lvr_land_b.csv' does not exist\n",
      "File b'./data/n_lvr_land_b.csv' does not exist\n",
      "File b'./data/p_lvr_land_b.csv' does not exist\n",
      "File b'./data/q_lvr_land_b.csv' does not exist\n",
      "File b'./data/r_lvr_land_b.csv' does not exist\n",
      "File b'./data/s_lvr_land_b.csv' does not exist\n",
      "File b'./data/t_lvr_land_b.csv' does not exist\n",
      "File b'./data/u_lvr_land_b.csv' does not exist\n",
      "File b'./data/v_lvr_land_b.csv' does not exist\n",
      "File b'./data/w_lvr_land_b.csv' does not exist\n",
      "File b'./data/x_lvr_land_b.csv' does not exist\n",
      "File b'./data/c_lvr_land_c.csv' does not exist\n",
      "File b'./data/k_lvr_land_c.csv' does not exist\n",
      "File b'./data/l_lvr_land_c.csv' does not exist\n",
      "File b'./data/m_lvr_land_c.csv' does not exist\n",
      "File b'./data/q_lvr_land_c.csv' does not exist\n",
      "File b'./data/r_lvr_land_c.csv' does not exist\n",
      "File b'./data/s_lvr_land_c.csv' does not exist\n",
      "File b'./data/v_lvr_land_c.csv' does not exist\n",
      "File b'./data/w_lvr_land_c.csv' does not exist\n",
      "File b'./data/x_lvr_land_c.csv' does not exist\n"
     ]
    }
   ],
   "source": [
    "for j in range(0 ,3):\n",
    "    for i in range(0, 24):\n",
    "        try:\n",
    "            temp = pd.read_csv('./data/'+file_name[i]+'_lvr_land_'+file_type[j]+'.csv', header=None)\n",
    "            temp = temp.drop(temp.index[[0, 1]])\n",
    "            if j ==0:\n",
    "                LandDF = LandDF.append(temp, ignore_index=True)\n",
    "            if j==1:\n",
    "                PreScale = PreScale.append(temp, ignore_index=True)\n",
    "            if j==2:\n",
    "                RentDF = RentDF.append(temp , ignore_index=True)\n",
    "        except Exception as e:\n",
    "#             print('./data/'+file_name[i]+'_lvr_land_'+file_type[j]+'.csv 不存在')\n",
    "            print(str(e)) \n",
    "            continue"
   ]
  },
  {
   "cell_type": "code",
   "execution_count": 15,
   "metadata": {},
   "outputs": [
    {
     "name": "stdout",
     "output_type": "stream",
     "text": [
      "(8089, 28)\n",
      "(332, 28)\n",
      "(679, 29)\n"
     ]
    }
   ],
   "source": [
    "print(LandDF.shape)\n",
    "print(PreScale.shape)\n",
    "print(RentDF.shape)"
   ]
  },
  {
   "cell_type": "code",
   "execution_count": 16,
   "metadata": {
    "collapsed": true,
    "jupyter": {
     "outputs_hidden": true
    }
   },
   "outputs": [
    {
     "data": {
      "text/html": [
       "<div>\n",
       "<style scoped>\n",
       "    .dataframe tbody tr th:only-of-type {\n",
       "        vertical-align: middle;\n",
       "    }\n",
       "\n",
       "    .dataframe tbody tr th {\n",
       "        vertical-align: top;\n",
       "    }\n",
       "\n",
       "    .dataframe thead th {\n",
       "        text-align: right;\n",
       "    }\n",
       "</style>\n",
       "<table border=\"1\" class=\"dataframe\">\n",
       "  <thead>\n",
       "    <tr style=\"text-align: right;\">\n",
       "      <th></th>\n",
       "      <th>0</th>\n",
       "      <th>1</th>\n",
       "      <th>2</th>\n",
       "      <th>3</th>\n",
       "      <th>4</th>\n",
       "      <th>5</th>\n",
       "      <th>6</th>\n",
       "      <th>7</th>\n",
       "      <th>8</th>\n",
       "      <th>9</th>\n",
       "      <th>...</th>\n",
       "      <th>18</th>\n",
       "      <th>19</th>\n",
       "      <th>20</th>\n",
       "      <th>21</th>\n",
       "      <th>22</th>\n",
       "      <th>23</th>\n",
       "      <th>24</th>\n",
       "      <th>25</th>\n",
       "      <th>26</th>\n",
       "      <th>27</th>\n",
       "    </tr>\n",
       "  </thead>\n",
       "  <tbody>\n",
       "    <tr>\n",
       "      <th>0</th>\n",
       "      <td>中正區</td>\n",
       "      <td>房地(土地+建物)</td>\n",
       "      <td>臺北市中正區師大路181~210號</td>\n",
       "      <td>22.9</td>\n",
       "      <td>住</td>\n",
       "      <td>NaN</td>\n",
       "      <td>NaN</td>\n",
       "      <td>1080401</td>\n",
       "      <td>土地2建物1車位0</td>\n",
       "      <td>四層</td>\n",
       "      <td>...</td>\n",
       "      <td>2</td>\n",
       "      <td>有</td>\n",
       "      <td>有</td>\n",
       "      <td>26500000</td>\n",
       "      <td>158247</td>\n",
       "      <td>NaN</td>\n",
       "      <td>0.0</td>\n",
       "      <td>0</td>\n",
       "      <td>含增建或未登記建物。;</td>\n",
       "      <td>RPROMLNKNHOFFAA77CA</td>\n",
       "    </tr>\n",
       "    <tr>\n",
       "      <th>1</th>\n",
       "      <td>中正區</td>\n",
       "      <td>房地(土地+建物)+車位</td>\n",
       "      <td>臺北市中正區廈門街113巷1~30號</td>\n",
       "      <td>6.23</td>\n",
       "      <td>商</td>\n",
       "      <td>NaN</td>\n",
       "      <td>NaN</td>\n",
       "      <td>1080310</td>\n",
       "      <td>土地1建物1車位1</td>\n",
       "      <td>二層</td>\n",
       "      <td>...</td>\n",
       "      <td>1</td>\n",
       "      <td>有</td>\n",
       "      <td>有</td>\n",
       "      <td>15080000</td>\n",
       "      <td>205478</td>\n",
       "      <td>坡道機械</td>\n",
       "      <td>4.07</td>\n",
       "      <td>0</td>\n",
       "      <td>含增建或未登記建物。;</td>\n",
       "      <td>RPXOMLOKNHOFFAA48CA</td>\n",
       "    </tr>\n",
       "    <tr>\n",
       "      <th>2</th>\n",
       "      <td>文山區</td>\n",
       "      <td>房地(土地+建物)</td>\n",
       "      <td>臺北市文山區木柵路三段31~60號</td>\n",
       "      <td>22.67</td>\n",
       "      <td>商</td>\n",
       "      <td>NaN</td>\n",
       "      <td>NaN</td>\n",
       "      <td>1080419</td>\n",
       "      <td>土地2建物1車位0</td>\n",
       "      <td>四層，陽台</td>\n",
       "      <td>...</td>\n",
       "      <td>1</td>\n",
       "      <td>有</td>\n",
       "      <td>無</td>\n",
       "      <td>8400000</td>\n",
       "      <td>105118</td>\n",
       "      <td>NaN</td>\n",
       "      <td>0.0</td>\n",
       "      <td>0</td>\n",
       "      <td>親友、員工或其他特殊關係間之交易。;二親等買賣，建物格局由出賣人提供。</td>\n",
       "      <td>RPPNMLPKNHOFFAA67CA</td>\n",
       "    </tr>\n",
       "    <tr>\n",
       "      <th>3</th>\n",
       "      <td>文山區</td>\n",
       "      <td>房地(土地+建物)</td>\n",
       "      <td>臺北市文山區興隆路二段220巷53弄1~30號</td>\n",
       "      <td>25.53</td>\n",
       "      <td>住</td>\n",
       "      <td>NaN</td>\n",
       "      <td>NaN</td>\n",
       "      <td>1080429</td>\n",
       "      <td>土地5建物1車位0</td>\n",
       "      <td>三層</td>\n",
       "      <td>...</td>\n",
       "      <td>2</td>\n",
       "      <td>有</td>\n",
       "      <td>無</td>\n",
       "      <td>11500000</td>\n",
       "      <td>121590</td>\n",
       "      <td>NaN</td>\n",
       "      <td>0.0</td>\n",
       "      <td>0</td>\n",
       "      <td>NaN</td>\n",
       "      <td>RPRNMLPKNHOFFAA87CA</td>\n",
       "    </tr>\n",
       "    <tr>\n",
       "      <th>4</th>\n",
       "      <td>中正區</td>\n",
       "      <td>房地(土地+建物)</td>\n",
       "      <td>臺北市中正區臨沂街71巷1~30號</td>\n",
       "      <td>25.47</td>\n",
       "      <td>住</td>\n",
       "      <td>NaN</td>\n",
       "      <td>NaN</td>\n",
       "      <td>1080406</td>\n",
       "      <td>土地1建物1車位0</td>\n",
       "      <td>四層</td>\n",
       "      <td>...</td>\n",
       "      <td>2</td>\n",
       "      <td>有</td>\n",
       "      <td>無</td>\n",
       "      <td>28800000</td>\n",
       "      <td>249070</td>\n",
       "      <td>NaN</td>\n",
       "      <td>0.0</td>\n",
       "      <td>0</td>\n",
       "      <td>含增建或未登記建物。;</td>\n",
       "      <td>RPTPMLOKNHOFFBA28CA</td>\n",
       "    </tr>\n",
       "  </tbody>\n",
       "</table>\n",
       "<p>5 rows × 28 columns</p>\n",
       "</div>"
      ],
      "text/plain": [
       "    0             1                        2      3  4    5    6        7   \\\n",
       "0  中正區     房地(土地+建物)        臺北市中正區師大路181~210號   22.9  住  NaN  NaN  1080401   \n",
       "1  中正區  房地(土地+建物)+車位       臺北市中正區廈門街113巷1~30號   6.23  商  NaN  NaN  1080310   \n",
       "2  文山區     房地(土地+建物)        臺北市文山區木柵路三段31~60號  22.67  商  NaN  NaN  1080419   \n",
       "3  文山區     房地(土地+建物)  臺北市文山區興隆路二段220巷53弄1~30號  25.53  住  NaN  NaN  1080429   \n",
       "4  中正區     房地(土地+建物)        臺北市中正區臨沂街71巷1~30號  25.47  住  NaN  NaN  1080406   \n",
       "\n",
       "          8      9          ...          18 19 20        21      22    23  \\\n",
       "0  土地2建物1車位0     四層         ...           2  有  有  26500000  158247   NaN   \n",
       "1  土地1建物1車位1     二層         ...           1  有  有  15080000  205478  坡道機械   \n",
       "2  土地2建物1車位0  四層，陽台         ...           1  有  無   8400000  105118   NaN   \n",
       "3  土地5建物1車位0     三層         ...           2  有  無  11500000  121590   NaN   \n",
       "4  土地1建物1車位0     四層         ...           2  有  無  28800000  249070   NaN   \n",
       "\n",
       "     24 25                                   26                   27  \n",
       "0   0.0  0                          含增建或未登記建物。;  RPROMLNKNHOFFAA77CA  \n",
       "1  4.07  0                          含增建或未登記建物。;  RPXOMLOKNHOFFAA48CA  \n",
       "2   0.0  0  親友、員工或其他特殊關係間之交易。;二親等買賣，建物格局由出賣人提供。  RPPNMLPKNHOFFAA67CA  \n",
       "3   0.0  0                                  NaN  RPRNMLPKNHOFFAA87CA  \n",
       "4   0.0  0                          含增建或未登記建物。;  RPTPMLOKNHOFFBA28CA  \n",
       "\n",
       "[5 rows x 28 columns]"
      ]
     },
     "execution_count": 16,
     "metadata": {},
     "output_type": "execute_result"
    }
   ],
   "source": [
    "LandDF.head()"
   ]
  },
  {
   "cell_type": "code",
   "execution_count": 49,
   "metadata": {},
   "outputs": [
    {
     "data": {
      "text/html": [
       "<div>\n",
       "<style scoped>\n",
       "    .dataframe tbody tr th:only-of-type {\n",
       "        vertical-align: middle;\n",
       "    }\n",
       "\n",
       "    .dataframe tbody tr th {\n",
       "        vertical-align: top;\n",
       "    }\n",
       "\n",
       "    .dataframe thead th {\n",
       "        text-align: right;\n",
       "    }\n",
       "</style>\n",
       "<table border=\"1\" class=\"dataframe\">\n",
       "  <thead>\n",
       "    <tr style=\"text-align: right;\">\n",
       "      <th></th>\n",
       "      <th>3</th>\n",
       "      <th>15</th>\n",
       "      <th>16</th>\n",
       "      <th>17</th>\n",
       "      <th>18</th>\n",
       "      <th>22</th>\n",
       "    </tr>\n",
       "  </thead>\n",
       "  <tbody>\n",
       "    <tr>\n",
       "      <th>0</th>\n",
       "      <td>22.9</td>\n",
       "      <td>167.46</td>\n",
       "      <td>4</td>\n",
       "      <td>2</td>\n",
       "      <td>2</td>\n",
       "      <td>158247</td>\n",
       "    </tr>\n",
       "    <tr>\n",
       "      <th>1</th>\n",
       "      <td>6.23</td>\n",
       "      <td>73.39</td>\n",
       "      <td>2</td>\n",
       "      <td>1</td>\n",
       "      <td>1</td>\n",
       "      <td>205478</td>\n",
       "    </tr>\n",
       "    <tr>\n",
       "      <th>2</th>\n",
       "      <td>22.67</td>\n",
       "      <td>79.91</td>\n",
       "      <td>4</td>\n",
       "      <td>2</td>\n",
       "      <td>1</td>\n",
       "      <td>105118</td>\n",
       "    </tr>\n",
       "    <tr>\n",
       "      <th>3</th>\n",
       "      <td>25.53</td>\n",
       "      <td>94.58</td>\n",
       "      <td>3</td>\n",
       "      <td>2</td>\n",
       "      <td>2</td>\n",
       "      <td>121590</td>\n",
       "    </tr>\n",
       "    <tr>\n",
       "      <th>4</th>\n",
       "      <td>25.47</td>\n",
       "      <td>115.63000000000001</td>\n",
       "      <td>3</td>\n",
       "      <td>2</td>\n",
       "      <td>2</td>\n",
       "      <td>249070</td>\n",
       "    </tr>\n",
       "  </tbody>\n",
       "</table>\n",
       "</div>"
      ],
      "text/plain": [
       "      3                   15 16 17 18      22\n",
       "0   22.9              167.46  4  2  2  158247\n",
       "1   6.23               73.39  2  1  1  205478\n",
       "2  22.67               79.91  4  2  1  105118\n",
       "3  25.53               94.58  3  2  2  121590\n",
       "4  25.47  115.63000000000001  3  2  2  249070"
      ]
     },
     "execution_count": 49,
     "metadata": {},
     "output_type": "execute_result"
    }
   ],
   "source": [
    "# 把數字部分轉化型態\n",
    "All_num = LandDF.iloc[:, [3, 7, 14, 15, 16, 17, 18, 21, 22, 24, 25]] # 含車位(24, 25)\n",
    "# House = LandDF.iloc[:, [3, 7, 14, 15, 16, 17, 18, 22]] #僅房子\n",
    "House = LandDF.iloc[:, [3, 15, 16, 17, 18, 22]] \n",
    "House.head()"
   ]
  },
  {
   "cell_type": "code",
   "execution_count": 28,
   "metadata": {},
   "outputs": [],
   "source": [
    "# 21 是售價作為target\n",
    "Price = LandDF.iloc[:, 21]"
   ]
  },
  {
   "cell_type": "code",
   "execution_count": 32,
   "metadata": {},
   "outputs": [
    {
     "name": "stdout",
     "output_type": "stream",
     "text": [
      "3        0\n",
      "7        0\n",
      "14    2257\n",
      "15       0\n",
      "16       0\n",
      "17       0\n",
      "18       0\n",
      "22     126\n",
      "dtype: int64\n",
      "0\n"
     ]
    }
   ],
   "source": [
    "print(House.isnull().sum())\n",
    "print(Price.isnull().sum())"
   ]
  },
  {
   "cell_type": "code",
   "execution_count": 51,
   "metadata": {},
   "outputs": [
    {
     "name": "stderr",
     "output_type": "stream",
     "text": [
      "/anaconda3/lib/python3.5/site-packages/ipykernel_launcher.py:3: SettingWithCopyWarning: \n",
      "A value is trying to be set on a copy of a slice from a DataFrame.\n",
      "Try using .loc[row_indexer,col_indexer] = value instead\n",
      "\n",
      "See the caveats in the documentation: http://pandas.pydata.org/pandas-docs/stable/indexing.html#indexing-view-versus-copy\n",
      "  This is separate from the ipykernel package so we can avoid doing imports until\n"
     ]
    }
   ],
   "source": [
    "# 處理空值\n",
    "# House = House.drop([14], axis=1)\n",
    "House[22] = House[22].fillna(House[22].median())"
   ]
  },
  {
   "cell_type": "markdown",
   "metadata": {},
   "source": [
    "### Baseline model"
   ]
  },
  {
   "cell_type": "code",
   "execution_count": 52,
   "metadata": {},
   "outputs": [],
   "source": [
    "from sklearn.preprocessing import MinMaxScaler\n",
    "scaler = MinMaxScaler()\n",
    "train_feature_num = scaler.fit_transform(House)"
   ]
  },
  {
   "cell_type": "code",
   "execution_count": 56,
   "metadata": {},
   "outputs": [
    {
     "name": "stdout",
     "output_type": "stream",
     "text": [
      "_________________________________________________________________\n",
      "Layer (type)                 Output Shape              Param #   \n",
      "=================================================================\n",
      "dense1 (Dense)               (None, 64)                448       \n",
      "_________________________________________________________________\n",
      "dense2 (Dense)               (None, 32)                2080      \n",
      "_________________________________________________________________\n",
      "dense3 (Dense)               (None, 32)                1056      \n",
      "_________________________________________________________________\n",
      "dense4 (Dense)               (None, 64)                2112      \n",
      "_________________________________________________________________\n",
      "output_layer (Dense)         (None, 1)                 65        \n",
      "=================================================================\n",
      "Total params: 5,761\n",
      "Trainable params: 5,761\n",
      "Non-trainable params: 0\n",
      "_________________________________________________________________\n"
     ]
    }
   ],
   "source": [
    "from keras.models import Sequential\n",
    "from keras.layers import Dense, Activation\n",
    "\n",
    "model = Sequential()\n",
    "model.add(Dense(64, input_dim=House.columns.size, activation='relu', kernel_initializer='normal', name='dense1'))\n",
    "model.add(Dense(32, name='dense2', kernel_initializer='normal', activation='relu'))\n",
    "model.add(Dense(32, name='dense3', kernel_initializer='normal', activation='relu'))\n",
    "model.add(Dense(64, name='dense4', kernel_initializer='normal', activation='relu'))\n",
    "model.add(Dense(1, kernel_initializer='normal', activation='linear', name='output_layer'))\n",
    "model.summary()"
   ]
  },
  {
   "cell_type": "code",
   "execution_count": 57,
   "metadata": {},
   "outputs": [
    {
     "name": "stdout",
     "output_type": "stream",
     "text": [
      "Train on 6471 samples, validate on 1618 samples\n",
      "Epoch 1/10\n",
      " - 0s - loss: 1347657817221567.2500 - acc: 3.0907e-04 - val_loss: 292512798811074.0000 - val_acc: 0.0000e+00\n",
      "Epoch 2/10\n",
      " - 0s - loss: 1347657804893385.7500 - acc: 3.0907e-04 - val_loss: 292512797421613.5625 - val_acc: 0.0000e+00\n",
      "Epoch 3/10\n",
      " - 0s - loss: 1347657715516014.7500 - acc: 0.0000e+00 - val_loss: 292512780198525.9375 - val_acc: 0.0000e+00\n",
      "Epoch 4/10\n",
      " - 0s - loss: 1347657534707872.5000 - acc: 0.0000e+00 - val_loss: 292512508548646.6250 - val_acc: 0.0000e+00\n",
      "Epoch 5/10\n",
      " - 0s - loss: 1347656823857930.5000 - acc: 0.0000e+00 - val_loss: 292511571430183.5625 - val_acc: 0.0000e+00\n",
      "Epoch 6/10\n",
      " - 0s - loss: 1347653723876428.5000 - acc: 0.0000e+00 - val_loss: 292508732907732.6250 - val_acc: 0.0000e+00\n",
      "Epoch 7/10\n",
      " - 0s - loss: 1347645535716102.7500 - acc: 0.0000e+00 - val_loss: 292501495446944.4375 - val_acc: 0.0000e+00\n",
      "Epoch 8/10\n",
      " - 0s - loss: 1347626816286509.2500 - acc: 0.0000e+00 - val_loss: 292485618601290.3750 - val_acc: 0.0000e+00\n",
      "Epoch 9/10\n",
      " - 0s - loss: 1347587989841888.7500 - acc: 0.0000e+00 - val_loss: 292454928355282.4375 - val_acc: 0.0000e+00\n",
      "Epoch 10/10\n",
      " - 0s - loss: 1347518881121296.7500 - acc: 0.0000e+00 - val_loss: 292400649665020.8125 - val_acc: 0.0000e+00\n"
     ]
    }
   ],
   "source": [
    "model.compile(loss=\"mean_squared_error\", optimizer='adam', metrics=['accuracy'])\n",
    "train_history = model.fit(x=train_feature_num, y=Price, validation_split=0.2, epochs=10, batch_size=300, verbose=2)"
   ]
  },
  {
   "cell_type": "markdown",
   "metadata": {},
   "source": [
    "### SVC"
   ]
  },
  {
   "cell_type": "code",
   "execution_count": 59,
   "metadata": {},
   "outputs": [],
   "source": [
    "from sklearn.model_selection import train_test_split\n",
    "X_train, X_val, y_train, y_val = train_test_split(train_feature_num, Price, test_size = 0.3, random_state=1)"
   ]
  },
  {
   "cell_type": "code",
   "execution_count": 63,
   "metadata": {},
   "outputs": [
    {
     "name": "stdout",
     "output_type": "stream",
     "text": [
      "score for svc model is 0.007828594973217964\n",
      "CPU times: user 2min 8s, sys: 2.93 s, total: 2min 11s\n",
      "Wall time: 2min 10s\n"
     ]
    }
   ],
   "source": [
    "%%time\n",
    "from sklearn.svm import SVC\n",
    "\n",
    "# X_train, X_val = train_feature.iloc[train_index], train_feature.iloc[test_index]\n",
    "# y_train, y_val = train_label.iloc[train_index], train_label.iloc[test_index]\n",
    "svc = SVC(gamma='auto')\n",
    "svc_model = svc.fit(X_train, y_train)\n",
    "# svc_y_pred = svc.predict(X_val)\n",
    "print('score for svc model is {}'.format(svc.score(X_val, y_val)))"
   ]
  },
  {
   "cell_type": "code",
   "execution_count": null,
   "metadata": {},
   "outputs": [],
   "source": []
  }
 ],
 "metadata": {
  "kernelspec": {
   "display_name": "Python 3",
   "language": "python",
   "name": "python3"
  },
  "language_info": {
   "codemirror_mode": {
    "name": "ipython",
    "version": 3
   },
   "file_extension": ".py",
   "mimetype": "text/x-python",
   "name": "python",
   "nbconvert_exporter": "python",
   "pygments_lexer": "ipython3",
   "version": "3.5.5"
  }
 },
 "nbformat": 4,
 "nbformat_minor": 2
}
