{
 "cells": [
  {
   "cell_type": "code",
   "execution_count": 21,
   "metadata": {},
   "outputs": [],
   "source": [
    "import pandas as pd\n",
    "\n",
    "landDF = pd.read_csv('../0703/test_data/all_test_lat.csv', index_col=False)\n",
    "# 找lat, lng缺的地址\n",
    "missing_lat_list = landDF[landDF['lat'].isnull()].head().index.tolist()\n",
    "unique_missing = landDF[landDF['lat'].isnull()]['土地區段位置/建物區段門牌'].unique()"
   ]
  },
  {
   "cell_type": "code",
   "execution_count": 13,
   "metadata": {},
   "outputs": [
    {
     "data": {
      "text/plain": [
       "[2, 3, 7, 14, 18]"
      ]
     },
     "execution_count": 13,
     "metadata": {},
     "output_type": "execute_result"
    }
   ],
   "source": [
    "landDF[landDF['lat'].isnull()].head().index.tolist()"
   ]
  },
  {
   "cell_type": "code",
   "execution_count": 17,
   "metadata": {},
   "outputs": [
    {
     "data": {
      "text/plain": [
       "7829"
      ]
     },
     "execution_count": 17,
     "metadata": {},
     "output_type": "execute_result"
    }
   ],
   "source": [
    "len(landDF[landDF['lat'].isnull()].index.tolist())"
   ]
  },
  {
   "cell_type": "code",
   "execution_count": 20,
   "metadata": {},
   "outputs": [
    {
     "data": {
      "text/plain": [
       "array(['新北市板橋區文化路二段571~600號', '新北市土城區青雲路281巷1~30號',\n",
       "       '新北市板橋區南雅西路二段301巷31~60號', ..., '御史段391~420地號', '五股坑一段1471~1500地號',\n",
       "       '新北市板橋區忠孝路38巷1~30號'], dtype=object)"
      ]
     },
     "execution_count": 20,
     "metadata": {},
     "output_type": "execute_result"
    }
   ],
   "source": [
    "landDF[landDF['lat'].isnull()]['土地區段位置/建物區段門牌'].unique()"
   ]
  },
  {
   "cell_type": "code",
   "execution_count": 23,
   "metadata": {},
   "outputs": [
    {
     "data": {
      "text/plain": [
       "3852"
      ]
     },
     "execution_count": 23,
     "metadata": {},
     "output_type": "execute_result"
    }
   ],
   "source": [
    "len(unique_missing)"
   ]
  },
  {
   "cell_type": "code",
   "execution_count": 37,
   "metadata": {},
   "outputs": [],
   "source": [
    "import googlemaps\n",
    "import os\n",
    "from os.path import join, dirname\n",
    "from dotenv import load_dotenv, find_dotenv\n",
    "dotenv_path = join(dirname('__file__'), '.env')\n",
    "load_dotenv(dotenv_path, override=True)  # 設定 override 才會更新變數哦！\n",
    "GOOGLE_PLACES_API_KEY = os.environ.get(\"GOOGLE_PLACES_API_KEY1\")\n",
    "\n",
    "# Client\n",
    "gmaps = googlemaps.Client(key=GOOGLE_PLACES_API_KEY)"
   ]
  },
  {
   "cell_type": "code",
   "execution_count": 38,
   "metadata": {},
   "outputs": [],
   "source": [
    "geoDF = pd.DataFrame()"
   ]
  },
  {
   "cell_type": "code",
   "execution_count": 35,
   "metadata": {},
   "outputs": [
    {
     "name": "stdout",
     "output_type": "stream",
     "text": [
      "False\n",
      "False\n",
      "False\n",
      "False\n"
     ]
    }
   ],
   "source": [
    "for i in range(0, 5):\n",
    "    if not '地號' in unique_missing[i]:\n",
    "        print('地號' in unique_missing[i])"
   ]
  },
  {
   "cell_type": "code",
   "execution_count": 39,
   "metadata": {},
   "outputs": [],
   "source": [
    "for i in range(0, len(unique_missing)):\n",
    "    # 確保不會查到土地的地址 '地號'\n",
    "    if not '地號' in unique_missing[i]:\n",
    "        geo_result = gmaps.geocode(unique_missing[i])\n",
    "        try:\n",
    "            # print(landDF['土地區段位置/建物區段門牌'].unique()[i], geo_result[0]['geometry']['location']['lat'], geo_result[0]['geometry']['location']['lng'])\n",
    "            geoSeries = pd.DataFrame({'address': [unique_missing[i]], 'lat': [geo_result[0]['geometry']['location']['lat']], 'lng': [geo_result[0]['geometry']['location']['lng']]})\n",
    "            geoDF = geoDF.append(geoSeries, ignore_index=True)\n",
    "        except:\n",
    "            continue\n",
    "\n",
    "geoDF.to_csv('../0703/test_data/geo_info_108_test.csv', index=False, encoding='utf_8_sig')"
   ]
  },
  {
   "cell_type": "code",
   "execution_count": null,
   "metadata": {},
   "outputs": [],
   "source": []
  }
 ],
 "metadata": {
  "kernelspec": {
   "display_name": "Python 3",
   "language": "python",
   "name": "python3"
  },
  "language_info": {
   "codemirror_mode": {
    "name": "ipython",
    "version": 3
   },
   "file_extension": ".py",
   "mimetype": "text/x-python",
   "name": "python",
   "nbconvert_exporter": "python",
   "pygments_lexer": "ipython3",
   "version": "3.7.3"
  }
 },
 "nbformat": 4,
 "nbformat_minor": 4
}
