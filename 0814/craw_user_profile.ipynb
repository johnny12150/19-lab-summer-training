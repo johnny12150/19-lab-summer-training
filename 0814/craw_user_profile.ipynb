{
 "cells": [
  {
   "cell_type": "code",
   "execution_count": 2,
   "metadata": {},
   "outputs": [],
   "source": [
    "import requests\n",
    "from bs4 import BeautifulSoup\n",
    "import time"
   ]
  },
  {
   "cell_type": "markdown",
   "metadata": {},
   "source": [
    "從csv讀取飯店名稱跟url"
   ]
  },
  {
   "cell_type": "code",
   "execution_count": 27,
   "metadata": {},
   "outputs": [],
   "source": [
    "import pandas as pd\n",
    "df = pd.read_csv('../0806/tapei_tripadvisor_top300.csv')\n",
    "all_hotel = df['title'].to_list()\n",
    "all_uri = df['uri'].to_list()\n",
    "# 讀取現有的使用者url\n",
    "userDF = pd.read_csv('../0813/tapei_tripadvisor_985user.csv')\n",
    "users_uri = userDF['profile_uri'].to_list()\n",
    "users_names = userDF['username'].to_list()"
   ]
  },
  {
   "cell_type": "code",
   "execution_count": 3,
   "metadata": {},
   "outputs": [],
   "source": [
    "user_example = 'https://www.tripadvisor.com.tw/Profile/IQ943?tab=reviews'"
   ]
  },
  {
   "cell_type": "code",
   "execution_count": 28,
   "metadata": {},
   "outputs": [],
   "source": [
    "# 抓使用者的fb連結\n",
    "def get_user_profile(user_list):\n",
    "    data_list = []\n",
    "    for i, url in enumerate(user_list):\n",
    "        time.sleep(2)\n",
    "        resp = requests.get(url)\n",
    "        soup = BeautifulSoup(resp.text,'html.parser')\n",
    "        user_fb = soup.select('.social-member-MemberInfo__member_info--S4DCO')\n",
    "        # 評論過多的可能要用seleniumn的lazy loading處理\n",
    "        user_comment = soup.select('.social-sections-POICarousel__gutter--w8x-S.social-sections-POICarousel__first--1aVoT.social-sections-POICarousel__last--1wXdF')\n",
    "       \n",
    "        hotel_list = []\n",
    "        data = {'userName': users_names[i],\n",
    "                'user_link': url}\n",
    "        \n",
    "        # 要被click才會顯示，所以要用seleniumn\n",
    "        # print(user_fb[0].a.get('href'))\n",
    "        for j, hotel in enumerate(user_comment):\n",
    "            # 只顯示餐廳\n",
    "            if 'Hotel' in hotel.div.a.get('href'):\n",
    "                hotel_list.append('https://www.tripadvisor.com.tw' + hotel.div.a.get('href'))\n",
    "        data['commented_hotel'] = ', '.join(hotel_list)\n",
    "        data_list.append(data)\n",
    "    \n",
    "    return data_list\n",
    "            "
   ]
  },
  {
   "cell_type": "code",
   "execution_count": 30,
   "metadata": {},
   "outputs": [],
   "source": [
    "all_data = get_user_profile(users_uri)"
   ]
  },
  {
   "cell_type": "code",
   "execution_count": 31,
   "metadata": {},
   "outputs": [
    {
     "data": {
      "text/html": [
       "<div>\n",
       "<style scoped>\n",
       "    .dataframe tbody tr th:only-of-type {\n",
       "        vertical-align: middle;\n",
       "    }\n",
       "\n",
       "    .dataframe tbody tr th {\n",
       "        vertical-align: top;\n",
       "    }\n",
       "\n",
       "    .dataframe thead th {\n",
       "        text-align: right;\n",
       "    }\n",
       "</style>\n",
       "<table border=\"1\" class=\"dataframe\">\n",
       "  <thead>\n",
       "    <tr style=\"text-align: right;\">\n",
       "      <th></th>\n",
       "      <th>userName</th>\n",
       "      <th>user_link</th>\n",
       "      <th>commented_hotel</th>\n",
       "    </tr>\n",
       "  </thead>\n",
       "  <tbody>\n",
       "    <tr>\n",
       "      <th>0</th>\n",
       "      <td>brooke</td>\n",
       "      <td>https://www.tripadvisor.com.tw/Profile/brookeggbb</td>\n",
       "      <td>https://www.tripadvisor.com.tw/Hotel_Review-g1...</td>\n",
       "    </tr>\n",
       "    <tr>\n",
       "      <th>1</th>\n",
       "      <td>橘子妮</td>\n",
       "      <td>https://www.tripadvisor.com.tw/Profile/Orange0630</td>\n",
       "      <td></td>\n",
       "    </tr>\n",
       "    <tr>\n",
       "      <th>2</th>\n",
       "      <td>Ting</td>\n",
       "      <td>https://www.tripadvisor.com.tw/Profile/Hjadey</td>\n",
       "      <td>https://www.tripadvisor.com.tw/Hotel_Review-g1...</td>\n",
       "    </tr>\n",
       "    <tr>\n",
       "      <th>3</th>\n",
       "      <td>Melody</td>\n",
       "      <td>https://www.tripadvisor.com.tw/Profile/Wuchij</td>\n",
       "      <td></td>\n",
       "    </tr>\n",
       "    <tr>\n",
       "      <th>4</th>\n",
       "      <td>jotsw</td>\n",
       "      <td>https://www.tripadvisor.com.tw/Profile/yrhhi</td>\n",
       "      <td>https://www.tripadvisor.com.tw/Hotel_Review-g1...</td>\n",
       "    </tr>\n",
       "  </tbody>\n",
       "</table>\n",
       "</div>"
      ],
      "text/plain": [
       "  userName                                          user_link  \\\n",
       "0   brooke  https://www.tripadvisor.com.tw/Profile/brookeggbb   \n",
       "1      橘子妮  https://www.tripadvisor.com.tw/Profile/Orange0630   \n",
       "2     Ting      https://www.tripadvisor.com.tw/Profile/Hjadey   \n",
       "3   Melody      https://www.tripadvisor.com.tw/Profile/Wuchij   \n",
       "4    jotsw       https://www.tripadvisor.com.tw/Profile/yrhhi   \n",
       "\n",
       "                                     commented_hotel  \n",
       "0  https://www.tripadvisor.com.tw/Hotel_Review-g1...  \n",
       "1                                                     \n",
       "2  https://www.tripadvisor.com.tw/Hotel_Review-g1...  \n",
       "3                                                     \n",
       "4  https://www.tripadvisor.com.tw/Hotel_Review-g1...  "
      ]
     },
     "execution_count": 31,
     "metadata": {},
     "output_type": "execute_result"
    }
   ],
   "source": [
    "import pandas as pd\n",
    "# 用 list存多個 dict然後轉成 df\n",
    "data_df = pd.DataFrame.from_dict(all_data)\n",
    "data_df.head()"
   ]
  },
  {
   "cell_type": "code",
   "execution_count": 32,
   "metadata": {},
   "outputs": [],
   "source": [
    "data_df.to_csv('./tripadvisor_user_hotel_comment.csv', index=False, encoding='utf_8_sig')"
   ]
  },
  {
   "cell_type": "code",
   "execution_count": null,
   "metadata": {},
   "outputs": [],
   "source": []
  }
 ],
 "metadata": {
  "kernelspec": {
   "display_name": "Python 3",
   "language": "python",
   "name": "python3"
  },
  "language_info": {
   "codemirror_mode": {
    "name": "ipython",
    "version": 3
   },
   "file_extension": ".py",
   "mimetype": "text/x-python",
   "name": "python",
   "nbconvert_exporter": "python",
   "pygments_lexer": "ipython3",
   "version": "3.7.3"
  }
 },
 "nbformat": 4,
 "nbformat_minor": 2
}
