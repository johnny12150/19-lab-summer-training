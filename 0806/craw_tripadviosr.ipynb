{
 "cells": [
  {
   "cell_type": "code",
   "execution_count": 3,
   "metadata": {},
   "outputs": [],
   "source": [
    "import requests\n",
    "from bs4 import BeautifulSoup\n",
    "import time"
   ]
  },
  {
   "cell_type": "markdown",
   "metadata": {},
   "source": [
    "### 取飯店列表"
   ]
  },
  {
   "cell_type": "code",
   "execution_count": 23,
   "metadata": {},
   "outputs": [
    {
     "name": "stdout",
     "output_type": "stream",
     "text": [
      "{'title': '台北花園大酒店'}\n",
      "{'title': '新驛旅店 - 西門捷運店'}\n",
      "{'title': '台北凱達大飯店'}\n",
      "{'title': '新驛旅店 - 台北車站二館'}\n",
      "{'title': '大倉久和大飯店'}\n",
      "{'title': '優美飯店'}\n",
      "{'title': '西悠飯店台北店'}\n",
      "{'title': '台北天成大飯店'}\n",
      "{'title': '喜瑞飯店'}\n",
      "{'title': '西華飯店'}\n",
      "{'title': '永安棧'}\n",
      "{'title': '圓山大飯店'}\n"
     ]
    }
   ],
   "source": [
    "url = 'https://www.tripadvisor.com.tw/Hotels-g293913-Taipei-Hotels.html'\n",
    "header = {'User-Agent':'Mozilla/5.0 (Windows NT 10.0; Win64; x64) AppleWebKit/537.36 (KHTML, like Gecko) Chrome/67.0.3396.99 Safari/537.36'}\n",
    "\n",
    "def get_hotel(url):\n",
    "    #每次调用等待两秒, 避免被ban ip\n",
    "    time.sleep(2)\n",
    "    \n",
    "    uri_list = []\n",
    "    \n",
    "    resp = requests.get(url)\n",
    "    time.sleep(10)\n",
    "    soup = BeautifulSoup(resp.text,'html.parser')\n",
    "\n",
    "    #css选选择器选择所需要的信息，包括标题，价格，和排名\n",
    "    #imgs = soup.select('div.aspect.is-hidden-tablet > div.inner')\n",
    "    titles = soup.select('div.listing_title > a[target=\"_blank\"]')\n",
    "    paimings = soup.select('div.popindex')\n",
    "    prices = soup.select('div.xwrap')\n",
    "\n",
    "    #存储在一个字典里面\n",
    "    for title,paiming,price in zip(titles,paimings,prices):\n",
    "        data = {\n",
    "            'title':title.get_text(),\n",
    "#             'paiming':paiming.get_text(),\n",
    "#             'price':price.get_text(),\n",
    "#             'uri': 'https://www.tripadvisor.com.tw' + title.get('href')\n",
    "        }\n",
    "        print(data)\n",
    "        \n",
    "        uri_list.append('https://www.tripadvisor.com.tw' + title.get('href'))\n",
    "    \n",
    "    return uri_list\n",
    "\n",
    "    \n",
    "all_uri = get_hotel(url)\n"
   ]
  },
  {
   "cell_type": "markdown",
   "metadata": {},
   "source": [
    "### 根據各別飯店取細節"
   ]
  },
  {
   "cell_type": "code",
   "execution_count": 20,
   "metadata": {},
   "outputs": [],
   "source": [
    "import json\n",
    "\n",
    "def get_hotel_detail(url):\n",
    "    #每次调用等待两秒, 避免被ban ip\n",
    "    time.sleep(2)\n",
    "    \n",
    "    resp = requests.get(url)\n",
    "    time.sleep(5)\n",
    "    soup = BeautifulSoup(resp.text,'html.parser')\n",
    "    \n",
    "    meta_data = soup.select('script[type=\"application/ld+json\"]')\n",
    "    \n",
    "#     for i in meta_data:\n",
    "#         print(i.get_text())\n",
    "\n",
    "    return meta_data[0].get_text()"
   ]
  },
  {
   "cell_type": "code",
   "execution_count": 21,
   "metadata": {},
   "outputs": [
    {
     "data": {
      "text/plain": [
       "{'@context': 'http://schema.org',\n",
       " '@type': 'LodgingBusiness',\n",
       " 'name': '新驛旅店 - 復興北路店',\n",
       " 'url': '/Hotel_Review-g13808671-d8263705-Reviews-Cityinn_Hotel_Plus_Fuxing_N_Rd_Branch-Zhongshan_District_Taipei.html',\n",
       " 'image': 'https://media-cdn.tripadvisor.com/media/photo-s/0f/5a/67/42/caption.jpg',\n",
       " 'priceRange': 'NT$2,360 - NT$4,248 (根據標準客房的平均房價)',\n",
       " 'aggregateRating': {'@type': 'AggregateRating',\n",
       "  'ratingValue': '5.0',\n",
       "  'reviewCount': '904'},\n",
       " 'address': {'@type': 'PostalAddress',\n",
       "  'streetAddress': '中山區復興北路338號',\n",
       "  'addressLocality': '',\n",
       "  'addressRegion': '',\n",
       "  'postalCode': '104',\n",
       "  'addressCountry': {'@type': 'Country', 'name': '台灣'}}}"
      ]
     },
     "execution_count": 21,
     "metadata": {},
     "output_type": "execute_result"
    }
   ],
   "source": [
    "json.loads(get_hotel_detail(all_uri[0]))"
   ]
  },
  {
   "cell_type": "code",
   "execution_count": null,
   "metadata": {},
   "outputs": [],
   "source": []
  }
 ],
 "metadata": {
  "kernelspec": {
   "display_name": "Python 3",
   "language": "python",
   "name": "python3"
  },
  "language_info": {
   "codemirror_mode": {
    "name": "ipython",
    "version": 3
   },
   "file_extension": ".py",
   "mimetype": "text/x-python",
   "name": "python",
   "nbconvert_exporter": "python",
   "pygments_lexer": "ipython3",
   "version": "3.7.3"
  }
 },
 "nbformat": 4,
 "nbformat_minor": 2
}
