{
 "cells": [
  {
   "cell_type": "code",
   "execution_count": 87,
   "metadata": {},
   "outputs": [],
   "source": [
    "import requests\n",
    "from bs4 import BeautifulSoup\n",
    "import time"
   ]
  },
  {
   "cell_type": "markdown",
   "metadata": {},
   "source": [
    "### 取飯店列表"
   ]
  },
  {
   "cell_type": "code",
   "execution_count": 111,
   "metadata": {},
   "outputs": [
    {
     "name": "stdout",
     "output_type": "stream",
     "text": [
      "{'title': '台北凱達大飯店', 'paiming': '台北排名第 1 的超值住宿地點，共 1,200 家', 'price': 'NT$6,086'}\n",
      "{'title': '新驛旅店 - 復興北路店', 'paiming': '台北排名第 2 的超值住宿地點，共 1,200 家', 'price': 'NT$3,714'}\n",
      "{'title': '路境行旅', 'paiming': '台北排名第 3 的超值住宿地點，共 1,200 家', 'price': 'NT$1,977'}\n",
      "{'title': '圓山大飯店', 'paiming': '台北排名第 4 的超值住宿地點，共 1,200 家', 'price': 'NT$1,934'}\n",
      "{'title': '丰居旅店雙連館', 'paiming': '台北排名第 5 的超值住宿地點，共 1,200 家', 'price': 'NT$4,819'}\n",
      "{'title': '台北美侖大飯店', 'paiming': '台北排名第 6 的超值住宿地點，共 1,200 家', 'price': 'NT$1,628'}\n",
      "{'title': '儷夏商旅 - 西門捷運館', 'paiming': '台北排名第 7 的超值住宿地點，共 1,200 家', 'price': 'NT$3,009'}\n",
      "{'title': '新驛旅店- 台北車站一館', 'paiming': '台北排名第 8 的超值住宿地點，共 1,200 家', 'price': 'NT$2,711'}\n",
      "{'title': '新尚旅店', 'paiming': '台北排名第 9 的超值住宿地點，共 1,200 家', 'price': 'NT$1,539'}\n",
      "{'title': '薆悅酒店', 'paiming': '台北排名第 10 的超值住宿地點，共 1,200 家', 'price': 'NT$1,908'}\n",
      "{'title': '倆人旅店', 'paiming': '台北排名第 11 的超值住宿地點，共 1,200 家', 'price': 'NT$1,616'}\n",
      "{'title': '老爺會館台北林森', 'paiming': '台北排名第 12 的超值住宿地點，共 1,200 家', 'price': 'NT$2,320'}\n",
      "{'title': '悠逸商旅', 'paiming': '台北排名第 13 的超值住宿地點，共 1,200 家', 'price': 'NT$2,501'}\n",
      "{'title': '新驛旅店 - 台北車站三館', 'paiming': '台北排名第 14 的超值住宿地點，共 1,200 家', 'price': 'NT$2,371'}\n",
      "{'title': '城市商旅-南東館', 'paiming': '台北排名第 15 的超值住宿地點，共 1,200 家', 'price': 'NT$2,459'}\n",
      "{'title': '台北松山意舍酒店', 'paiming': '台北排名第 16 的超值住宿地點，共 1,200 家', 'price': 'NT$1,766'}\n",
      "{'title': '老爺會館台北南西- 捷運中山站', 'paiming': '台北排名第 17 的超值住宿地點，共 1,200 家', 'price': 'NT$1,889'}\n",
      "{'title': '艾特文旅', 'paiming': '台北排名第 18 的超值住宿地點，共 1,200 家', 'price': 'NT$2,900'}\n",
      "{'title': '信星旅馆 - 台北車站', 'paiming': '台北排名第 19 的超值住宿地點，共 1,200 家', 'price': 'NT$2,322'}\n",
      "{'title': '喜瑞飯店', 'paiming': '台北排名第 20 的超值住宿地點，共 1,200 家', 'price': 'NT$1,591'}\n",
      "{'title': '台北燦路都飯店', 'paiming': '台北排名第 21 的超值住宿地點，共 1,200 家', 'price': 'NT$2,041'}\n",
      "{'title': '蜂巢旅店', 'paiming': '台北排名第 22 的超值住宿地點，共 1,200 家', 'price': 'NT$2,036'}\n",
      "{'title': '台北華國大飯店', 'paiming': '台北排名第 23 的超值住宿地點，共 1,200 家', 'price': 'NT$2,378'}\n",
      "{'title': '伸適商旅', 'paiming': '台北排名第 24 的超值住宿地點，共 1,200 家', 'price': 'NT$2,210'}\n",
      "{'title': '丰居旅店 - 台北車站館', 'paiming': '台北排名第 25 的超值住宿地點，共 1,200 家', 'price': 'NT$2,774'}\n",
      "{'title': '華泰王子大飯店', 'paiming': '台北排名第 26 的超值住宿地點，共 1,200 家', 'price': 'NT$2,512'}\n",
      "{'title': '兄弟大飯店', 'paiming': '台北排名第 27 的超值住宿地點，共 1,200 家', 'price': 'NT$1,801'}\n",
      "{'title': '天成文旅-華山町', 'paiming': '台北排名第 28 的超值住宿地點，共 1,200 家', 'price': 'NT$2,372'}\n",
      "{'title': '福泰桔子商務旅館 西門店', 'paiming': '台北排名第 29 的超值住宿地點，共 1,200 家', 'price': ''}\n",
      "{'title': '喜來登大飯店', 'paiming': '台北排名第 30 的超值住宿地點，共 1,200 家', 'price': ''}\n"
     ]
    }
   ],
   "source": [
    "url = 'https://www.tripadvisor.com.tw/Hotels-g293913-Taipei-Hotels.html'\n",
    "header = {'User-Agent':'Mozilla/5.0 (Windows NT 10.0; Win64; x64) AppleWebKit/537.36 (KHTML, like Gecko) Chrome/67.0.3396.99 Safari/537.36'}\n",
    "\n",
    "def get_hotel(url):\n",
    "    #每次调用等待两秒, 避免被ban ip\n",
    "    time.sleep(2)\n",
    "    \n",
    "    uri_list = []\n",
    "    \n",
    "    resp = requests.get(url)\n",
    "\n",
    "    soup = BeautifulSoup(resp.text,'html.parser')\n",
    "\n",
    "    #css选选择器选择所需要的信息，包括标题，价格，和排名\n",
    "    #imgs = soup.select('div.aspect.is-hidden-tablet > div.inner')\n",
    "    titles = soup.select('div.listing_title > a[target=\"_blank\"]')\n",
    "    paimings = soup.select('div.popindex')\n",
    "    prices = soup.select('div[data-sizegroup=\"mini-meta-price\"]')\n",
    "\n",
    "    for title,paiming,price in zip(titles,paimings,prices):\n",
    "        \n",
    "        data = {\n",
    "            'title':title.get_text(),\n",
    "            'paiming':paiming.get_text(),\n",
    "            'price':price.get_text(),\n",
    "#             'uri': 'https://www.tripadvisor.com.tw' + title.get('href')\n",
    "        }\n",
    "        print(data)\n",
    "        \n",
    "        uri_list.append('https://www.tripadvisor.com.tw' + title.get('href'))\n",
    "    \n",
    "    return uri_list\n",
    "\n",
    "    \n",
    "all_uri = get_hotel(url)\n"
   ]
  },
  {
   "cell_type": "markdown",
   "metadata": {},
   "source": [
    "### 根據各別飯店取細節"
   ]
  },
  {
   "cell_type": "code",
   "execution_count": 85,
   "metadata": {},
   "outputs": [],
   "source": [
    "import json\n",
    "\n",
    "def get_hotel_detail(url):\n",
    "    #每次调用等待两秒, 避免被ban ip\n",
    "    time.sleep(2)\n",
    "    \n",
    "    resp = requests.get(url)\n",
    "    \n",
    "    soup = BeautifulSoup(resp.text,'html.parser')\n",
    "    \n",
    "    meta_data = soup.select('script[type=\"application/ld+json\"]')\n",
    "    \n",
    "    # 使用者評論內容\n",
    "    user_comment = soup.select('.common-text-ReadMore__content--2X4LR')\n",
    "#     user_comment = soup.findAll(\"div\", {\"class\": \"common-text-ReadMore__content--2X4LR\"})\n",
    "#     print(user_comment[0].get_text())\n",
    "#     print(user_comment[0].text)\n",
    "    print(user_comment[0].q.span)\n",
    "    \n",
    "#     for i in meta_data:\n",
    "#         print(i.get_text())\n",
    "\n",
    "    return meta_data[0].get_text()"
   ]
  },
  {
   "cell_type": "code",
   "execution_count": 86,
   "metadata": {},
   "outputs": [
    {
     "name": "stdout",
     "output_type": "stream",
     "text": [
      "<span>每年都會固定買旅展餐卷，這裡就像第二個家，菜色真的進步很多，每年來都有驚喜，甜點區，現榨果汁，牛排等等，都很不錯，希望能繼續保持。</span>\n"
     ]
    },
    {
     "data": {
      "text/plain": [
       "{'@context': 'http://schema.org',\n",
       " '@type': 'LodgingBusiness',\n",
       " 'name': '台北花園大酒店',\n",
       " 'url': '/Hotel_Review-g13808853-d1224203-Reviews-Taipei_Garden_Hotel-Zhongzheng_District_Taipei.html',\n",
       " 'image': 'https://media-cdn.tripadvisor.com/media/photo-s/09/32/1f/6c/caption.jpg',\n",
       " 'priceRange': 'NT$3,146 - NT$6,639 (根據標準客房的平均房價)',\n",
       " 'aggregateRating': {'@type': 'AggregateRating',\n",
       "  'ratingValue': '4.5',\n",
       "  'reviewCount': '2750'},\n",
       " 'address': {'@type': 'PostalAddress',\n",
       "  'streetAddress': '中正區中華路二段1號',\n",
       "  'addressLocality': '',\n",
       "  'addressRegion': '',\n",
       "  'postalCode': '10065',\n",
       "  'addressCountry': {'@type': 'Country', 'name': '台灣'}}}"
      ]
     },
     "execution_count": 86,
     "metadata": {},
     "output_type": "execute_result"
    }
   ],
   "source": [
    "json.loads(get_hotel_detail(all_uri[0]))"
   ]
  },
  {
   "cell_type": "code",
   "execution_count": null,
   "metadata": {},
   "outputs": [],
   "source": []
  }
 ],
 "metadata": {
  "kernelspec": {
   "display_name": "Python 3",
   "language": "python",
   "name": "python3"
  },
  "language_info": {
   "codemirror_mode": {
    "name": "ipython",
    "version": 3
   },
   "file_extension": ".py",
   "mimetype": "text/x-python",
   "name": "python",
   "nbconvert_exporter": "python",
   "pygments_lexer": "ipython3",
   "version": "3.7.3"
  }
 },
 "nbformat": 4,
 "nbformat_minor": 2
}
